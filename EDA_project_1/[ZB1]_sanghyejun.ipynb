{
 "cells": [
  {
   "cell_type": "markdown",
   "id": "b0b69fb1",
   "metadata": {},
   "source": [
    "# 1. 이디야커피와 스타벅스 커피의 상관성"
   ]
  },
  {
   "cell_type": "markdown",
   "id": "5bf58639",
   "metadata": {},
   "source": [
    "## 1. 스타벅스 커피 매장 확인"
   ]
  },
  {
   "cell_type": "markdown",
   "id": "8e41f7bf",
   "metadata": {},
   "source": [
    "- 스타벅스 홈페이지 주소 : https://www.starbucks.co.kr/\n",
    "- 홈페이지 -> STORE 탭 -> 매장 찾기 -> 지역 검색 -> 서울 -> 전체"
   ]
  },
  {
   "cell_type": "code",
   "execution_count": 1,
   "id": "a2110c5d",
   "metadata": {},
   "outputs": [],
   "source": [
    "import pandas as pd\n",
    "import time\n",
    "from selenium import webdriver\n",
    "from bs4 import BeautifulSoup"
   ]
  },
  {
   "cell_type": "code",
   "execution_count": 2,
   "id": "8fceb69f",
   "metadata": {},
   "outputs": [
    {
     "name": "stderr",
     "output_type": "stream",
     "text": [
      "C:\\Users\\ThinkBook\\AppData\\Local\\Temp\\ipykernel_22224\\3298818719.py:3: DeprecationWarning: executable_path has been deprecated, please pass in a Service object\n",
      "  driver = webdriver.Chrome(\"../driver/chromedriver.exe\")\n"
     ]
    }
   ],
   "source": [
    "# 홈페이지 셀레니움 이용해서 들어가기\n",
    "sb_url = \"https://www.starbucks.co.kr/\"\n",
    "driver = webdriver.Chrome(\"../driver/chromedriver.exe\")\n",
    "driver.implicitly_wait(10)\n",
    "driver.get(sb_url)"
   ]
  },
  {
   "cell_type": "code",
   "execution_count": 3,
   "id": "5e4f8015",
   "metadata": {},
   "outputs": [
    {
     "name": "stderr",
     "output_type": "stream",
     "text": [
      "C:\\Users\\ThinkBook\\AppData\\Local\\Temp\\ipykernel_22224\\380368691.py:2: DeprecationWarning: find_element_by_css_selector is deprecated. Please use find_element(by=By.CSS_SELECTOR, value=css_selector) instead\n",
      "  driver.find_element_by_css_selector(\"#gnb > div > nav > div > ul > li.gnb_nav03 > h2 > a\").click()\n"
     ]
    }
   ],
   "source": [
    "# STORE 탭 선택\n",
    "driver.find_element_by_css_selector(\"#gnb > div > nav > div > ul > li.gnb_nav03 > h2 > a\").click()"
   ]
  },
  {
   "cell_type": "code",
   "execution_count": 4,
   "id": "0722f47d",
   "metadata": {},
   "outputs": [
    {
     "name": "stderr",
     "output_type": "stream",
     "text": [
      "C:\\Users\\ThinkBook\\AppData\\Local\\Temp\\ipykernel_22224\\2964926940.py:2: DeprecationWarning: find_element_by_css_selector is deprecated. Please use find_element(by=By.CSS_SELECTOR, value=css_selector) instead\n",
      "  driver.find_element_by_css_selector(\".store_bn1_btn > a\").click()\n"
     ]
    }
   ],
   "source": [
    "# 매장 찾기\n",
    "driver.find_element_by_css_selector(\".store_bn1_btn > a\").click()"
   ]
  },
  {
   "cell_type": "code",
   "execution_count": 5,
   "id": "1caf651f",
   "metadata": {},
   "outputs": [
    {
     "name": "stderr",
     "output_type": "stream",
     "text": [
      "C:\\Users\\ThinkBook\\AppData\\Local\\Temp\\ipykernel_22224\\3655466895.py:2: DeprecationWarning: find_element_by_css_selector is deprecated. Please use find_element(by=By.CSS_SELECTOR, value=css_selector) instead\n",
      "  driver.find_element_by_css_selector(\"header.loca_search > h3 > a\").click()\n"
     ]
    }
   ],
   "source": [
    "# 지역검색\n",
    "driver.find_element_by_css_selector(\"header.loca_search > h3 > a\").click()"
   ]
  },
  {
   "cell_type": "code",
   "execution_count": 6,
   "id": "56e44250",
   "metadata": {},
   "outputs": [
    {
     "name": "stderr",
     "output_type": "stream",
     "text": [
      "C:\\Users\\ThinkBook\\AppData\\Local\\Temp\\ipykernel_22224\\593297878.py:2: DeprecationWarning: find_element_by_css_selector is deprecated. Please use find_element(by=By.CSS_SELECTOR, value=css_selector) instead\n",
      "  driver.find_element_by_css_selector(\".loca_step1_cont > ul > li:nth-child(1) > a\").click()\n"
     ]
    }
   ],
   "source": [
    "# 서울 선택\n",
    "driver.find_element_by_css_selector(\".loca_step1_cont > ul > li:nth-child(1) > a\").click()"
   ]
  },
  {
   "cell_type": "code",
   "execution_count": 7,
   "id": "1ef69bd5",
   "metadata": {},
   "outputs": [
    {
     "name": "stderr",
     "output_type": "stream",
     "text": [
      "C:\\Users\\ThinkBook\\AppData\\Local\\Temp\\ipykernel_22224\\1387654136.py:2: DeprecationWarning: find_element_by_css_selector is deprecated. Please use find_element(by=By.CSS_SELECTOR, value=css_selector) instead\n",
      "  driver.find_element_by_css_selector(\"#mCSB_2_container > ul > li:nth-child(1) > a\").click()\n"
     ]
    }
   ],
   "source": [
    "# 서울 전체 구 선택\n",
    "driver.find_element_by_css_selector(\"#mCSB_2_container > ul > li:nth-child(1) > a\").click()"
   ]
  },
  {
   "cell_type": "code",
   "execution_count": 8,
   "id": "9b7c8115",
   "metadata": {},
   "outputs": [],
   "source": [
    "# BeautifulSoup 이용\n",
    "request = driver.page_source\n",
    "sb_soup = BeautifulSoup(request, \"html.parser\")"
   ]
  },
  {
   "cell_type": "code",
   "execution_count": 9,
   "id": "8c6314d4",
   "metadata": {},
   "outputs": [
    {
     "data": {
      "text/plain": [
       "' 역삼아레나빌딩   서울특별시 강남구 언주로 425 (역삼동)1522-3232 리저브 매장 2번'"
      ]
     },
     "execution_count": 9,
     "metadata": {},
     "output_type": "execute_result"
    }
   ],
   "source": [
    "sb_store_list = sb_soup.select(\".quickSearchResultBoxSidoGugun > li.quickResultLstCon\")\n",
    "sb_store_list[0].text"
   ]
  },
  {
   "cell_type": "code",
   "execution_count": 11,
   "id": "437b3d46",
   "metadata": {},
   "outputs": [
    {
     "data": {
      "text/plain": [
       "'역삼아레나빌딩'"
      ]
     },
     "execution_count": 11,
     "metadata": {},
     "output_type": "execute_result"
    }
   ],
   "source": [
    "# 매장이름, BeautifulSoup 이용\n",
    "sb_store_list[0].select_one(\"strong\").text.strip()"
   ]
  },
  {
   "cell_type": "code",
   "execution_count": 16,
   "id": "a8794084",
   "metadata": {},
   "outputs": [
    {
     "data": {
      "text/plain": [
       "'서울특별시 강남구 언주로 425 (역삼동)'"
      ]
     },
     "execution_count": 16,
     "metadata": {},
     "output_type": "execute_result"
    }
   ],
   "source": [
    "# 매장 주소, BeautifulSoup 이용\n",
    "str(sb_store_list[0].select('p')[0]).split('<br/>')[0].split('>')[1]"
   ]
  },
  {
   "cell_type": "code",
   "execution_count": 26,
   "id": "d63f6895",
   "metadata": {},
   "outputs": [
    {
     "data": {
      "text/plain": [
       "'마포구'"
      ]
     },
     "execution_count": 26,
     "metadata": {},
     "output_type": "execute_result"
    }
   ],
   "source": [
    "# 구 이름, BeautifulSoup 이용\n",
    "str(sb_store_list[200].select('p')[0]).split(' ')[2]"
   ]
  },
  {
   "cell_type": "code",
   "execution_count": 27,
   "id": "c1e16580",
   "metadata": {},
   "outputs": [
    {
     "name": "stdout",
     "output_type": "stream",
     "text": [
      "done!\n"
     ]
    }
   ],
   "source": [
    "# 스타벅스 전체 데이터 크롤링\n",
    "sb_datas = [] \n",
    "for sb_data in sb_store_list:\n",
    "    sb_name = sb_data.select_one(\"strong\").text.strip()\n",
    "    sb_gu = str(sb_data.select('p')[0]).split(' ')[2]\n",
    "    sb_address = str(sb_data.select('p')[0]).split('<br/>')[0].split('>')[1]\n",
    "\n",
    "    sb_datas.append({\n",
    "        \"매장이름\": sb_name, \n",
    "        \"구 이름\": sb_gu, \n",
    "        \"매장 주소\": sb_address \n",
    "    })\n",
    "sb_df = pd.DataFrame(sb_datas)\n",
    "sb_df.to_excel(\"./starbucks/seoul_starbucks..xlsx\", encoding=\"utf-8\")\n",
    "print(\"done!\")"
   ]
  },
  {
   "cell_type": "markdown",
   "id": "64e32bcd",
   "metadata": {},
   "source": [
    "## 2. 이디야 매장 확인"
   ]
  },
  {
   "cell_type": "markdown",
   "id": "d7e232e6",
   "metadata": {},
   "source": [
    "- 이디야 홈페이지 주소 : https://www.ediya.com/\n",
    "- 홈페이지 -> 매장 찾기 -> 주소탭 -> 서울의 모든 구 입력 받아 확인"
   ]
  },
  {
   "cell_type": "code",
   "execution_count": 184,
   "id": "2ad5636c",
   "metadata": {},
   "outputs": [
    {
     "name": "stderr",
     "output_type": "stream",
     "text": [
      "C:\\Users\\ThinkBook\\AppData\\Local\\Temp\\ipykernel_22224\\3852113081.py:2: DeprecationWarning: executable_path has been deprecated, please pass in a Service object\n",
      "  driver = webdriver.Chrome(\"../driver/chromedriver.exe\")\n"
     ]
    }
   ],
   "source": [
    "edi_url = \"https://www.ediya.com/\"\n",
    "driver = webdriver.Chrome(\"../driver/chromedriver.exe\")\n",
    "driver.implicitly_wait(10)\n",
    "driver.get(edi_url)\n",
    "driver.maximize_window()"
   ]
  },
  {
   "cell_type": "code",
   "execution_count": 185,
   "id": "f9fd77ec",
   "metadata": {},
   "outputs": [
    {
     "name": "stderr",
     "output_type": "stream",
     "text": [
      "C:\\Users\\ThinkBook\\AppData\\Local\\Temp\\ipykernel_22224\\1184742427.py:2: DeprecationWarning: find_element_by_css_selector is deprecated. Please use find_element(by=By.CSS_SELECTOR, value=css_selector) instead\n",
      "  driver.find_element_by_css_selector(\".top_members > li.store > a\").click()\n"
     ]
    }
   ],
   "source": [
    "# 매장 찾기\n",
    "driver.find_element_by_css_selector(\".top_members > li.store > a\").click()"
   ]
  },
  {
   "cell_type": "code",
   "execution_count": 186,
   "id": "1b2e413a",
   "metadata": {},
   "outputs": [
    {
     "name": "stderr",
     "output_type": "stream",
     "text": [
      "C:\\Users\\ThinkBook\\AppData\\Local\\Temp\\ipykernel_22224\\1435052975.py:2: DeprecationWarning: find_element_by_css_selector is deprecated. Please use find_element(by=By.CSS_SELECTOR, value=css_selector) instead\n",
      "  driver.find_element_by_css_selector(\".store_search_pop > ul > li:nth-child(2) > a\").click()\n"
     ]
    }
   ],
   "source": [
    "# 주소 탭\n",
    "driver.find_element_by_css_selector(\".store_search_pop > ul > li:nth-child(2) > a\").click()"
   ]
  },
  {
   "cell_type": "code",
   "execution_count": 196,
   "id": "81fb1653",
   "metadata": {},
   "outputs": [
    {
     "name": "stderr",
     "output_type": "stream",
     "text": [
      "C:\\Users\\ThinkBook\\AppData\\Local\\Temp\\ipykernel_22224\\1347668734.py:2: DeprecationWarning: find_element_by_css_selector is deprecated. Please use find_element(by=By.CSS_SELECTOR, value=css_selector) instead\n",
      "  search = driver.find_element_by_css_selector(\"#keyword\")\n",
      "C:\\Users\\ThinkBook\\AppData\\Local\\Temp\\ipykernel_22224\\1347668734.py:4: DeprecationWarning: find_element_by_css_selector is deprecated. Please use find_element(by=By.CSS_SELECTOR, value=css_selector) instead\n",
      "  driver.find_element_by_css_selector(\"#keyword_div > form > button\").click()\n"
     ]
    }
   ],
   "source": [
    "# 구 입력 및 검색\n",
    "search = driver.find_element_by_css_selector(\"#keyword\")\n",
    "search.send_keys(\"강남구\")\n",
    "driver.find_element_by_css_selector(\"#keyword_div > form > button\").click()"
   ]
  },
  {
   "cell_type": "code",
   "execution_count": 188,
   "id": "8161ddff",
   "metadata": {},
   "outputs": [],
   "source": [
    "# BeautifulSoup 이용\n",
    "request = driver.page_source\n",
    "edi_soup = BeautifulSoup(request, \"html.parser\")"
   ]
  },
  {
   "cell_type": "code",
   "execution_count": 197,
   "id": "4d7921b0",
   "metadata": {},
   "outputs": [
    {
     "data": {
      "text/plain": [
       "[<dl><dt>강남센트럴시티점</dt> <dd>서울 서초구 신반포로 176 (반포동, 센트럴시티)</dd></dl>,\n",
       " <dl><dt>교대역점</dt> <dd>서울 서초구 서초대로56길 22 (서초동, 성운빌딩)</dd></dl>,\n",
       " <dl><dt>교육개발원사거리점</dt> <dd>서울 서초구 바우뫼로 180 (양재동, 신송빌딩)</dd></dl>,\n",
       " <dl><dt>구반포역점</dt> <dd>서울 서초구 신반포로 50 (반포동, 구반포상가)</dd></dl>,\n",
       " <dl><dt>국립중앙도서관디지털관점</dt> <dd>서울 서초구 반포대로 201 (반포동, 국립중앙도서관)</dd></dl>,\n",
       " <dl><dt>국립중앙도서관본관점</dt> <dd>서울 서초구 반포대로 201 (반포동, 국립중앙도서관)</dd></dl>,\n",
       " <dl><dt>남부터미널점</dt> <dd>서울 서초구 서초동 </dd></dl>,\n",
       " <dl><dt>내방역점</dt> <dd>서울 서초구 서초대로 108 (방배동, 삼보빌딩)</dd></dl>,\n",
       " <dl><dt>반포지하상가점</dt> <dd>서울 서초구 신반포로 지하 200 (잠원동, 강남터미널지하쇼핑몰)</dd></dl>,\n",
       " <dl><dt>방배백석점</dt> <dd>서울 서초구 방배로 42 (방배동)</dd></dl>,\n",
       " <dl><dt>방배역점</dt> <dd>서울 서초구 방배로 87 (방배동)</dd></dl>,\n",
       " <dl><dt>방배중앙점</dt> <dd>서울 서초구 동광로 1 (방배동, 대양빌딩)</dd></dl>,\n",
       " <dl><dt>서울고교점</dt> <dd>서울 서초구 서초동 </dd></dl>,\n",
       " <dl><dt>서울고속버스터미널점</dt> <dd>서울 서초구 신반포로 194 (반포동, 강남고속버스터미널)</dd></dl>,\n",
       " <dl><dt>서울교대점</dt> <dd>서울 서초구 서초동 </dd></dl>,\n",
       " <dl><dt>서초법조타운점</dt> <dd>서울 서초구 서초중앙로24길 7 (서초동, 동천빌딩)</dd></dl>,\n",
       " <dl><dt>서초역점</dt> <dd>서울 서초구 서초동 </dd></dl>,\n",
       " <dl><dt>서초우면중앙점</dt> <dd>서울 서초구 양재대로2길 100-11 (우면동, 서초 리슈빌S)</dd></dl>,\n",
       " <dl><dt>서초점</dt> <dd>서울 서초구 서초대로48길 16 (서초동)</dd></dl>,\n",
       " <dl><dt>신논현역점 </dt> <dd>서울 서초구 강남대로79길 10 (반포동)</dd></dl>,\n",
       " <dl><dt>양재언남점</dt> <dd>서울 서초구 동산로 60 (양재동, 화성빌딩)</dd></dl>,\n",
       " <dl><dt>양재점</dt> <dd>서울 서초구 남부순환로347길 38 (서초동)</dd></dl>,\n",
       " <dl><dt>양재중앙점</dt> <dd>서울 서초구 강남대로 221 (양재동, 양재역 환승주차장)</dd></dl>,\n",
       " <dl><dt>양재하나로마트점</dt> <dd>서울 서초구 청계산로 10 (양재동, 농협하나로클럽)</dd></dl>,\n",
       " <dl><dt>예술의전당점</dt> <dd>서울 서초구 반포대로 32 (서초동, 원일빌딩)</dd></dl>,\n",
       " <dl><dt>우면동점</dt> <dd>서울 서초구 바우뫼로 20 (우면동, 고호빌딩)</dd></dl>,\n",
       " <dl><dt>잠원논현점</dt> <dd>서울 서초구 신반포로 333 (잠원동)</dd></dl>,\n",
       " <dl><dt>청계산입구역점</dt> <dd>서울 서초구 신원동</dd></dl>,\n",
       " <dl><dt>포이점</dt> <dd>서울 서초구 마방로10길 42 (양재동)</dd></dl>,\n",
       " <dl><dt>함지박사거리점</dt> <dd>서울 서초구 방배로 234 우신빌딩</dd></dl>]"
      ]
     },
     "execution_count": 197,
     "metadata": {},
     "output_type": "execute_result"
    }
   ],
   "source": [
    "# 부모 태그\n",
    "edi_store_list = edi_soup.select(\"#placesList > li > a > dl\")\n",
    "#placesList > li:nth-child(1) > a > dl > dt\n",
    "edi_store_list"
   ]
  },
  {
   "cell_type": "code",
   "execution_count": 198,
   "id": "e03bed5c",
   "metadata": {},
   "outputs": [
    {
     "data": {
      "text/plain": [
       "'국립중앙도서관본관점'"
      ]
     },
     "execution_count": 198,
     "metadata": {},
     "output_type": "execute_result"
    }
   ],
   "source": [
    "# 구별 매장 이름\n",
    "edi_store_list[5].select_one(\"dt\").text"
   ]
  },
  {
   "cell_type": "code",
   "execution_count": 200,
   "id": "999f383a",
   "metadata": {},
   "outputs": [
    {
     "data": {
      "text/plain": [
       "'서울 서초구 반포대로 201 (반포동, 국립중앙도서관)'"
      ]
     },
     "execution_count": 200,
     "metadata": {},
     "output_type": "execute_result"
    }
   ],
   "source": [
    "# 구별 주소\n",
    "edi_store_list[5].select_one(\"dd\").text"
   ]
  },
  {
   "cell_type": "code",
   "execution_count": 201,
   "id": "23930009",
   "metadata": {},
   "outputs": [
    {
     "data": {
      "text/plain": [
       "'서초구'"
      ]
     },
     "execution_count": 201,
     "metadata": {},
     "output_type": "execute_result"
    }
   ],
   "source": [
    "# 구 이름\n",
    "edi_store_list[5].select_one(\"dd\").text.split()[1]"
   ]
  },
  {
   "cell_type": "code",
   "execution_count": 202,
   "id": "90726f8b",
   "metadata": {},
   "outputs": [],
   "source": [
    "search.clear()"
   ]
  },
  {
   "cell_type": "code",
   "execution_count": 189,
   "id": "9b3db309",
   "metadata": {},
   "outputs": [
    {
     "data": {
      "text/html": [
       "<div>\n",
       "<style scoped>\n",
       "    .dataframe tbody tr th:only-of-type {\n",
       "        vertical-align: middle;\n",
       "    }\n",
       "\n",
       "    .dataframe tbody tr th {\n",
       "        vertical-align: top;\n",
       "    }\n",
       "\n",
       "    .dataframe thead th {\n",
       "        text-align: right;\n",
       "    }\n",
       "</style>\n",
       "<table border=\"1\" class=\"dataframe\">\n",
       "  <thead>\n",
       "    <tr style=\"text-align: right;\">\n",
       "      <th></th>\n",
       "      <th>Unnamed: 0</th>\n",
       "      <th>매장이름</th>\n",
       "      <th>구 이름</th>\n",
       "      <th>매장 주소</th>\n",
       "    </tr>\n",
       "  </thead>\n",
       "  <tbody>\n",
       "    <tr>\n",
       "      <th>0</th>\n",
       "      <td>0</td>\n",
       "      <td>역삼아레나빌딩</td>\n",
       "      <td>강남구</td>\n",
       "      <td>서울특별시 강남구 언주로 425 (역삼동)</td>\n",
       "    </tr>\n",
       "    <tr>\n",
       "      <th>1</th>\n",
       "      <td>1</td>\n",
       "      <td>논현역사거리</td>\n",
       "      <td>강남구</td>\n",
       "      <td>서울특별시 강남구 강남대로 538 (논현동)</td>\n",
       "    </tr>\n",
       "    <tr>\n",
       "      <th>2</th>\n",
       "      <td>2</td>\n",
       "      <td>신사역성일빌딩</td>\n",
       "      <td>강남구</td>\n",
       "      <td>서울특별시 강남구 강남대로 584 (논현동)</td>\n",
       "    </tr>\n",
       "    <tr>\n",
       "      <th>3</th>\n",
       "      <td>3</td>\n",
       "      <td>국기원사거리</td>\n",
       "      <td>강남구</td>\n",
       "      <td>서울특별시 강남구 테헤란로 125 (역삼동)</td>\n",
       "    </tr>\n",
       "    <tr>\n",
       "      <th>4</th>\n",
       "      <td>4</td>\n",
       "      <td>대치재경빌딩R</td>\n",
       "      <td>강남구</td>\n",
       "      <td>서울특별시 강남구 남부순환로 2947 (대치동)</td>\n",
       "    </tr>\n",
       "  </tbody>\n",
       "</table>\n",
       "</div>"
      ],
      "text/plain": [
       "   Unnamed: 0     매장이름 구 이름                       매장 주소\n",
       "0           0  역삼아레나빌딩  강남구     서울특별시 강남구 언주로 425 (역삼동)\n",
       "1           1   논현역사거리  강남구    서울특별시 강남구 강남대로 538 (논현동)\n",
       "2           2  신사역성일빌딩  강남구    서울특별시 강남구 강남대로 584 (논현동)\n",
       "3           3   국기원사거리  강남구    서울특별시 강남구 테헤란로 125 (역삼동)\n",
       "4           4  대치재경빌딩R  강남구  서울특별시 강남구 남부순환로 2947 (대치동)"
      ]
     },
     "execution_count": 189,
     "metadata": {},
     "output_type": "execute_result"
    }
   ],
   "source": [
    "# 서울시 전체 구명\n",
    "seoul = pd.read_excel(\"./starbucks/seoul_starbucks..xlsx\")\n",
    "seoul.head()"
   ]
  },
  {
   "cell_type": "code",
   "execution_count": 213,
   "id": "fa966927",
   "metadata": {},
   "outputs": [
    {
     "data": {
      "text/plain": [
       "array(['강남구', '강북구', '강서구', '관악구', '광진구', '금천구', '노원구', '도봉구', '동작구',\n",
       "       '마포구', '서대문구', '서초구', '성북구', '송파구', '양천구', '영등포구', '은평구', '종로구',\n",
       "       '중구', '강동구', '구로구', '동대문구', '성동구', '용산구', '중랑구'], dtype=object)"
      ]
     },
     "execution_count": 213,
     "metadata": {},
     "output_type": "execute_result"
    }
   ],
   "source": [
    "seoul_gu = seoul[\"구 이름\"].unique()\n",
    "seoul_gu"
   ]
  },
  {
   "cell_type": "code",
   "execution_count": 89,
   "id": "9b4ef7bf",
   "metadata": {},
   "outputs": [],
   "source": [
    "# 강서구 예외 발생해서 제외하고 함"
   ]
  },
  {
   "cell_type": "code",
   "execution_count": 93,
   "id": "cf6a2559",
   "metadata": {},
   "outputs": [],
   "source": [
    "!mkdir ediya"
   ]
  },
  {
   "cell_type": "code",
   "execution_count": 214,
   "id": "1190c598",
   "metadata": {},
   "outputs": [
    {
     "name": "stderr",
     "output_type": "stream",
     "text": [
      "C:\\Users\\ThinkBook\\AppData\\Local\\Temp\\ipykernel_22224\\1609548888.py:9: DeprecationWarning: find_element_by_css_selector is deprecated. Please use find_element(by=By.CSS_SELECTOR, value=css_selector) instead\n",
      "  driver.find_element_by_css_selector(\"#keyword\").send_keys(gu)\n",
      "C:\\Users\\ThinkBook\\AppData\\Local\\Temp\\ipykernel_22224\\1609548888.py:10: DeprecationWarning: find_element_by_css_selector is deprecated. Please use find_element(by=By.CSS_SELECTOR, value=css_selector) instead\n",
      "  driver.find_element_by_css_selector(\"#keyword_div > form > button\").click()\n",
      "C:\\Users\\ThinkBook\\AppData\\Local\\Temp\\ipykernel_22224\\1609548888.py:25: DeprecationWarning: find_element_by_css_selector is deprecated. Please use find_element(by=By.CSS_SELECTOR, value=css_selector) instead\n",
      "  driver.find_element_by_css_selector(\"#keyword\").clear()\n"
     ]
    },
    {
     "name": "stdout",
     "output_type": "stream",
     "text": [
      "done!\n"
     ]
    }
   ],
   "source": [
    "# 이디야 전체 데이터 크롤링\n",
    "edi_datas = [] \n",
    "request = driver.page_source\n",
    "edi_soup = BeautifulSoup(request, \"html.parser\")\n",
    "for gu in seoul_gu :\n",
    "    if gu == \"강서구\" or gu == \"중구\":\n",
    "        pass\n",
    "    else:\n",
    "        driver.find_element_by_css_selector(\"#keyword\").send_keys(gu)\n",
    "        driver.find_element_by_css_selector(\"#keyword_div > form > button\").click()\n",
    "        request = driver.page_source\n",
    "        edi_soup = BeautifulSoup(request, \"html.parser\")\n",
    "        edi_store_list = edi_soup.select(\"#placesList > li > a > dl\")\n",
    "        \n",
    "        for edi_store in edi_store_list:\n",
    "            edi_store_name = edi_store.select_one(\"dt\").text\n",
    "            edi_address = edi_store.select_one(\"dd\").text\n",
    "            edi_gu = edi_store.select_one(\"dd\").text.split()[1]\n",
    "            edi_datas.append({\n",
    "                \"매장이름\": edi_store_name, \n",
    "                \"구 이름\": edi_gu, \n",
    "                \"매장 주소\": edi_address \n",
    "            })\n",
    "        time.sleep(3)        \n",
    "        driver.find_element_by_css_selector(\"#keyword\").clear()\n",
    "        time.sleep(3)\n",
    "edi_df = pd.DataFrame(edi_datas)\n",
    "edi_df.to_excel(\"./ediya/seoul_ediya.xlsx\", encoding=\"utf-8\")\n",
    "print(\"done!\")"
   ]
  },
  {
   "cell_type": "code",
   "execution_count": 217,
   "id": "12ad230f",
   "metadata": {},
   "outputs": [
    {
     "data": {
      "text/plain": [
       "array(['중랑구', '강남구', '강북구', '관악구', '광진구', '금천구', '노원구', '도봉구', '동작구',\n",
       "       '마포구', '서대문구', '서초구', '성북구', '송파구', '양천구', '영등포구', '은평구', '종로구',\n",
       "       '강동구', '구로구', '동대문구', '성동구', '용산구'], dtype=object)"
      ]
     },
     "execution_count": 217,
     "metadata": {},
     "output_type": "execute_result"
    }
   ],
   "source": [
    "ediya = pd.read_excel(\"./ediya/seoul_ediya.xlsx\")\n",
    "ediya[\"구 이름\"].unique()"
   ]
  },
  {
   "cell_type": "markdown",
   "id": "d3b7d2b5",
   "metadata": {},
   "source": [
    "## 3. 데이터 시각화"
   ]
  },
  {
   "cell_type": "code",
   "execution_count": 218,
   "id": "fb9fe755",
   "metadata": {},
   "outputs": [],
   "source": [
    "import matplotlib.pyplot as plt \n",
    "import seaborn as sns \n",
    "import platform\n",
    "import numpy as np \n",
    "from matplotlib import font_manager, rc \n",
    "\n",
    "get_ipython().run_line_magic(\"matplotlib\", \"inline\")\n",
    "\n",
    "plt.rc(\"font\", family=\"Malgun Gothic\")\n",
    "plt.rc(\"axes\", unicode_minus=False)"
   ]
  },
  {
   "cell_type": "code",
   "execution_count": 219,
   "id": "1b2a8cb0",
   "metadata": {},
   "outputs": [],
   "source": [
    "import json \n",
    "import folium\n",
    "import warnings\n",
    "warnings.simplefilter(action=\"ignore\", category=FutureWarning)"
   ]
  },
  {
   "cell_type": "markdown",
   "id": "d4cb025e",
   "metadata": {},
   "source": [
    "### 두개의 데이터 크롤링만 완료하고 시간이 마감했습니다... 시각화까지 가지 못했고, 끝이 났습니다.. 예정은 folium을 이용해서 지도에 스타벅스와 이디야 점포별 반경(Circle)을 그려서 서로가 얼마나 가까이 있는지 확인하고, 그에 따른 결과를 해석하고 싶었습니다..."
   ]
  }
 ],
 "metadata": {
  "kernelspec": {
   "display_name": "Python 3 (ipykernel)",
   "language": "python",
   "name": "python3"
  },
  "language_info": {
   "codemirror_mode": {
    "name": "ipython",
    "version": 3
   },
   "file_extension": ".py",
   "mimetype": "text/x-python",
   "name": "python",
   "nbconvert_exporter": "python",
   "pygments_lexer": "ipython3",
   "version": "3.8.12"
  }
 },
 "nbformat": 4,
 "nbformat_minor": 5
}
