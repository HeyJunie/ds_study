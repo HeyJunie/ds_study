{
 "cells": [
  {
   "cell_type": "markdown",
   "id": "0b32d8ac",
   "metadata": {},
   "source": [
    "# 06. Naver API"
   ]
  },
  {
   "cell_type": "markdown",
   "id": "14128bac",
   "metadata": {},
   "source": [
    "## 1. 네이버 API 사용 등록 "
   ]
  },
  {
   "cell_type": "markdown",
   "id": "34eb47aa",
   "metadata": {},
   "source": [
    "- 네이버 개발자 센터 \n",
    "- https://developers.naver.com/main/\n",
    "- Application \n",
    "    - 어플리케이션 등록\n",
    "    - 어플리케이션 이름 ds_study \n",
    "    - 사용 API \n",
    "        - 검색\n",
    "        - 데이터랩(검색어트렌드)\n",
    "        - 데이터랩(쇼핑인사이트)\n",
    "    - 환경추가 \n",
    "        - WEB 설정 \n",
    "        - http://localhost\n",
    "    - Clienct ID: H2_6lcavpVyHW8211rUq\n",
    "    - Clienct Secret: D1XBjnKTe9\n",
    "    - https://developers.naver.com/apps/#/myapps/H2_6lcavpVyHW8211rUq/overview "
   ]
  },
  {
   "cell_type": "markdown",
   "id": "63205ae0",
   "metadata": {},
   "source": [
    "## 2. 네이버 검색 API 사용하기"
   ]
  },
  {
   "cell_type": "markdown",
   "id": "c52a761e",
   "metadata": {},
   "source": [
    "- https://developers.naver.com/docs/serviceapi/search/blog/blog.md#%EB%B8%94%EB%A1%9C%EA%B7%B8 # 개발 가이드 "
   ]
  },
  {
   "cell_type": "code",
   "execution_count": null,
   "id": "06beea0b",
   "metadata": {},
   "outputs": [],
   "source": [
    "- urllib: http 프로토콜에 따라서 서버의 요청/응답을 처리하기 위한 모듈 \n",
    "- urllib.request: 클라이언트의 요청을 처리하는 모듈 \n",
    "- urllib.parse: url 주소에 대한 분석 "
   ]
  },
  {
   "cell_type": "markdown",
   "id": "1a4d8848",
   "metadata": {},
   "source": [
    "## 검색: 블로그(blog)"
   ]
  },
  {
   "cell_type": "code",
   "execution_count": 1,
   "id": "742df27a",
   "metadata": {},
   "outputs": [
    {
     "name": "stdout",
     "output_type": "stream",
     "text": [
      "{\n",
      "\"lastBuildDate\": \"Tue, 12 Apr 2022 12:56:07 +0900\",\n",
      "\"total\": 292859,\n",
      "\"start\": 1,\n",
      "\"display\": 10,\n",
      "\"items\": [\n",
      "{\n",
      "\"title\": \"<b>파이썬</b>학원 개발자로 성장하는 입문 커리큘럼\",\n",
      "\"link\": \"https:\\/\\/blog.naver.com\\/wns342434?Redirect=Log&logNo=222689250090\",\n",
      "\"description\": \"알아보다 <b>파이썬</b>학원을 찾아보게 되었습니다. 다양한 프로그래밍 언어 중에 가장 진입장벽이 낮았거든요. 대세 산업이라 그런지, <b>파이썬</b>학원은 제 생각보다 훨씬 많았어요. 저를 포함하여 19XX년도에 태어나신... \",\n",
      "\"bloggername\": \"Marge\",\n",
      "\"bloggerlink\": \"https://blog.naver.com/wns342434\",\n",
      "\"postdate\": \"20220401\"\n",
      "\n",
      "},\n",
      "{\n",
      "\"title\": \"<b>파이썬</b> 강좌 다양한 코딩 활용법\",\n",
      "\"link\": \"https:\\/\\/blog.naver.com\\/ultra30000?Redirect=Log&logNo=222681567952\",\n",
      "\"description\": \"반가워요, 오늘은 제가 <b>파이썬</b> 강좌를 들었던 이야기를 함께 공유해보려 해요. 사실 요즘은... 알아보다가 <b>파이썬</b>강좌를 알게 되었죠. 이 <b>파이썬</b>은 프로그래밍 언어 중 하나이며 각 코딩 프로그램은 규칙과 같은... \",\n",
      "\"bloggername\": \"수구리\",\n",
      "\"bloggerlink\": \"https://blog.naver.com/ultra30000\",\n",
      "\"postdate\": \"20220324\"\n",
      "\n",
      "},\n",
      "{\n",
      "\"title\": \"<b>파이썬</b>학원 배우는 환경이 중요\",\n",
      "\"link\": \"https:\\/\\/blog.naver.com\\/sennie?Redirect=Log&logNo=222660401833\",\n",
      "\"description\": \"저는 요즘 <b>파이썬</b>학원에 다니면서 코딩 공부를 하고 있는데요. 요즘은 초등학생뿐만 아니라, 중... 중고등학생들은 <b>파이썬</b>이나 C언어 등을 학교에서 배운다고 해요. 필수 교과 과정으로 채택이 된 만큼, 저도... \",\n",
      "\"bloggername\": \"통통쎄니의 신나는 하루!\",\n",
      "\"bloggerlink\": \"https://blog.naver.com/sennie\",\n",
      "\"postdate\": \"20220228\"\n",
      "\n",
      "},\n",
      "{\n",
      "\"title\": \"빅데이터학원 <b>파이썬</b> 프로젝트 수업과정!\",\n",
      "\"link\": \"https:\\/\\/blog.naver.com\\/yun1696?Redirect=Log&logNo=222675125995\",\n",
      "\"description\": \"제가 수강했던 빅데이터학원은 자바가 아닌 <b>파이썬</b> 기반으로 수업이 열렸었는데요. 잘 배운 덕분에... 제가 수업을 들었던 빅데이터학원은 AI기반 <b>파이썬</b> 프로젝트 수업, R분석 툴 이용법, 분석전문가 과정 등... \",\n",
      "\"bloggername\": \"疎通-亨通-大通\",\n",
      "\"bloggerlink\": \"https://blog.naver.com/yun1696\",\n",
      "\"postdate\": \"20220317\"\n",
      "\n",
      "},\n",
      "{\n",
      "\"title\": \"<b>파이썬</b>학원 필수적인 심화절차\",\n",
      "\"link\": \"https:\\/\\/blog.naver.com\\/dorothy2648?Redirect=Log&logNo=222579385478\",\n",
      "\"description\": \"제 주변만 하더라도 체계적으로 배우고 싶어서 <b>파이썬</b>학원을 알아보는 선배들도 많았어요. 저 역시도... 이미 구직했다고 하더라도 자기 계발을 위해서 <b>파이썬</b>학원을 선택하는 케이스도 많았고, 저처럼 미래를... \",\n",
      "\"bloggername\": \"오즈미니\",\n",
      "\"bloggerlink\": \"https://blog.naver.com/dorothy2648\",\n",
      "\"postdate\": \"20211126\"\n",
      "\n",
      "},\n",
      "{\n",
      "\"title\": \"<b>파이썬</b>학원 자체 코딩테스트는 필수\",\n",
      "\"link\": \"https:\\/\\/blog.naver.com\\/skyinjong?Redirect=Log&logNo=222669191117\",\n",
      "\"description\": \"그렇기에 저도 전문직무를 이제 찾아야함에 있어서 <b>파이썬</b>학원을 알아보게 되었습니다. 개발... 저는 <b>파이썬</b>학원 주 3일과정을 듣기로 했어요. 하루 공부하고, 다음 날 휴식하며 집에서 복습하고, 다음 날... \",\n",
      "\"bloggername\": \"니야옹( *ฅ́˘ฅ̀*)\",\n",
      "\"bloggerlink\": \"https://blog.naver.com/skyinjong\",\n",
      "\"postdate\": \"20220311\"\n",
      "\n",
      "},\n",
      "{\n",
      "\"title\": \"<b>파이썬</b> 프로그래밍 코딩 개발 환경 Visual Studio Code로... \",\n",
      "\"link\": \"https:\\/\\/blog.naver.com\\/skdaksdptn?Redirect=Log&logNo=222620667531\",\n",
      "\"description\": \"프로그래밍 언어 중에서 <b>파이썬</b>(Python)이 대세다. 문법이 굉장히 쉽다. 다양한 인터프리터 언어... 이렇다 보니 개발자라면 &quot;Life is too short, You need python.&quot;, 인생은 짧으니 <b>파이썬</b> 코딩을 통해 개발... \",\n",
      "\"bloggername\": \"짜루의 이것저것 리뷰\",\n",
      "\"bloggerlink\": \"https://blog.naver.com/skdaksdptn\",\n",
      "\"postdate\": \"20220113\"\n",
      "\n",
      "},\n",
      "{\n",
      "\"title\": \"<b>파이썬</b> 설치, 환경 변수, No module named 'PIL' 오류\",\n",
      "\"link\": \"https:\\/\\/blog.naver.com\\/logix200?Redirect=Log&logNo=222653547191\",\n",
      "\"description\": \"오늘은 <b>파이썬</b> 설치 방법과 그 후에 발생할 수 있는 몇 가지 문제를 해결하는 방법에 대한 정보를 공유하고자 합니다. 1. <b>파이썬</b> 설치 방법 아시다시피 Python은 컴퓨터 개발자를 위한 프로그래밍... \",\n",
      "\"bloggername\": \"IT 트랜스미터 옥희돌이\",\n",
      "\"bloggerlink\": \"https://blog.naver.com/logix200\",\n",
      "\"postdate\": \"20220221\"\n",
      "\n",
      "},\n",
      "{\n",
      "\"title\": \"<b>파이썬</b>학원 다양한 경험을 쌓기!\",\n",
      "\"link\": \"https:\\/\\/blog.naver.com\\/sya415?Redirect=Log&logNo=222577544403\",\n",
      "\"description\": \"아무래도 장래도 밝고 수요도 많을 것 같다는 생각이 들어서 이직해야겠다는 마음을 가지고 <b>파이썬</b>학원... 결국에 커리큘럼이 마음에 들어서 한 <b>파이썬</b>학원 방문하게 됐는데요. 처음에 멘토 선생님께서... \",\n",
      "\"bloggername\": \"재미있게 즐겁게\",\n",
      "\"bloggerlink\": \"https://blog.naver.com/sya415\",\n",
      "\"postdate\": \"20211124\"\n",
      "\n",
      "},\n",
      "{\n",
      "\"title\": \"<b>파이썬</b> 마스터 : 시험 일정 및 취득 방법\",\n",
      "\"link\": \"https:\\/\\/blog.naver.com\\/urmyver?Redirect=Log&logNo=222673380700\",\n",
      "\"description\": \"#<b>파이썬</b> <b>파이썬</b>, 네덜란드 출신의 개발자인 귀도 반 로섬에 의해 개발된 언어로 <b>파이썬</b>이라는 이름이 붙은 이유는 개발자가 좋아하는 코미디 프로그램의 이름에서 따왔다고 합니다. 요즘 코딩 교육에... \",\n",
      "\"bloggername\": \"주들의 그리 대단하진 않지만 굉장한 이야기\",\n",
      "\"bloggerlink\": \"https://blog.naver.com/urmyver\",\n",
      "\"postdate\": \"20220315\"\n",
      "\n",
      "}\n",
      "]\n",
      "}\n",
      "\n"
     ]
    }
   ],
   "source": [
    "# 네이버 검색 API예제는 블로그를 비롯 전문자료까지 호출방법이 동일하므로 blog검색만 대표로 예제를 올렸습니다.\n",
    "# 네이버 검색 Open API 예제 - 블로그 검색\n",
    "import os\n",
    "import sys\n",
    "import urllib.request\n",
    "\n",
    "client_id = \"H2_6lcavpVyHW8211rUq\"\n",
    "client_secret = \"D1XBjnKTe9\"\n",
    "\n",
    "encText = urllib.parse.quote(\"파이썬\")\n",
    "url = \"https://openapi.naver.com/v1/search/blog?query=\" + encText # json 결과\n",
    "# url = \"https://openapi.naver.com/v1/search/blog.xml?query=\" + encText # xml 결과\n",
    "request = urllib.request.Request(url)\n",
    "request.add_header(\"X-Naver-Client-Id\",client_id)\n",
    "request.add_header(\"X-Naver-Client-Secret\",client_secret)\n",
    "response = urllib.request.urlopen(request)\n",
    "rescode = response.getcode()\n",
    "if(rescode==200):\n",
    "    response_body = response.read()\n",
    "    print(response_body.decode('utf-8'))\n",
    "else:\n",
    "    print(\"Error Code:\" + rescode)"
   ]
  },
  {
   "cell_type": "code",
   "execution_count": 2,
   "id": "153397a7",
   "metadata": {},
   "outputs": [
    {
     "data": {
      "text/plain": [
       "(<http.client.HTTPResponse at 0x28b9ad434c0>, 200, 200, 200)"
      ]
     },
     "execution_count": 2,
     "metadata": {},
     "output_type": "execute_result"
    }
   ],
   "source": [
    "response, response.getcode(), response.code, response.status"
   ]
  },
  {
   "cell_type": "code",
   "execution_count": 3,
   "id": "934f8c7e",
   "metadata": {},
   "outputs": [
    {
     "name": "stdout",
     "output_type": "stream",
     "text": [
      "{\n",
      "\"lastBuildDate\": \"Tue, 12 Apr 2022 12:56:07 +0900\",\n",
      "\"total\": 292859,\n",
      "\"start\": 1,\n",
      "\"display\": 10,\n",
      "\"items\": [\n",
      "{\n",
      "\"title\": \"<b>파이썬</b>학원 개발자로 성장하는 입문 커리큘럼\",\n",
      "\"link\": \"https:\\/\\/blog.naver.com\\/wns342434?Redirect=Log&logNo=222689250090\",\n",
      "\"description\": \"알아보다 <b>파이썬</b>학원을 찾아보게 되었습니다. 다양한 프로그래밍 언어 중에 가장 진입장벽이 낮았거든요. 대세 산업이라 그런지, <b>파이썬</b>학원은 제 생각보다 훨씬 많았어요. 저를 포함하여 19XX년도에 태어나신... \",\n",
      "\"bloggername\": \"Marge\",\n",
      "\"bloggerlink\": \"https://blog.naver.com/wns342434\",\n",
      "\"postdate\": \"20220401\"\n",
      "\n",
      "},\n",
      "{\n",
      "\"title\": \"<b>파이썬</b> 강좌 다양한 코딩 활용법\",\n",
      "\"link\": \"https:\\/\\/blog.naver.com\\/ultra30000?Redirect=Log&logNo=222681567952\",\n",
      "\"description\": \"반가워요, 오늘은 제가 <b>파이썬</b> 강좌를 들었던 이야기를 함께 공유해보려 해요. 사실 요즘은... 알아보다가 <b>파이썬</b>강좌를 알게 되었죠. 이 <b>파이썬</b>은 프로그래밍 언어 중 하나이며 각 코딩 프로그램은 규칙과 같은... \",\n",
      "\"bloggername\": \"수구리\",\n",
      "\"bloggerlink\": \"https://blog.naver.com/ultra30000\",\n",
      "\"postdate\": \"20220324\"\n",
      "\n",
      "},\n",
      "{\n",
      "\"title\": \"<b>파이썬</b>학원 배우는 환경이 중요\",\n",
      "\"link\": \"https:\\/\\/blog.naver.com\\/sennie?Redirect=Log&logNo=222660401833\",\n",
      "\"description\": \"저는 요즘 <b>파이썬</b>학원에 다니면서 코딩 공부를 하고 있는데요. 요즘은 초등학생뿐만 아니라, 중... 중고등학생들은 <b>파이썬</b>이나 C언어 등을 학교에서 배운다고 해요. 필수 교과 과정으로 채택이 된 만큼, 저도... \",\n",
      "\"bloggername\": \"통통쎄니의 신나는 하루!\",\n",
      "\"bloggerlink\": \"https://blog.naver.com/sennie\",\n",
      "\"postdate\": \"20220228\"\n",
      "\n",
      "},\n",
      "{\n",
      "\"title\": \"빅데이터학원 <b>파이썬</b> 프로젝트 수업과정!\",\n",
      "\"link\": \"https:\\/\\/blog.naver.com\\/yun1696?Redirect=Log&logNo=222675125995\",\n",
      "\"description\": \"제가 수강했던 빅데이터학원은 자바가 아닌 <b>파이썬</b> 기반으로 수업이 열렸었는데요. 잘 배운 덕분에... 제가 수업을 들었던 빅데이터학원은 AI기반 <b>파이썬</b> 프로젝트 수업, R분석 툴 이용법, 분석전문가 과정 등... \",\n",
      "\"bloggername\": \"疎通-亨通-大通\",\n",
      "\"bloggerlink\": \"https://blog.naver.com/yun1696\",\n",
      "\"postdate\": \"20220317\"\n",
      "\n",
      "},\n",
      "{\n",
      "\"title\": \"<b>파이썬</b>학원 필수적인 심화절차\",\n",
      "\"link\": \"https:\\/\\/blog.naver.com\\/dorothy2648?Redirect=Log&logNo=222579385478\",\n",
      "\"description\": \"제 주변만 하더라도 체계적으로 배우고 싶어서 <b>파이썬</b>학원을 알아보는 선배들도 많았어요. 저 역시도... 이미 구직했다고 하더라도 자기 계발을 위해서 <b>파이썬</b>학원을 선택하는 케이스도 많았고, 저처럼 미래를... \",\n",
      "\"bloggername\": \"오즈미니\",\n",
      "\"bloggerlink\": \"https://blog.naver.com/dorothy2648\",\n",
      "\"postdate\": \"20211126\"\n",
      "\n",
      "},\n",
      "{\n",
      "\"title\": \"<b>파이썬</b>학원 자체 코딩테스트는 필수\",\n",
      "\"link\": \"https:\\/\\/blog.naver.com\\/skyinjong?Redirect=Log&logNo=222669191117\",\n",
      "\"description\": \"그렇기에 저도 전문직무를 이제 찾아야함에 있어서 <b>파이썬</b>학원을 알아보게 되었습니다. 개발... 저는 <b>파이썬</b>학원 주 3일과정을 듣기로 했어요. 하루 공부하고, 다음 날 휴식하며 집에서 복습하고, 다음 날... \",\n",
      "\"bloggername\": \"니야옹( *ฅ́˘ฅ̀*)\",\n",
      "\"bloggerlink\": \"https://blog.naver.com/skyinjong\",\n",
      "\"postdate\": \"20220311\"\n",
      "\n",
      "},\n",
      "{\n",
      "\"title\": \"<b>파이썬</b> 프로그래밍 코딩 개발 환경 Visual Studio Code로... \",\n",
      "\"link\": \"https:\\/\\/blog.naver.com\\/skdaksdptn?Redirect=Log&logNo=222620667531\",\n",
      "\"description\": \"프로그래밍 언어 중에서 <b>파이썬</b>(Python)이 대세다. 문법이 굉장히 쉽다. 다양한 인터프리터 언어... 이렇다 보니 개발자라면 &quot;Life is too short, You need python.&quot;, 인생은 짧으니 <b>파이썬</b> 코딩을 통해 개발... \",\n",
      "\"bloggername\": \"짜루의 이것저것 리뷰\",\n",
      "\"bloggerlink\": \"https://blog.naver.com/skdaksdptn\",\n",
      "\"postdate\": \"20220113\"\n",
      "\n",
      "},\n",
      "{\n",
      "\"title\": \"<b>파이썬</b> 설치, 환경 변수, No module named 'PIL' 오류\",\n",
      "\"link\": \"https:\\/\\/blog.naver.com\\/logix200?Redirect=Log&logNo=222653547191\",\n",
      "\"description\": \"오늘은 <b>파이썬</b> 설치 방법과 그 후에 발생할 수 있는 몇 가지 문제를 해결하는 방법에 대한 정보를 공유하고자 합니다. 1. <b>파이썬</b> 설치 방법 아시다시피 Python은 컴퓨터 개발자를 위한 프로그래밍... \",\n",
      "\"bloggername\": \"IT 트랜스미터 옥희돌이\",\n",
      "\"bloggerlink\": \"https://blog.naver.com/logix200\",\n",
      "\"postdate\": \"20220221\"\n",
      "\n",
      "},\n",
      "{\n",
      "\"title\": \"<b>파이썬</b>학원 다양한 경험을 쌓기!\",\n",
      "\"link\": \"https:\\/\\/blog.naver.com\\/sya415?Redirect=Log&logNo=222577544403\",\n",
      "\"description\": \"아무래도 장래도 밝고 수요도 많을 것 같다는 생각이 들어서 이직해야겠다는 마음을 가지고 <b>파이썬</b>학원... 결국에 커리큘럼이 마음에 들어서 한 <b>파이썬</b>학원 방문하게 됐는데요. 처음에 멘토 선생님께서... \",\n",
      "\"bloggername\": \"재미있게 즐겁게\",\n",
      "\"bloggerlink\": \"https://blog.naver.com/sya415\",\n",
      "\"postdate\": \"20211124\"\n",
      "\n",
      "},\n",
      "{\n",
      "\"title\": \"<b>파이썬</b> 마스터 : 시험 일정 및 취득 방법\",\n",
      "\"link\": \"https:\\/\\/blog.naver.com\\/urmyver?Redirect=Log&logNo=222673380700\",\n",
      "\"description\": \"#<b>파이썬</b> <b>파이썬</b>, 네덜란드 출신의 개발자인 귀도 반 로섬에 의해 개발된 언어로 <b>파이썬</b>이라는 이름이 붙은 이유는 개발자가 좋아하는 코미디 프로그램의 이름에서 따왔다고 합니다. 요즘 코딩 교육에... \",\n",
      "\"bloggername\": \"주들의 그리 대단하진 않지만 굉장한 이야기\",\n",
      "\"bloggerlink\": \"https://blog.naver.com/urmyver\",\n",
      "\"postdate\": \"20220315\"\n",
      "\n",
      "}\n",
      "]\n",
      "}\n",
      "\n"
     ]
    }
   ],
   "source": [
    "# 글자로 읽을 경우, decode utf-8 설정 \n",
    "print(response_body.decode(\"utf-8\"))"
   ]
  },
  {
   "cell_type": "markdown",
   "id": "7b70daef",
   "metadata": {},
   "source": [
    "## 검색: 책(book)"
   ]
  },
  {
   "cell_type": "code",
   "execution_count": 4,
   "id": "82b51a98",
   "metadata": {},
   "outputs": [
    {
     "name": "stdout",
     "output_type": "stream",
     "text": [
      "{\n",
      "\"lastBuildDate\": \"Tue, 12 Apr 2022 12:56:11 +0900\",\n",
      "\"total\": 1549,\n",
      "\"start\": 1,\n",
      "\"display\": 10,\n",
      "\"items\": [\n",
      "{\n",
      "\"title\": \"<b>파이썬</b> for Beginner (쉽고 빠르게 익히는 프로그래밍의 기본 원리)\",\n",
      "\"link\": \"http://book.naver.com/bookdb/book_detail.php?bid=21371083\",\n",
      "\"image\": \"https://bookthumb-phinf.pstatic.net/cover/213/710/21371083.jpg?type=m1&udate=20211223\",\n",
      "\"author\": \"우재남\",\n",
      "\"price\": \"25000\",\n",
      "\"discount\": \"25000\",\n",
      "\"publisher\": \"한빛아카데미\",\n",
      "\"pubdate\": \"20220103\",\n",
      "\"isbn\": \"1156645743 9791156645740\",\n",
      "\"description\": \"일단 따라하면 바로 이해되는 <b>파이썬</b> 프로그래밍<b>파이썬</b>을 처음 접하는 독자를 대상으로 일대일 수업처럼 자세히 설명한 책입니다.꼭 알아야 할 핵심... 일단 코드를 입력하고 실행하다 보면 어느새 <b>파이썬</b> 프로그래밍과 친숙해져 있을 것입니다!※ 본 도서는 대학 강의용 교재로 개발되었으므로 연습문제 해답은... \"\n",
      "\n",
      "},\n",
      "{\n",
      "\"title\": \"이것이 취업을 위한 코딩 테스트다 with <b>파이썬</b> (취업과 이직을 결정하는 알고리즘 인터뷰 완벽 가이드)\",\n",
      "\"link\": \"http://book.naver.com/bookdb/book_detail.php?bid=16439154\",\n",
      "\"image\": \"https://bookthumb-phinf.pstatic.net/cover/164/391/16439154.jpg?type=m1&udate=20200928\",\n",
      "\"author\": \"나동빈\",\n",
      "\"price\": \"34000\",\n",
      "\"discount\": \"30600\",\n",
      "\"publisher\": \"한빛미디어\",\n",
      "\"pubdate\": \"20200805\",\n",
      "\"isbn\": \"1162243074 9791162243077\",\n",
      "\"description\": \"8가지 핵심 알고리즘 이론을 쉽게 설명하고, 관련 실전 문제를 풀이했다. 출제 유형 분석, 이론 설명, 기출문제 풀이까지! 어떤 코딩 테스트도 이 책 한 권으로 대비할 수 있을 것이다. 코딩 테스트에서 주로 선택하는 <b>파이썬</b>을 기반으로 설명되어 있으며, <b>파이썬</b> 코드 외에도 C/C++, 자바 코드를 추가로 제공한다.\"\n",
      "\n",
      "},\n",
      "{\n",
      "\"title\": \"Do it! 점프 투 <b>파이썬</b>\",\n",
      "\"link\": \"http://book.naver.com/bookdb/book_detail.php?bid=15052904\",\n",
      "\"image\": \"https://bookthumb-phinf.pstatic.net/cover/150/529/15052904.jpg?type=m1&udate=20200910\",\n",
      "\"author\": \"박응용\",\n",
      "\"price\": \"18800\",\n",
      "\"discount\": \"16920\",\n",
      "\"publisher\": \"이지스퍼블리싱\",\n",
      "\"pubdate\": \"20190620\",\n",
      "\"isbn\": \"1163030910 9791163030911\",\n",
      "\"description\": \"<b>파이썬</b> 4년 연속 베스트셀러 1위!\\n《DO IT! 점프 투 <b>파이썬</b>》 전면 개정판 출시!문과생도 중고등학생도 직장인도 프로그래밍에 눈뜨게 만든 바로 그 책이... 점프 투 <b>파이썬</b>》으로 출간되었던 이 책은 약 4년 동안의 피드백을 반영하여 초보자가 더 빠르게 입문하고, 더 깊이 있게 공부할 수 있도록 개정되었다.... \"\n",
      "\n",
      "},\n",
      "{\n",
      "\"title\": \"혼자 공부하는 <b>파이썬</b> (<b>파이썬</b> 최신 버전 반영)\",\n",
      "\"link\": \"http://book.naver.com/bookdb/book_detail.php?bid=15028688\",\n",
      "\"image\": \"https://bookthumb-phinf.pstatic.net/cover/150/286/15028688.jpg?type=m1&udate=20220129\",\n",
      "\"author\": \"윤인성\",\n",
      "\"price\": \"18000\",\n",
      "\"discount\": \"16200\",\n",
      "\"publisher\": \"한빛미디어\",\n",
      "\"pubdate\": \"20190610\",\n",
      "\"isbn\": \"1162241888 9791162241882\",\n",
      "\"description\": \"1:1 과외하듯 배우는 <b>파이썬</b> 프로그래밍 자습서(<b>파이썬</b> 최신 버전 반영)\\n27명의 베타리더 검증으로, ‘함께 만든’ 입문자 맞춤형 도서\\n\\n이 책은 독학으로 프로그래밍 언어를 처음 배우려는 입문자가, 혹은 <b>파이썬</b>을 배우려는 입문자가 ‘꼭 필요한 내용을 제대로’ 학습할 수 있도록 구성했다. ‘무엇을’... \"\n",
      "\n",
      "},\n",
      "{\n",
      "\"title\": \"만들면서 배우는 <b>파이썬</b>과 40개의 작품들 (자동화, 크롤링, 이미지처리, 데이터분석, 웹페이지, GUI 프로그램, 게임)\",\n",
      "\"link\": \"http://book.naver.com/bookdb/book_detail.php?bid=21982844\",\n",
      "\"image\": \"https://bookthumb-phinf.pstatic.net/cover/219/828/21982844.jpg?type=m1&udate=20220221\",\n",
      "\"author\": \"장문철\",\n",
      "\"price\": \"18800\",\n",
      "\"discount\": \"16920\",\n",
      "\"publisher\": \"앤써북\",\n",
      "\"pubdate\": \"20220228\",\n",
      "\"isbn\": \"1185553932 9791185553931\",\n",
      "\"description\": \"이 책은 내 업무와 생활에 바로 적용할 수 있는 40개의 프로그램을 직접 코딩해서 만들어보고, 동시에 <b>파이썬</b>을 자연스럽게 이해할 수 있게 구성하였다!<b>파이썬</b> 기초 문법 떼고 자동화, 크롤링, 이미지처리, 데이터분석, 웹페이지, GUI 프로그램, 게임, 인공지능 관련 40개 프로그램 직접 <b>파이썬</b> 코딩하며 만들어... \"\n",
      "\n",
      "},\n",
      "{\n",
      "\"title\": \"<b>파이썬</b> 알고리즘 인터뷰 (95가지 알고리즘 문제 풀이로 완성하는 코딩 테스트)\",\n",
      "\"link\": \"http://book.naver.com/bookdb/book_detail.php?bid=16406247\",\n",
      "\"image\": \"https://bookthumb-phinf.pstatic.net/cover/164/062/16406247.jpg?type=m1&udate=20220323\",\n",
      "\"author\": \"박상길\",\n",
      "\"price\": \"38000\",\n",
      "\"discount\": \"34200\",\n",
      "\"publisher\": \"책만\",\n",
      "\"pubdate\": \"20200715\",\n",
      "\"isbn\": \"1189909170 9791189909178\",\n",
      "\"description\": \"물론, <b>파이썬</b>으로 구현하는 코드 풀이를 통해 성능 최적화 기법, <b>파이썬</b>의 핵심 문법과 다양한 실용 테크닉까지 배울 수 있는, 초보 개발자와 숙련 개발자... 이 책은 현업과 실무에 유용한 주요 알고리즘 이론을 깊숙이 이해하고, <b>파이썬</b>의 핵심 기능과 문법까지 상세하게 이해할 수 있는 취업용 코딩 테스트를... \"\n",
      "\n",
      "},\n",
      "{\n",
      "\"title\": \"한 권으로 끝내는 아두이노와 <b>파이썬</b>으로 52개 작품 만들기\",\n",
      "\"link\": \"http://book.naver.com/bookdb/book_detail.php?bid=22046408\",\n",
      "\"image\": \"https://bookthumb-phinf.pstatic.net/cover/220/464/22046408.jpg?type=m1&udate=20220301\",\n",
      "\"author\": \"장문철|박준원\",\n",
      "\"price\": \"22000\",\n",
      "\"discount\": \"19800\",\n",
      "\"publisher\": \"앤써북\",\n",
      "\"pubdate\": \"20220330\",\n",
      "\"isbn\": \"1185553940 9791185553948\",\n",
      "\"description\": \"이 책은 아두이노를 사용하여 하드웨어를 만들고 <b>파이썬</b>을 이용하여 PC에서 프로그램을 만든 후 서로 통신 및 융합하여 52가지 다양한 작품 만들기를 통해 재미와 학습 두 가지를 모두 할 수 있게 구성하였습니다!\"\n",
      "\n",
      "},\n",
      "{\n",
      "\"title\": \"<b>파이썬</b>을 이용한 비트코인 자동매매\",\n",
      "\"link\": \"http://book.naver.com/bookdb/book_detail.php?bid=18214660\",\n",
      "\"image\": \"https://bookthumb-phinf.pstatic.net/cover/182/146/18214660.jpg?type=m1&udate=20210316\",\n",
      "\"author\": \"유대표|조대표\",\n",
      "\"price\": \"27000\",\n",
      "\"discount\": \"24300\",\n",
      "\"publisher\": \"파이스탁\",\n",
      "\"pubdate\": \"20210322\",\n",
      "\"isbn\": \"1196608814 9791196608811\",\n",
      "\"description\": \"이 책은 최근 인기 있는 프로그래밍 언어인 <b>파이썬</b>을 사용하여 국내 3대 거래소(코빗, 빗썸, 업비트)... 프로그래밍 경험이 없는 일반인을 대상으로 <b>파이썬</b> 기초 문법부터 시작하여 24시간 실시간 자동... 있어 <b>파이썬</b>을 처음 배우는 분들이 유익하고 재미있게 프로그래밍을 배울 수 있도록 합니다. 책에서... \"\n",
      "\n",
      "},\n",
      "{\n",
      "\"title\": \"모두의 <b>파이썬</b> (20일 만에 배우는 프로그래밍 기초)\",\n",
      "\"link\": \"http://book.naver.com/bookdb/book_detail.php?bid=14126163\",\n",
      "\"image\": \"https://bookthumb-phinf.pstatic.net/cover/141/261/14126163.jpg?type=m1&udate=20210210\",\n",
      "\"author\": \"이승찬\",\n",
      "\"price\": \"12000\",\n",
      "\"discount\": \"10800\",\n",
      "\"publisher\": \"길벗\",\n",
      "\"pubdate\": \"20181009\",\n",
      "\"isbn\": \"1160505853 9791160505856\",\n",
      "\"description\": \"<b>파이썬</b> 분야 & 어린이 코딩 교육 분야\\n2년 연속 베스트셀러! 개정판 출간!\\n즐겁게 시작하는 나의 첫 프로그래밍!\\n프로그래밍을 한 번도 해본 적이 없어도 괜찮다. <b>파이썬</b>이 무엇인지 몰라도 상관 없다.... 어느새 <b>파이썬</b> 프로그램으로 멋진 그림을 그리고, 계산을 하고, 간단한 게임을 만들고, 수학 문제를... \"\n",
      "\n",
      "},\n",
      "{\n",
      "\"title\": \"<b>파이썬</b> Express (파워 유저를 위한)\",\n",
      "\"link\": \"http://book.naver.com/bookdb/book_detail.php?bid=17526679\",\n",
      "\"image\": \"https://bookthumb-phinf.pstatic.net/cover/175/266/17526679.jpg?type=m1&udate=20210320\",\n",
      "\"author\": \"천인국\",\n",
      "\"price\": \"30000\",\n",
      "\"discount\": \"30000\",\n",
      "\"publisher\": \"생능출판\",\n",
      "\"pubdate\": \"20201120\",\n",
      "\"isbn\": \"8970504664 9788970504667\",\n",
      "\"description\": \"<b>파이썬</b>은 현재 가장 각광받는 언어라고 감히 말할 수 있다. 최근에 인공지능이나 데이터 과학, 영상 처리 분야는 <b>파이썬</b>으로 프로그램을 작성하는 것이 거의 표준으로 되어 있다. 해가 갈수록 <b>파이썬</b> 활용이 폭발적으로 늘어나고 있다.&#x0D;&#x0D;필자가 보기에 <b>파이썬</b>은 두 얼굴을 가진 언어인 거 같다. 쉽게... \"\n",
      "\n",
      "}\n",
      "]\n",
      "}\n",
      "\n"
     ]
    }
   ],
   "source": [
    "# 네이버 검색 API예제는 블로그를 비롯 전문자료까지 호출방법이 동일하므로 blog검색만 대표로 예제를 올렸습니다.\n",
    "# 네이버 검색 Open API 예제 - 블로그 검색\n",
    "import os\n",
    "import sys\n",
    "import urllib.request\n",
    "\n",
    "client_id = \"H2_6lcavpVyHW8211rUq\"\n",
    "client_secret = \"D1XBjnKTe9\"\n",
    "\n",
    "encText = urllib.parse.quote(\"파이썬\")\n",
    "url = \"https://openapi.naver.com/v1/search/book?query=\" + encText # json 결과\n",
    "# url = \"https://openapi.naver.com/v1/search/blog.xml?query=\" + encText # xml 결과\n",
    "request = urllib.request.Request(url)\n",
    "request.add_header(\"X-Naver-Client-Id\",client_id)\n",
    "request.add_header(\"X-Naver-Client-Secret\",client_secret)\n",
    "response = urllib.request.urlopen(request)\n",
    "rescode = response.getcode()\n",
    "if(rescode==200):\n",
    "    response_body = response.read()\n",
    "    print(response_body.decode('utf-8'))\n",
    "else:\n",
    "    print(\"Error Code:\" + rescode)"
   ]
  },
  {
   "cell_type": "markdown",
   "id": "fcf03388",
   "metadata": {},
   "source": [
    "## 검색: 영화(movie)"
   ]
  },
  {
   "cell_type": "code",
   "execution_count": 5,
   "id": "0abbdc98",
   "metadata": {},
   "outputs": [
    {
     "name": "stdout",
     "output_type": "stream",
     "text": [
      "{\n",
      "\"lastBuildDate\": \"Tue, 12 Apr 2022 12:56:12 +0900\",\n",
      "\"total\": 1,\n",
      "\"start\": 1,\n",
      "\"display\": 1,\n",
      "\"items\": [\n",
      "{\n",
      "\"title\": \"<b>파이썬</b> 앤 가드\",\n",
      "\"link\": \"https://movie.naver.com/movie/bi/mi/basic.nhn?code=152070\",\n",
      "\"image\": \"https://ssl.pstatic.net/imgmovie/mdi/mit110/1520/152070_P01_145336.jpg\",\n",
      "\"subtitle\": \"PYTHON AND GUARD\",\n",
      "\"pubDate\": \"2015\",\n",
      "\"director\": \"안톤 디아코프|\",\n",
      "\"actor\": \"\",\n",
      "\"userRating\": \"0.00\"\n",
      "\n",
      "}\n",
      "]\n",
      "}\n",
      "\n"
     ]
    }
   ],
   "source": [
    "# 네이버 검색 API예제는 블로그를 비롯 전문자료까지 호출방법이 동일하므로 blog검색만 대표로 예제를 올렸습니다.\n",
    "# 네이버 검색 Open API 예제 - 블로그 검색\n",
    "import os\n",
    "import sys\n",
    "import urllib.request\n",
    "\n",
    "client_id = \"H2_6lcavpVyHW8211rUq\"\n",
    "client_secret = \"D1XBjnKTe9\"\n",
    "\n",
    "encText = urllib.parse.quote(\"파이썬\")\n",
    "url = \"https://openapi.naver.com/v1/search/movie?query=\" + encText # json 결과\n",
    "# url = \"https://openapi.naver.com/v1/search/blog.xml?query=\" + encText # xml 결과\n",
    "request = urllib.request.Request(url)\n",
    "request.add_header(\"X-Naver-Client-Id\",client_id)\n",
    "request.add_header(\"X-Naver-Client-Secret\",client_secret)\n",
    "response = urllib.request.urlopen(request)\n",
    "rescode = response.getcode()\n",
    "if(rescode==200):\n",
    "    response_body = response.read()\n",
    "    print(response_body.decode('utf-8'))\n",
    "else:\n",
    "    print(\"Error Code:\" + rescode)"
   ]
  },
  {
   "cell_type": "markdown",
   "id": "96f58112",
   "metadata": {},
   "source": [
    "## 검색: 카페(cafearticle)"
   ]
  },
  {
   "cell_type": "code",
   "execution_count": 6,
   "id": "87e9ac82",
   "metadata": {},
   "outputs": [
    {
     "name": "stdout",
     "output_type": "stream",
     "text": [
      "{\n",
      "\"lastBuildDate\": \"Tue, 12 Apr 2022 12:56:13 +0900\",\n",
      "\"total\": 136698,\n",
      "\"start\": 1,\n",
      "\"display\": 10,\n",
      "\"items\": [\n",
      "{\n",
      "\"title\": \"이게진짜 <b>파이썬</b> EASY! // (출판사 책밥)\",\n",
      "\"link\": \"http://cafe.naver.com/culturebloom/1542580\",\n",
      "\"description\": \"이번 컬쳐블룸 도서체험단 리뷰에 당첨되어 이게진짜 <b>파이썬</b> EASY! 책을 체험할수 있게 되었습니다 다시한번 더 카페 운영자분들에게 감사드립니다 이게진짜 <b>파이썬</b>EASY! 는 비전공자 눈높이에 맞춰 쉽게 풀이한 <b>파이썬</b>... \",\n",
      "\"cafename\": \"컬처블룸★체험,리뷰,라이프,건강,맛집...\",\n",
      "\"cafeurl\": \"https://cafe.naver.com/culturebloom\"\n",
      "\n",
      "},\n",
      "{\n",
      "\"title\": \"<b>파이썬</b> 입문서 도전하기 - 이게 진짜 <b>파이썬</b>이지 (EASY!)\",\n",
      "\"link\": \"http://cafe.naver.com/culturebloom/1536443\",\n",
      "\"description\": \"<b>파이썬</b>에 도전하고자 이게 진짜 <b>파이썬</b>EASY!'라는 책을 넘겨보게 되었다. 알고보니 ‘이게 진짜 <b>파이썬</b>이지!’라는 의미도 가지고 있었던 2개의 의미를 갖는 신박한 제목되시겠다 비전공자의 눈높이에 맞게 쉽게... \",\n",
      "\"cafename\": \"컬처블룸★체험,리뷰,라이프,건강,맛집...\",\n",
      "\"cafeurl\": \"https://cafe.naver.com/culturebloom\"\n",
      "\n",
      "},\n",
      "{\n",
      "\"title\": \"초6이면 <b>파이썬</b>마스터 2급 가능한가요?\",\n",
      "\"link\": \"http://cafe.naver.com/forasteacher/170004\",\n",
      "\"description\": \"CDT 1급은 있는 학생입니다 이번에 <b>파이썬</b>마스터 수업 해보려고 하는데요~ 3급은 너무 쉽나요?(저도 아직 안해봐서 ㅠㅠ) 2급이나 1급 수업하면 될까요?\",\n",
      "\"cafename\": \"방세아.방과후.돌봄.공부방.유치원\",\n",
      "\"cafeurl\": \"https://cafe.naver.com/forasteacher\"\n",
      "\n",
      "},\n",
      "{\n",
      "\"title\": \"<b>파이썬</b>이란? 어느곳에 쓰이는 것인가요?\",\n",
      "\"link\": \"http://cafe.naver.com/cafec/397266\",\n",
      "\"description\": \"그런데 네트워크쪽에는 <b>파이썬</b>이 강하다라는 말이 있던데요.. <b>파이썬</b>이란게 윈도우 응용 프로그래밍쪽인가요? 아니면 임베디드처럼 라우터에다 빌드를 시켜 작동을 하도록 만드는 언어인지요? 현재 C#공부중에 있어서... \",\n",
      "\"cafename\": \"C언어를 배우자\",\n",
      "\"cafeurl\": \"https://cafe.naver.com/cafec\"\n",
      "\n",
      "},\n",
      "{\n",
      "\"title\": \"<b>파이썬</b> 변수 안에 어떤 값들이 있는지\",\n",
      "\"link\": \"http://cafe.naver.com/inmacbook/2532474\",\n",
      "\"description\": \"<b>파이썬</b> 이제 시작하는 사람입니다. list나 numpy array, pandas dataframe 안에 있는 변수들이 어떤 값들인지 확인하고 싶을 때에는 어떠한 명령어를 사용해야 하나요? 예를 들어서 1, 2, 3, 1, 2가 있을 때 1, 2, 3만... \",\n",
      "\"cafename\": \"맥 쓰는 사람들 [구 맥북을 쓰는 사람...\",\n",
      "\"cafeurl\": \"https://cafe.naver.com/inmacbook\"\n",
      "\n",
      "},\n",
      "{\n",
      "\"title\": \"<b>파이썬</b>, 빅데이터 우대이유\",\n",
      "\"link\": \"http://cafe.naver.com/letuin/242088\",\n",
      "\"description\": \"주변 사람들한테 공정기술에서 <b>파이썬</b> 많이 쓰이나요? 라고 물으면 전부 다 필요없다고 하는데 왜 공정기술에서 <b>파이썬</b> 실력자를 우대한다고 job description에 써있는거죠?\",\n",
      "\"cafename\": \"렛유인｜이공계취업-반도체공정교육,컨...\",\n",
      "\"cafeurl\": \"https://cafe.naver.com/letuin\"\n",
      "\n",
      "},\n",
      "{\n",
      "\"title\": \"<b>파이썬</b> 생노배 입문자 질문\",\n",
      "\"link\": \"http://cafe.naver.com/as6060/1389758\",\n",
      "\"description\": \"&lt;백신 후기글 외 코로나/백신/자가격리 관련 글 금지&gt; 안녕하세요 이번에 필수교양으로 컴프밍을 배우게됐는데 일주일에 두시간은 <b>파이썬</b>으로 문제풀고 실습하고 하더라구요 제가 프로그래밍에 관하여 문외한이고 <b>파이썬</b>... \",\n",
      "\"cafename\": \"맨체스터 유나이티드 - The Red Devil...\",\n",
      "\"cafeurl\": \"https://cafe.naver.com/as6060\"\n",
      "\n",
      "},\n",
      "{\n",
      "\"title\": \"고등 정보과목에서 <b>파이썬</b> 질문이에요\",\n",
      "\"link\": \"http://cafe.naver.com/mathall/2364640\",\n",
      "\"description\": \"1학년 과목 중 정보과목에 <b>파이썬</b>이 있길레 컴퓨터는 전혀 무지한 아이라 집근처 컴퓨터학원에서 C언어를 배우고있어요. 컴퓨터학원 선생님은 c언어를 배우면 <b>파이썬</b>이 쉽다고하는데 지금 굳이 c언어를 배우는게... \",\n",
      "\"cafename\": \"[상위1%카페] 대한민국 상위1% 교육정...\",\n",
      "\"cafeurl\": \"https://cafe.naver.com/mathall\"\n",
      "\n",
      "},\n",
      "{\n",
      "\"title\": \"<b>파이썬</b> data 병합 속도 관련 문의\",\n",
      "\"link\": \"http://cafe.naver.com/gogoomas/382314\",\n",
      "\"description\": \"<b>파이썬</b>으로 엑셀 자료 여러개를 병합하는 프로그램 코딩중입니다. 검색하여 대략 작성을 했으나 실행을 누르면 아래 보시는바와 같이 2677초가 소요됩니다. 200개 엑셀... \",\n",
      "\"cafename\": \"고구마S\",\n",
      "\"cafeurl\": \"https://cafe.naver.com/gogoomas\"\n",
      "\n",
      "},\n",
      "{\n",
      "\"title\": \"[서평] 책밥/이게 진짜 <b>파이썬</b> EASY!\",\n",
      "\"link\": \"http://cafe.naver.com/bookchildlove/1828804\",\n",
      "\"description\": \"[<b>파이썬</b> EASY!] 책에서는 <b>파이썬</b>에 대해서도 알려주지만 <b>파이썬</b>의 활용 부분을 중점적으로 설명해주고 있어요. 설치 부분도 역대급으로~~ 자세히 설명해주시네요. 설치 과정에서 컴퓨터의 운영체제도 어떻게... \",\n",
      "\"cafename\": \"●책세상 맘수다 체험단 공구카페(공구...\",\n",
      "\"cafeurl\": \"https://cafe.naver.com/bookchildlove\"\n",
      "\n",
      "}\n",
      "]\n",
      "}\n",
      "\n"
     ]
    }
   ],
   "source": [
    "# 네이버 검색 API예제는 블로그를 비롯 전문자료까지 호출방법이 동일하므로 blog검색만 대표로 예제를 올렸습니다.\n",
    "# 네이버 검색 Open API 예제 - 블로그 검색\n",
    "import os\n",
    "import sys\n",
    "import urllib.request\n",
    "\n",
    "client_id = \"H2_6lcavpVyHW8211rUq\"\n",
    "client_secret = \"D1XBjnKTe9\"\n",
    "\n",
    "encText = urllib.parse.quote(\"파이썬\")\n",
    "url = \"https://openapi.naver.com/v1/search/cafearticle?query=\" + encText # json 결과\n",
    "# url = \"https://openapi.naver.com/v1/search/blog.xml?query=\" + encText # xml 결과\n",
    "request = urllib.request.Request(url)\n",
    "request.add_header(\"X-Naver-Client-Id\",client_id)\n",
    "request.add_header(\"X-Naver-Client-Secret\",client_secret)\n",
    "response = urllib.request.urlopen(request)\n",
    "rescode = response.getcode()\n",
    "if(rescode==200):\n",
    "    response_body = response.read()\n",
    "    print(response_body.decode('utf-8'))\n",
    "else:\n",
    "    print(\"Error Code:\" + rescode)"
   ]
  },
  {
   "cell_type": "markdown",
   "id": "d4c70208",
   "metadata": {},
   "source": [
    "## 검색: 쇼핑(shop)"
   ]
  },
  {
   "cell_type": "code",
   "execution_count": 7,
   "id": "94c05741",
   "metadata": {},
   "outputs": [
    {
     "name": "stdout",
     "output_type": "stream",
     "text": [
      "{\n",
      "\"lastBuildDate\": \"Tue, 12 Apr 2022 12:56:15 +0900\",\n",
      "\"total\": 263135,\n",
      "\"start\": 1,\n",
      "\"display\": 10,\n",
      "\"items\": [\n",
      "{\n",
      "\"title\": \"혼자 공부하는 <b>파이썬</b> / 프로그래밍 언어 독학 책 교재\",\n",
      "\"link\": \"https://search.shopping.naver.com/gate.nhn?id=82065283309\",\n",
      "\"image\": \"https://shopping-phinf.pstatic.net/main_8206528/82065283309.jpg\",\n",
      "\"lprice\": \"16200\",\n",
      "\"hprice\": \"\",\n",
      "\"mallName\": \"북초이스\",\n",
      "\"productId\": \"82065283309\",\n",
      "\"productType\": \"2\",\n",
      "\"brand\": \"윤인성\",\n",
      "\"maker\": \"한빛미디어\",\n",
      "\"category1\": \"도서\",\n",
      "\"category2\": \"컴퓨터/IT\",\n",
      "\"category3\": \"프로그래밍 언어\",\n",
      "\"category4\": \"\"\n",
      "\n",
      "},\n",
      "{\n",
      "\"title\": \"(이지스퍼블리싱) do it! 점프 투 <b>파이썬</b> 책\",\n",
      "\"link\": \"https://search.shopping.naver.com/gate.nhn?id=31729168145\",\n",
      "\"image\": \"https://shopping-phinf.pstatic.net/main_3172916/31729168145.20220412012746.jpg\",\n",
      "\"lprice\": \"16920\",\n",
      "\"hprice\": \"\",\n",
      "\"mallName\": \"네이버\",\n",
      "\"productId\": \"31729168145\",\n",
      "\"productType\": \"1\",\n",
      "\"brand\": \"\",\n",
      "\"maker\": \"이지스퍼블리싱\",\n",
      "\"category1\": \"도서\",\n",
      "\"category2\": \"컴퓨터/IT\",\n",
      "\"category3\": \"프로그래밍 언어\",\n",
      "\"category4\": \"\"\n",
      "\n",
      "},\n",
      "{\n",
      "\"title\": \"데이터 과학을 위한 <b>파이썬</b> 프로그래밍\",\n",
      "\"link\": \"https://search.shopping.naver.com/gate.nhn?id=31694456792\",\n",
      "\"image\": \"https://shopping-phinf.pstatic.net/main_3169445/31694456792.20220409190328.jpg\",\n",
      "\"lprice\": \"21825\",\n",
      "\"hprice\": \"\",\n",
      "\"mallName\": \"네이버\",\n",
      "\"productId\": \"31694456792\",\n",
      "\"productType\": \"1\",\n",
      "\"brand\": \"\",\n",
      "\"maker\": \"한빛아카데미\",\n",
      "\"category1\": \"도서\",\n",
      "\"category2\": \"컴퓨터/IT\",\n",
      "\"category3\": \"프로그래밍 언어\",\n",
      "\"category4\": \"\"\n",
      "\n",
      "},\n",
      "{\n",
      "\"title\": \"한빛아카데미 데이터 과학을 위한 <b>파이썬</b> 프로그래밍\",\n",
      "\"link\": \"https://search.shopping.naver.com/gate.nhn?id=31692425442\",\n",
      "\"image\": \"https://shopping-phinf.pstatic.net/main_3169242/31692425442.20220409154515.jpg\",\n",
      "\"lprice\": \"25000\",\n",
      "\"hprice\": \"\",\n",
      "\"mallName\": \"네이버\",\n",
      "\"productId\": \"31692425442\",\n",
      "\"productType\": \"1\",\n",
      "\"brand\": \"\",\n",
      "\"maker\": \"\",\n",
      "\"category1\": \"도서\",\n",
      "\"category2\": \"컴퓨터/IT\",\n",
      "\"category3\": \"프로그래밍 언어\",\n",
      "\"category4\": \"\"\n",
      "\n",
      "},\n",
      "{\n",
      "\"title\": \"게임으로 배우는 <b>파이썬</b>\",\n",
      "\"link\": \"https://search.shopping.naver.com/gate.nhn?id=31725685549\",\n",
      "\"image\": \"https://shopping-phinf.pstatic.net/main_3172568/31725685549.20220411182129.jpg\",\n",
      "\"lprice\": \"15300\",\n",
      "\"hprice\": \"\",\n",
      "\"mallName\": \"네이버\",\n",
      "\"productId\": \"31725685549\",\n",
      "\"productType\": \"1\",\n",
      "\"brand\": \"\",\n",
      "\"maker\": \"\",\n",
      "\"category1\": \"도서\",\n",
      "\"category2\": \"컴퓨터/IT\",\n",
      "\"category3\": \"프로그래밍 언어\",\n",
      "\"category4\": \"\"\n",
      "\n",
      "},\n",
      "{\n",
      "\"title\": \"[이노플리아] 이것이 취업을 위한 코딩 테스트다 with <b>파이썬</b>\",\n",
      "\"link\": \"https://search.shopping.naver.com/gate.nhn?id=31722976801\",\n",
      "\"image\": \"https://shopping-phinf.pstatic.net/main_3172297/31722976801.20220411153246.jpg\",\n",
      "\"lprice\": \"30600\",\n",
      "\"hprice\": \"\",\n",
      "\"mallName\": \"네이버\",\n",
      "\"productId\": \"31722976801\",\n",
      "\"productType\": \"1\",\n",
      "\"brand\": \"\",\n",
      "\"maker\": \"한빛미디어\",\n",
      "\"category1\": \"도서\",\n",
      "\"category2\": \"컴퓨터/IT\",\n",
      "\"category3\": \"프로그래밍 언어\",\n",
      "\"category4\": \"\"\n",
      "\n",
      "},\n",
      "{\n",
      "\"title\": \"처음 만나는 ai 수학 with <b>파이썬</b>\",\n",
      "\"link\": \"https://search.shopping.naver.com/gate.nhn?id=31726695126\",\n",
      "\"image\": \"https://shopping-phinf.pstatic.net/main_3172669/31726695126.20220411191448.jpg\",\n",
      "\"lprice\": \"18820\",\n",
      "\"hprice\": \"\",\n",
      "\"mallName\": \"네이버\",\n",
      "\"productId\": \"31726695126\",\n",
      "\"productType\": \"1\",\n",
      "\"brand\": \"\",\n",
      "\"maker\": \"\",\n",
      "\"category1\": \"도서\",\n",
      "\"category2\": \"컴퓨터/IT\",\n",
      "\"category3\": \"프로그래밍 언어\",\n",
      "\"category4\": \"\"\n",
      "\n",
      "},\n",
      "{\n",
      "\"title\": \"모두의 라즈베리파이 with <b>파이썬</b> 책 도서 /길벗\",\n",
      "\"link\": \"https://search.shopping.naver.com/gate.nhn?id=31728947271\",\n",
      "\"image\": \"https://shopping-phinf.pstatic.net/main_3172894/31728947271.20220412003304.jpg\",\n",
      "\"lprice\": \"23400\",\n",
      "\"hprice\": \"\",\n",
      "\"mallName\": \"네이버\",\n",
      "\"productId\": \"31728947271\",\n",
      "\"productType\": \"1\",\n",
      "\"brand\": \"\",\n",
      "\"maker\": \"길벗\",\n",
      "\"category1\": \"도서\",\n",
      "\"category2\": \"컴퓨터/IT\",\n",
      "\"category3\": \"프로그래밍 언어\",\n",
      "\"category4\": \"\"\n",
      "\n",
      "},\n",
      "{\n",
      "\"title\": \"문제해결을 위한 컴퓨팅 사고와 <b>파이썬</b> 책 (한빛아카데미)\",\n",
      "\"link\": \"https://search.shopping.naver.com/gate.nhn?id=31728618953\",\n",
      "\"image\": \"https://shopping-phinf.pstatic.net/main_3172861/31728618953.20220411223658.jpg\",\n",
      "\"lprice\": \"22800\",\n",
      "\"hprice\": \"\",\n",
      "\"mallName\": \"네이버\",\n",
      "\"productId\": \"31728618953\",\n",
      "\"productType\": \"1\",\n",
      "\"brand\": \"\",\n",
      "\"maker\": \"한빛아카데미\",\n",
      "\"category1\": \"도서\",\n",
      "\"category2\": \"컴퓨터/IT\",\n",
      "\"category3\": \"프로그래밍 언어\",\n",
      "\"category4\": \"\"\n",
      "\n",
      "},\n",
      "{\n",
      "\"title\": \"<b>파이썬</b> 자료구조와 알고리즘 for beginner\",\n",
      "\"link\": \"https://search.shopping.naver.com/gate.nhn?id=31696060729\",\n",
      "\"image\": \"https://shopping-phinf.pstatic.net/main_3169606/31696060729.20220410002818.jpg\",\n",
      "\"lprice\": \"23580\",\n",
      "\"hprice\": \"\",\n",
      "\"mallName\": \"네이버\",\n",
      "\"productId\": \"31696060729\",\n",
      "\"productType\": \"1\",\n",
      "\"brand\": \"\",\n",
      "\"maker\": \"한빛아카데미\",\n",
      "\"category1\": \"도서\",\n",
      "\"category2\": \"컴퓨터/IT\",\n",
      "\"category3\": \"프로그래밍 언어\",\n",
      "\"category4\": \"\"\n",
      "\n",
      "}\n",
      "]\n",
      "}\n",
      "\n"
     ]
    }
   ],
   "source": [
    "# 네이버 검색 API예제는 블로그를 비롯 전문자료까지 호출방법이 동일하므로 blog검색만 대표로 예제를 올렸습니다.\n",
    "# 네이버 검색 Open API 예제 - 블로그 검색\n",
    "import os\n",
    "import sys\n",
    "import urllib.request\n",
    "\n",
    "client_id = \"H2_6lcavpVyHW8211rUq\"\n",
    "client_secret = \"D1XBjnKTe9\"\n",
    "\n",
    "encText = urllib.parse.quote(\"파이썬\")\n",
    "url = \"https://openapi.naver.com/v1/search/shop?query=\" + encText # json 결과\n",
    "# url = \"https://openapi.naver.com/v1/search/blog.xml?query=\" + encText # xml 결과\n",
    "request = urllib.request.Request(url)\n",
    "request.add_header(\"X-Naver-Client-Id\",client_id)\n",
    "request.add_header(\"X-Naver-Client-Secret\",client_secret)\n",
    "response = urllib.request.urlopen(request)\n",
    "rescode = response.getcode()\n",
    "if(rescode==200):\n",
    "    response_body = response.read()\n",
    "    print(response_body.decode('utf-8'))\n",
    "else:\n",
    "    print(\"Error Code:\" + rescode)"
   ]
  },
  {
   "cell_type": "code",
   "execution_count": null,
   "id": "6f079752",
   "metadata": {},
   "outputs": [],
   "source": []
  },
  {
   "cell_type": "markdown",
   "id": "a97a4718",
   "metadata": {},
   "source": [
    "## 검색: 백과사전(encyc)"
   ]
  },
  {
   "cell_type": "code",
   "execution_count": 8,
   "id": "6222766f",
   "metadata": {},
   "outputs": [
    {
     "name": "stdout",
     "output_type": "stream",
     "text": [
      "{\n",
      "\"lastBuildDate\": \"Tue, 12 Apr 2022 12:56:17 +0900\",\n",
      "\"total\": 446,\n",
      "\"start\": 1,\n",
      "\"display\": 10,\n",
      "\"items\": [\n",
      "{\n",
      "\"title\": \"<b>파이썬</b>\",\n",
      "\"link\": \"https://terms.naver.com/entry.naver?docId=3580815&cid=59088&categoryId=59096\",\n",
      "\"description\": \"‘<b>파이썬</b>’이다. 간결한 문법으로 입문자가 이해하기 쉽고, 다양한 분야에 활용할 수 있기 때문이다. 이 외에도 <b>파이썬</b>은 머신러닝, 그래픽, 웹 개발 등 여러 업계에서 선호하는 언어로 꾸준히... \",\n",
      "\"thumbnail\": \"http://openapi-dbscthumb.phinf.naver.net/4749_000_1/20170118193349632_0CHSSS5Y6.png/01_16.png?type=m160_160\"\n",
      "\n",
      "},\n",
      "{\n",
      "\"title\": \"<b>파이썬</b>\",\n",
      "\"link\": \"https://terms.naver.com/entry.naver?docId=3607513&cid=58598&categoryId=59316\",\n",
      "\"description\": \" 컴퓨터 언어의 일종으로 간결하고 생산성 높은 프로그래밍 언어.  <b>파이썬</b>(python)은 프로그램을 설계하는 프로그래밍 언어 중 하나입니다. 컴퓨터는 0과 1을(이진수) 인식하여 작동하기 때문에 과거에는... \",\n",
      "\"thumbnail\": \"http://openapi-dbscthumb.phinf.naver.net/4751_000_3/20170710213206672_OPHLG2VOW.jpg/992_170575_10034.jpg?type=m160_160\"\n",
      "\n",
      "},\n",
      "{\n",
      "\"title\": \"<b>파이썬</b>\",\n",
      "\"link\": \"https://terms.naver.com/entry.naver?docId=3533295&cid=40942&categoryId=32838\",\n",
      "\"description\": \" 오픈소스 고급 프로그래밍 언어 중 하나이다.  C언어를 기반으로 한 오픈소스 고급 프로그래밍 언어로, 1991년 귀도 반 로섬(Guido van Rossum)에 의해 설계 및 개발되었다. <b>파이썬</b>이라는 이름은 <b>파이썬</b>을... \",\n",
      "\"thumbnail\": \"\"\n",
      "\n",
      "},\n",
      "{\n",
      "\"title\": \"<b>파이썬</b>\",\n",
      "\"link\": \"https://ko.wikipedia.org/wiki/%ED%8C%8C%EC%9D%B4%EC%8D%AC\",\n",
      "\"description\": \"<b>파이썬</b> ( 영어: Python )은 1991년 네덜란드계 프로그래머인 귀도 반 로섬이 발표한 고급 프로그래밍 언어로, 플랫폼에 독립적이며 인터프리터식, 객체지향적, 동적 타이핑(dynamically typed) 대화형... \",\n",
      "\"thumbnail\": \"\"\n",
      "\n",
      "},\n",
      "{\n",
      "\"title\": \"C<b>파이썬</b>\",\n",
      "\"link\": \"https://ko.wikipedia.org/wiki/C%ED%8C%8C%EC%9D%B4%EC%8D%AC\",\n",
      "\"description\": \"C<b>파이썬</b> (CPython)은 <b>파이썬</b> 프로그래밍 언어의 참조 구현체이다. C와 <b>파이썬</b>으로 작성된 C<b>파이썬</b>은 이 언어에 가장 널리 사용되는 기본 구현체이다. C<b>파이썬</b>은 인터프리트 과정 이전에 <b>파이썬</b> 코드를... \",\n",
      "\"thumbnail\": \"\"\n",
      "\n",
      "},\n",
      "{\n",
      "\"title\": \"바이오<b>파이썬</b>\",\n",
      "\"link\": \"https://ko.wikipedia.org/wiki/%EB%B0%94%EC%9D%B4%EC%98%A4%ED%8C%8C%EC%9D%B4%EC%8D%AC\",\n",
      "\"description\": \"바이오<b>파이썬</b> (Biopython) 프로젝트는 분자생물학 계산에 자유롭게 사용하기 위한 <b>파이썬</b> 라이브러리 구축 프로젝트이다. 같이 보기 바이오자바 바이오펄 외부 링크 biopython.org\",\n",
      "\"thumbnail\": \"\"\n",
      "\n",
      "},\n",
      "{\n",
      "\"title\": \"<b>파이썬</b>의 역사\",\n",
      "\"link\": \"https://ko.wikipedia.org/wiki/%ED%8C%8C%EC%9D%B4%EC%8D%AC%EC%9D%98_%EC%97%AD%EC%82%AC\",\n",
      "\"description\": \"프로그래밍 언어 <b>파이썬</b>은 1980년대 말에 구상되었으며 그 구현체는 1989년 12월 예외 처리가 가능하고 아메바 운영 체제와 통신이 가능한 ABC의 후속 프로그래밍 언어로서 CWI(Centrum Wiskunde... \",\n",
      "\"thumbnail\": \"\"\n",
      "\n",
      "},\n",
      "{\n",
      "\"title\": \"아나콘다 (<b>파이썬</b> 배포판)\",\n",
      "\"link\": \"https://ko.wikipedia.org/wiki/%EC%95%84%EB%82%98%EC%BD%98%EB%8B%A4_(%ED%8C%8C%EC%9D%B4%EC%8D%AC_%EB%B0%B0%ED%8F%AC%ED%8C%90)\",\n",
      "\"description\": \"아나콘다 (Anaconda)는 패키지 관리와 디플로이를 단순케 할 목적으로 과학 계산(데이터 과학, 기계 학습 애플리케이션, 대규모 데이터 처리, 예측 분석 등)을 위한 <b>파이썬</b>과 R 프로그래밍 언어의 자유... \",\n",
      "\"thumbnail\": \"\"\n",
      "\n",
      "},\n",
      "{\n",
      "\"title\": \"<b>파이썬</b> 소프트웨어 재단\",\n",
      "\"link\": \"https://ko.wikipedia.org/wiki/%ED%8C%8C%EC%9D%B4%EC%8D%AC_%EC%86%8C%ED%94%84%ED%8A%B8%EC%9B%A8%EC%96%B4_%EC%9E%AC%EB%8B%A8\",\n",
      "\"description\": \"<b>파이썬</b> 소프트웨어 재단 (Python Software Foundation, PSF)은 <b>파이썬</b> 프로그래밍 언어에 헌신하는 비영리 단체로서, 2001년 3월 6일 런칭했다. 이 단체의 임무는 <b>파이썬</b> 공동체의 개발을 발전시키고... \",\n",
      "\"thumbnail\": \"\"\n",
      "\n",
      "},\n",
      "{\n",
      "\"title\": \"자이썬\",\n",
      "\"link\": \"https://ko.wikipedia.org/wiki/%EC%9E%90%EC%9D%B4%EC%8D%AC\",\n",
      "\"description\": \"자이썬 ( Jython )은 <b>파이썬</b>의 자바 구현으로, Jim Hugunin에 의해 처음으로 만들어졌다. 처음에는 <b>파이썬</b> 표준 구현의 이름(CPython)을 따라 JPython 라는 이름을 썼다. 자이썬은 자바 언어로만 작성되었기... \",\n",
      "\"thumbnail\": \"\"\n",
      "\n",
      "}\n",
      "]\n",
      "}\n",
      "\n"
     ]
    }
   ],
   "source": [
    "# 네이버 검색 API예제는 블로그를 비롯 전문자료까지 호출방법이 동일하므로 blog검색만 대표로 예제를 올렸습니다.\n",
    "# 네이버 검색 Open API 예제 - 블로그 검색\n",
    "import os\n",
    "import sys\n",
    "import urllib.request\n",
    "\n",
    "client_id = \"H2_6lcavpVyHW8211rUq\"\n",
    "client_secret = \"D1XBjnKTe9\"\n",
    "\n",
    "encText = urllib.parse.quote(\"파이썬\")\n",
    "url = \"https://openapi.naver.com/v1/search/encyc?query=\" + encText # json 결과\n",
    "# url = \"https://openapi.naver.com/v1/search/blog.xml?query=\" + encText # xml 결과\n",
    "request = urllib.request.Request(url)\n",
    "request.add_header(\"X-Naver-Client-Id\",client_id)\n",
    "request.add_header(\"X-Naver-Client-Secret\",client_secret)\n",
    "response = urllib.request.urlopen(request)\n",
    "rescode = response.getcode()\n",
    "if(rescode==200):\n",
    "    response_body = response.read()\n",
    "    print(response_body.decode('utf-8'))\n",
    "else:\n",
    "    print(\"Error Code:\" + rescode)"
   ]
  },
  {
   "cell_type": "markdown",
   "id": "63e453c1",
   "metadata": {},
   "source": [
    "## 3. 상품 검색 \n",
    "- \"몰스킨\""
   ]
  },
  {
   "cell_type": "code",
   "execution_count": 9,
   "id": "dd63668d",
   "metadata": {},
   "outputs": [
    {
     "name": "stdout",
     "output_type": "stream",
     "text": [
      "{\n",
      "\"lastBuildDate\": \"Tue, 12 Apr 2022 12:56:18 +0900\",\n",
      "\"total\": 25764,\n",
      "\"start\": 1,\n",
      "\"display\": 10,\n",
      "\"items\": [\n",
      "{\n",
      "\"title\": \"21FW 라이크라 <b>몰스킨</b> 팬츠 3종\",\n",
      "\"link\": \"https://search.shopping.naver.com/gate.nhn?id=28831203586\",\n",
      "\"image\": \"https://shopping-phinf.pstatic.net/main_2883120/28831203586.20220103015940.jpg\",\n",
      "\"lprice\": \"38130\",\n",
      "\"hprice\": \"\",\n",
      "\"mallName\": \"네이버\",\n",
      "\"productId\": \"28831203586\",\n",
      "\"productType\": \"1\",\n",
      "\"brand\": \"\",\n",
      "\"maker\": \"\",\n",
      "\"category1\": \"패션의류\",\n",
      "\"category2\": \"남성의류\",\n",
      "\"category3\": \"바지\",\n",
      "\"category4\": \"\"\n",
      "\n",
      "},\n",
      "{\n",
      "\"title\": \"르몽생미셸 지니언 워크자켓 블루 <b>몰스킨</b> 프렌치 워크자켓\",\n",
      "\"link\": \"https://search.shopping.naver.com/gate.nhn?id=83453383930\",\n",
      "\"image\": \"https://shopping-phinf.pstatic.net/main_8345338/83453383930.jpg\",\n",
      "\"lprice\": \"332000\",\n",
      "\"hprice\": \"\",\n",
      "\"mallName\": \"스프링스트릿 마켓\",\n",
      "\"productId\": \"83453383930\",\n",
      "\"productType\": \"2\",\n",
      "\"brand\": \"\",\n",
      "\"maker\": \"\",\n",
      "\"category1\": \"패션의류\",\n",
      "\"category2\": \"남성의류\",\n",
      "\"category3\": \"재킷\",\n",
      "\"category4\": \"\"\n",
      "\n",
      "},\n",
      "{\n",
      "\"title\": \"<b>몰스킨</b> <b>몰스킨</b> 무료각인 룰드 노트 익스팬디드 소프트 라지 -블랙\",\n",
      "\"link\": \"https://search.shopping.naver.com/gate.nhn?id=29051050229\",\n",
      "\"image\": \"https://shopping-phinf.pstatic.net/main_2905105/29051050229.20211001010311.jpg\",\n",
      "\"lprice\": \"16570\",\n",
      "\"hprice\": \"\",\n",
      "\"mallName\": \"네이버\",\n",
      "\"productId\": \"29051050229\",\n",
      "\"productType\": \"1\",\n",
      "\"brand\": \"\",\n",
      "\"maker\": \"몰스킨\",\n",
      "\"category1\": \"생활/건강\",\n",
      "\"category2\": \"문구/사무용품\",\n",
      "\"category3\": \"노트/수첩\",\n",
      "\"category4\": \"노트\"\n",
      "\n",
      "},\n",
      "{\n",
      "\"title\": \"<b>몰스킨</b> 클래식 노트 소프트커버 도트 포켓 머틀그린\",\n",
      "\"link\": \"https://search.shopping.naver.com/gate.nhn?id=24014924801\",\n",
      "\"image\": \"https://shopping-phinf.pstatic.net/main_2401492/24014924801.20200903021703.jpg\",\n",
      "\"lprice\": \"19400\",\n",
      "\"hprice\": \"\",\n",
      "\"mallName\": \"네이버\",\n",
      "\"productId\": \"24014924801\",\n",
      "\"productType\": \"1\",\n",
      "\"brand\": \"몰스킨\",\n",
      "\"maker\": \"몰스킨\",\n",
      "\"category1\": \"생활/건강\",\n",
      "\"category2\": \"문구/사무용품\",\n",
      "\"category3\": \"노트/수첩\",\n",
      "\"category4\": \"노트\"\n",
      "\n",
      "},\n",
      "{\n",
      "\"title\": \"<b>몰스킨</b> 무료각인 룰드 노트 하드 포켓 -머틀그린\",\n",
      "\"link\": \"https://search.shopping.naver.com/gate.nhn?id=24075358671\",\n",
      "\"image\": \"https://shopping-phinf.pstatic.net/main_2407535/24075358671.20200908032927.jpg\",\n",
      "\"lprice\": \"17310\",\n",
      "\"hprice\": \"\",\n",
      "\"mallName\": \"네이버\",\n",
      "\"productId\": \"24075358671\",\n",
      "\"productType\": \"1\",\n",
      "\"brand\": \"\",\n",
      "\"maker\": \"몰스킨\",\n",
      "\"category1\": \"생활/건강\",\n",
      "\"category2\": \"문구/사무용품\",\n",
      "\"category3\": \"다이어리/플래너\",\n",
      "\"category4\": \"다이어리\"\n",
      "\n",
      "},\n",
      "{\n",
      "\"title\": \"3051 시리즈 간절기 남성 그레이컬러 어번 <b>몰스킨</b> 프린트 자켓\",\n",
      "\"link\": \"https://search.shopping.naver.com/gate.nhn?id=31250592590\",\n",
      "\"image\": \"https://shopping-phinf.pstatic.net/main_3125059/31250592590.20220310224220.jpg\",\n",
      "\"lprice\": \"119000\",\n",
      "\"hprice\": \"\",\n",
      "\"mallName\": \"네이버\",\n",
      "\"productId\": \"31250592590\",\n",
      "\"productType\": \"1\",\n",
      "\"brand\": \"시리즈\",\n",
      "\"maker\": \"코오롱인더스트리\",\n",
      "\"category1\": \"패션의류\",\n",
      "\"category2\": \"남성의류\",\n",
      "\"category3\": \"재킷\",\n",
      "\"category4\": \"\"\n",
      "\n",
      "},\n",
      "{\n",
      "\"title\": \"<b>몰스킨</b> 다이어리 수첩 데일리 위클리 파인그린 레몬옐로우 룰드\",\n",
      "\"link\": \"https://search.shopping.naver.com/gate.nhn?id=29246808093\",\n",
      "\"image\": \"https://shopping-phinf.pstatic.net/main_2924680/29246808093.20211015235402.jpg\",\n",
      "\"lprice\": \"9300\",\n",
      "\"hprice\": \"\",\n",
      "\"mallName\": \"네이버\",\n",
      "\"productId\": \"29246808093\",\n",
      "\"productType\": \"1\",\n",
      "\"brand\": \"\",\n",
      "\"maker\": \"몰스킨\",\n",
      "\"category1\": \"생활/건강\",\n",
      "\"category2\": \"문구/사무용품\",\n",
      "\"category3\": \"다이어리/플래너\",\n",
      "\"category4\": \"다이어리\"\n",
      "\n",
      "},\n",
      "{\n",
      "\"title\": \"<b>몰스킨</b> 클래식노트 익스팬디드 소프트커버 사파이어블루\",\n",
      "\"link\": \"https://search.shopping.naver.com/gate.nhn?id=26369214932\",\n",
      "\"image\": \"https://shopping-phinf.pstatic.net/main_2636921/26369214932.20210315185812.jpg\",\n",
      "\"lprice\": \"19220\",\n",
      "\"hprice\": \"\",\n",
      "\"mallName\": \"네이버\",\n",
      "\"productId\": \"26369214932\",\n",
      "\"productType\": \"1\",\n",
      "\"brand\": \"몰스킨\",\n",
      "\"maker\": \"몰스킨\",\n",
      "\"category1\": \"생활/건강\",\n",
      "\"category2\": \"문구/사무용품\",\n",
      "\"category3\": \"노트/수첩\",\n",
      "\"category4\": \"노트\"\n",
      "\n",
      "},\n",
      "{\n",
      "\"title\": \"<b>몰스킨</b> 2022년 먼슬리 다이어리 하드 포켓\",\n",
      "\"link\": \"https://search.shopping.naver.com/gate.nhn?id=30298725968\",\n",
      "\"image\": \"https://shopping-phinf.pstatic.net/main_3029872/30298725968.20211226021048.jpg\",\n",
      "\"lprice\": \"22440\",\n",
      "\"hprice\": \"\",\n",
      "\"mallName\": \"네이버\",\n",
      "\"productId\": \"30298725968\",\n",
      "\"productType\": \"1\",\n",
      "\"brand\": \"\",\n",
      "\"maker\": \"\",\n",
      "\"category1\": \"생활/건강\",\n",
      "\"category2\": \"문구/사무용품\",\n",
      "\"category3\": \"다이어리/플래너\",\n",
      "\"category4\": \"다이어리\"\n",
      "\n",
      "},\n",
      "{\n",
      "\"title\": \"<b>몰스킨</b> <b>몰스킨</b> 2022 위클리 12개월 다이어리 소프트커버 포켓 (4색상)\",\n",
      "\"link\": \"https://search.shopping.naver.com/gate.nhn?id=30631041598\",\n",
      "\"image\": \"https://shopping-phinf.pstatic.net/main_3063104/30631041598.2.jpg\",\n",
      "\"lprice\": \"26800\",\n",
      "\"hprice\": \"\",\n",
      "\"mallName\": \"1300K\",\n",
      "\"productId\": \"30631041598\",\n",
      "\"productType\": \"2\",\n",
      "\"brand\": \"몰스킨\",\n",
      "\"maker\": \"몰스킨\",\n",
      "\"category1\": \"생활/건강\",\n",
      "\"category2\": \"문구/사무용품\",\n",
      "\"category3\": \"다이어리/플래너\",\n",
      "\"category4\": \"다이어리\"\n",
      "\n",
      "}\n",
      "]\n",
      "}\n",
      "\n"
     ]
    }
   ],
   "source": [
    "# 네이버 검색 API예제는 블로그를 비롯 전문자료까지 호출방법이 동일하므로 blog검색만 대표로 예제를 올렸습니다.\n",
    "# 네이버 검색 Open API 예제 - 블로그 검색\n",
    "import os\n",
    "import sys\n",
    "import urllib.request\n",
    "\n",
    "client_id = \"H2_6lcavpVyHW8211rUq\"\n",
    "client_secret = \"D1XBjnKTe9\"\n",
    "\n",
    "encText = urllib.parse.quote(\"몰스킨\")\n",
    "url = \"https://openapi.naver.com/v1/search/shop?query=\" + encText # json 결과\n",
    "# url = \"https://openapi.naver.com/v1/search/blog.xml?query=\" + encText # xml 결과\n",
    "request = urllib.request.Request(url)\n",
    "request.add_header(\"X-Naver-Client-Id\",client_id)\n",
    "request.add_header(\"X-Naver-Client-Secret\",client_secret)\n",
    "response = urllib.request.urlopen(request)\n",
    "rescode = response.getcode()\n",
    "if(rescode==200):\n",
    "    response_body = response.read()\n",
    "    print(response_body.decode('utf-8'))\n",
    "else:\n",
    "    print(\"Error Code:\" + rescode)"
   ]
  },
  {
   "cell_type": "code",
   "execution_count": 10,
   "id": "ffa28c2b",
   "metadata": {},
   "outputs": [
    {
     "ename": "FileNotFoundError",
     "evalue": "[Errno 2] No such file or directory: '../data/06. molskin plan.png'",
     "output_type": "error",
     "traceback": [
      "\u001b[1;31m---------------------------------------------------------------------------\u001b[0m",
      "\u001b[1;31mFileNotFoundError\u001b[0m                         Traceback (most recent call last)",
      "Input \u001b[1;32mIn [10]\u001b[0m, in \u001b[0;36m<cell line: 2>\u001b[1;34m()\u001b[0m\n\u001b[0;32m      1\u001b[0m \u001b[38;5;28;01mfrom\u001b[39;00m \u001b[38;5;21;01mPIL\u001b[39;00m \u001b[38;5;28;01mimport\u001b[39;00m Image\n\u001b[1;32m----> 2\u001b[0m \u001b[43mImage\u001b[49m\u001b[38;5;241;43m.\u001b[39;49m\u001b[43mopen\u001b[49m\u001b[43m(\u001b[49m\u001b[38;5;124;43m\"\u001b[39;49m\u001b[38;5;124;43m../data/06. molskin plan.png\u001b[39;49m\u001b[38;5;124;43m\"\u001b[39;49m\u001b[43m)\u001b[49m\n",
      "File \u001b[1;32mC:\\Anaconda3\\envs\\ds_study\\lib\\site-packages\\PIL\\Image.py:2953\u001b[0m, in \u001b[0;36mopen\u001b[1;34m(fp, mode, formats)\u001b[0m\n\u001b[0;32m   2950\u001b[0m     filename \u001b[38;5;241m=\u001b[39m fp\n\u001b[0;32m   2952\u001b[0m \u001b[38;5;28;01mif\u001b[39;00m filename:\n\u001b[1;32m-> 2953\u001b[0m     fp \u001b[38;5;241m=\u001b[39m \u001b[43mbuiltins\u001b[49m\u001b[38;5;241;43m.\u001b[39;49m\u001b[43mopen\u001b[49m\u001b[43m(\u001b[49m\u001b[43mfilename\u001b[49m\u001b[43m,\u001b[49m\u001b[43m \u001b[49m\u001b[38;5;124;43m\"\u001b[39;49m\u001b[38;5;124;43mrb\u001b[39;49m\u001b[38;5;124;43m\"\u001b[39;49m\u001b[43m)\u001b[49m\n\u001b[0;32m   2954\u001b[0m     exclusive_fp \u001b[38;5;241m=\u001b[39m \u001b[38;5;28;01mTrue\u001b[39;00m\n\u001b[0;32m   2956\u001b[0m \u001b[38;5;28;01mtry\u001b[39;00m:\n",
      "\u001b[1;31mFileNotFoundError\u001b[0m: [Errno 2] No such file or directory: '../data/06. molskin plan.png'"
     ]
    }
   ],
   "source": [
    "from PIL import Image\n",
    "Image.open(\"../data/06. molskin plan.png\")"
   ]
  },
  {
   "cell_type": "markdown",
   "id": "4fbb8297",
   "metadata": {},
   "source": [
    "## (1) gen_search_url()"
   ]
  },
  {
   "cell_type": "markdown",
   "id": "2561cee5",
   "metadata": {},
   "source": [
    "```\n",
    "encText = urllib.parse.quote(\"몰스킨\")\n",
    "url = \"https://openapi.naver.com/v1/search/shop?query=\" + encText # json 결과\n",
    "```"
   ]
  },
  {
   "cell_type": "code",
   "execution_count": 11,
   "id": "513a2dfe",
   "metadata": {},
   "outputs": [],
   "source": [
    "def gen_search_url(api_node, search_text, start_num, disp_num):\n",
    "    base = \"https://openapi.naver.com/v1/search\"\n",
    "    node = \"/\" + api_node + \".json\"\n",
    "    param_query = \"?query=\" + urllib.parse.quote(search_text)\n",
    "    param_start = \"&start=\" + str(start_num)\n",
    "    param_disp = \"&display=\" + str(disp_num)\n",
    "    \n",
    "    return base + node + param_query + param_start + param_disp"
   ]
  },
  {
   "cell_type": "code",
   "execution_count": 12,
   "id": "55e454b1",
   "metadata": {},
   "outputs": [
    {
     "data": {
      "text/plain": [
       "'https://openapi.naver.com/v1/search/shop.json?query=TEST&start=10&display=3'"
      ]
     },
     "execution_count": 12,
     "metadata": {},
     "output_type": "execute_result"
    }
   ],
   "source": [
    "gen_search_url(\"shop\", \"TEST\", 10, 3)"
   ]
  },
  {
   "cell_type": "markdown",
   "id": "4bcd3994",
   "metadata": {},
   "source": [
    "## (2) get_result_onepage()"
   ]
  },
  {
   "cell_type": "code",
   "execution_count": 13,
   "id": "5cdaf6ac",
   "metadata": {},
   "outputs": [],
   "source": [
    "import json \n",
    "import datetime \n",
    "\n",
    "def get_result_onpage(url):\n",
    "    request = urllib.request.Request(url)\n",
    "    request.add_header(\"X-Naver-Client-Id\", client_id)\n",
    "    request.add_header(\"X-Naver-Client-Secret\", client_secret)\n",
    "    response = urllib.request.urlopen(request)\n",
    "    print(\"[%s] Url Request Success\" % datetime.datetime.now())\n",
    "    return json.loads(response.read().decode(\"utf-8\"))"
   ]
  },
  {
   "cell_type": "code",
   "execution_count": 14,
   "id": "4f22e789",
   "metadata": {},
   "outputs": [
    {
     "data": {
      "text/plain": [
       "datetime.datetime(2022, 4, 12, 12, 56, 45, 303396)"
      ]
     },
     "execution_count": 14,
     "metadata": {},
     "output_type": "execute_result"
    }
   ],
   "source": [
    "datetime.datetime.now()"
   ]
  },
  {
   "cell_type": "code",
   "execution_count": 15,
   "id": "1ab45ed5",
   "metadata": {},
   "outputs": [
    {
     "name": "stdout",
     "output_type": "stream",
     "text": [
      "[2022-04-12 12:56:46.355379] Url Request Success\n"
     ]
    }
   ],
   "source": [
    "url = gen_search_url(\"shop\", \"몰스킨\", 1, 5)\n",
    "one_result = get_result_onpage(url)"
   ]
  },
  {
   "cell_type": "code",
   "execution_count": 117,
   "id": "a1aa2f29",
   "metadata": {},
   "outputs": [
    {
     "data": {
      "text/plain": [
       "{'lastBuildDate': 'Thu, 30 Sep 2021 04:54:19 +0900',\n",
       " 'total': 28313,\n",
       " 'start': 1,\n",
       " 'display': 5,\n",
       " 'items': [{'title': '한정판 <b>몰스킨</b> 2022 해리포터 데일리 다이어리 포캣',\n",
       "   'link': 'https://search.shopping.naver.com/gate.nhn?id=28719894754',\n",
       "   'image': 'https://shopping-phinf.pstatic.net/main_2871989/28719894754.20210906035419.jpg',\n",
       "   'lprice': '31700',\n",
       "   'hprice': '',\n",
       "   'mallName': '네이버',\n",
       "   'productId': '28719894754',\n",
       "   'productType': '1',\n",
       "   'brand': '몰스킨',\n",
       "   'maker': '몰스킨',\n",
       "   'category1': '생활/건강',\n",
       "   'category2': '문구/사무용품',\n",
       "   'category3': '다이어리/플래너',\n",
       "   'category4': '다이어리'},\n",
       "  {'title': '<b>몰스킨</b> 클래식노트 플레인 하드 L',\n",
       "   'link': 'https://search.shopping.naver.com/gate.nhn?id=24031381534',\n",
       "   'image': 'https://shopping-phinf.pstatic.net/main_2403138/24031381534.20200904012957.jpg',\n",
       "   'lprice': '15330',\n",
       "   'hprice': '',\n",
       "   'mallName': '네이버',\n",
       "   'productId': '24031381534',\n",
       "   'productType': '1',\n",
       "   'brand': '몰스킨',\n",
       "   'maker': '몰스킨',\n",
       "   'category1': '생활/건강',\n",
       "   'category2': '문구/사무용품',\n",
       "   'category3': '노트/수첩',\n",
       "   'category4': '노트'},\n",
       "  {'title': '<b>몰스킨</b> 클래식 노트 소프트커버 도트 포켓 머틀그린',\n",
       "   'link': 'https://search.shopping.naver.com/gate.nhn?id=24014924801',\n",
       "   'image': 'https://shopping-phinf.pstatic.net/main_2401492/24014924801.20200903021703.jpg',\n",
       "   'lprice': '18810',\n",
       "   'hprice': '',\n",
       "   'mallName': '네이버',\n",
       "   'productId': '24014924801',\n",
       "   'productType': '1',\n",
       "   'brand': '몰스킨',\n",
       "   'maker': '몰스킨',\n",
       "   'category1': '생활/건강',\n",
       "   'category2': '문구/사무용품',\n",
       "   'category3': '노트/수첩',\n",
       "   'category4': '노트'},\n",
       "  {'title': '<b>몰스킨</b> 2022 다이어리 데일리 위클리 포켓 고급 명품 감성 휴대용 여자 각인 해리포터',\n",
       "   'link': 'https://search.shopping.naver.com/gate.nhn?id=83374268420',\n",
       "   'image': 'https://shopping-phinf.pstatic.net/main_8337426/83374268420.jpg',\n",
       "   'lprice': '24100',\n",
       "   'hprice': '',\n",
       "   'mallName': '에코펜',\n",
       "   'productId': '83374268420',\n",
       "   'productType': '2',\n",
       "   'brand': '몰스킨',\n",
       "   'maker': '몰스킨',\n",
       "   'category1': '생활/건강',\n",
       "   'category2': '문구/사무용품',\n",
       "   'category3': '다이어리/플래너',\n",
       "   'category4': '다이어리'},\n",
       "  {'title': '한정판 <b>몰스킨</b> 2022 피너츠 위클리 다이어리 포켓',\n",
       "   'link': 'https://search.shopping.naver.com/gate.nhn?id=28763297998',\n",
       "   'image': 'https://shopping-phinf.pstatic.net/main_2876329/28763297998.20210908210546.jpg',\n",
       "   'lprice': '29590',\n",
       "   'hprice': '',\n",
       "   'mallName': '네이버',\n",
       "   'productId': '28763297998',\n",
       "   'productType': '1',\n",
       "   'brand': '몰스킨',\n",
       "   'maker': '몰스킨',\n",
       "   'category1': '생활/건강',\n",
       "   'category2': '문구/사무용품',\n",
       "   'category3': '다이어리/플래너',\n",
       "   'category4': '다이어리'}]}"
      ]
     },
     "execution_count": 117,
     "metadata": {},
     "output_type": "execute_result"
    }
   ],
   "source": [
    "one_result"
   ]
  },
  {
   "cell_type": "code",
   "execution_count": 118,
   "id": "afc61b22",
   "metadata": {},
   "outputs": [
    {
     "data": {
      "text/plain": [
       "'한정판 <b>몰스킨</b> 2022 해리포터 데일리 다이어리 포캣'"
      ]
     },
     "execution_count": 118,
     "metadata": {},
     "output_type": "execute_result"
    }
   ],
   "source": [
    "one_result[\"items\"][0][\"title\"]"
   ]
  },
  {
   "cell_type": "code",
   "execution_count": 119,
   "id": "4292edbf",
   "metadata": {},
   "outputs": [
    {
     "data": {
      "text/plain": [
       "'https://search.shopping.naver.com/gate.nhn?id=28719894754'"
      ]
     },
     "execution_count": 119,
     "metadata": {},
     "output_type": "execute_result"
    }
   ],
   "source": [
    "one_result[\"items\"][0][\"link\"]"
   ]
  },
  {
   "cell_type": "code",
   "execution_count": 120,
   "id": "f878aa28",
   "metadata": {},
   "outputs": [
    {
     "data": {
      "text/plain": [
       "'31700'"
      ]
     },
     "execution_count": 120,
     "metadata": {},
     "output_type": "execute_result"
    }
   ],
   "source": [
    "one_result[\"items\"][0][\"lprice\"]"
   ]
  },
  {
   "cell_type": "code",
   "execution_count": 121,
   "id": "a7f2df56",
   "metadata": {},
   "outputs": [
    {
     "data": {
      "text/plain": [
       "'네이버'"
      ]
     },
     "execution_count": 121,
     "metadata": {},
     "output_type": "execute_result"
    }
   ],
   "source": [
    "one_result[\"items\"][0][\"mallName\"]"
   ]
  },
  {
   "cell_type": "markdown",
   "id": "3edd6f14",
   "metadata": {},
   "source": [
    "## (3) get_fields()"
   ]
  },
  {
   "cell_type": "code",
   "execution_count": 141,
   "id": "4f7e1acf",
   "metadata": {},
   "outputs": [
    {
     "data": {
      "text/plain": [
       "{'title': '한정판 <b>몰스킨</b> 2022 해리포터 데일리 다이어리 포캣',\n",
       " 'link': 'https://search.shopping.naver.com/gate.nhn?id=28719894754',\n",
       " 'image': 'https://shopping-phinf.pstatic.net/main_2871989/28719894754.20210906035419.jpg',\n",
       " 'lprice': '31700',\n",
       " 'hprice': '',\n",
       " 'mallName': '네이버',\n",
       " 'productId': '28719894754',\n",
       " 'productType': '1',\n",
       " 'brand': '몰스킨',\n",
       " 'maker': '몰스킨',\n",
       " 'category1': '생활/건강',\n",
       " 'category2': '문구/사무용품',\n",
       " 'category3': '다이어리/플래너',\n",
       " 'category4': '다이어리'}"
      ]
     },
     "execution_count": 141,
     "metadata": {},
     "output_type": "execute_result"
    }
   ],
   "source": [
    "one_result[\"items\"][0]"
   ]
  },
  {
   "cell_type": "code",
   "execution_count": 142,
   "id": "096dff12",
   "metadata": {},
   "outputs": [],
   "source": [
    "import pandas as pd \n",
    "\n",
    "def get_fields(json_data):\n",
    "    title = [each[\"title\"] for each in json_data[\"items\"]]\n",
    "    link = [each[\"link\"] for each in json_data[\"items\"]]\n",
    "    lprice = [each[\"lprice\"] for each in json_data[\"items\"]]\n",
    "    mall_name = [each[\"mallName\"] for each in json_data[\"items\"]]\n",
    "    \n",
    "    result_pd = pd.DataFrame({\n",
    "        \"title\": title, \n",
    "        \"link\": link, \n",
    "        \"lprice\": lprice, \n",
    "        \"mall\": mall_name,   \n",
    "    }, columns=[\"title\", \"lprice\", \"link\", \"mall\"])\n",
    "    return result_pd"
   ]
  },
  {
   "cell_type": "code",
   "execution_count": 143,
   "id": "a9910472",
   "metadata": {},
   "outputs": [
    {
     "data": {
      "text/html": [
       "<div>\n",
       "<style scoped>\n",
       "    .dataframe tbody tr th:only-of-type {\n",
       "        vertical-align: middle;\n",
       "    }\n",
       "\n",
       "    .dataframe tbody tr th {\n",
       "        vertical-align: top;\n",
       "    }\n",
       "\n",
       "    .dataframe thead th {\n",
       "        text-align: right;\n",
       "    }\n",
       "</style>\n",
       "<table border=\"1\" class=\"dataframe\">\n",
       "  <thead>\n",
       "    <tr style=\"text-align: right;\">\n",
       "      <th></th>\n",
       "      <th>title</th>\n",
       "      <th>lprice</th>\n",
       "      <th>link</th>\n",
       "      <th>mall</th>\n",
       "    </tr>\n",
       "  </thead>\n",
       "  <tbody>\n",
       "    <tr>\n",
       "      <th>0</th>\n",
       "      <td>한정판 &lt;b&gt;몰스킨&lt;/b&gt; 2022 해리포터 데일리 다이어리 포캣</td>\n",
       "      <td>31700</td>\n",
       "      <td>https://search.shopping.naver.com/gate.nhn?id=...</td>\n",
       "      <td>네이버</td>\n",
       "    </tr>\n",
       "    <tr>\n",
       "      <th>1</th>\n",
       "      <td>&lt;b&gt;몰스킨&lt;/b&gt; 클래식노트 플레인 하드 L</td>\n",
       "      <td>15330</td>\n",
       "      <td>https://search.shopping.naver.com/gate.nhn?id=...</td>\n",
       "      <td>네이버</td>\n",
       "    </tr>\n",
       "    <tr>\n",
       "      <th>2</th>\n",
       "      <td>&lt;b&gt;몰스킨&lt;/b&gt; 클래식 노트 소프트커버 도트 포켓 머틀그린</td>\n",
       "      <td>18810</td>\n",
       "      <td>https://search.shopping.naver.com/gate.nhn?id=...</td>\n",
       "      <td>네이버</td>\n",
       "    </tr>\n",
       "    <tr>\n",
       "      <th>3</th>\n",
       "      <td>&lt;b&gt;몰스킨&lt;/b&gt; 2022 다이어리 데일리 위클리 포켓 고급 명품 감성 휴대용 여...</td>\n",
       "      <td>24100</td>\n",
       "      <td>https://search.shopping.naver.com/gate.nhn?id=...</td>\n",
       "      <td>에코펜</td>\n",
       "    </tr>\n",
       "    <tr>\n",
       "      <th>4</th>\n",
       "      <td>한정판 &lt;b&gt;몰스킨&lt;/b&gt; 2022 피너츠 위클리 다이어리 포켓</td>\n",
       "      <td>29590</td>\n",
       "      <td>https://search.shopping.naver.com/gate.nhn?id=...</td>\n",
       "      <td>네이버</td>\n",
       "    </tr>\n",
       "  </tbody>\n",
       "</table>\n",
       "</div>"
      ],
      "text/plain": [
       "                                               title lprice  \\\n",
       "0               한정판 <b>몰스킨</b> 2022 해리포터 데일리 다이어리 포캣  31700   \n",
       "1                          <b>몰스킨</b> 클래식노트 플레인 하드 L  15330   \n",
       "2                 <b>몰스킨</b> 클래식 노트 소프트커버 도트 포켓 머틀그린  18810   \n",
       "3  <b>몰스킨</b> 2022 다이어리 데일리 위클리 포켓 고급 명품 감성 휴대용 여...  24100   \n",
       "4                한정판 <b>몰스킨</b> 2022 피너츠 위클리 다이어리 포켓  29590   \n",
       "\n",
       "                                                link mall  \n",
       "0  https://search.shopping.naver.com/gate.nhn?id=...  네이버  \n",
       "1  https://search.shopping.naver.com/gate.nhn?id=...  네이버  \n",
       "2  https://search.shopping.naver.com/gate.nhn?id=...  네이버  \n",
       "3  https://search.shopping.naver.com/gate.nhn?id=...  에코펜  \n",
       "4  https://search.shopping.naver.com/gate.nhn?id=...  네이버  "
      ]
     },
     "execution_count": 143,
     "metadata": {},
     "output_type": "execute_result"
    }
   ],
   "source": [
    "get_fields(one_result)"
   ]
  },
  {
   "cell_type": "markdown",
   "id": "5993199a",
   "metadata": {},
   "source": [
    "## (4) delete_tag()"
   ]
  },
  {
   "cell_type": "code",
   "execution_count": 144,
   "id": "72343b3e",
   "metadata": {},
   "outputs": [],
   "source": [
    "def delete_tag(input_str):\n",
    "    input_str = input_str.replace(\"<b>\", \"\")\n",
    "    input_str = input_str.replace(\"</b>\", \"\")\n",
    "    return input_str "
   ]
  },
  {
   "cell_type": "code",
   "execution_count": 145,
   "id": "008fa085",
   "metadata": {},
   "outputs": [],
   "source": [
    "import pandas as pd \n",
    "\n",
    "def get_fields(json_data):\n",
    "    title = [delete_tag(each[\"title\"]) for each in json_data[\"items\"]]\n",
    "    link = [each[\"link\"] for each in json_data[\"items\"]]\n",
    "    lprice = [each[\"lprice\"] for each in json_data[\"items\"]]\n",
    "    mall_name = [each[\"mallName\"] for each in json_data[\"items\"]]\n",
    "    \n",
    "    result_pd = pd.DataFrame({\n",
    "        \"title\": title, \n",
    "        \"link\": link, \n",
    "        \"lprice\": lprice, \n",
    "        \"mall\": mall_name,   \n",
    "    }, columns=[\"title\", \"lprice\", \"link\", \"mall\"])\n",
    "    return result_pd"
   ]
  },
  {
   "cell_type": "code",
   "execution_count": 146,
   "id": "4cd0ba8e",
   "metadata": {},
   "outputs": [
    {
     "data": {
      "text/html": [
       "<div>\n",
       "<style scoped>\n",
       "    .dataframe tbody tr th:only-of-type {\n",
       "        vertical-align: middle;\n",
       "    }\n",
       "\n",
       "    .dataframe tbody tr th {\n",
       "        vertical-align: top;\n",
       "    }\n",
       "\n",
       "    .dataframe thead th {\n",
       "        text-align: right;\n",
       "    }\n",
       "</style>\n",
       "<table border=\"1\" class=\"dataframe\">\n",
       "  <thead>\n",
       "    <tr style=\"text-align: right;\">\n",
       "      <th></th>\n",
       "      <th>title</th>\n",
       "      <th>lprice</th>\n",
       "      <th>link</th>\n",
       "      <th>mall</th>\n",
       "    </tr>\n",
       "  </thead>\n",
       "  <tbody>\n",
       "    <tr>\n",
       "      <th>0</th>\n",
       "      <td>한정판 몰스킨 2022 해리포터 데일리 다이어리 포캣</td>\n",
       "      <td>31700</td>\n",
       "      <td>https://search.shopping.naver.com/gate.nhn?id=...</td>\n",
       "      <td>네이버</td>\n",
       "    </tr>\n",
       "    <tr>\n",
       "      <th>1</th>\n",
       "      <td>몰스킨 클래식노트 플레인 하드 L</td>\n",
       "      <td>15330</td>\n",
       "      <td>https://search.shopping.naver.com/gate.nhn?id=...</td>\n",
       "      <td>네이버</td>\n",
       "    </tr>\n",
       "    <tr>\n",
       "      <th>2</th>\n",
       "      <td>몰스킨 클래식 노트 소프트커버 도트 포켓 머틀그린</td>\n",
       "      <td>18810</td>\n",
       "      <td>https://search.shopping.naver.com/gate.nhn?id=...</td>\n",
       "      <td>네이버</td>\n",
       "    </tr>\n",
       "    <tr>\n",
       "      <th>3</th>\n",
       "      <td>몰스킨 2022 다이어리 데일리 위클리 포켓 고급 명품 감성 휴대용 여자 각인 해리포터</td>\n",
       "      <td>24100</td>\n",
       "      <td>https://search.shopping.naver.com/gate.nhn?id=...</td>\n",
       "      <td>에코펜</td>\n",
       "    </tr>\n",
       "    <tr>\n",
       "      <th>4</th>\n",
       "      <td>한정판 몰스킨 2022 피너츠 위클리 다이어리 포켓</td>\n",
       "      <td>29590</td>\n",
       "      <td>https://search.shopping.naver.com/gate.nhn?id=...</td>\n",
       "      <td>네이버</td>\n",
       "    </tr>\n",
       "  </tbody>\n",
       "</table>\n",
       "</div>"
      ],
      "text/plain": [
       "                                              title lprice  \\\n",
       "0                     한정판 몰스킨 2022 해리포터 데일리 다이어리 포캣  31700   \n",
       "1                                몰스킨 클래식노트 플레인 하드 L  15330   \n",
       "2                       몰스킨 클래식 노트 소프트커버 도트 포켓 머틀그린  18810   \n",
       "3  몰스킨 2022 다이어리 데일리 위클리 포켓 고급 명품 감성 휴대용 여자 각인 해리포터  24100   \n",
       "4                      한정판 몰스킨 2022 피너츠 위클리 다이어리 포켓  29590   \n",
       "\n",
       "                                                link mall  \n",
       "0  https://search.shopping.naver.com/gate.nhn?id=...  네이버  \n",
       "1  https://search.shopping.naver.com/gate.nhn?id=...  네이버  \n",
       "2  https://search.shopping.naver.com/gate.nhn?id=...  네이버  \n",
       "3  https://search.shopping.naver.com/gate.nhn?id=...  에코펜  \n",
       "4  https://search.shopping.naver.com/gate.nhn?id=...  네이버  "
      ]
     },
     "execution_count": 146,
     "metadata": {},
     "output_type": "execute_result"
    }
   ],
   "source": [
    "get_fields(one_result)"
   ]
  },
  {
   "cell_type": "code",
   "execution_count": 147,
   "id": "3db8c142",
   "metadata": {},
   "outputs": [
    {
     "name": "stdout",
     "output_type": "stream",
     "text": [
      "[2021-09-30 05:06:54.834953] Url Request Success\n"
     ]
    }
   ],
   "source": [
    "url = gen_search_url(\"shop\", \"몰스킨\", 1, 5)\n",
    "json_result = get_result_onpage(url)\n",
    "pd_result = get_fields(json_result)"
   ]
  },
  {
   "cell_type": "code",
   "execution_count": 148,
   "id": "09c8d494",
   "metadata": {},
   "outputs": [
    {
     "data": {
      "text/html": [
       "<div>\n",
       "<style scoped>\n",
       "    .dataframe tbody tr th:only-of-type {\n",
       "        vertical-align: middle;\n",
       "    }\n",
       "\n",
       "    .dataframe tbody tr th {\n",
       "        vertical-align: top;\n",
       "    }\n",
       "\n",
       "    .dataframe thead th {\n",
       "        text-align: right;\n",
       "    }\n",
       "</style>\n",
       "<table border=\"1\" class=\"dataframe\">\n",
       "  <thead>\n",
       "    <tr style=\"text-align: right;\">\n",
       "      <th></th>\n",
       "      <th>title</th>\n",
       "      <th>lprice</th>\n",
       "      <th>link</th>\n",
       "      <th>mall</th>\n",
       "    </tr>\n",
       "  </thead>\n",
       "  <tbody>\n",
       "    <tr>\n",
       "      <th>0</th>\n",
       "      <td>한정판 몰스킨 2022 해리포터 데일리 다이어리 포캣</td>\n",
       "      <td>31700</td>\n",
       "      <td>https://search.shopping.naver.com/gate.nhn?id=...</td>\n",
       "      <td>네이버</td>\n",
       "    </tr>\n",
       "    <tr>\n",
       "      <th>1</th>\n",
       "      <td>몰스킨 클래식노트 플레인 하드 L</td>\n",
       "      <td>15330</td>\n",
       "      <td>https://search.shopping.naver.com/gate.nhn?id=...</td>\n",
       "      <td>네이버</td>\n",
       "    </tr>\n",
       "    <tr>\n",
       "      <th>2</th>\n",
       "      <td>몰스킨 클래식 노트 소프트커버 도트 포켓 머틀그린</td>\n",
       "      <td>18810</td>\n",
       "      <td>https://search.shopping.naver.com/gate.nhn?id=...</td>\n",
       "      <td>네이버</td>\n",
       "    </tr>\n",
       "    <tr>\n",
       "      <th>3</th>\n",
       "      <td>몰스킨 2022 다이어리 데일리 위클리 포켓 고급 명품 감성 휴대용 여자 각인 해리포터</td>\n",
       "      <td>24100</td>\n",
       "      <td>https://search.shopping.naver.com/gate.nhn?id=...</td>\n",
       "      <td>에코펜</td>\n",
       "    </tr>\n",
       "    <tr>\n",
       "      <th>4</th>\n",
       "      <td>한정판 몰스킨 2022 피너츠 위클리 다이어리 포켓</td>\n",
       "      <td>29590</td>\n",
       "      <td>https://search.shopping.naver.com/gate.nhn?id=...</td>\n",
       "      <td>네이버</td>\n",
       "    </tr>\n",
       "  </tbody>\n",
       "</table>\n",
       "</div>"
      ],
      "text/plain": [
       "                                              title lprice  \\\n",
       "0                     한정판 몰스킨 2022 해리포터 데일리 다이어리 포캣  31700   \n",
       "1                                몰스킨 클래식노트 플레인 하드 L  15330   \n",
       "2                       몰스킨 클래식 노트 소프트커버 도트 포켓 머틀그린  18810   \n",
       "3  몰스킨 2022 다이어리 데일리 위클리 포켓 고급 명품 감성 휴대용 여자 각인 해리포터  24100   \n",
       "4                      한정판 몰스킨 2022 피너츠 위클리 다이어리 포켓  29590   \n",
       "\n",
       "                                                link mall  \n",
       "0  https://search.shopping.naver.com/gate.nhn?id=...  네이버  \n",
       "1  https://search.shopping.naver.com/gate.nhn?id=...  네이버  \n",
       "2  https://search.shopping.naver.com/gate.nhn?id=...  네이버  \n",
       "3  https://search.shopping.naver.com/gate.nhn?id=...  에코펜  \n",
       "4  https://search.shopping.naver.com/gate.nhn?id=...  네이버  "
      ]
     },
     "execution_count": 148,
     "metadata": {},
     "output_type": "execute_result"
    }
   ],
   "source": [
    "pd_result"
   ]
  },
  {
   "cell_type": "markdown",
   "id": "347d392a",
   "metadata": {},
   "source": [
    "## (5) actMain()"
   ]
  },
  {
   "cell_type": "code",
   "execution_count": 149,
   "id": "13b6a847",
   "metadata": {},
   "outputs": [
    {
     "name": "stdout",
     "output_type": "stream",
     "text": [
      "1\n",
      "101\n",
      "201\n",
      "301\n",
      "401\n",
      "501\n",
      "601\n",
      "701\n",
      "801\n",
      "901\n"
     ]
    }
   ],
   "source": [
    "for n in range(1, 1000, 100):\n",
    "    print(n)"
   ]
  },
  {
   "cell_type": "code",
   "execution_count": 155,
   "id": "d859fae3",
   "metadata": {},
   "outputs": [
    {
     "name": "stdout",
     "output_type": "stream",
     "text": [
      "[2021-09-30 05:09:47.325324] Url Request Success\n",
      "[2021-09-30 05:09:47.609312] Url Request Success\n",
      "[2021-09-30 05:09:47.913627] Url Request Success\n",
      "[2021-09-30 05:09:48.227613] Url Request Success\n",
      "[2021-09-30 05:09:48.533253] Url Request Success\n",
      "[2021-09-30 05:09:48.816997] Url Request Success\n",
      "[2021-09-30 05:09:49.125801] Url Request Success\n",
      "[2021-09-30 05:09:49.397631] Url Request Success\n",
      "[2021-09-30 05:09:49.715529] Url Request Success\n",
      "[2021-09-30 05:09:49.987900] Url Request Success\n"
     ]
    }
   ],
   "source": [
    "result_mol = [] \n",
    "\n",
    "for n in range(1, 1000, 100):\n",
    "    url = gen_search_url(\"shop\", \"몰스킨\", n, 100)\n",
    "    json_result = get_result_onpage(url)\n",
    "    pd_result = get_fields(json_result)\n",
    "    \n",
    "    result_mol.append(pd_result)\n",
    "    \n",
    "result_mol = pd.concat(result_mol)"
   ]
  },
  {
   "cell_type": "code",
   "execution_count": 156,
   "id": "0af49c73",
   "metadata": {},
   "outputs": [
    {
     "name": "stdout",
     "output_type": "stream",
     "text": [
      "<class 'pandas.core.frame.DataFrame'>\n",
      "Int64Index: 1000 entries, 0 to 99\n",
      "Data columns (total 4 columns):\n",
      " #   Column  Non-Null Count  Dtype \n",
      "---  ------  --------------  ----- \n",
      " 0   title   1000 non-null   object\n",
      " 1   lprice  1000 non-null   object\n",
      " 2   link    1000 non-null   object\n",
      " 3   mall    1000 non-null   object\n",
      "dtypes: object(4)\n",
      "memory usage: 39.1+ KB\n"
     ]
    }
   ],
   "source": [
    "result_mol.info()"
   ]
  },
  {
   "cell_type": "code",
   "execution_count": 159,
   "id": "c97589f2",
   "metadata": {},
   "outputs": [
    {
     "name": "stdout",
     "output_type": "stream",
     "text": [
      "<class 'pandas.core.frame.DataFrame'>\n",
      "RangeIndex: 1000 entries, 0 to 999\n",
      "Data columns (total 4 columns):\n",
      " #   Column  Non-Null Count  Dtype \n",
      "---  ------  --------------  ----- \n",
      " 0   title   1000 non-null   object\n",
      " 1   lprice  1000 non-null   object\n",
      " 2   link    1000 non-null   object\n",
      " 3   mall    1000 non-null   object\n",
      "dtypes: object(4)\n",
      "memory usage: 31.4+ KB\n"
     ]
    }
   ],
   "source": [
    "result_mol.reset_index(drop=True, inplace=True)\n",
    "result_mol.info()"
   ]
  },
  {
   "cell_type": "code",
   "execution_count": 161,
   "id": "5fdc6cef",
   "metadata": {},
   "outputs": [
    {
     "data": {
      "text/html": [
       "<div>\n",
       "<style scoped>\n",
       "    .dataframe tbody tr th:only-of-type {\n",
       "        vertical-align: middle;\n",
       "    }\n",
       "\n",
       "    .dataframe tbody tr th {\n",
       "        vertical-align: top;\n",
       "    }\n",
       "\n",
       "    .dataframe thead th {\n",
       "        text-align: right;\n",
       "    }\n",
       "</style>\n",
       "<table border=\"1\" class=\"dataframe\">\n",
       "  <thead>\n",
       "    <tr style=\"text-align: right;\">\n",
       "      <th></th>\n",
       "      <th>title</th>\n",
       "      <th>lprice</th>\n",
       "      <th>link</th>\n",
       "      <th>mall</th>\n",
       "    </tr>\n",
       "  </thead>\n",
       "  <tbody>\n",
       "    <tr>\n",
       "      <th>995</th>\n",
       "      <td>[한정판] 몰스킨 심슨 하드커버 노트북 플레인-라지</td>\n",
       "      <td>38500</td>\n",
       "      <td>https://search.shopping.naver.com/gate.nhn?id=...</td>\n",
       "      <td>펜샵코리아</td>\n",
       "    </tr>\n",
       "    <tr>\n",
       "      <th>996</th>\n",
       "      <td>KM 몰스킨 2020년 위클리 포켓 하드커버 Moleskine</td>\n",
       "      <td>26500</td>\n",
       "      <td>https://search.shopping.naver.com/gate.nhn?id=...</td>\n",
       "      <td>펀키보이</td>\n",
       "    </tr>\n",
       "    <tr>\n",
       "      <th>997</th>\n",
       "      <td>몰스킨 클릭볼펜 1.0mm 블랙 / 8000991</td>\n",
       "      <td>19500</td>\n",
       "      <td>https://search.shopping.naver.com/gate.nhn?id=...</td>\n",
       "      <td>11번가</td>\n",
       "    </tr>\n",
       "    <tr>\n",
       "      <th>998</th>\n",
       "      <td>몰스킨 [에버노트]스케치북/블랙 하드 L (몰스킨)</td>\n",
       "      <td>46200</td>\n",
       "      <td>https://search.shopping.naver.com/gate.nhn?id=...</td>\n",
       "      <td>교보핫트랙스</td>\n",
       "    </tr>\n",
       "    <tr>\n",
       "      <th>999</th>\n",
       "      <td>몰스킨 몰스킨 볼펜 W 클래식 프로 클릭 1.0mm 실버그레이</td>\n",
       "      <td>28060</td>\n",
       "      <td>https://search.shopping.naver.com/gate.nhn?id=...</td>\n",
       "      <td>G마켓</td>\n",
       "    </tr>\n",
       "  </tbody>\n",
       "</table>\n",
       "</div>"
      ],
      "text/plain": [
       "                                  title lprice  \\\n",
       "995        [한정판] 몰스킨 심슨 하드커버 노트북 플레인-라지  38500   \n",
       "996  KM 몰스킨 2020년 위클리 포켓 하드커버 Moleskine  26500   \n",
       "997         몰스킨 클릭볼펜 1.0mm 블랙 / 8000991  19500   \n",
       "998        몰스킨 [에버노트]스케치북/블랙 하드 L (몰스킨)  46200   \n",
       "999  몰스킨 몰스킨 볼펜 W 클래식 프로 클릭 1.0mm 실버그레이  28060   \n",
       "\n",
       "                                                  link    mall  \n",
       "995  https://search.shopping.naver.com/gate.nhn?id=...   펜샵코리아  \n",
       "996  https://search.shopping.naver.com/gate.nhn?id=...    펀키보이  \n",
       "997  https://search.shopping.naver.com/gate.nhn?id=...    11번가  \n",
       "998  https://search.shopping.naver.com/gate.nhn?id=...  교보핫트랙스  \n",
       "999  https://search.shopping.naver.com/gate.nhn?id=...     G마켓  "
      ]
     },
     "execution_count": 161,
     "metadata": {},
     "output_type": "execute_result"
    }
   ],
   "source": [
    "result_mol.tail()"
   ]
  },
  {
   "cell_type": "code",
   "execution_count": 169,
   "id": "419cfbc6",
   "metadata": {},
   "outputs": [
    {
     "name": "stdout",
     "output_type": "stream",
     "text": [
      "<class 'pandas.core.frame.DataFrame'>\n",
      "RangeIndex: 1000 entries, 0 to 999\n",
      "Data columns (total 4 columns):\n",
      " #   Column  Non-Null Count  Dtype \n",
      "---  ------  --------------  ----- \n",
      " 0   title   1000 non-null   object\n",
      " 1   lprice  1000 non-null   object\n",
      " 2   link    1000 non-null   object\n",
      " 3   mall    1000 non-null   object\n",
      "dtypes: object(4)\n",
      "memory usage: 31.4+ KB\n"
     ]
    }
   ],
   "source": [
    "result_mol.info()"
   ]
  },
  {
   "cell_type": "code",
   "execution_count": 170,
   "id": "93daab0f",
   "metadata": {},
   "outputs": [
    {
     "name": "stdout",
     "output_type": "stream",
     "text": [
      "<class 'pandas.core.frame.DataFrame'>\n",
      "RangeIndex: 1000 entries, 0 to 999\n",
      "Data columns (total 4 columns):\n",
      " #   Column  Non-Null Count  Dtype  \n",
      "---  ------  --------------  -----  \n",
      " 0   title   1000 non-null   object \n",
      " 1   lprice  1000 non-null   float64\n",
      " 2   link    1000 non-null   object \n",
      " 3   mall    1000 non-null   object \n",
      "dtypes: float64(1), object(3)\n",
      "memory usage: 31.4+ KB\n"
     ]
    }
   ],
   "source": [
    "result_mol[\"lprice\"] = result_mol[\"lprice\"].astype(\"float\")\n",
    "result_mol.info()"
   ]
  },
  {
   "cell_type": "markdown",
   "id": "3b001c47",
   "metadata": {},
   "source": [
    "## (5) to_excel()"
   ]
  },
  {
   "cell_type": "code",
   "execution_count": 172,
   "id": "3f038b96",
   "metadata": {},
   "outputs": [],
   "source": [
    "# !pip install xlsxwriter"
   ]
  },
  {
   "cell_type": "code",
   "execution_count": 175,
   "id": "bffa8c12",
   "metadata": {},
   "outputs": [],
   "source": [
    "writer = pd.ExcelWriter(\"../data/06_molskin_diary_in_naver_shop.xlsx\", engine=\"xlsxwriter\")\n",
    "result_mol.to_excel(writer, sheet_name=\"Sheet1\")\n",
    "\n",
    "workbook = writer.book \n",
    "worksheet = writer.sheets[\"Sheet1\"]\n",
    "worksheet.set_column(\"A:A\", 4)\n",
    "worksheet.set_column(\"B:B\", 60)\n",
    "worksheet.set_column(\"C:C\", 10)\n",
    "worksheet.set_column(\"D:D\", 10)\n",
    "worksheet.set_column(\"E:E\", 50)\n",
    "worksheet.set_column(\"F:F\", 10)\n",
    "\n",
    "worksheet.conditional_format(\"C2:C1001\", {\"type\": \"3_color_scale\"})\n",
    "writer.save()"
   ]
  },
  {
   "cell_type": "code",
   "execution_count": 176,
   "id": "547f8dee",
   "metadata": {},
   "outputs": [
    {
     "name": "stdout",
     "output_type": "stream",
     "text": [
      "../data/06_molskin_diary_in_naver_shop.xlsx\r\n"
     ]
    }
   ],
   "source": [
    "!ls \"../data/06_molskin_diary_in_naver_shop.xlsx\""
   ]
  },
  {
   "cell_type": "markdown",
   "id": "ce506db4",
   "metadata": {},
   "source": [
    "## (6) 시각화"
   ]
  },
  {
   "cell_type": "code",
   "execution_count": 177,
   "id": "5c8c3a65",
   "metadata": {},
   "outputs": [
    {
     "name": "stdout",
     "output_type": "stream",
     "text": [
      "Hangul OK in your MAC!!!\n"
     ]
    }
   ],
   "source": [
    "import set_matplotlib_hangul"
   ]
  },
  {
   "cell_type": "code",
   "execution_count": 179,
   "id": "6d0d048c",
   "metadata": {},
   "outputs": [
    {
     "name": "stderr",
     "output_type": "stream",
     "text": [
      "/opt/homebrew/Caskroom/miniforge/base/envs/ds_study/lib/python3.8/site-packages/seaborn/_decorators.py:36: FutureWarning: Pass the following variable as a keyword arg: x. From version 0.12, the only valid positional argument will be `data`, and passing other arguments without an explicit keyword will result in an error or misinterpretation.\n",
      "  warnings.warn(\n"
     ]
    },
    {
     "data": {
      "image/png": "[encoded data removed]",
      "text/plain": [
       "<Figure size 1080x432 with 1 Axes>"
      ]
     },
     "metadata": {
      "image/png": {
       "height": 486,
       "width": 894
      }
     },
     "output_type": "display_data"
    }
   ],
   "source": [
    "plt.figure(figsize=(15, 6))\n",
    "sns.countplot(\n",
    "    result_mol[\"mall\"], \n",
    "    data=result_mol, \n",
    "    palette=\"RdYlGn\",\n",
    "    order=result_mol[\"mall\"].value_counts().index\n",
    ")\n",
    "plt.xticks(rotation=90)\n",
    "plt.show()"
   ]
  },
  {
   "cell_type": "code",
   "execution_count": null,
   "id": "db8c4954",
   "metadata": {},
   "outputs": [],
   "source": []
  }
 ],
 "metadata": {
  "kernelspec": {
   "display_name": "Python 3 (ipykernel)",
   "language": "python",
   "name": "python3"
  },
  "language_info": {
   "codemirror_mode": {
    "name": "ipython",
    "version": 3
   },
   "file_extension": ".py",
   "mimetype": "text/x-python",
   "name": "python",
   "nbconvert_exporter": "python",
   "pygments_lexer": "ipython3",
   "version": "3.8.12"
  }
 },
 "nbformat": 4,
 "nbformat_minor": 5
}
