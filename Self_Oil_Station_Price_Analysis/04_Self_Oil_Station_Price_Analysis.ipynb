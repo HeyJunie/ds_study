{
 "cells": [
  {
   "cell_type": "code",
   "execution_count": 4,
   "id": "4cpRLMP666yt",
   "metadata": {
    "colab": {
     "base_uri": "https://localhost:8080/"
    },
    "executionInfo": {
     "elapsed": 13,
     "status": "ok",
     "timestamp": 1643276694283,
     "user": {
      "displayName": "great pyrenees maroo",
      "photoUrl": "https://lh3.googleusercontent.com/a-/AOh14GjB3MBofL0eA938QGCwIVHebm2qynG_tag1aSEUBA=s64",
      "userId": "15325498543295370565"
     },
     "user_tz": -540
    },
    "id": "4cpRLMP666yt",
    "outputId": "99c5dda5-2649-4cf7-f685-c7e095e16a30"
   },
   "outputs": [
    {
     "name": "stdout",
     "output_type": "stream",
     "text": [
      "zero\n"
     ]
    }
   ],
   "source": [
    "myPoint = 10 \n",
    "result = 'zero' if myPoint >= 5 else 'base'\n",
    "print(result)"
   ]
  },
  {
   "cell_type": "markdown",
   "id": "256f049b",
   "metadata": {
    "id": "256f049b"
   },
   "source": [
    "# 04. Self Oitl Station Prcie Analysis "
   ]
  },
  {
   "cell_type": "markdown",
   "id": "79faff38",
   "metadata": {
    "id": "79faff38"
   },
   "source": [
    "## 1. 셀레니움 설치\n",
    "- 윈도우, mac(intel) \n",
    "    - conda install selenium \n",
    "- mac(m1) \n",
    "    - pip install selenium \n",
    "    \n",
    "- chromedriver\n",
    "    - 크롬 버전 확인\n",
    "    - https://chromedriver.chromium.org/downloads"
   ]
  },
  {
   "cell_type": "code",
   "execution_count": null,
   "id": "bf712f96",
   "metadata": {
    "id": "bf712f96",
    "outputId": "dd2e7613-02bd-40fd-c1c8-6fe709194c83"
   },
   "outputs": [
    {
     "name": "stdout",
     "output_type": "stream",
     "text": [
      "Collecting selenium\n",
      "  Using cached selenium-3.141.0-py2.py3-none-any.whl (904 kB)\n",
      "Requirement already satisfied: urllib3 in /opt/homebrew/Caskroom/miniforge/base/envs/ds_study/lib/python3.8/site-packages (from selenium) (1.26.6)\n",
      "Installing collected packages: selenium\n",
      "Successfully installed selenium-3.141.0\n"
     ]
    }
   ],
   "source": [
    "# !pip install selenium "
   ]
  },
  {
   "cell_type": "code",
   "execution_count": null,
   "id": "6038b9c5",
   "metadata": {
    "id": "6038b9c5",
    "outputId": "a811c898-556c-4bf3-cf80-f644188021eb"
   },
   "outputs": [
    {
     "name": "stdout",
     "output_type": "stream",
     "text": [
      "jupyter-highlight-selected-word   0.2.0\r\n",
      "selenium                          3.141.0\r\n"
     ]
    }
   ],
   "source": [
    "!pip list | grep sele"
   ]
  },
  {
   "cell_type": "code",
   "execution_count": null,
   "id": "409b9aca",
   "metadata": {
    "id": "409b9aca"
   },
   "outputs": [],
   "source": [
    "from selenium import webdriver"
   ]
  },
  {
   "cell_type": "code",
   "execution_count": null,
   "id": "0772c224",
   "metadata": {
    "id": "0772c224"
   },
   "outputs": [],
   "source": [
    "driver = webdriver.Chrome(\"../driver/chromedriver\") # \"../driver/chromedriver.exe\"\n",
    "driver.get(\"https://www.naver.com\")"
   ]
  },
  {
   "cell_type": "code",
   "execution_count": null,
   "id": "79d61816",
   "metadata": {
    "id": "79d61816"
   },
   "outputs": [],
   "source": [
    "driver.quit()"
   ]
  },
  {
   "cell_type": "markdown",
   "id": "38724860",
   "metadata": {
    "id": "38724860"
   },
   "source": [
    "## 2. 셀프 주유소가 정말 저렴하나요? - 데이터 확보하기 위한 작업\n",
    "- https://www.opinet.co.kr/searRgSelect.do\n",
    "- 사이트 구조 확인 \n",
    "- 목표 데이터 \n",
    "    - 브랜드 \n",
    "    - 가격 \n",
    "    - 셀프 주유 여부 \n",
    "    - 위치 "
   ]
  },
  {
   "cell_type": "markdown",
   "id": "e87d86d5",
   "metadata": {
    "id": "e87d86d5"
   },
   "source": [
    "## 3. 셀레니움으로 접근"
   ]
  },
  {
   "cell_type": "code",
   "execution_count": 18,
   "id": "9fed7bdf",
   "metadata": {
    "id": "9fed7bdf"
   },
   "outputs": [],
   "source": [
    "from selenium import webdriver"
   ]
  },
  {
   "cell_type": "code",
   "execution_count": 37,
   "id": "1c3b926e",
   "metadata": {
    "id": "1c3b926e"
   },
   "outputs": [
    {
     "name": "stderr",
     "output_type": "stream",
     "text": [
      "C:\\Users\\ThinkBook\\AppData\\Local\\Temp\\ipykernel_25292\\3609916327.py:3: DeprecationWarning: executable_path has been deprecated, please pass in a Service object\n",
      "  driver = webdriver.Chrome(\"../driver/chromedriver\") # windows .exe\n"
     ]
    }
   ],
   "source": [
    "# 페이지 접근 \n",
    "url = \"https://www.opinet.co.kr/searRgSelect.do\"\n",
    "driver = webdriver.Chrome(\"../driver/chromedriver\") # windows .exe \n",
    "driver.get(url)"
   ]
  },
  {
   "cell_type": "code",
   "execution_count": 38,
   "id": "6f27f8fd",
   "metadata": {
    "id": "6f27f8fd"
   },
   "outputs": [],
   "source": [
    "driver.get(url)"
   ]
  },
  {
   "cell_type": "markdown",
   "id": "4ae567c5",
   "metadata": {
    "id": "4ae567c5"
   },
   "source": [
    "- 문제 \n",
    "    - 1. 해당 URL로 한 번에 접근이 안됩니다. \n",
    "    - 2. 메인페이지로 접속이 되고, 팝업창이 하나 나옵니다."
   ]
  },
  {
   "cell_type": "code",
   "execution_count": 6,
   "id": "9a1cde4f",
   "metadata": {
    "id": "9a1cde4f",
    "outputId": "5918db3c-9362-4b45-a420-61e118d16f40"
   },
   "outputs": [
    {
     "name": "stderr",
     "output_type": "stream",
     "text": [
      "C:\\Users\\ThinkBook\\AppData\\Local\\Temp\\ipykernel_41900\\2019365227.py:2: DeprecationWarning: use driver.switch_to.window instead\n",
      "  driver.switch_to_window(driver.window_handles[-1])\n"
     ]
    }
   ],
   "source": [
    "# 팝업창 화면 전환 후 닫아주기 \n",
    "driver.switch_to_window(driver.window_handles[-1])"
   ]
  },
  {
   "cell_type": "code",
   "execution_count": 7,
   "id": "ed9f2e38",
   "metadata": {
    "id": "ed9f2e38"
   },
   "outputs": [],
   "source": [
    "# 접근 페이지 다시 요청 "
   ]
  },
  {
   "cell_type": "code",
   "execution_count": 21,
   "id": "f7efec27",
   "metadata": {
    "id": "f7efec27"
   },
   "outputs": [],
   "source": [
    "driver.close()"
   ]
  },
  {
   "cell_type": "code",
   "execution_count": 10,
   "id": "25cf6046",
   "metadata": {
    "id": "25cf6046",
    "outputId": "ce556207-f416-46f5-f3f3-f1a8ff3f0968"
   },
   "outputs": [],
   "source": [
    "# driver.switch_to_window(driver.window_handles[-1])"
   ]
  },
  {
   "cell_type": "code",
   "execution_count": 22,
   "id": "ce7fce25",
   "metadata": {
    "id": "ce7fce25"
   },
   "outputs": [
    {
     "ename": "InvalidSessionIdException",
     "evalue": "Message: invalid session id\nStacktrace:\nBacktrace:\n\tOrdinal0 [0x00637413+2389011]\n\tOrdinal0 [0x005C9F61+1941345]\n\tOrdinal0 [0x004BC520+836896]\n\tOrdinal0 [0x004DDFC0+974784]\n\tOrdinal0 [0x00504040+1130560]\n\tOrdinal0 [0x00501E88+1121928]\n\tOrdinal0 [0x00501A29+1120809]\n\tOrdinal0 [0x0049D207+709127]\n\tOrdinal0 [0x0049D783+710531]\n\tOrdinal0 [0x0049DBBA+711610]\n\tGetHandleVerifier [0x007E9632+1727522]\n\tGetHandleVerifier [0x0089BA4D+2457661]\n\tGetHandleVerifier [0x006CEB81+569713]\n\tGetHandleVerifier [0x006CDD76+566118]\n\tOrdinal0 [0x005D0B2B+1968939]\n\tOrdinal0 [0x0049CF97+708503]\n\tOrdinal0 [0x0049CA48+707144]\n\tGetHandleVerifier [0x008C110C+2610940]\n\tBaseThreadInitThunk [0x75D36739+25]\n\tRtlGetFullPathName_UEx [0x770B8E7F+1215]\n\tRtlGetFullPathName_UEx [0x770B8E4D+1165]\n",
     "output_type": "error",
     "traceback": [
      "\u001b[1;31m---------------------------------------------------------------------------\u001b[0m",
      "\u001b[1;31mInvalidSessionIdException\u001b[0m                 Traceback (most recent call last)",
      "Input \u001b[1;32mIn [22]\u001b[0m, in \u001b[0;36m<cell line: 1>\u001b[1;34m()\u001b[0m\n\u001b[1;32m----> 1\u001b[0m \u001b[43mdriver\u001b[49m\u001b[38;5;241;43m.\u001b[39;49m\u001b[43mget\u001b[49m\u001b[43m(\u001b[49m\u001b[43murl\u001b[49m\u001b[43m)\u001b[49m\n",
      "File \u001b[1;32mC:\\Anaconda3\\envs\\ds_study\\lib\\site-packages\\selenium\\webdriver\\remote\\webdriver.py:437\u001b[0m, in \u001b[0;36mWebDriver.get\u001b[1;34m(self, url)\u001b[0m\n\u001b[0;32m    433\u001b[0m \u001b[38;5;28;01mdef\u001b[39;00m \u001b[38;5;21mget\u001b[39m(\u001b[38;5;28mself\u001b[39m, url: \u001b[38;5;28mstr\u001b[39m) \u001b[38;5;241m-\u001b[39m\u001b[38;5;241m>\u001b[39m \u001b[38;5;28;01mNone\u001b[39;00m:\n\u001b[0;32m    434\u001b[0m     \u001b[38;5;124;03m\"\"\"\u001b[39;00m\n\u001b[0;32m    435\u001b[0m \u001b[38;5;124;03m    Loads a web page in the current browser session.\u001b[39;00m\n\u001b[0;32m    436\u001b[0m \u001b[38;5;124;03m    \"\"\"\u001b[39;00m\n\u001b[1;32m--> 437\u001b[0m     \u001b[38;5;28;43mself\u001b[39;49m\u001b[38;5;241;43m.\u001b[39;49m\u001b[43mexecute\u001b[49m\u001b[43m(\u001b[49m\u001b[43mCommand\u001b[49m\u001b[38;5;241;43m.\u001b[39;49m\u001b[43mGET\u001b[49m\u001b[43m,\u001b[49m\u001b[43m \u001b[49m\u001b[43m{\u001b[49m\u001b[38;5;124;43m'\u001b[39;49m\u001b[38;5;124;43murl\u001b[39;49m\u001b[38;5;124;43m'\u001b[39;49m\u001b[43m:\u001b[49m\u001b[43m \u001b[49m\u001b[43murl\u001b[49m\u001b[43m}\u001b[49m\u001b[43m)\u001b[49m\n",
      "File \u001b[1;32mC:\\Anaconda3\\envs\\ds_study\\lib\\site-packages\\selenium\\webdriver\\remote\\webdriver.py:425\u001b[0m, in \u001b[0;36mWebDriver.execute\u001b[1;34m(self, driver_command, params)\u001b[0m\n\u001b[0;32m    423\u001b[0m response \u001b[38;5;241m=\u001b[39m \u001b[38;5;28mself\u001b[39m\u001b[38;5;241m.\u001b[39mcommand_executor\u001b[38;5;241m.\u001b[39mexecute(driver_command, params)\n\u001b[0;32m    424\u001b[0m \u001b[38;5;28;01mif\u001b[39;00m response:\n\u001b[1;32m--> 425\u001b[0m     \u001b[38;5;28;43mself\u001b[39;49m\u001b[38;5;241;43m.\u001b[39;49m\u001b[43merror_handler\u001b[49m\u001b[38;5;241;43m.\u001b[39;49m\u001b[43mcheck_response\u001b[49m\u001b[43m(\u001b[49m\u001b[43mresponse\u001b[49m\u001b[43m)\u001b[49m\n\u001b[0;32m    426\u001b[0m     response[\u001b[38;5;124m'\u001b[39m\u001b[38;5;124mvalue\u001b[39m\u001b[38;5;124m'\u001b[39m] \u001b[38;5;241m=\u001b[39m \u001b[38;5;28mself\u001b[39m\u001b[38;5;241m.\u001b[39m_unwrap_value(\n\u001b[0;32m    427\u001b[0m         response\u001b[38;5;241m.\u001b[39mget(\u001b[38;5;124m'\u001b[39m\u001b[38;5;124mvalue\u001b[39m\u001b[38;5;124m'\u001b[39m, \u001b[38;5;28;01mNone\u001b[39;00m))\n\u001b[0;32m    428\u001b[0m     \u001b[38;5;28;01mreturn\u001b[39;00m response\n",
      "File \u001b[1;32mC:\\Anaconda3\\envs\\ds_study\\lib\\site-packages\\selenium\\webdriver\\remote\\errorhandler.py:247\u001b[0m, in \u001b[0;36mErrorHandler.check_response\u001b[1;34m(self, response)\u001b[0m\n\u001b[0;32m    245\u001b[0m         alert_text \u001b[38;5;241m=\u001b[39m value[\u001b[38;5;124m'\u001b[39m\u001b[38;5;124malert\u001b[39m\u001b[38;5;124m'\u001b[39m]\u001b[38;5;241m.\u001b[39mget(\u001b[38;5;124m'\u001b[39m\u001b[38;5;124mtext\u001b[39m\u001b[38;5;124m'\u001b[39m)\n\u001b[0;32m    246\u001b[0m     \u001b[38;5;28;01mraise\u001b[39;00m exception_class(message, screen, stacktrace, alert_text)  \u001b[38;5;66;03m# type: ignore[call-arg]  # mypy is not smart enough here\u001b[39;00m\n\u001b[1;32m--> 247\u001b[0m \u001b[38;5;28;01mraise\u001b[39;00m exception_class(message, screen, stacktrace)\n",
      "\u001b[1;31mInvalidSessionIdException\u001b[0m: Message: invalid session id\nStacktrace:\nBacktrace:\n\tOrdinal0 [0x00637413+2389011]\n\tOrdinal0 [0x005C9F61+1941345]\n\tOrdinal0 [0x004BC520+836896]\n\tOrdinal0 [0x004DDFC0+974784]\n\tOrdinal0 [0x00504040+1130560]\n\tOrdinal0 [0x00501E88+1121928]\n\tOrdinal0 [0x00501A29+1120809]\n\tOrdinal0 [0x0049D207+709127]\n\tOrdinal0 [0x0049D783+710531]\n\tOrdinal0 [0x0049DBBA+711610]\n\tGetHandleVerifier [0x007E9632+1727522]\n\tGetHandleVerifier [0x0089BA4D+2457661]\n\tGetHandleVerifier [0x006CEB81+569713]\n\tGetHandleVerifier [0x006CDD76+566118]\n\tOrdinal0 [0x005D0B2B+1968939]\n\tOrdinal0 [0x0049CF97+708503]\n\tOrdinal0 [0x0049CA48+707144]\n\tGetHandleVerifier [0x008C110C+2610940]\n\tBaseThreadInitThunk [0x75D36739+25]\n\tRtlGetFullPathName_UEx [0x770B8E7F+1215]\n\tRtlGetFullPathName_UEx [0x770B8E4D+1165]\n"
     ]
    }
   ],
   "source": [
    "driver.get(url)"
   ]
  },
  {
   "cell_type": "code",
   "execution_count": 34,
   "id": "0d21c421",
   "metadata": {
    "id": "0d21c421"
   },
   "outputs": [],
   "source": [
    "import time \n",
    "\n",
    "def main_get():\n",
    "    # 페이지 접근 \n",
    "    url = \"https://www.opinet.co.kr/searRgSelect.do\"\n",
    "    driver = webdriver.Chrome(\"../driver/chromedriver\") # windows .exe \n",
    "    driver.get(url)\n",
    "    time.sleep(3)\n",
    "    # 팝업창으로 전환 \n",
    "#     driver.switch_to_window(driver.window_handles[-1])\n",
    "    # 팝업창 닫아주기\n",
    "#     driver.close()\n",
    "#     time.sleep(3)\n",
    "    # 메인화면 창으로 전환 \n",
    "#     driver.switch_to_window(driver.window_handles[-1])\n",
    "    # 접근 URL 다시 요청 \n",
    "    driver.get(url)"
   ]
  },
  {
   "cell_type": "code",
   "execution_count": null,
   "id": "f5fe45d8",
   "metadata": {
    "id": "f5fe45d8"
   },
   "outputs": [],
   "source": [
    "# driver.close()"
   ]
  },
  {
   "cell_type": "code",
   "execution_count": 35,
   "id": "39624315",
   "metadata": {
    "id": "39624315",
    "outputId": "eef74979-ac00-4b4b-fdfe-00a7af62ffdc",
    "scrolled": true
   },
   "outputs": [
    {
     "name": "stderr",
     "output_type": "stream",
     "text": [
      "C:\\Users\\ThinkBook\\AppData\\Local\\Temp\\ipykernel_25292\\2844000037.py:6: DeprecationWarning: executable_path has been deprecated, please pass in a Service object\n",
      "  driver = webdriver.Chrome(\"../driver/chromedriver\") # windows .exe\n"
     ]
    }
   ],
   "source": [
    "main_get()"
   ]
  },
  {
   "cell_type": "code",
   "execution_count": 39,
   "id": "1a99407b",
   "metadata": {
    "id": "1a99407b",
    "outputId": "af9cd77d-23b8-4e68-89ec-ac91c8fff9ed"
   },
   "outputs": [
    {
     "name": "stderr",
     "output_type": "stream",
     "text": [
      "C:\\Users\\ThinkBook\\AppData\\Local\\Temp\\ipykernel_25292\\1761905667.py:3: DeprecationWarning: find_element_by_* commands are deprecated. Please use find_element() instead\n",
      "  sido_list_raw = driver.find_element_by_id(\"SIDO_NM0\")\n"
     ]
    },
    {
     "data": {
      "text/plain": [
       "'            시/도\\n            \\n             \\n             \\n              서울\\n             \\n            \\n             \\n             \\n              부산\\n             \\n            \\n             \\n             \\n              대구\\n             \\n            \\n             \\n              인천\\n             \\n             \\n            \\n             \\n             \\n              광주\\n             \\n            \\n             \\n             \\n              대전\\n             \\n            \\n             \\n             \\n              울산\\n             \\n            \\n             \\n             \\n              세종\\n             \\n            \\n             \\n             \\n              경기\\n             \\n            \\n             \\n             \\n              강원\\n             \\n            \\n             \\n             \\n              충북\\n             \\n            \\n             \\n             \\n              충남\\n             \\n            \\n             \\n             \\n              전북\\n             \\n            \\n             \\n             \\n              전남\\n             \\n            \\n             \\n             \\n              경북\\n             \\n            \\n             \\n             \\n              경남\\n             \\n            \\n             \\n             \\n              제주\\n             \\n            \\n           '"
      ]
     },
     "execution_count": 39,
     "metadata": {},
     "output_type": "execute_result"
    }
   ],
   "source": [
    "# 지역: 시/도 \n",
    "\n",
    "sido_list_raw = driver.find_element_by_id(\"SIDO_NM0\")\n",
    "sido_list_raw.text"
   ]
  },
  {
   "cell_type": "code",
   "execution_count": 40,
   "id": "5f23df4e",
   "metadata": {
    "id": "5f23df4e",
    "outputId": "862ff640-1c54-447d-c2ab-9f327f5d01c2"
   },
   "outputs": [
    {
     "name": "stderr",
     "output_type": "stream",
     "text": [
      "C:\\Anaconda3\\envs\\ds_study\\lib\\site-packages\\selenium\\webdriver\\remote\\webelement.py:359: UserWarning: find_elements_by_tag_name is deprecated. Please use find_elements(by=By.TAG_NAME, value=name) instead\n",
      "  warnings.warn(\"find_elements_by_tag_name is deprecated. Please use find_elements(by=By.TAG_NAME, value=name) instead\")\n"
     ]
    },
    {
     "data": {
      "text/plain": [
       "(18, '제주')"
      ]
     },
     "execution_count": 40,
     "metadata": {},
     "output_type": "execute_result"
    }
   ],
   "source": [
    "sido_list = sido_list_raw.find_elements_by_tag_name(\"option\")\n",
    "len(sido_list), sido_list[17].text"
   ]
  },
  {
   "cell_type": "code",
   "execution_count": 41,
   "id": "f04ac438",
   "metadata": {
    "id": "f04ac438",
    "outputId": "5675388f-efcf-40df-b0d6-6a0b99202a60"
   },
   "outputs": [
    {
     "data": {
      "text/plain": [
       "'서울특별시'"
      ]
     },
     "execution_count": 41,
     "metadata": {},
     "output_type": "execute_result"
    }
   ],
   "source": [
    "sido_list[1].get_attribute(\"value\")"
   ]
  },
  {
   "cell_type": "code",
   "execution_count": 42,
   "id": "a3e9b19b",
   "metadata": {
    "id": "a3e9b19b",
    "outputId": "a9553e69-a81b-4ee9-950c-7ae690284432"
   },
   "outputs": [
    {
     "data": {
      "text/plain": [
       "['',\n",
       " '서울특별시',\n",
       " '부산광역시',\n",
       " '대구광역시',\n",
       " '인천광역시',\n",
       " '광주광역시',\n",
       " '대전광역시',\n",
       " '울산광역시',\n",
       " '세종특별자치시',\n",
       " '경기도',\n",
       " '강원도',\n",
       " '충청북도',\n",
       " '충청남도',\n",
       " '전라북도',\n",
       " '전라남도',\n",
       " '경상북도',\n",
       " '경상남도',\n",
       " '제주특별자치도']"
      ]
     },
     "execution_count": 42,
     "metadata": {},
     "output_type": "execute_result"
    }
   ],
   "source": [
    "# 1. \n",
    "sido_names = [] \n",
    "\n",
    "for option in sido_list:\n",
    "    sido_names.append(option.get_attribute(\"value\"))\n",
    "sido_names"
   ]
  },
  {
   "cell_type": "code",
   "execution_count": 43,
   "id": "0a0a87f3",
   "metadata": {
    "id": "0a0a87f3",
    "outputId": "3360c2c1-5e5d-4111-cd28-3df559d3a423"
   },
   "outputs": [
    {
     "data": {
      "text/plain": [
       "['', '서울특별시', '부산광역시', '대구광역시', '인천광역시']"
      ]
     },
     "execution_count": 43,
     "metadata": {},
     "output_type": "execute_result"
    }
   ],
   "source": [
    "# 2. \n",
    "sido_names = [option.get_attribute(\"value\") for option in sido_list]\n",
    "sido_names[:5]"
   ]
  },
  {
   "cell_type": "code",
   "execution_count": 44,
   "id": "1980a6dd",
   "metadata": {
    "id": "1980a6dd",
    "outputId": "98157afe-549e-493e-d346-38baa6a648cd"
   },
   "outputs": [
    {
     "data": {
      "text/plain": [
       "['서울특별시',\n",
       " '부산광역시',\n",
       " '대구광역시',\n",
       " '인천광역시',\n",
       " '광주광역시',\n",
       " '대전광역시',\n",
       " '울산광역시',\n",
       " '세종특별자치시',\n",
       " '경기도',\n",
       " '강원도',\n",
       " '충청북도',\n",
       " '충청남도',\n",
       " '전라북도',\n",
       " '전라남도',\n",
       " '경상북도',\n",
       " '경상남도',\n",
       " '제주특별자치도']"
      ]
     },
     "execution_count": 44,
     "metadata": {},
     "output_type": "execute_result"
    }
   ],
   "source": [
    "sido_names = sido_names[1:]\n",
    "sido_names"
   ]
  },
  {
   "cell_type": "code",
   "execution_count": 45,
   "id": "e731f292",
   "metadata": {
    "id": "e731f292",
    "outputId": "977f0d03-0c4a-4d20-e2e8-943cbf3955d0"
   },
   "outputs": [
    {
     "data": {
      "text/plain": [
       "'서울특별시'"
      ]
     },
     "execution_count": 45,
     "metadata": {},
     "output_type": "execute_result"
    }
   ],
   "source": [
    "sido_names[0]"
   ]
  },
  {
   "cell_type": "code",
   "execution_count": 46,
   "id": "92d58170",
   "metadata": {
    "id": "92d58170"
   },
   "outputs": [],
   "source": [
    "sido_list_raw.send_keys(sido_names[0])"
   ]
  },
  {
   "cell_type": "code",
   "execution_count": 47,
   "id": "8235c523",
   "metadata": {
    "id": "8235c523",
    "outputId": "c8505424-4b7a-4220-e7d4-540fd92169c2"
   },
   "outputs": [
    {
     "name": "stderr",
     "output_type": "stream",
     "text": [
      "C:\\Users\\ThinkBook\\AppData\\Local\\Temp\\ipykernel_25292\\337297384.py:3: DeprecationWarning: find_element_by_* commands are deprecated. Please use find_element() instead\n",
      "  gu_list_raw = driver.find_element_by_id(\"SIGUNGU_NM0\") # 부모 태그\n"
     ]
    },
    {
     "data": {
      "text/plain": [
       "(['강남구', '강동구', '강북구', '강서구', '관악구'], 25)"
      ]
     },
     "execution_count": 47,
     "metadata": {},
     "output_type": "execute_result"
    }
   ],
   "source": [
    "# 구 \n",
    "\n",
    "gu_list_raw = driver.find_element_by_id(\"SIGUNGU_NM0\") # 부모 태그 \n",
    "gu_list = gu_list_raw.find_elements_by_tag_name(\"option\") # 자식 태그 \n",
    "\n",
    "gu_names = [option.get_attribute(\"value\") for option in gu_list]\n",
    "gu_names = gu_names[1:]\n",
    "gu_names[:5], len(gu_names)"
   ]
  },
  {
   "cell_type": "code",
   "execution_count": 48,
   "id": "8f2ad43e",
   "metadata": {
    "id": "8f2ad43e"
   },
   "outputs": [],
   "source": [
    "gu_list_raw.send_keys(gu_names[15])"
   ]
  },
  {
   "cell_type": "code",
   "execution_count": 49,
   "id": "6fac76e2",
   "metadata": {
    "id": "6fac76e2"
   },
   "outputs": [
    {
     "name": "stderr",
     "output_type": "stream",
     "text": [
      "C:\\Users\\ThinkBook\\AppData\\Local\\Temp\\ipykernel_25292\\3931471348.py:3: DeprecationWarning: find_element_by_css_selector is deprecated. Please use find_element(by=By.CSS_SELECTOR, value=css_selector) instead\n",
      "  driver.find_element_by_css_selector(\"#glopopd_excel\").click()\n"
     ]
    }
   ],
   "source": [
    "# 엑셀 저장 \n",
    "\n",
    "driver.find_element_by_css_selector(\"#glopopd_excel\").click()"
   ]
  },
  {
   "cell_type": "code",
   "execution_count": 50,
   "id": "bd79d9cd",
   "metadata": {
    "id": "bd79d9cd"
   },
   "outputs": [
    {
     "name": "stderr",
     "output_type": "stream",
     "text": [
      "C:\\Users\\ThinkBook\\AppData\\Local\\Temp\\ipykernel_25292\\4056894011.py:1: DeprecationWarning: find_element_by_xpath is deprecated. Please use find_element(by=By.XPATH, value=xpath) instead\n",
      "  driver.find_element_by_xpath('//*[@id=\"glopopd_excel\"]').click()\n"
     ]
    }
   ],
   "source": [
    "driver.find_element_by_xpath('//*[@id=\"glopopd_excel\"]').click()"
   ]
  },
  {
   "cell_type": "code",
   "execution_count": 51,
   "id": "0ad87c7f",
   "metadata": {
    "id": "0ad87c7f"
   },
   "outputs": [
    {
     "name": "stderr",
     "output_type": "stream",
     "text": [
      "C:\\Users\\ThinkBook\\AppData\\Local\\Temp\\ipykernel_25292\\885945290.py:1: DeprecationWarning: find_element_by_* commands are deprecated. Please use find_element() instead\n",
      "  element_get_excel = driver.find_element_by_id(\"glopopd_excel\")\n"
     ]
    }
   ],
   "source": [
    "element_get_excel = driver.find_element_by_id(\"glopopd_excel\")\n",
    "element_get_excel.click()"
   ]
  },
  {
   "cell_type": "code",
   "execution_count": 52,
   "id": "d83dbccb",
   "metadata": {
    "colab": {
     "referenced_widgets": [
      "f3bfbec33d804399aff6b27ac685a671"
     ]
    },
    "id": "d83dbccb",
    "outputId": "562c7d0c-1731-4f50-fcf4-1f5ad526adb4"
   },
   "outputs": [
    {
     "name": "stderr",
     "output_type": "stream",
     "text": [
      "C:\\Users\\ThinkBook\\AppData\\Local\\Temp\\ipykernel_25292\\2345753629.py:4: TqdmDeprecationWarning: This function will be removed in tqdm==5.0.0\n",
      "Please use `tqdm.notebook.tqdm` instead of `tqdm.tqdm_notebook`\n",
      "  for gu in tqdm_notebook(gu_names):\n"
     ]
    },
    {
     "data": {
      "application/vnd.jupyter.widget-view+json": {
       "model_id": "27816e92286749df8a7d4a04b4aeaa42",
       "version_major": 2,
       "version_minor": 0
      },
      "text/plain": [
       "  0%|          | 0/25 [00:00<?, ?it/s]"
      ]
     },
     "metadata": {},
     "output_type": "display_data"
    },
    {
     "name": "stderr",
     "output_type": "stream",
     "text": [
      "C:\\Users\\ThinkBook\\AppData\\Local\\Temp\\ipykernel_25292\\2345753629.py:5: DeprecationWarning: find_element_by_* commands are deprecated. Please use find_element() instead\n",
      "  element = driver.find_element_by_id(\"SIGUNGU_NM0\")\n",
      "C:\\Users\\ThinkBook\\AppData\\Local\\Temp\\ipykernel_25292\\2345753629.py:9: DeprecationWarning: find_element_by_* commands are deprecated. Please use find_element() instead\n",
      "  element_get_excel = driver.find_element_by_id(\"glopopd_excel\").click()\n"
     ]
    }
   ],
   "source": [
    "import time \n",
    "from tqdm import tqdm_notebook\n",
    "\n",
    "for gu in tqdm_notebook(gu_names):\n",
    "    element = driver.find_element_by_id(\"SIGUNGU_NM0\")\n",
    "    element.send_keys(gu)\n",
    "    time.sleep(3)\n",
    "    \n",
    "    element_get_excel = driver.find_element_by_id(\"glopopd_excel\").click()\n",
    "    time.sleep(3)"
   ]
  },
  {
   "cell_type": "code",
   "execution_count": 53,
   "id": "d06d50fc",
   "metadata": {
    "id": "d06d50fc"
   },
   "outputs": [],
   "source": [
    "driver.close() "
   ]
  },
  {
   "cell_type": "markdown",
   "id": "a06f3049",
   "metadata": {
    "id": "a06f3049"
   },
   "source": [
    "## 4. 데이터 정리하기 "
   ]
  },
  {
   "cell_type": "code",
   "execution_count": 5,
   "id": "04ca9dc0",
   "metadata": {
    "id": "04ca9dc0"
   },
   "outputs": [],
   "source": [
    "import pandas as pd \n",
    "from glob import glob "
   ]
  },
  {
   "cell_type": "code",
   "execution_count": 6,
   "id": "49d7c41a",
   "metadata": {
    "id": "49d7c41a"
   },
   "outputs": [],
   "source": [
    "# pip install glob"
   ]
  },
  {
   "cell_type": "code",
   "execution_count": 7,
   "id": "67bd7bc1",
   "metadata": {
    "id": "67bd7bc1",
    "outputId": "6f88f09f-33b1-4fa7-e55d-fcb76e7eaab0"
   },
   "outputs": [
    {
     "data": {
      "text/plain": [
       "['../Self_Oil_Station_Price_Analysis/data\\\\지역_위치별(주유소) (1).xls',\n",
       " '../Self_Oil_Station_Price_Analysis/data\\\\지역_위치별(주유소) (10).xls',\n",
       " '../Self_Oil_Station_Price_Analysis/data\\\\지역_위치별(주유소) (11).xls',\n",
       " '../Self_Oil_Station_Price_Analysis/data\\\\지역_위치별(주유소) (12).xls',\n",
       " '../Self_Oil_Station_Price_Analysis/data\\\\지역_위치별(주유소) (13).xls',\n",
       " '../Self_Oil_Station_Price_Analysis/data\\\\지역_위치별(주유소) (14).xls',\n",
       " '../Self_Oil_Station_Price_Analysis/data\\\\지역_위치별(주유소) (15).xls',\n",
       " '../Self_Oil_Station_Price_Analysis/data\\\\지역_위치별(주유소) (16).xls',\n",
       " '../Self_Oil_Station_Price_Analysis/data\\\\지역_위치별(주유소) (17).xls',\n",
       " '../Self_Oil_Station_Price_Analysis/data\\\\지역_위치별(주유소) (18).xls',\n",
       " '../Self_Oil_Station_Price_Analysis/data\\\\지역_위치별(주유소) (19).xls',\n",
       " '../Self_Oil_Station_Price_Analysis/data\\\\지역_위치별(주유소) (2).xls',\n",
       " '../Self_Oil_Station_Price_Analysis/data\\\\지역_위치별(주유소) (20).xls',\n",
       " '../Self_Oil_Station_Price_Analysis/data\\\\지역_위치별(주유소) (21).xls',\n",
       " '../Self_Oil_Station_Price_Analysis/data\\\\지역_위치별(주유소) (22).xls',\n",
       " '../Self_Oil_Station_Price_Analysis/data\\\\지역_위치별(주유소) (23).xls',\n",
       " '../Self_Oil_Station_Price_Analysis/data\\\\지역_위치별(주유소) (24).xls',\n",
       " '../Self_Oil_Station_Price_Analysis/data\\\\지역_위치별(주유소) (25).xls',\n",
       " '../Self_Oil_Station_Price_Analysis/data\\\\지역_위치별(주유소) (26).xls',\n",
       " '../Self_Oil_Station_Price_Analysis/data\\\\지역_위치별(주유소) (27).xls',\n",
       " '../Self_Oil_Station_Price_Analysis/data\\\\지역_위치별(주유소) (3).xls',\n",
       " '../Self_Oil_Station_Price_Analysis/data\\\\지역_위치별(주유소) (4).xls',\n",
       " '../Self_Oil_Station_Price_Analysis/data\\\\지역_위치별(주유소) (5).xls',\n",
       " '../Self_Oil_Station_Price_Analysis/data\\\\지역_위치별(주유소) (6).xls',\n",
       " '../Self_Oil_Station_Price_Analysis/data\\\\지역_위치별(주유소) (7).xls',\n",
       " '../Self_Oil_Station_Price_Analysis/data\\\\지역_위치별(주유소) (8).xls',\n",
       " '../Self_Oil_Station_Price_Analysis/data\\\\지역_위치별(주유소) (9).xls',\n",
       " '../Self_Oil_Station_Price_Analysis/data\\\\지역_위치별(주유소).xls']"
      ]
     },
     "execution_count": 7,
     "metadata": {},
     "output_type": "execute_result"
    }
   ],
   "source": [
    "# 파일 목록 한 번에 가져오기\n",
    "glob(\"../Self_Oil_Station_Price_Analysis/data/지역_*.xls\")"
   ]
  },
  {
   "cell_type": "code",
   "execution_count": 8,
   "id": "5e028fec",
   "metadata": {
    "id": "5e028fec",
    "outputId": "4f28bbca-1f76-45f8-c839-d1121a86d459"
   },
   "outputs": [
    {
     "data": {
      "text/plain": [
       "['../Self_Oil_Station_Price_Analysis/data\\\\지역_위치별(주유소) (1).xls',\n",
       " '../Self_Oil_Station_Price_Analysis/data\\\\지역_위치별(주유소) (10).xls',\n",
       " '../Self_Oil_Station_Price_Analysis/data\\\\지역_위치별(주유소) (11).xls',\n",
       " '../Self_Oil_Station_Price_Analysis/data\\\\지역_위치별(주유소) (12).xls',\n",
       " '../Self_Oil_Station_Price_Analysis/data\\\\지역_위치별(주유소) (13).xls']"
      ]
     },
     "execution_count": 8,
     "metadata": {},
     "output_type": "execute_result"
    }
   ],
   "source": [
    "# 파일명 저장 \n",
    "stations_files = glob(\"../Self_Oil_Station_Price_Analysis/data/지역_*.xls\")\n",
    "stations_files[:5]"
   ]
  },
  {
   "cell_type": "code",
   "execution_count": 9,
   "id": "2fcd3f62",
   "metadata": {
    "id": "2fcd3f62",
    "outputId": "68ecc52b-169a-43bd-db62-182ec7dfa83a"
   },
   "outputs": [
    {
     "data": {
      "text/html": [
       "<div>\n",
       "<style scoped>\n",
       "    .dataframe tbody tr th:only-of-type {\n",
       "        vertical-align: middle;\n",
       "    }\n",
       "\n",
       "    .dataframe tbody tr th {\n",
       "        vertical-align: top;\n",
       "    }\n",
       "\n",
       "    .dataframe thead th {\n",
       "        text-align: right;\n",
       "    }\n",
       "</style>\n",
       "<table border=\"1\" class=\"dataframe\">\n",
       "  <thead>\n",
       "    <tr style=\"text-align: right;\">\n",
       "      <th></th>\n",
       "      <th>지역</th>\n",
       "      <th>상호</th>\n",
       "      <th>주소</th>\n",
       "      <th>상표</th>\n",
       "      <th>전화번호</th>\n",
       "      <th>셀프여부</th>\n",
       "      <th>고급휘발유</th>\n",
       "      <th>휘발유</th>\n",
       "      <th>경유</th>\n",
       "      <th>실내등유</th>\n",
       "    </tr>\n",
       "  </thead>\n",
       "  <tbody>\n",
       "    <tr>\n",
       "      <th>15</th>\n",
       "      <td>서울특별시</td>\n",
       "      <td>(주)옥수하이웨이스테이션</td>\n",
       "      <td>서울 성동구 독서당로 168 (옥수동)</td>\n",
       "      <td>GS칼텍스</td>\n",
       "      <td>02-2282-5151</td>\n",
       "      <td>N</td>\n",
       "      <td>2498</td>\n",
       "      <td>2298</td>\n",
       "      <td>2161</td>\n",
       "      <td>-</td>\n",
       "    </tr>\n",
       "    <tr>\n",
       "      <th>16</th>\n",
       "      <td>서울특별시</td>\n",
       "      <td>동일주유소</td>\n",
       "      <td>서울 성동구 광나루로 254 (성수동2가)</td>\n",
       "      <td>현대오일뱅크</td>\n",
       "      <td>02-461-7100</td>\n",
       "      <td>N</td>\n",
       "      <td>2589</td>\n",
       "      <td>2328</td>\n",
       "      <td>2233</td>\n",
       "      <td>1639</td>\n",
       "    </tr>\n",
       "  </tbody>\n",
       "</table>\n",
       "</div>"
      ],
      "text/plain": [
       "       지역             상호                       주소      상표          전화번호 셀프여부  \\\n",
       "15  서울특별시  (주)옥수하이웨이스테이션    서울 성동구 독서당로 168 (옥수동)   GS칼텍스  02-2282-5151    N   \n",
       "16  서울특별시          동일주유소  서울 성동구 광나루로 254 (성수동2가)  현대오일뱅크   02-461-7100    N   \n",
       "\n",
       "   고급휘발유   휘발유    경유  실내등유  \n",
       "15  2498  2298  2161     -  \n",
       "16  2589  2328  2233  1639  "
      ]
     },
     "execution_count": 9,
     "metadata": {},
     "output_type": "execute_result"
    }
   ],
   "source": [
    "# 하나만 읽어보기 \n",
    "tmp = pd.read_excel(stations_files[0], header=2)\n",
    "tmp.tail(2)"
   ]
  },
  {
   "cell_type": "code",
   "execution_count": 10,
   "id": "0601d79d",
   "metadata": {
    "id": "0601d79d"
   },
   "outputs": [],
   "source": [
    "tmp_raw = [] \n",
    "\n",
    "for file_name in stations_files:\n",
    "    tmp = pd.read_excel(file_name, header=2)\n",
    "    tmp_raw.append(tmp)"
   ]
  },
  {
   "cell_type": "markdown",
   "id": "a4918628",
   "metadata": {
    "id": "a4918628"
   },
   "source": [
    "- 형식이 동일하고 연달아 붙이기만 하면 될 때는 concat "
   ]
  },
  {
   "cell_type": "code",
   "execution_count": 11,
   "id": "17f27ac2",
   "metadata": {
    "id": "17f27ac2",
    "outputId": "a2700ed8-7641-43da-b81d-23a3fc5f473f"
   },
   "outputs": [
    {
     "data": {
      "text/html": [
       "<div>\n",
       "<style scoped>\n",
       "    .dataframe tbody tr th:only-of-type {\n",
       "        vertical-align: middle;\n",
       "    }\n",
       "\n",
       "    .dataframe tbody tr th {\n",
       "        vertical-align: top;\n",
       "    }\n",
       "\n",
       "    .dataframe thead th {\n",
       "        text-align: right;\n",
       "    }\n",
       "</style>\n",
       "<table border=\"1\" class=\"dataframe\">\n",
       "  <thead>\n",
       "    <tr style=\"text-align: right;\">\n",
       "      <th></th>\n",
       "      <th>지역</th>\n",
       "      <th>상호</th>\n",
       "      <th>주소</th>\n",
       "      <th>상표</th>\n",
       "      <th>전화번호</th>\n",
       "      <th>셀프여부</th>\n",
       "      <th>고급휘발유</th>\n",
       "      <th>휘발유</th>\n",
       "      <th>경유</th>\n",
       "      <th>실내등유</th>\n",
       "    </tr>\n",
       "  </thead>\n",
       "  <tbody>\n",
       "    <tr>\n",
       "      <th>0</th>\n",
       "      <td>서울특별시</td>\n",
       "      <td>정호주유소</td>\n",
       "      <td>서울 성동구 고산자로 307 (마장동)</td>\n",
       "      <td>자가상표</td>\n",
       "      <td>02-2297-9442</td>\n",
       "      <td>N</td>\n",
       "      <td>-</td>\n",
       "      <td>1958</td>\n",
       "      <td>1898</td>\n",
       "      <td>-</td>\n",
       "    </tr>\n",
       "    <tr>\n",
       "      <th>1</th>\n",
       "      <td>서울특별시</td>\n",
       "      <td>아이콘주유소</td>\n",
       "      <td>서울 성동구 고산자로 273 (도선동)</td>\n",
       "      <td>S-OIL</td>\n",
       "      <td>02-2291-5189</td>\n",
       "      <td>N</td>\n",
       "      <td>-</td>\n",
       "      <td>1958</td>\n",
       "      <td>1898</td>\n",
       "      <td>-</td>\n",
       "    </tr>\n",
       "    <tr>\n",
       "      <th>2</th>\n",
       "      <td>서울특별시</td>\n",
       "      <td>(주)서울에너지 직영</td>\n",
       "      <td>서울 성동구 천호대로 324 (용답동)</td>\n",
       "      <td>S-OIL</td>\n",
       "      <td>02-3390-4338</td>\n",
       "      <td>Y</td>\n",
       "      <td>-</td>\n",
       "      <td>1962</td>\n",
       "      <td>1862</td>\n",
       "      <td>-</td>\n",
       "    </tr>\n",
       "    <tr>\n",
       "      <th>3</th>\n",
       "      <td>서울특별시</td>\n",
       "      <td>KLP제2주유소</td>\n",
       "      <td>서울 성동구 동일로 249 (송정동)</td>\n",
       "      <td>현대오일뱅크</td>\n",
       "      <td>02-465-5182</td>\n",
       "      <td>Y</td>\n",
       "      <td>-</td>\n",
       "      <td>1977</td>\n",
       "      <td>1887</td>\n",
       "      <td>-</td>\n",
       "    </tr>\n",
       "    <tr>\n",
       "      <th>4</th>\n",
       "      <td>서울특별시</td>\n",
       "      <td>현대오일뱅크(주) 성동셀프주유소</td>\n",
       "      <td>서울 성동구 마장로 311 (마장동)</td>\n",
       "      <td>현대오일뱅크</td>\n",
       "      <td>02-2299-7333</td>\n",
       "      <td>Y</td>\n",
       "      <td>2196</td>\n",
       "      <td>1985</td>\n",
       "      <td>1910</td>\n",
       "      <td>-</td>\n",
       "    </tr>\n",
       "    <tr>\n",
       "      <th>...</th>\n",
       "      <td>...</td>\n",
       "      <td>...</td>\n",
       "      <td>...</td>\n",
       "      <td>...</td>\n",
       "      <td>...</td>\n",
       "      <td>...</td>\n",
       "      <td>...</td>\n",
       "      <td>...</td>\n",
       "      <td>...</td>\n",
       "      <td>...</td>\n",
       "    </tr>\n",
       "    <tr>\n",
       "      <th>12</th>\n",
       "      <td>서울특별시</td>\n",
       "      <td>SK세원2주유소</td>\n",
       "      <td>서울 성동구 광나루로 184 (성수동1가)</td>\n",
       "      <td>SK에너지</td>\n",
       "      <td>02-462-5665</td>\n",
       "      <td>N</td>\n",
       "      <td>2505</td>\n",
       "      <td>2175</td>\n",
       "      <td>2094</td>\n",
       "      <td>-</td>\n",
       "    </tr>\n",
       "    <tr>\n",
       "      <th>13</th>\n",
       "      <td>서울특별시</td>\n",
       "      <td>금호주유소</td>\n",
       "      <td>서울 성동구 금호로 39 (금호동4가)</td>\n",
       "      <td>GS칼텍스</td>\n",
       "      <td>02-2297-0066</td>\n",
       "      <td>N</td>\n",
       "      <td>2436</td>\n",
       "      <td>2235</td>\n",
       "      <td>2136</td>\n",
       "      <td>1740</td>\n",
       "    </tr>\n",
       "    <tr>\n",
       "      <th>14</th>\n",
       "      <td>서울특별시</td>\n",
       "      <td>(주)옥수하이웨이스테이션</td>\n",
       "      <td>서울 성동구 독서당로 168 (옥수동)</td>\n",
       "      <td>GS칼텍스</td>\n",
       "      <td>02-2282-5151</td>\n",
       "      <td>N</td>\n",
       "      <td>2498</td>\n",
       "      <td>2298</td>\n",
       "      <td>2161</td>\n",
       "      <td>-</td>\n",
       "    </tr>\n",
       "    <tr>\n",
       "      <th>15</th>\n",
       "      <td>서울특별시</td>\n",
       "      <td>청계로주유소</td>\n",
       "      <td>서울 성동구 청계천로 454 (하왕십리동)</td>\n",
       "      <td>SK에너지</td>\n",
       "      <td>02-2294-4225</td>\n",
       "      <td>N</td>\n",
       "      <td>-</td>\n",
       "      <td>2298</td>\n",
       "      <td>2197</td>\n",
       "      <td>1595</td>\n",
       "    </tr>\n",
       "    <tr>\n",
       "      <th>16</th>\n",
       "      <td>서울특별시</td>\n",
       "      <td>동일주유소</td>\n",
       "      <td>서울 성동구 광나루로 254 (성수동2가)</td>\n",
       "      <td>현대오일뱅크</td>\n",
       "      <td>02-461-7100</td>\n",
       "      <td>N</td>\n",
       "      <td>2589</td>\n",
       "      <td>2328</td>\n",
       "      <td>2233</td>\n",
       "      <td>1639</td>\n",
       "    </tr>\n",
       "  </tbody>\n",
       "</table>\n",
       "<p>516 rows × 10 columns</p>\n",
       "</div>"
      ],
      "text/plain": [
       "       지역                 상호                       주소      상표          전화번호  \\\n",
       "0   서울특별시              정호주유소    서울 성동구 고산자로 307 (마장동)    자가상표  02-2297-9442   \n",
       "1   서울특별시             아이콘주유소    서울 성동구 고산자로 273 (도선동)   S-OIL  02-2291-5189   \n",
       "2   서울특별시        (주)서울에너지 직영    서울 성동구 천호대로 324 (용답동)   S-OIL  02-3390-4338   \n",
       "3   서울특별시           KLP제2주유소     서울 성동구 동일로 249 (송정동)  현대오일뱅크   02-465-5182   \n",
       "4   서울특별시  현대오일뱅크(주) 성동셀프주유소     서울 성동구 마장로 311 (마장동)  현대오일뱅크  02-2299-7333   \n",
       "..    ...                ...                      ...     ...           ...   \n",
       "12  서울특별시           SK세원2주유소  서울 성동구 광나루로 184 (성수동1가)   SK에너지   02-462-5665   \n",
       "13  서울특별시              금호주유소    서울 성동구 금호로 39 (금호동4가)   GS칼텍스  02-2297-0066   \n",
       "14  서울특별시      (주)옥수하이웨이스테이션    서울 성동구 독서당로 168 (옥수동)   GS칼텍스  02-2282-5151   \n",
       "15  서울특별시             청계로주유소  서울 성동구 청계천로 454 (하왕십리동)   SK에너지  02-2294-4225   \n",
       "16  서울특별시              동일주유소  서울 성동구 광나루로 254 (성수동2가)  현대오일뱅크   02-461-7100   \n",
       "\n",
       "   셀프여부 고급휘발유   휘발유    경유  실내등유  \n",
       "0     N     -  1958  1898     -  \n",
       "1     N     -  1958  1898     -  \n",
       "2     Y     -  1962  1862     -  \n",
       "3     Y     -  1977  1887     -  \n",
       "4     Y  2196  1985  1910     -  \n",
       "..  ...   ...   ...   ...   ...  \n",
       "12    N  2505  2175  2094     -  \n",
       "13    N  2436  2235  2136  1740  \n",
       "14    N  2498  2298  2161     -  \n",
       "15    N     -  2298  2197  1595  \n",
       "16    N  2589  2328  2233  1639  \n",
       "\n",
       "[516 rows x 10 columns]"
      ]
     },
     "execution_count": 11,
     "metadata": {},
     "output_type": "execute_result"
    }
   ],
   "source": [
    "stations_raw = pd.concat(tmp_raw)\n",
    "stations_raw"
   ]
  },
  {
   "cell_type": "code",
   "execution_count": 12,
   "id": "b99c0469",
   "metadata": {
    "id": "b99c0469",
    "outputId": "df6d8cb8-9eb1-4cfb-de39-e22dc134ac96"
   },
   "outputs": [
    {
     "name": "stdout",
     "output_type": "stream",
     "text": [
      "<class 'pandas.core.frame.DataFrame'>\n",
      "Int64Index: 516 entries, 0 to 16\n",
      "Data columns (total 10 columns):\n",
      " #   Column  Non-Null Count  Dtype \n",
      "---  ------  --------------  ----- \n",
      " 0   지역      516 non-null    object\n",
      " 1   상호      516 non-null    object\n",
      " 2   주소      516 non-null    object\n",
      " 3   상표      516 non-null    object\n",
      " 4   전화번호    516 non-null    object\n",
      " 5   셀프여부    516 non-null    object\n",
      " 6   고급휘발유   516 non-null    object\n",
      " 7   휘발유     516 non-null    object\n",
      " 8   경유      516 non-null    object\n",
      " 9   실내등유    516 non-null    object\n",
      "dtypes: object(10)\n",
      "memory usage: 44.3+ KB\n"
     ]
    }
   ],
   "source": [
    "stations_raw.info()"
   ]
  },
  {
   "cell_type": "code",
   "execution_count": 13,
   "id": "44083457",
   "metadata": {
    "id": "44083457",
    "outputId": "54d21740-6df7-4278-907a-d690a586c391"
   },
   "outputs": [
    {
     "data": {
      "text/plain": [
       "Index(['지역', '상호', '주소', '상표', '전화번호', '셀프여부', '고급휘발유', '휘발유', '경유', '실내등유'], dtype='object')"
      ]
     },
     "execution_count": 13,
     "metadata": {},
     "output_type": "execute_result"
    }
   ],
   "source": [
    "stations_raw.columns"
   ]
  },
  {
   "cell_type": "code",
   "execution_count": 14,
   "id": "3ae05555",
   "metadata": {
    "id": "3ae05555",
    "outputId": "2782a2a8-9688-4df4-a37e-42f4d2380c95"
   },
   "outputs": [
    {
     "data": {
      "text/html": [
       "<div>\n",
       "<style scoped>\n",
       "    .dataframe tbody tr th:only-of-type {\n",
       "        vertical-align: middle;\n",
       "    }\n",
       "\n",
       "    .dataframe tbody tr th {\n",
       "        vertical-align: top;\n",
       "    }\n",
       "\n",
       "    .dataframe thead th {\n",
       "        text-align: right;\n",
       "    }\n",
       "</style>\n",
       "<table border=\"1\" class=\"dataframe\">\n",
       "  <thead>\n",
       "    <tr style=\"text-align: right;\">\n",
       "      <th></th>\n",
       "      <th>상호</th>\n",
       "      <th>주소</th>\n",
       "      <th>가격</th>\n",
       "      <th>셀프</th>\n",
       "      <th>상표</th>\n",
       "    </tr>\n",
       "  </thead>\n",
       "  <tbody>\n",
       "    <tr>\n",
       "      <th>12</th>\n",
       "      <td>SK세원2주유소</td>\n",
       "      <td>서울 성동구 광나루로 184 (성수동1가)</td>\n",
       "      <td>2175</td>\n",
       "      <td>N</td>\n",
       "      <td>SK에너지</td>\n",
       "    </tr>\n",
       "    <tr>\n",
       "      <th>13</th>\n",
       "      <td>금호주유소</td>\n",
       "      <td>서울 성동구 금호로 39 (금호동4가)</td>\n",
       "      <td>2235</td>\n",
       "      <td>N</td>\n",
       "      <td>GS칼텍스</td>\n",
       "    </tr>\n",
       "    <tr>\n",
       "      <th>14</th>\n",
       "      <td>(주)옥수하이웨이스테이션</td>\n",
       "      <td>서울 성동구 독서당로 168 (옥수동)</td>\n",
       "      <td>2298</td>\n",
       "      <td>N</td>\n",
       "      <td>GS칼텍스</td>\n",
       "    </tr>\n",
       "    <tr>\n",
       "      <th>15</th>\n",
       "      <td>청계로주유소</td>\n",
       "      <td>서울 성동구 청계천로 454 (하왕십리동)</td>\n",
       "      <td>2298</td>\n",
       "      <td>N</td>\n",
       "      <td>SK에너지</td>\n",
       "    </tr>\n",
       "    <tr>\n",
       "      <th>16</th>\n",
       "      <td>동일주유소</td>\n",
       "      <td>서울 성동구 광나루로 254 (성수동2가)</td>\n",
       "      <td>2328</td>\n",
       "      <td>N</td>\n",
       "      <td>현대오일뱅크</td>\n",
       "    </tr>\n",
       "  </tbody>\n",
       "</table>\n",
       "</div>"
      ],
      "text/plain": [
       "               상호                       주소    가격 셀프      상표\n",
       "12       SK세원2주유소  서울 성동구 광나루로 184 (성수동1가)  2175  N   SK에너지\n",
       "13          금호주유소    서울 성동구 금호로 39 (금호동4가)  2235  N   GS칼텍스\n",
       "14  (주)옥수하이웨이스테이션    서울 성동구 독서당로 168 (옥수동)  2298  N   GS칼텍스\n",
       "15         청계로주유소  서울 성동구 청계천로 454 (하왕십리동)  2298  N   SK에너지\n",
       "16          동일주유소  서울 성동구 광나루로 254 (성수동2가)  2328  N  현대오일뱅크"
      ]
     },
     "execution_count": 14,
     "metadata": {},
     "output_type": "execute_result"
    }
   ],
   "source": [
    "stations = pd.DataFrame({\n",
    "    \"상호\": stations_raw[\"상호\"],\n",
    "    \"주소\": stations_raw[\"주소\"], \n",
    "    \"가격\": stations_raw[\"휘발유\"],\n",
    "    \"셀프\": stations_raw[\"셀프여부\"],\n",
    "    \"상표\": stations_raw[\"상표\"]\n",
    "})\n",
    "stations.tail()"
   ]
  },
  {
   "cell_type": "code",
   "execution_count": 15,
   "id": "3b4576ee",
   "metadata": {
    "id": "3b4576ee",
    "outputId": "e5ee7991-720f-4dd3-a6b2-8831f3d9cc3d"
   },
   "outputs": [
    {
     "name": "stdout",
     "output_type": "stream",
     "text": [
      "성동구\n",
      "성동구\n",
      "성동구\n",
      "성동구\n",
      "성동구\n",
      "성동구\n",
      "성동구\n",
      "성동구\n",
      "성동구\n",
      "성동구\n",
      "성동구\n",
      "성동구\n",
      "성동구\n",
      "성동구\n",
      "성동구\n",
      "성동구\n",
      "성동구\n",
      "금천구\n",
      "금천구\n",
      "금천구\n",
      "금천구\n",
      "금천구\n",
      "금천구\n",
      "금천구\n",
      "금천구\n",
      "금천구\n",
      "금천구\n",
      "금천구\n",
      "노원구\n",
      "노원구\n",
      "노원구\n",
      "노원구\n",
      "노원구\n",
      "노원구\n",
      "노원구\n",
      "노원구\n",
      "노원구\n",
      "노원구\n",
      "노원구\n",
      "노원구\n",
      "노원구\n",
      "노원구\n",
      "노원구\n",
      "도봉구\n",
      "도봉구\n",
      "도봉구\n",
      "도봉구\n",
      "도봉구\n",
      "도봉구\n",
      "도봉구\n",
      "도봉구\n",
      "도봉구\n",
      "도봉구\n",
      "도봉구\n",
      "도봉구\n",
      "도봉구\n",
      "도봉구\n",
      "도봉구\n",
      "도봉구\n",
      "동대문구\n",
      "동대문구\n",
      "동대문구\n",
      "동대문구\n",
      "동대문구\n",
      "동대문구\n",
      "동대문구\n",
      "동대문구\n",
      "동대문구\n",
      "동대문구\n",
      "동대문구\n",
      "동대문구\n",
      "동대문구\n",
      "동대문구\n",
      "동대문구\n",
      "동대문구\n",
      "동대문구\n",
      "동대문구\n",
      "동대문구\n",
      "동작구\n",
      "동작구\n",
      "동작구\n",
      "동작구\n",
      "동작구\n",
      "동작구\n",
      "동작구\n",
      "동작구\n",
      "동작구\n",
      "동작구\n",
      "마포구\n",
      "마포구\n",
      "마포구\n",
      "마포구\n",
      "마포구\n",
      "마포구\n",
      "마포구\n",
      "마포구\n",
      "마포구\n",
      "마포구\n",
      "마포구\n",
      "마포구\n",
      "서대문구\n",
      "서대문구\n",
      "서대문구\n",
      "서대문구\n",
      "서대문구\n",
      "서대문구\n",
      "서대문구\n",
      "서대문구\n",
      "서대문구\n",
      "서대문구\n",
      "서대문구\n",
      "서대문구\n",
      "서대문구\n",
      "서대문구\n",
      "서대문구\n",
      "서초구\n",
      "서초구\n",
      "서초구\n",
      "서초구\n",
      "서초구\n",
      "서초구\n",
      "서초구\n",
      "서초구\n",
      "서초구\n",
      "서초구\n",
      "서초구\n",
      "서초구\n",
      "서초구\n",
      "서초구\n",
      "서초구\n",
      "서초구\n",
      "서초구\n",
      "서초구\n",
      "서초구\n",
      "서초구\n",
      "서초구\n",
      "서초구\n",
      "서초구\n",
      "서초구\n",
      "서초구\n",
      "서초구\n",
      "서초구\n",
      "서초구\n",
      "서초구\n",
      "서초구\n",
      "서초구\n",
      "서초구\n",
      "서초구\n",
      "성동구\n",
      "성동구\n",
      "성동구\n",
      "성동구\n",
      "성동구\n",
      "성동구\n",
      "성동구\n",
      "성동구\n",
      "성동구\n",
      "성동구\n",
      "성동구\n",
      "성동구\n",
      "성동구\n",
      "성동구\n",
      "성동구\n",
      "성동구\n",
      "성동구\n",
      "성북구\n",
      "성북구\n",
      "성북구\n",
      "성북구\n",
      "성북구\n",
      "성북구\n",
      "성북구\n",
      "성북구\n",
      "성북구\n",
      "성북구\n",
      "성북구\n",
      "성북구\n",
      "성북구\n",
      "성북구\n",
      "성북구\n",
      "성북구\n",
      "성북구\n",
      "성북구\n",
      "성북구\n",
      "성북구\n",
      "성북구\n",
      "성북구\n",
      "성북구\n",
      "성북구\n",
      "성동구\n",
      "성동구\n",
      "성동구\n",
      "성동구\n",
      "성동구\n",
      "성동구\n",
      "성동구\n",
      "성동구\n",
      "성동구\n",
      "성동구\n",
      "성동구\n",
      "성동구\n",
      "성동구\n",
      "성동구\n",
      "성동구\n",
      "성동구\n",
      "성동구\n",
      "송파구\n",
      "송파구\n",
      "송파구\n",
      "송파구\n",
      "송파구\n",
      "송파구\n",
      "송파구\n",
      "송파구\n",
      "송파구\n",
      "송파구\n",
      "송파구\n",
      "송파구\n",
      "송파구\n",
      "송파구\n",
      "송파구\n",
      "송파구\n",
      "송파구\n",
      "송파구\n",
      "송파구\n",
      "송파구\n",
      "송파구\n",
      "송파구\n",
      "송파구\n",
      "송파구\n",
      "송파구\n",
      "송파구\n",
      "송파구\n",
      "송파구\n",
      "송파구\n",
      "송파구\n",
      "송파구\n",
      "송파구\n",
      "양천구\n",
      "양천구\n",
      "양천구\n",
      "양천구\n",
      "양천구\n",
      "양천구\n",
      "양천구\n",
      "양천구\n",
      "양천구\n",
      "양천구\n",
      "양천구\n",
      "양천구\n",
      "양천구\n",
      "양천구\n",
      "양천구\n",
      "양천구\n",
      "양천구\n",
      "양천구\n",
      "양천구\n",
      "양천구\n",
      "양천구\n",
      "양천구\n",
      "양천구\n",
      "양천구\n",
      "양천구\n",
      "영등포구\n",
      "영등포구\n",
      "영등포구\n",
      "영등포구\n",
      "영등포구\n",
      "영등포구\n",
      "영등포구\n",
      "영등포구\n",
      "영등포구\n",
      "영등포구\n",
      "영등포구\n",
      "영등포구\n",
      "영등포구\n",
      "영등포구\n",
      "영등포구\n",
      "영등포구\n",
      "영등포구\n",
      "영등포구\n",
      "영등포구\n",
      "영등포구\n",
      "영등포구\n",
      "영등포구\n",
      "영등포구\n",
      "영등포구\n",
      "영등포구\n",
      "영등포구\n",
      "영등포구\n",
      "용산구\n",
      "용산구\n",
      "용산구\n",
      "용산구\n",
      "용산구\n",
      "용산구\n",
      "용산구\n",
      "용산구\n",
      "용산구\n",
      "용산구\n",
      "용산구\n",
      "용산구\n",
      "용산구\n",
      "은평구\n",
      "은평구\n",
      "은평구\n",
      "은평구\n",
      "은평구\n",
      "은평구\n",
      "은평구\n",
      "은평구\n",
      "은평구\n",
      "은평구\n",
      "은평구\n",
      "은평구\n",
      "은평구\n",
      "은평구\n",
      "은평구\n",
      "은평구\n",
      "은평구\n",
      "종로구\n",
      "종로구\n",
      "종로구\n",
      "종로구\n",
      "종로구\n",
      "종로구\n",
      "종로구\n",
      "종로구\n",
      "종로구\n",
      "중구\n",
      "중구\n",
      "중구\n",
      "중구\n",
      "중구\n",
      "중구\n",
      "중구\n",
      "중구\n",
      "중구\n",
      "중구\n",
      "중구\n",
      "중랑구\n",
      "중랑구\n",
      "중랑구\n",
      "중랑구\n",
      "중랑구\n",
      "중랑구\n",
      "중랑구\n",
      "중랑구\n",
      "중랑구\n",
      "중랑구\n",
      "중랑구\n",
      "중랑구\n",
      "중랑구\n",
      "중랑구\n",
      "강남구\n",
      "강남구\n",
      "강남구\n",
      "강남구\n",
      "강남구\n",
      "강남구\n",
      "강남구\n",
      "강남구\n",
      "강남구\n",
      "강남구\n",
      "강남구\n",
      "강남구\n",
      "강남구\n",
      "강남구\n",
      "강남구\n",
      "강남구\n",
      "강남구\n",
      "강남구\n",
      "강남구\n",
      "강남구\n",
      "강남구\n",
      "강남구\n",
      "강남구\n",
      "강남구\n",
      "강남구\n",
      "강남구\n",
      "강남구\n",
      "강남구\n",
      "강남구\n",
      "강남구\n",
      "강남구\n",
      "강남구\n",
      "강남구\n",
      "강남구\n",
      "강남구\n",
      "강남구\n",
      "강동구\n",
      "강동구\n",
      "강동구\n",
      "강동구\n",
      "강동구\n",
      "강동구\n",
      "강동구\n",
      "강동구\n",
      "강동구\n",
      "강동구\n",
      "강동구\n",
      "강동구\n",
      "강동구\n",
      "강동구\n",
      "강북구\n",
      "강북구\n",
      "강북구\n",
      "강북구\n",
      "강북구\n",
      "강북구\n",
      "강북구\n",
      "강북구\n",
      "강북구\n",
      "강북구\n",
      "강북구\n",
      "강북구\n",
      "강북구\n",
      "강서구\n",
      "강서구\n",
      "강서구\n",
      "강서구\n",
      "강서구\n",
      "강서구\n",
      "강서구\n",
      "강서구\n",
      "강서구\n",
      "강서구\n",
      "강서구\n",
      "강서구\n",
      "강서구\n",
      "강서구\n",
      "강서구\n",
      "강서구\n",
      "강서구\n",
      "강서구\n",
      "강서구\n",
      "강서구\n",
      "강서구\n",
      "강서구\n",
      "강서구\n",
      "강서구\n",
      "강서구\n",
      "강서구\n",
      "강서구\n",
      "강서구\n",
      "강서구\n",
      "강서구\n",
      "강서구\n",
      "강서구\n",
      "관악구\n",
      "관악구\n",
      "관악구\n",
      "관악구\n",
      "관악구\n",
      "관악구\n",
      "관악구\n",
      "관악구\n",
      "관악구\n",
      "관악구\n",
      "관악구\n",
      "관악구\n",
      "관악구\n",
      "관악구\n",
      "광진구\n",
      "광진구\n",
      "광진구\n",
      "광진구\n",
      "광진구\n",
      "광진구\n",
      "광진구\n",
      "광진구\n",
      "광진구\n",
      "광진구\n",
      "광진구\n",
      "광진구\n",
      "광진구\n",
      "광진구\n",
      "광진구\n",
      "구로구\n",
      "구로구\n",
      "구로구\n",
      "구로구\n",
      "구로구\n",
      "구로구\n",
      "구로구\n",
      "구로구\n",
      "구로구\n",
      "구로구\n",
      "구로구\n",
      "구로구\n",
      "구로구\n",
      "구로구\n",
      "구로구\n",
      "구로구\n",
      "구로구\n",
      "구로구\n",
      "구로구\n",
      "구로구\n",
      "구로구\n",
      "성동구\n",
      "성동구\n",
      "성동구\n",
      "성동구\n",
      "성동구\n",
      "성동구\n",
      "성동구\n",
      "성동구\n",
      "성동구\n",
      "성동구\n",
      "성동구\n",
      "성동구\n",
      "성동구\n",
      "성동구\n",
      "성동구\n",
      "성동구\n",
      "성동구\n"
     ]
    }
   ],
   "source": [
    "for eachAddress in stations[\"주소\"]:\n",
    "    print(eachAddress.split()[1])"
   ]
  },
  {
   "cell_type": "code",
   "execution_count": 16,
   "id": "5df36cc7",
   "metadata": {
    "id": "5df36cc7",
    "outputId": "2fe3d135-30d2-4bf4-dfa2-76ab6edefa0d"
   },
   "outputs": [
    {
     "data": {
      "text/html": [
       "<div>\n",
       "<style scoped>\n",
       "    .dataframe tbody tr th:only-of-type {\n",
       "        vertical-align: middle;\n",
       "    }\n",
       "\n",
       "    .dataframe tbody tr th {\n",
       "        vertical-align: top;\n",
       "    }\n",
       "\n",
       "    .dataframe thead th {\n",
       "        text-align: right;\n",
       "    }\n",
       "</style>\n",
       "<table border=\"1\" class=\"dataframe\">\n",
       "  <thead>\n",
       "    <tr style=\"text-align: right;\">\n",
       "      <th></th>\n",
       "      <th>상호</th>\n",
       "      <th>주소</th>\n",
       "      <th>가격</th>\n",
       "      <th>셀프</th>\n",
       "      <th>상표</th>\n",
       "      <th>구</th>\n",
       "    </tr>\n",
       "  </thead>\n",
       "  <tbody>\n",
       "    <tr>\n",
       "      <th>0</th>\n",
       "      <td>정호주유소</td>\n",
       "      <td>서울 성동구 고산자로 307 (마장동)</td>\n",
       "      <td>1958</td>\n",
       "      <td>N</td>\n",
       "      <td>자가상표</td>\n",
       "      <td>성동구</td>\n",
       "    </tr>\n",
       "    <tr>\n",
       "      <th>1</th>\n",
       "      <td>아이콘주유소</td>\n",
       "      <td>서울 성동구 고산자로 273 (도선동)</td>\n",
       "      <td>1958</td>\n",
       "      <td>N</td>\n",
       "      <td>S-OIL</td>\n",
       "      <td>성동구</td>\n",
       "    </tr>\n",
       "    <tr>\n",
       "      <th>2</th>\n",
       "      <td>(주)서울에너지 직영</td>\n",
       "      <td>서울 성동구 천호대로 324 (용답동)</td>\n",
       "      <td>1962</td>\n",
       "      <td>Y</td>\n",
       "      <td>S-OIL</td>\n",
       "      <td>성동구</td>\n",
       "    </tr>\n",
       "    <tr>\n",
       "      <th>3</th>\n",
       "      <td>KLP제2주유소</td>\n",
       "      <td>서울 성동구 동일로 249 (송정동)</td>\n",
       "      <td>1977</td>\n",
       "      <td>Y</td>\n",
       "      <td>현대오일뱅크</td>\n",
       "      <td>성동구</td>\n",
       "    </tr>\n",
       "    <tr>\n",
       "      <th>4</th>\n",
       "      <td>현대오일뱅크(주) 성동셀프주유소</td>\n",
       "      <td>서울 성동구 마장로 311 (마장동)</td>\n",
       "      <td>1985</td>\n",
       "      <td>Y</td>\n",
       "      <td>현대오일뱅크</td>\n",
       "      <td>성동구</td>\n",
       "    </tr>\n",
       "    <tr>\n",
       "      <th>...</th>\n",
       "      <td>...</td>\n",
       "      <td>...</td>\n",
       "      <td>...</td>\n",
       "      <td>...</td>\n",
       "      <td>...</td>\n",
       "      <td>...</td>\n",
       "    </tr>\n",
       "    <tr>\n",
       "      <th>12</th>\n",
       "      <td>SK세원2주유소</td>\n",
       "      <td>서울 성동구 광나루로 184 (성수동1가)</td>\n",
       "      <td>2175</td>\n",
       "      <td>N</td>\n",
       "      <td>SK에너지</td>\n",
       "      <td>성동구</td>\n",
       "    </tr>\n",
       "    <tr>\n",
       "      <th>13</th>\n",
       "      <td>금호주유소</td>\n",
       "      <td>서울 성동구 금호로 39 (금호동4가)</td>\n",
       "      <td>2235</td>\n",
       "      <td>N</td>\n",
       "      <td>GS칼텍스</td>\n",
       "      <td>성동구</td>\n",
       "    </tr>\n",
       "    <tr>\n",
       "      <th>14</th>\n",
       "      <td>(주)옥수하이웨이스테이션</td>\n",
       "      <td>서울 성동구 독서당로 168 (옥수동)</td>\n",
       "      <td>2298</td>\n",
       "      <td>N</td>\n",
       "      <td>GS칼텍스</td>\n",
       "      <td>성동구</td>\n",
       "    </tr>\n",
       "    <tr>\n",
       "      <th>15</th>\n",
       "      <td>청계로주유소</td>\n",
       "      <td>서울 성동구 청계천로 454 (하왕십리동)</td>\n",
       "      <td>2298</td>\n",
       "      <td>N</td>\n",
       "      <td>SK에너지</td>\n",
       "      <td>성동구</td>\n",
       "    </tr>\n",
       "    <tr>\n",
       "      <th>16</th>\n",
       "      <td>동일주유소</td>\n",
       "      <td>서울 성동구 광나루로 254 (성수동2가)</td>\n",
       "      <td>2328</td>\n",
       "      <td>N</td>\n",
       "      <td>현대오일뱅크</td>\n",
       "      <td>성동구</td>\n",
       "    </tr>\n",
       "  </tbody>\n",
       "</table>\n",
       "<p>516 rows × 6 columns</p>\n",
       "</div>"
      ],
      "text/plain": [
       "                   상호                       주소    가격 셀프      상표    구\n",
       "0               정호주유소    서울 성동구 고산자로 307 (마장동)  1958  N    자가상표  성동구\n",
       "1              아이콘주유소    서울 성동구 고산자로 273 (도선동)  1958  N   S-OIL  성동구\n",
       "2         (주)서울에너지 직영    서울 성동구 천호대로 324 (용답동)  1962  Y   S-OIL  성동구\n",
       "3            KLP제2주유소     서울 성동구 동일로 249 (송정동)  1977  Y  현대오일뱅크  성동구\n",
       "4   현대오일뱅크(주) 성동셀프주유소     서울 성동구 마장로 311 (마장동)  1985  Y  현대오일뱅크  성동구\n",
       "..                ...                      ...   ... ..     ...  ...\n",
       "12           SK세원2주유소  서울 성동구 광나루로 184 (성수동1가)  2175  N   SK에너지  성동구\n",
       "13              금호주유소    서울 성동구 금호로 39 (금호동4가)  2235  N   GS칼텍스  성동구\n",
       "14      (주)옥수하이웨이스테이션    서울 성동구 독서당로 168 (옥수동)  2298  N   GS칼텍스  성동구\n",
       "15             청계로주유소  서울 성동구 청계천로 454 (하왕십리동)  2298  N   SK에너지  성동구\n",
       "16              동일주유소  서울 성동구 광나루로 254 (성수동2가)  2328  N  현대오일뱅크  성동구\n",
       "\n",
       "[516 rows x 6 columns]"
      ]
     },
     "execution_count": 16,
     "metadata": {},
     "output_type": "execute_result"
    }
   ],
   "source": [
    "stations[\"구\"] = [eachAddress.split()[1] for eachAddress in stations[\"주소\"]]\n",
    "stations"
   ]
  },
  {
   "cell_type": "code",
   "execution_count": 17,
   "id": "e081d7fa",
   "metadata": {
    "id": "e081d7fa",
    "outputId": "b43fa03e-94b8-4499-d4f9-53171f9c8f21"
   },
   "outputs": [
    {
     "data": {
      "text/plain": [
       "(array(['성동구', '금천구', '노원구', '도봉구', '동대문구', '동작구', '마포구', '서대문구', '서초구',\n",
       "        '성북구', '송파구', '양천구', '영등포구', '용산구', '은평구', '종로구', '중구', '중랑구',\n",
       "        '강남구', '강동구', '강북구', '강서구', '관악구', '광진구', '구로구'], dtype=object),\n",
       " 25)"
      ]
     },
     "execution_count": 17,
     "metadata": {},
     "output_type": "execute_result"
    }
   ],
   "source": [
    "stations[\"구\"].unique(), len(stations[\"구\"].unique())"
   ]
  },
  {
   "cell_type": "code",
   "execution_count": 18,
   "id": "876f152b",
   "metadata": {
    "id": "876f152b"
   },
   "outputs": [],
   "source": [
    "# stations[stations[\"구\"] == \"서울특별시\"]\n",
    "# stations.loc[stations[\"구\"] == \"서울특별시\", \"구\"] = \"성동구\"\n",
    "# stations[stations[\"구\"] == \"특별시\"]\n",
    "# stations.loc[stations[\"구\"] == \"특별시\", \"구\"] = \"도봉구\""
   ]
  },
  {
   "cell_type": "code",
   "execution_count": 19,
   "id": "f63b6681",
   "metadata": {
    "id": "f63b6681",
    "outputId": "183fec7c-9f78-4a6f-9f0d-db2dac5e3435"
   },
   "outputs": [
    {
     "ename": "ValueError",
     "evalue": "could not convert string to float: '-'",
     "output_type": "error",
     "traceback": [
      "\u001b[1;31m---------------------------------------------------------------------------\u001b[0m",
      "\u001b[1;31mValueError\u001b[0m                                Traceback (most recent call last)",
      "Input \u001b[1;32mIn [19]\u001b[0m, in \u001b[0;36m<cell line: 3>\u001b[1;34m()\u001b[0m\n\u001b[0;32m      1\u001b[0m \u001b[38;5;66;03m# 가격 데이터형 변환 object => float \u001b[39;00m\n\u001b[1;32m----> 3\u001b[0m stations[\u001b[38;5;124m\"\u001b[39m\u001b[38;5;124m가격\u001b[39m\u001b[38;5;124m\"\u001b[39m] \u001b[38;5;241m=\u001b[39m \u001b[43mstations\u001b[49m\u001b[43m[\u001b[49m\u001b[38;5;124;43m\"\u001b[39;49m\u001b[38;5;124;43m가격\u001b[39;49m\u001b[38;5;124;43m\"\u001b[39;49m\u001b[43m]\u001b[49m\u001b[38;5;241;43m.\u001b[39;49m\u001b[43mastype\u001b[49m\u001b[43m(\u001b[49m\u001b[38;5;124;43m\"\u001b[39;49m\u001b[38;5;124;43mfloat\u001b[39;49m\u001b[38;5;124;43m\"\u001b[39;49m\u001b[43m)\u001b[49m\n",
      "File \u001b[1;32mC:\\Anaconda3\\envs\\ds_study\\lib\\site-packages\\pandas\\core\\generic.py:5920\u001b[0m, in \u001b[0;36mNDFrame.astype\u001b[1;34m(self, dtype, copy, errors)\u001b[0m\n\u001b[0;32m   5913\u001b[0m     results \u001b[38;5;241m=\u001b[39m [\n\u001b[0;32m   5914\u001b[0m         \u001b[38;5;28mself\u001b[39m\u001b[38;5;241m.\u001b[39miloc[:, i]\u001b[38;5;241m.\u001b[39mastype(dtype, copy\u001b[38;5;241m=\u001b[39mcopy)\n\u001b[0;32m   5915\u001b[0m         \u001b[38;5;28;01mfor\u001b[39;00m i \u001b[38;5;129;01min\u001b[39;00m \u001b[38;5;28mrange\u001b[39m(\u001b[38;5;28mlen\u001b[39m(\u001b[38;5;28mself\u001b[39m\u001b[38;5;241m.\u001b[39mcolumns))\n\u001b[0;32m   5916\u001b[0m     ]\n\u001b[0;32m   5918\u001b[0m \u001b[38;5;28;01melse\u001b[39;00m:\n\u001b[0;32m   5919\u001b[0m     \u001b[38;5;66;03m# else, only a single dtype is given\u001b[39;00m\n\u001b[1;32m-> 5920\u001b[0m     new_data \u001b[38;5;241m=\u001b[39m \u001b[38;5;28;43mself\u001b[39;49m\u001b[38;5;241;43m.\u001b[39;49m\u001b[43m_mgr\u001b[49m\u001b[38;5;241;43m.\u001b[39;49m\u001b[43mastype\u001b[49m\u001b[43m(\u001b[49m\u001b[43mdtype\u001b[49m\u001b[38;5;241;43m=\u001b[39;49m\u001b[43mdtype\u001b[49m\u001b[43m,\u001b[49m\u001b[43m \u001b[49m\u001b[43mcopy\u001b[49m\u001b[38;5;241;43m=\u001b[39;49m\u001b[43mcopy\u001b[49m\u001b[43m,\u001b[49m\u001b[43m \u001b[49m\u001b[43merrors\u001b[49m\u001b[38;5;241;43m=\u001b[39;49m\u001b[43merrors\u001b[49m\u001b[43m)\u001b[49m\n\u001b[0;32m   5921\u001b[0m     \u001b[38;5;28;01mreturn\u001b[39;00m \u001b[38;5;28mself\u001b[39m\u001b[38;5;241m.\u001b[39m_constructor(new_data)\u001b[38;5;241m.\u001b[39m__finalize__(\u001b[38;5;28mself\u001b[39m, method\u001b[38;5;241m=\u001b[39m\u001b[38;5;124m\"\u001b[39m\u001b[38;5;124mastype\u001b[39m\u001b[38;5;124m\"\u001b[39m)\n\u001b[0;32m   5923\u001b[0m \u001b[38;5;66;03m# GH 33113: handle empty frame or series\u001b[39;00m\n",
      "File \u001b[1;32mC:\\Anaconda3\\envs\\ds_study\\lib\\site-packages\\pandas\\core\\internals\\managers.py:419\u001b[0m, in \u001b[0;36mBaseBlockManager.astype\u001b[1;34m(self, dtype, copy, errors)\u001b[0m\n\u001b[0;32m    418\u001b[0m \u001b[38;5;28;01mdef\u001b[39;00m \u001b[38;5;21mastype\u001b[39m(\u001b[38;5;28mself\u001b[39m: T, dtype, copy: \u001b[38;5;28mbool\u001b[39m \u001b[38;5;241m=\u001b[39m \u001b[38;5;28;01mFalse\u001b[39;00m, errors: \u001b[38;5;28mstr\u001b[39m \u001b[38;5;241m=\u001b[39m \u001b[38;5;124m\"\u001b[39m\u001b[38;5;124mraise\u001b[39m\u001b[38;5;124m\"\u001b[39m) \u001b[38;5;241m-\u001b[39m\u001b[38;5;241m>\u001b[39m T:\n\u001b[1;32m--> 419\u001b[0m     \u001b[38;5;28;01mreturn\u001b[39;00m \u001b[38;5;28;43mself\u001b[39;49m\u001b[38;5;241;43m.\u001b[39;49m\u001b[43mapply\u001b[49m\u001b[43m(\u001b[49m\u001b[38;5;124;43m\"\u001b[39;49m\u001b[38;5;124;43mastype\u001b[39;49m\u001b[38;5;124;43m\"\u001b[39;49m\u001b[43m,\u001b[49m\u001b[43m \u001b[49m\u001b[43mdtype\u001b[49m\u001b[38;5;241;43m=\u001b[39;49m\u001b[43mdtype\u001b[49m\u001b[43m,\u001b[49m\u001b[43m \u001b[49m\u001b[43mcopy\u001b[49m\u001b[38;5;241;43m=\u001b[39;49m\u001b[43mcopy\u001b[49m\u001b[43m,\u001b[49m\u001b[43m \u001b[49m\u001b[43merrors\u001b[49m\u001b[38;5;241;43m=\u001b[39;49m\u001b[43merrors\u001b[49m\u001b[43m)\u001b[49m\n",
      "File \u001b[1;32mC:\\Anaconda3\\envs\\ds_study\\lib\\site-packages\\pandas\\core\\internals\\managers.py:304\u001b[0m, in \u001b[0;36mBaseBlockManager.apply\u001b[1;34m(self, f, align_keys, ignore_failures, **kwargs)\u001b[0m\n\u001b[0;32m    302\u001b[0m         applied \u001b[38;5;241m=\u001b[39m b\u001b[38;5;241m.\u001b[39mapply(f, \u001b[38;5;241m*\u001b[39m\u001b[38;5;241m*\u001b[39mkwargs)\n\u001b[0;32m    303\u001b[0m     \u001b[38;5;28;01melse\u001b[39;00m:\n\u001b[1;32m--> 304\u001b[0m         applied \u001b[38;5;241m=\u001b[39m \u001b[38;5;28;43mgetattr\u001b[39;49m\u001b[43m(\u001b[49m\u001b[43mb\u001b[49m\u001b[43m,\u001b[49m\u001b[43m \u001b[49m\u001b[43mf\u001b[49m\u001b[43m)\u001b[49m\u001b[43m(\u001b[49m\u001b[38;5;241;43m*\u001b[39;49m\u001b[38;5;241;43m*\u001b[39;49m\u001b[43mkwargs\u001b[49m\u001b[43m)\u001b[49m\n\u001b[0;32m    305\u001b[0m \u001b[38;5;28;01mexcept\u001b[39;00m (\u001b[38;5;167;01mTypeError\u001b[39;00m, \u001b[38;5;167;01mNotImplementedError\u001b[39;00m):\n\u001b[0;32m    306\u001b[0m     \u001b[38;5;28;01mif\u001b[39;00m \u001b[38;5;129;01mnot\u001b[39;00m ignore_failures:\n",
      "File \u001b[1;32mC:\\Anaconda3\\envs\\ds_study\\lib\\site-packages\\pandas\\core\\internals\\blocks.py:580\u001b[0m, in \u001b[0;36mBlock.astype\u001b[1;34m(self, dtype, copy, errors)\u001b[0m\n\u001b[0;32m    562\u001b[0m \u001b[38;5;124;03m\"\"\"\u001b[39;00m\n\u001b[0;32m    563\u001b[0m \u001b[38;5;124;03mCoerce to the new dtype.\u001b[39;00m\n\u001b[0;32m    564\u001b[0m \n\u001b[1;32m   (...)\u001b[0m\n\u001b[0;32m    576\u001b[0m \u001b[38;5;124;03mBlock\u001b[39;00m\n\u001b[0;32m    577\u001b[0m \u001b[38;5;124;03m\"\"\"\u001b[39;00m\n\u001b[0;32m    578\u001b[0m values \u001b[38;5;241m=\u001b[39m \u001b[38;5;28mself\u001b[39m\u001b[38;5;241m.\u001b[39mvalues\n\u001b[1;32m--> 580\u001b[0m new_values \u001b[38;5;241m=\u001b[39m \u001b[43mastype_array_safe\u001b[49m\u001b[43m(\u001b[49m\u001b[43mvalues\u001b[49m\u001b[43m,\u001b[49m\u001b[43m \u001b[49m\u001b[43mdtype\u001b[49m\u001b[43m,\u001b[49m\u001b[43m \u001b[49m\u001b[43mcopy\u001b[49m\u001b[38;5;241;43m=\u001b[39;49m\u001b[43mcopy\u001b[49m\u001b[43m,\u001b[49m\u001b[43m \u001b[49m\u001b[43merrors\u001b[49m\u001b[38;5;241;43m=\u001b[39;49m\u001b[43merrors\u001b[49m\u001b[43m)\u001b[49m\n\u001b[0;32m    582\u001b[0m new_values \u001b[38;5;241m=\u001b[39m maybe_coerce_values(new_values)\n\u001b[0;32m    583\u001b[0m newb \u001b[38;5;241m=\u001b[39m \u001b[38;5;28mself\u001b[39m\u001b[38;5;241m.\u001b[39mmake_block(new_values)\n",
      "File \u001b[1;32mC:\\Anaconda3\\envs\\ds_study\\lib\\site-packages\\pandas\\core\\dtypes\\cast.py:1292\u001b[0m, in \u001b[0;36mastype_array_safe\u001b[1;34m(values, dtype, copy, errors)\u001b[0m\n\u001b[0;32m   1289\u001b[0m     dtype \u001b[38;5;241m=\u001b[39m dtype\u001b[38;5;241m.\u001b[39mnumpy_dtype\n\u001b[0;32m   1291\u001b[0m \u001b[38;5;28;01mtry\u001b[39;00m:\n\u001b[1;32m-> 1292\u001b[0m     new_values \u001b[38;5;241m=\u001b[39m \u001b[43mastype_array\u001b[49m\u001b[43m(\u001b[49m\u001b[43mvalues\u001b[49m\u001b[43m,\u001b[49m\u001b[43m \u001b[49m\u001b[43mdtype\u001b[49m\u001b[43m,\u001b[49m\u001b[43m \u001b[49m\u001b[43mcopy\u001b[49m\u001b[38;5;241;43m=\u001b[39;49m\u001b[43mcopy\u001b[49m\u001b[43m)\u001b[49m\n\u001b[0;32m   1293\u001b[0m \u001b[38;5;28;01mexcept\u001b[39;00m (\u001b[38;5;167;01mValueError\u001b[39;00m, \u001b[38;5;167;01mTypeError\u001b[39;00m):\n\u001b[0;32m   1294\u001b[0m     \u001b[38;5;66;03m# e.g. astype_nansafe can fail on object-dtype of strings\u001b[39;00m\n\u001b[0;32m   1295\u001b[0m     \u001b[38;5;66;03m#  trying to convert to float\u001b[39;00m\n\u001b[0;32m   1296\u001b[0m     \u001b[38;5;28;01mif\u001b[39;00m errors \u001b[38;5;241m==\u001b[39m \u001b[38;5;124m\"\u001b[39m\u001b[38;5;124mignore\u001b[39m\u001b[38;5;124m\"\u001b[39m:\n",
      "File \u001b[1;32mC:\\Anaconda3\\envs\\ds_study\\lib\\site-packages\\pandas\\core\\dtypes\\cast.py:1237\u001b[0m, in \u001b[0;36mastype_array\u001b[1;34m(values, dtype, copy)\u001b[0m\n\u001b[0;32m   1234\u001b[0m     values \u001b[38;5;241m=\u001b[39m values\u001b[38;5;241m.\u001b[39mastype(dtype, copy\u001b[38;5;241m=\u001b[39mcopy)\n\u001b[0;32m   1236\u001b[0m \u001b[38;5;28;01melse\u001b[39;00m:\n\u001b[1;32m-> 1237\u001b[0m     values \u001b[38;5;241m=\u001b[39m \u001b[43mastype_nansafe\u001b[49m\u001b[43m(\u001b[49m\u001b[43mvalues\u001b[49m\u001b[43m,\u001b[49m\u001b[43m \u001b[49m\u001b[43mdtype\u001b[49m\u001b[43m,\u001b[49m\u001b[43m \u001b[49m\u001b[43mcopy\u001b[49m\u001b[38;5;241;43m=\u001b[39;49m\u001b[43mcopy\u001b[49m\u001b[43m)\u001b[49m\n\u001b[0;32m   1239\u001b[0m \u001b[38;5;66;03m# in pandas we don't store numpy str dtypes, so convert to object\u001b[39;00m\n\u001b[0;32m   1240\u001b[0m \u001b[38;5;28;01mif\u001b[39;00m \u001b[38;5;28misinstance\u001b[39m(dtype, np\u001b[38;5;241m.\u001b[39mdtype) \u001b[38;5;129;01mand\u001b[39;00m \u001b[38;5;28missubclass\u001b[39m(values\u001b[38;5;241m.\u001b[39mdtype\u001b[38;5;241m.\u001b[39mtype, \u001b[38;5;28mstr\u001b[39m):\n",
      "File \u001b[1;32mC:\\Anaconda3\\envs\\ds_study\\lib\\site-packages\\pandas\\core\\dtypes\\cast.py:1181\u001b[0m, in \u001b[0;36mastype_nansafe\u001b[1;34m(arr, dtype, copy, skipna)\u001b[0m\n\u001b[0;32m   1177\u001b[0m     \u001b[38;5;28;01mraise\u001b[39;00m \u001b[38;5;167;01mValueError\u001b[39;00m(msg)\n\u001b[0;32m   1179\u001b[0m \u001b[38;5;28;01mif\u001b[39;00m copy \u001b[38;5;129;01mor\u001b[39;00m is_object_dtype(arr\u001b[38;5;241m.\u001b[39mdtype) \u001b[38;5;129;01mor\u001b[39;00m is_object_dtype(dtype):\n\u001b[0;32m   1180\u001b[0m     \u001b[38;5;66;03m# Explicit copy, or required since NumPy can't view from / to object.\u001b[39;00m\n\u001b[1;32m-> 1181\u001b[0m     \u001b[38;5;28;01mreturn\u001b[39;00m \u001b[43marr\u001b[49m\u001b[38;5;241;43m.\u001b[39;49m\u001b[43mastype\u001b[49m\u001b[43m(\u001b[49m\u001b[43mdtype\u001b[49m\u001b[43m,\u001b[49m\u001b[43m \u001b[49m\u001b[43mcopy\u001b[49m\u001b[38;5;241;43m=\u001b[39;49m\u001b[38;5;28;43;01mTrue\u001b[39;49;00m\u001b[43m)\u001b[49m\n\u001b[0;32m   1183\u001b[0m \u001b[38;5;28;01mreturn\u001b[39;00m arr\u001b[38;5;241m.\u001b[39mastype(dtype, copy\u001b[38;5;241m=\u001b[39mcopy)\n",
      "\u001b[1;31mValueError\u001b[0m: could not convert string to float: '-'"
     ]
    }
   ],
   "source": [
    "# 가격 데이터형 변환 object => float \n",
    "\n",
    "stations[\"가격\"] = stations[\"가격\"].astype(\"float\")"
   ]
  },
  {
   "cell_type": "code",
   "execution_count": 20,
   "id": "b8b9a959",
   "metadata": {
    "id": "b8b9a959",
    "outputId": "ef697570-f046-4326-d743-2201f8662831"
   },
   "outputs": [
    {
     "data": {
      "text/html": [
       "<div>\n",
       "<style scoped>\n",
       "    .dataframe tbody tr th:only-of-type {\n",
       "        vertical-align: middle;\n",
       "    }\n",
       "\n",
       "    .dataframe tbody tr th {\n",
       "        vertical-align: top;\n",
       "    }\n",
       "\n",
       "    .dataframe thead th {\n",
       "        text-align: right;\n",
       "    }\n",
       "</style>\n",
       "<table border=\"1\" class=\"dataframe\">\n",
       "  <thead>\n",
       "    <tr style=\"text-align: right;\">\n",
       "      <th></th>\n",
       "      <th>상호</th>\n",
       "      <th>주소</th>\n",
       "      <th>가격</th>\n",
       "      <th>셀프</th>\n",
       "      <th>상표</th>\n",
       "      <th>구</th>\n",
       "    </tr>\n",
       "  </thead>\n",
       "  <tbody>\n",
       "    <tr>\n",
       "      <th>32</th>\n",
       "      <td>크로바주유소</td>\n",
       "      <td>서울 서초구 효령로 327 (서초동)</td>\n",
       "      <td>-</td>\n",
       "      <td>N</td>\n",
       "      <td>SK에너지</td>\n",
       "      <td>서초구</td>\n",
       "    </tr>\n",
       "    <tr>\n",
       "      <th>26</th>\n",
       "      <td>지에스칼텍스㈜ 화일주유소</td>\n",
       "      <td>서울 영등포구 도림로 415</td>\n",
       "      <td>-</td>\n",
       "      <td>Y</td>\n",
       "      <td>GS칼텍스</td>\n",
       "      <td>영등포구</td>\n",
       "    </tr>\n",
       "    <tr>\n",
       "      <th>16</th>\n",
       "      <td>삼융주유소</td>\n",
       "      <td>서울 은평구 수색로 299 (수색동)</td>\n",
       "      <td>-</td>\n",
       "      <td>N</td>\n",
       "      <td>SK에너지</td>\n",
       "      <td>은평구</td>\n",
       "    </tr>\n",
       "    <tr>\n",
       "      <th>8</th>\n",
       "      <td>현대오일뱅크㈜직영 재동주유소</td>\n",
       "      <td>서울 종로구 율곡로 58 (경운동)</td>\n",
       "      <td>-</td>\n",
       "      <td>N</td>\n",
       "      <td>현대오일뱅크</td>\n",
       "      <td>종로구</td>\n",
       "    </tr>\n",
       "    <tr>\n",
       "      <th>10</th>\n",
       "      <td>지에스칼텍스(주)직영 역전점</td>\n",
       "      <td>서울 중구 퇴계로 15</td>\n",
       "      <td>-</td>\n",
       "      <td>N</td>\n",
       "      <td>GS칼텍스</td>\n",
       "      <td>중구</td>\n",
       "    </tr>\n",
       "    <tr>\n",
       "      <th>33</th>\n",
       "      <td>경원주유소</td>\n",
       "      <td>서울 강남구 도산대로 428 (청담동)</td>\n",
       "      <td>-</td>\n",
       "      <td>N</td>\n",
       "      <td>S-OIL</td>\n",
       "      <td>강남구</td>\n",
       "    </tr>\n",
       "    <tr>\n",
       "      <th>34</th>\n",
       "      <td>삼성주유소</td>\n",
       "      <td>서울 강남구 삼성로 521 (삼성동)</td>\n",
       "      <td>-</td>\n",
       "      <td>N</td>\n",
       "      <td>SK에너지</td>\n",
       "      <td>강남구</td>\n",
       "    </tr>\n",
       "    <tr>\n",
       "      <th>35</th>\n",
       "      <td>동우주유소</td>\n",
       "      <td>서울특별시 강남구  봉은사로 311 (논현동)</td>\n",
       "      <td>-</td>\n",
       "      <td>N</td>\n",
       "      <td>SK에너지</td>\n",
       "      <td>강남구</td>\n",
       "    </tr>\n",
       "    <tr>\n",
       "      <th>14</th>\n",
       "      <td>구의스타주유소</td>\n",
       "      <td>서울 광진구 자양로 103</td>\n",
       "      <td>-</td>\n",
       "      <td>N</td>\n",
       "      <td>GS칼텍스</td>\n",
       "      <td>광진구</td>\n",
       "    </tr>\n",
       "  </tbody>\n",
       "</table>\n",
       "</div>"
      ],
      "text/plain": [
       "                 상호                         주소 가격 셀프      상표     구\n",
       "32           크로바주유소       서울 서초구 효령로 327 (서초동)  -  N   SK에너지   서초구\n",
       "26    지에스칼텍스㈜ 화일주유소            서울 영등포구 도림로 415  -  Y   GS칼텍스  영등포구\n",
       "16            삼융주유소       서울 은평구 수색로 299 (수색동)  -  N   SK에너지   은평구\n",
       "8   현대오일뱅크㈜직영 재동주유소        서울 종로구 율곡로 58 (경운동)  -  N  현대오일뱅크   종로구\n",
       "10  지에스칼텍스(주)직영 역전점               서울 중구 퇴계로 15  -  N   GS칼텍스    중구\n",
       "33            경원주유소      서울 강남구 도산대로 428 (청담동)  -  N   S-OIL   강남구\n",
       "34            삼성주유소       서울 강남구 삼성로 521 (삼성동)  -  N   SK에너지   강남구\n",
       "35            동우주유소  서울특별시 강남구  봉은사로 311 (논현동)  -  N   SK에너지   강남구\n",
       "14          구의스타주유소             서울 광진구 자양로 103  -  N   GS칼텍스   광진구"
      ]
     },
     "execution_count": 20,
     "metadata": {},
     "output_type": "execute_result"
    }
   ],
   "source": [
    "# 가격 정보 없는 주유소 \n",
    "stations[stations[\"가격\"] == \"-\"]"
   ]
  },
  {
   "cell_type": "code",
   "execution_count": 21,
   "id": "c5d5b45f",
   "metadata": {
    "id": "c5d5b45f",
    "outputId": "170c917a-056c-418e-8b52-07537d6bdc88"
   },
   "outputs": [
    {
     "data": {
      "text/html": [
       "<div>\n",
       "<style scoped>\n",
       "    .dataframe tbody tr th:only-of-type {\n",
       "        vertical-align: middle;\n",
       "    }\n",
       "\n",
       "    .dataframe tbody tr th {\n",
       "        vertical-align: top;\n",
       "    }\n",
       "\n",
       "    .dataframe thead th {\n",
       "        text-align: right;\n",
       "    }\n",
       "</style>\n",
       "<table border=\"1\" class=\"dataframe\">\n",
       "  <thead>\n",
       "    <tr style=\"text-align: right;\">\n",
       "      <th></th>\n",
       "      <th>상호</th>\n",
       "      <th>주소</th>\n",
       "      <th>가격</th>\n",
       "      <th>셀프</th>\n",
       "      <th>상표</th>\n",
       "      <th>구</th>\n",
       "    </tr>\n",
       "  </thead>\n",
       "  <tbody>\n",
       "    <tr>\n",
       "      <th>12</th>\n",
       "      <td>SK세원2주유소</td>\n",
       "      <td>서울 성동구 광나루로 184 (성수동1가)</td>\n",
       "      <td>2175</td>\n",
       "      <td>N</td>\n",
       "      <td>SK에너지</td>\n",
       "      <td>성동구</td>\n",
       "    </tr>\n",
       "    <tr>\n",
       "      <th>13</th>\n",
       "      <td>금호주유소</td>\n",
       "      <td>서울 성동구 금호로 39 (금호동4가)</td>\n",
       "      <td>2235</td>\n",
       "      <td>N</td>\n",
       "      <td>GS칼텍스</td>\n",
       "      <td>성동구</td>\n",
       "    </tr>\n",
       "    <tr>\n",
       "      <th>14</th>\n",
       "      <td>(주)옥수하이웨이스테이션</td>\n",
       "      <td>서울 성동구 독서당로 168 (옥수동)</td>\n",
       "      <td>2298</td>\n",
       "      <td>N</td>\n",
       "      <td>GS칼텍스</td>\n",
       "      <td>성동구</td>\n",
       "    </tr>\n",
       "    <tr>\n",
       "      <th>15</th>\n",
       "      <td>청계로주유소</td>\n",
       "      <td>서울 성동구 청계천로 454 (하왕십리동)</td>\n",
       "      <td>2298</td>\n",
       "      <td>N</td>\n",
       "      <td>SK에너지</td>\n",
       "      <td>성동구</td>\n",
       "    </tr>\n",
       "    <tr>\n",
       "      <th>16</th>\n",
       "      <td>동일주유소</td>\n",
       "      <td>서울 성동구 광나루로 254 (성수동2가)</td>\n",
       "      <td>2328</td>\n",
       "      <td>N</td>\n",
       "      <td>현대오일뱅크</td>\n",
       "      <td>성동구</td>\n",
       "    </tr>\n",
       "  </tbody>\n",
       "</table>\n",
       "</div>"
      ],
      "text/plain": [
       "               상호                       주소    가격 셀프      상표    구\n",
       "12       SK세원2주유소  서울 성동구 광나루로 184 (성수동1가)  2175  N   SK에너지  성동구\n",
       "13          금호주유소    서울 성동구 금호로 39 (금호동4가)  2235  N   GS칼텍스  성동구\n",
       "14  (주)옥수하이웨이스테이션    서울 성동구 독서당로 168 (옥수동)  2298  N   GS칼텍스  성동구\n",
       "15         청계로주유소  서울 성동구 청계천로 454 (하왕십리동)  2298  N   SK에너지  성동구\n",
       "16          동일주유소  서울 성동구 광나루로 254 (성수동2가)  2328  N  현대오일뱅크  성동구"
      ]
     },
     "execution_count": 21,
     "metadata": {},
     "output_type": "execute_result"
    }
   ],
   "source": [
    "# 가격 정보가 있는 주유소만 사용 \n",
    "stations = stations[stations[\"가격\"] != \"-\"]\n",
    "stations.tail()"
   ]
  },
  {
   "cell_type": "code",
   "execution_count": 22,
   "id": "def2d584",
   "metadata": {
    "id": "def2d584",
    "outputId": "541b0f3a-0b47-40af-e2cf-b0c41486059e"
   },
   "outputs": [
    {
     "name": "stderr",
     "output_type": "stream",
     "text": [
      "C:\\Users\\ThinkBook\\AppData\\Local\\Temp\\ipykernel_29984\\693866580.py:1: SettingWithCopyWarning: \n",
      "A value is trying to be set on a copy of a slice from a DataFrame.\n",
      "Try using .loc[row_indexer,col_indexer] = value instead\n",
      "\n",
      "See the caveats in the documentation: https://pandas.pydata.org/pandas-docs/stable/user_guide/indexing.html#returning-a-view-versus-a-copy\n",
      "  stations[\"가격\"] = stations[\"가격\"].astype(\"float\")\n"
     ]
    }
   ],
   "source": [
    "stations[\"가격\"] = stations[\"가격\"].astype(\"float\")"
   ]
  },
  {
   "cell_type": "code",
   "execution_count": 23,
   "id": "ac238436",
   "metadata": {
    "id": "ac238436",
    "outputId": "fd52901e-e54a-4c51-a583-dcad7e866431"
   },
   "outputs": [
    {
     "name": "stdout",
     "output_type": "stream",
     "text": [
      "<class 'pandas.core.frame.DataFrame'>\n",
      "Int64Index: 507 entries, 0 to 16\n",
      "Data columns (total 6 columns):\n",
      " #   Column  Non-Null Count  Dtype  \n",
      "---  ------  --------------  -----  \n",
      " 0   상호      507 non-null    object \n",
      " 1   주소      507 non-null    object \n",
      " 2   가격      507 non-null    float64\n",
      " 3   셀프      507 non-null    object \n",
      " 4   상표      507 non-null    object \n",
      " 5   구       507 non-null    object \n",
      "dtypes: float64(1), object(5)\n",
      "memory usage: 27.7+ KB\n"
     ]
    }
   ],
   "source": [
    "stations.info()"
   ]
  },
  {
   "cell_type": "code",
   "execution_count": 24,
   "id": "a919074b",
   "metadata": {
    "id": "a919074b",
    "outputId": "6abc8d9a-1498-4998-811d-6a977ef7f063"
   },
   "outputs": [
    {
     "data": {
      "text/html": [
       "<div>\n",
       "<style scoped>\n",
       "    .dataframe tbody tr th:only-of-type {\n",
       "        vertical-align: middle;\n",
       "    }\n",
       "\n",
       "    .dataframe tbody tr th {\n",
       "        vertical-align: top;\n",
       "    }\n",
       "\n",
       "    .dataframe thead th {\n",
       "        text-align: right;\n",
       "    }\n",
       "</style>\n",
       "<table border=\"1\" class=\"dataframe\">\n",
       "  <thead>\n",
       "    <tr style=\"text-align: right;\">\n",
       "      <th></th>\n",
       "      <th>상호</th>\n",
       "      <th>주소</th>\n",
       "      <th>가격</th>\n",
       "      <th>셀프</th>\n",
       "      <th>상표</th>\n",
       "      <th>구</th>\n",
       "    </tr>\n",
       "  </thead>\n",
       "  <tbody>\n",
       "    <tr>\n",
       "      <th>0</th>\n",
       "      <td>정호주유소</td>\n",
       "      <td>서울 성동구 고산자로 307 (마장동)</td>\n",
       "      <td>1958.0</td>\n",
       "      <td>N</td>\n",
       "      <td>자가상표</td>\n",
       "      <td>성동구</td>\n",
       "    </tr>\n",
       "    <tr>\n",
       "      <th>1</th>\n",
       "      <td>아이콘주유소</td>\n",
       "      <td>서울 성동구 고산자로 273 (도선동)</td>\n",
       "      <td>1958.0</td>\n",
       "      <td>N</td>\n",
       "      <td>S-OIL</td>\n",
       "      <td>성동구</td>\n",
       "    </tr>\n",
       "    <tr>\n",
       "      <th>2</th>\n",
       "      <td>(주)서울에너지 직영</td>\n",
       "      <td>서울 성동구 천호대로 324 (용답동)</td>\n",
       "      <td>1962.0</td>\n",
       "      <td>Y</td>\n",
       "      <td>S-OIL</td>\n",
       "      <td>성동구</td>\n",
       "    </tr>\n",
       "    <tr>\n",
       "      <th>3</th>\n",
       "      <td>KLP제2주유소</td>\n",
       "      <td>서울 성동구 동일로 249 (송정동)</td>\n",
       "      <td>1977.0</td>\n",
       "      <td>Y</td>\n",
       "      <td>현대오일뱅크</td>\n",
       "      <td>성동구</td>\n",
       "    </tr>\n",
       "    <tr>\n",
       "      <th>4</th>\n",
       "      <td>현대오일뱅크(주) 성동셀프주유소</td>\n",
       "      <td>서울 성동구 마장로 311 (마장동)</td>\n",
       "      <td>1985.0</td>\n",
       "      <td>Y</td>\n",
       "      <td>현대오일뱅크</td>\n",
       "      <td>성동구</td>\n",
       "    </tr>\n",
       "    <tr>\n",
       "      <th>...</th>\n",
       "      <td>...</td>\n",
       "      <td>...</td>\n",
       "      <td>...</td>\n",
       "      <td>...</td>\n",
       "      <td>...</td>\n",
       "      <td>...</td>\n",
       "    </tr>\n",
       "    <tr>\n",
       "      <th>12</th>\n",
       "      <td>SK세원2주유소</td>\n",
       "      <td>서울 성동구 광나루로 184 (성수동1가)</td>\n",
       "      <td>2175.0</td>\n",
       "      <td>N</td>\n",
       "      <td>SK에너지</td>\n",
       "      <td>성동구</td>\n",
       "    </tr>\n",
       "    <tr>\n",
       "      <th>13</th>\n",
       "      <td>금호주유소</td>\n",
       "      <td>서울 성동구 금호로 39 (금호동4가)</td>\n",
       "      <td>2235.0</td>\n",
       "      <td>N</td>\n",
       "      <td>GS칼텍스</td>\n",
       "      <td>성동구</td>\n",
       "    </tr>\n",
       "    <tr>\n",
       "      <th>14</th>\n",
       "      <td>(주)옥수하이웨이스테이션</td>\n",
       "      <td>서울 성동구 독서당로 168 (옥수동)</td>\n",
       "      <td>2298.0</td>\n",
       "      <td>N</td>\n",
       "      <td>GS칼텍스</td>\n",
       "      <td>성동구</td>\n",
       "    </tr>\n",
       "    <tr>\n",
       "      <th>15</th>\n",
       "      <td>청계로주유소</td>\n",
       "      <td>서울 성동구 청계천로 454 (하왕십리동)</td>\n",
       "      <td>2298.0</td>\n",
       "      <td>N</td>\n",
       "      <td>SK에너지</td>\n",
       "      <td>성동구</td>\n",
       "    </tr>\n",
       "    <tr>\n",
       "      <th>16</th>\n",
       "      <td>동일주유소</td>\n",
       "      <td>서울 성동구 광나루로 254 (성수동2가)</td>\n",
       "      <td>2328.0</td>\n",
       "      <td>N</td>\n",
       "      <td>현대오일뱅크</td>\n",
       "      <td>성동구</td>\n",
       "    </tr>\n",
       "  </tbody>\n",
       "</table>\n",
       "<p>507 rows × 6 columns</p>\n",
       "</div>"
      ],
      "text/plain": [
       "                   상호                       주소      가격 셀프      상표    구\n",
       "0               정호주유소    서울 성동구 고산자로 307 (마장동)  1958.0  N    자가상표  성동구\n",
       "1              아이콘주유소    서울 성동구 고산자로 273 (도선동)  1958.0  N   S-OIL  성동구\n",
       "2         (주)서울에너지 직영    서울 성동구 천호대로 324 (용답동)  1962.0  Y   S-OIL  성동구\n",
       "3            KLP제2주유소     서울 성동구 동일로 249 (송정동)  1977.0  Y  현대오일뱅크  성동구\n",
       "4   현대오일뱅크(주) 성동셀프주유소     서울 성동구 마장로 311 (마장동)  1985.0  Y  현대오일뱅크  성동구\n",
       "..                ...                      ...     ... ..     ...  ...\n",
       "12           SK세원2주유소  서울 성동구 광나루로 184 (성수동1가)  2175.0  N   SK에너지  성동구\n",
       "13              금호주유소    서울 성동구 금호로 39 (금호동4가)  2235.0  N   GS칼텍스  성동구\n",
       "14      (주)옥수하이웨이스테이션    서울 성동구 독서당로 168 (옥수동)  2298.0  N   GS칼텍스  성동구\n",
       "15             청계로주유소  서울 성동구 청계천로 454 (하왕십리동)  2298.0  N   SK에너지  성동구\n",
       "16              동일주유소  서울 성동구 광나루로 254 (성수동2가)  2328.0  N  현대오일뱅크  성동구\n",
       "\n",
       "[507 rows x 6 columns]"
      ]
     },
     "execution_count": 24,
     "metadata": {},
     "output_type": "execute_result"
    }
   ],
   "source": [
    "stations"
   ]
  },
  {
   "cell_type": "code",
   "execution_count": 25,
   "id": "1f413ef0",
   "metadata": {
    "id": "1f413ef0",
    "outputId": "24b3b3bb-c4bf-448d-c764-627003cd9865"
   },
   "outputs": [
    {
     "data": {
      "text/html": [
       "<div>\n",
       "<style scoped>\n",
       "    .dataframe tbody tr th:only-of-type {\n",
       "        vertical-align: middle;\n",
       "    }\n",
       "\n",
       "    .dataframe tbody tr th {\n",
       "        vertical-align: top;\n",
       "    }\n",
       "\n",
       "    .dataframe thead th {\n",
       "        text-align: right;\n",
       "    }\n",
       "</style>\n",
       "<table border=\"1\" class=\"dataframe\">\n",
       "  <thead>\n",
       "    <tr style=\"text-align: right;\">\n",
       "      <th></th>\n",
       "      <th>index</th>\n",
       "      <th>상호</th>\n",
       "      <th>주소</th>\n",
       "      <th>가격</th>\n",
       "      <th>셀프</th>\n",
       "      <th>상표</th>\n",
       "      <th>구</th>\n",
       "    </tr>\n",
       "  </thead>\n",
       "  <tbody>\n",
       "    <tr>\n",
       "      <th>502</th>\n",
       "      <td>12</td>\n",
       "      <td>SK세원2주유소</td>\n",
       "      <td>서울 성동구 광나루로 184 (성수동1가)</td>\n",
       "      <td>2175.0</td>\n",
       "      <td>N</td>\n",
       "      <td>SK에너지</td>\n",
       "      <td>성동구</td>\n",
       "    </tr>\n",
       "    <tr>\n",
       "      <th>503</th>\n",
       "      <td>13</td>\n",
       "      <td>금호주유소</td>\n",
       "      <td>서울 성동구 금호로 39 (금호동4가)</td>\n",
       "      <td>2235.0</td>\n",
       "      <td>N</td>\n",
       "      <td>GS칼텍스</td>\n",
       "      <td>성동구</td>\n",
       "    </tr>\n",
       "    <tr>\n",
       "      <th>504</th>\n",
       "      <td>14</td>\n",
       "      <td>(주)옥수하이웨이스테이션</td>\n",
       "      <td>서울 성동구 독서당로 168 (옥수동)</td>\n",
       "      <td>2298.0</td>\n",
       "      <td>N</td>\n",
       "      <td>GS칼텍스</td>\n",
       "      <td>성동구</td>\n",
       "    </tr>\n",
       "    <tr>\n",
       "      <th>505</th>\n",
       "      <td>15</td>\n",
       "      <td>청계로주유소</td>\n",
       "      <td>서울 성동구 청계천로 454 (하왕십리동)</td>\n",
       "      <td>2298.0</td>\n",
       "      <td>N</td>\n",
       "      <td>SK에너지</td>\n",
       "      <td>성동구</td>\n",
       "    </tr>\n",
       "    <tr>\n",
       "      <th>506</th>\n",
       "      <td>16</td>\n",
       "      <td>동일주유소</td>\n",
       "      <td>서울 성동구 광나루로 254 (성수동2가)</td>\n",
       "      <td>2328.0</td>\n",
       "      <td>N</td>\n",
       "      <td>현대오일뱅크</td>\n",
       "      <td>성동구</td>\n",
       "    </tr>\n",
       "  </tbody>\n",
       "</table>\n",
       "</div>"
      ],
      "text/plain": [
       "     index             상호                       주소      가격 셀프      상표    구\n",
       "502     12       SK세원2주유소  서울 성동구 광나루로 184 (성수동1가)  2175.0  N   SK에너지  성동구\n",
       "503     13          금호주유소    서울 성동구 금호로 39 (금호동4가)  2235.0  N   GS칼텍스  성동구\n",
       "504     14  (주)옥수하이웨이스테이션    서울 성동구 독서당로 168 (옥수동)  2298.0  N   GS칼텍스  성동구\n",
       "505     15         청계로주유소  서울 성동구 청계천로 454 (하왕십리동)  2298.0  N   SK에너지  성동구\n",
       "506     16          동일주유소  서울 성동구 광나루로 254 (성수동2가)  2328.0  N  현대오일뱅크  성동구"
      ]
     },
     "execution_count": 25,
     "metadata": {},
     "output_type": "execute_result"
    }
   ],
   "source": [
    "# 인덱스 재정렬 \n",
    "stations.reset_index(inplace=True)\n",
    "stations.tail()"
   ]
  },
  {
   "cell_type": "code",
   "execution_count": 26,
   "id": "f2eebab3",
   "metadata": {
    "id": "f2eebab3",
    "outputId": "0c4f0b2c-2a81-49af-b8dd-523e7f031396"
   },
   "outputs": [
    {
     "data": {
      "text/html": [
       "<div>\n",
       "<style scoped>\n",
       "    .dataframe tbody tr th:only-of-type {\n",
       "        vertical-align: middle;\n",
       "    }\n",
       "\n",
       "    .dataframe tbody tr th {\n",
       "        vertical-align: top;\n",
       "    }\n",
       "\n",
       "    .dataframe thead th {\n",
       "        text-align: right;\n",
       "    }\n",
       "</style>\n",
       "<table border=\"1\" class=\"dataframe\">\n",
       "  <thead>\n",
       "    <tr style=\"text-align: right;\">\n",
       "      <th></th>\n",
       "      <th>index</th>\n",
       "      <th>상호</th>\n",
       "      <th>주소</th>\n",
       "      <th>가격</th>\n",
       "      <th>셀프</th>\n",
       "      <th>상표</th>\n",
       "      <th>구</th>\n",
       "    </tr>\n",
       "  </thead>\n",
       "  <tbody>\n",
       "    <tr>\n",
       "      <th>0</th>\n",
       "      <td>0</td>\n",
       "      <td>정호주유소</td>\n",
       "      <td>서울 성동구 고산자로 307 (마장동)</td>\n",
       "      <td>1958.0</td>\n",
       "      <td>N</td>\n",
       "      <td>자가상표</td>\n",
       "      <td>성동구</td>\n",
       "    </tr>\n",
       "    <tr>\n",
       "      <th>1</th>\n",
       "      <td>1</td>\n",
       "      <td>아이콘주유소</td>\n",
       "      <td>서울 성동구 고산자로 273 (도선동)</td>\n",
       "      <td>1958.0</td>\n",
       "      <td>N</td>\n",
       "      <td>S-OIL</td>\n",
       "      <td>성동구</td>\n",
       "    </tr>\n",
       "    <tr>\n",
       "      <th>2</th>\n",
       "      <td>2</td>\n",
       "      <td>(주)서울에너지 직영</td>\n",
       "      <td>서울 성동구 천호대로 324 (용답동)</td>\n",
       "      <td>1962.0</td>\n",
       "      <td>Y</td>\n",
       "      <td>S-OIL</td>\n",
       "      <td>성동구</td>\n",
       "    </tr>\n",
       "    <tr>\n",
       "      <th>3</th>\n",
       "      <td>3</td>\n",
       "      <td>KLP제2주유소</td>\n",
       "      <td>서울 성동구 동일로 249 (송정동)</td>\n",
       "      <td>1977.0</td>\n",
       "      <td>Y</td>\n",
       "      <td>현대오일뱅크</td>\n",
       "      <td>성동구</td>\n",
       "    </tr>\n",
       "    <tr>\n",
       "      <th>4</th>\n",
       "      <td>4</td>\n",
       "      <td>현대오일뱅크(주) 성동셀프주유소</td>\n",
       "      <td>서울 성동구 마장로 311 (마장동)</td>\n",
       "      <td>1985.0</td>\n",
       "      <td>Y</td>\n",
       "      <td>현대오일뱅크</td>\n",
       "      <td>성동구</td>\n",
       "    </tr>\n",
       "  </tbody>\n",
       "</table>\n",
       "</div>"
      ],
      "text/plain": [
       "   index                 상호                     주소      가격 셀프      상표    구\n",
       "0      0              정호주유소  서울 성동구 고산자로 307 (마장동)  1958.0  N    자가상표  성동구\n",
       "1      1             아이콘주유소  서울 성동구 고산자로 273 (도선동)  1958.0  N   S-OIL  성동구\n",
       "2      2        (주)서울에너지 직영  서울 성동구 천호대로 324 (용답동)  1962.0  Y   S-OIL  성동구\n",
       "3      3           KLP제2주유소   서울 성동구 동일로 249 (송정동)  1977.0  Y  현대오일뱅크  성동구\n",
       "4      4  현대오일뱅크(주) 성동셀프주유소   서울 성동구 마장로 311 (마장동)  1985.0  Y  현대오일뱅크  성동구"
      ]
     },
     "execution_count": 26,
     "metadata": {},
     "output_type": "execute_result"
    }
   ],
   "source": [
    "stations.head()"
   ]
  },
  {
   "cell_type": "code",
   "execution_count": 27,
   "id": "f00de683",
   "metadata": {
    "id": "f00de683",
    "outputId": "10550b10-a4a4-4eb2-d96d-6a4105125aa7"
   },
   "outputs": [
    {
     "data": {
      "text/html": [
       "<div>\n",
       "<style scoped>\n",
       "    .dataframe tbody tr th:only-of-type {\n",
       "        vertical-align: middle;\n",
       "    }\n",
       "\n",
       "    .dataframe tbody tr th {\n",
       "        vertical-align: top;\n",
       "    }\n",
       "\n",
       "    .dataframe thead th {\n",
       "        text-align: right;\n",
       "    }\n",
       "</style>\n",
       "<table border=\"1\" class=\"dataframe\">\n",
       "  <thead>\n",
       "    <tr style=\"text-align: right;\">\n",
       "      <th></th>\n",
       "      <th>상호</th>\n",
       "      <th>주소</th>\n",
       "      <th>가격</th>\n",
       "      <th>셀프</th>\n",
       "      <th>상표</th>\n",
       "      <th>구</th>\n",
       "    </tr>\n",
       "  </thead>\n",
       "  <tbody>\n",
       "    <tr>\n",
       "      <th>0</th>\n",
       "      <td>정호주유소</td>\n",
       "      <td>서울 성동구 고산자로 307 (마장동)</td>\n",
       "      <td>1958.0</td>\n",
       "      <td>N</td>\n",
       "      <td>자가상표</td>\n",
       "      <td>성동구</td>\n",
       "    </tr>\n",
       "    <tr>\n",
       "      <th>1</th>\n",
       "      <td>아이콘주유소</td>\n",
       "      <td>서울 성동구 고산자로 273 (도선동)</td>\n",
       "      <td>1958.0</td>\n",
       "      <td>N</td>\n",
       "      <td>S-OIL</td>\n",
       "      <td>성동구</td>\n",
       "    </tr>\n",
       "    <tr>\n",
       "      <th>2</th>\n",
       "      <td>(주)서울에너지 직영</td>\n",
       "      <td>서울 성동구 천호대로 324 (용답동)</td>\n",
       "      <td>1962.0</td>\n",
       "      <td>Y</td>\n",
       "      <td>S-OIL</td>\n",
       "      <td>성동구</td>\n",
       "    </tr>\n",
       "    <tr>\n",
       "      <th>3</th>\n",
       "      <td>KLP제2주유소</td>\n",
       "      <td>서울 성동구 동일로 249 (송정동)</td>\n",
       "      <td>1977.0</td>\n",
       "      <td>Y</td>\n",
       "      <td>현대오일뱅크</td>\n",
       "      <td>성동구</td>\n",
       "    </tr>\n",
       "    <tr>\n",
       "      <th>4</th>\n",
       "      <td>현대오일뱅크(주) 성동셀프주유소</td>\n",
       "      <td>서울 성동구 마장로 311 (마장동)</td>\n",
       "      <td>1985.0</td>\n",
       "      <td>Y</td>\n",
       "      <td>현대오일뱅크</td>\n",
       "      <td>성동구</td>\n",
       "    </tr>\n",
       "  </tbody>\n",
       "</table>\n",
       "</div>"
      ],
      "text/plain": [
       "                  상호                     주소      가격 셀프      상표    구\n",
       "0              정호주유소  서울 성동구 고산자로 307 (마장동)  1958.0  N    자가상표  성동구\n",
       "1             아이콘주유소  서울 성동구 고산자로 273 (도선동)  1958.0  N   S-OIL  성동구\n",
       "2        (주)서울에너지 직영  서울 성동구 천호대로 324 (용답동)  1962.0  Y   S-OIL  성동구\n",
       "3           KLP제2주유소   서울 성동구 동일로 249 (송정동)  1977.0  Y  현대오일뱅크  성동구\n",
       "4  현대오일뱅크(주) 성동셀프주유소   서울 성동구 마장로 311 (마장동)  1985.0  Y  현대오일뱅크  성동구"
      ]
     },
     "execution_count": 27,
     "metadata": {},
     "output_type": "execute_result"
    }
   ],
   "source": [
    "del stations[\"index\"]\n",
    "stations.head()"
   ]
  },
  {
   "cell_type": "code",
   "execution_count": 28,
   "id": "d437f468",
   "metadata": {
    "id": "d437f468",
    "outputId": "f5d89489-ba99-4aea-84f9-cab1f7b04aa6"
   },
   "outputs": [
    {
     "data": {
      "text/html": [
       "<div>\n",
       "<style scoped>\n",
       "    .dataframe tbody tr th:only-of-type {\n",
       "        vertical-align: middle;\n",
       "    }\n",
       "\n",
       "    .dataframe tbody tr th {\n",
       "        vertical-align: top;\n",
       "    }\n",
       "\n",
       "    .dataframe thead th {\n",
       "        text-align: right;\n",
       "    }\n",
       "</style>\n",
       "<table border=\"1\" class=\"dataframe\">\n",
       "  <thead>\n",
       "    <tr style=\"text-align: right;\">\n",
       "      <th></th>\n",
       "      <th>상호</th>\n",
       "      <th>주소</th>\n",
       "      <th>가격</th>\n",
       "      <th>셀프</th>\n",
       "      <th>상표</th>\n",
       "      <th>구</th>\n",
       "    </tr>\n",
       "  </thead>\n",
       "  <tbody>\n",
       "    <tr>\n",
       "      <th>502</th>\n",
       "      <td>SK세원2주유소</td>\n",
       "      <td>서울 성동구 광나루로 184 (성수동1가)</td>\n",
       "      <td>2175.0</td>\n",
       "      <td>N</td>\n",
       "      <td>SK에너지</td>\n",
       "      <td>성동구</td>\n",
       "    </tr>\n",
       "    <tr>\n",
       "      <th>503</th>\n",
       "      <td>금호주유소</td>\n",
       "      <td>서울 성동구 금호로 39 (금호동4가)</td>\n",
       "      <td>2235.0</td>\n",
       "      <td>N</td>\n",
       "      <td>GS칼텍스</td>\n",
       "      <td>성동구</td>\n",
       "    </tr>\n",
       "    <tr>\n",
       "      <th>504</th>\n",
       "      <td>(주)옥수하이웨이스테이션</td>\n",
       "      <td>서울 성동구 독서당로 168 (옥수동)</td>\n",
       "      <td>2298.0</td>\n",
       "      <td>N</td>\n",
       "      <td>GS칼텍스</td>\n",
       "      <td>성동구</td>\n",
       "    </tr>\n",
       "    <tr>\n",
       "      <th>505</th>\n",
       "      <td>청계로주유소</td>\n",
       "      <td>서울 성동구 청계천로 454 (하왕십리동)</td>\n",
       "      <td>2298.0</td>\n",
       "      <td>N</td>\n",
       "      <td>SK에너지</td>\n",
       "      <td>성동구</td>\n",
       "    </tr>\n",
       "    <tr>\n",
       "      <th>506</th>\n",
       "      <td>동일주유소</td>\n",
       "      <td>서울 성동구 광나루로 254 (성수동2가)</td>\n",
       "      <td>2328.0</td>\n",
       "      <td>N</td>\n",
       "      <td>현대오일뱅크</td>\n",
       "      <td>성동구</td>\n",
       "    </tr>\n",
       "  </tbody>\n",
       "</table>\n",
       "</div>"
      ],
      "text/plain": [
       "                상호                       주소      가격 셀프      상표    구\n",
       "502       SK세원2주유소  서울 성동구 광나루로 184 (성수동1가)  2175.0  N   SK에너지  성동구\n",
       "503          금호주유소    서울 성동구 금호로 39 (금호동4가)  2235.0  N   GS칼텍스  성동구\n",
       "504  (주)옥수하이웨이스테이션    서울 성동구 독서당로 168 (옥수동)  2298.0  N   GS칼텍스  성동구\n",
       "505         청계로주유소  서울 성동구 청계천로 454 (하왕십리동)  2298.0  N   SK에너지  성동구\n",
       "506          동일주유소  서울 성동구 광나루로 254 (성수동2가)  2328.0  N  현대오일뱅크  성동구"
      ]
     },
     "execution_count": 28,
     "metadata": {},
     "output_type": "execute_result"
    }
   ],
   "source": [
    "stations.tail()"
   ]
  },
  {
   "cell_type": "markdown",
   "id": "7c066847",
   "metadata": {
    "id": "7c066847"
   },
   "source": [
    "## 5. 주유 가격 정보 시각화"
   ]
  },
  {
   "cell_type": "code",
   "execution_count": 34,
   "id": "53bd3b50",
   "metadata": {
    "id": "53bd3b50"
   },
   "outputs": [
    {
     "name": "stdout",
     "output_type": "stream",
     "text": [
      "Unkown system. sorry~~\n"
     ]
    }
   ],
   "source": [
    "import matplotlib.pyplot as plt \n",
    "import seaborn as sns \n",
    "import platform\n",
    "from matplotlib import font_manager, rc \n",
    "\n",
    "get_ipython().run_line_magic(\"matplotlib\", \"inline\")\n",
    "# %matplotlib inline \n",
    "\n",
    "plt.rc(\"font\", family=\"Malgun Gothic\")\n",
    "plt.rc(\"axes\", unicode_minus=False)\n",
    "\n",
    "path = \"C:/Windows/Fonts/malgun.ttf\"\n",
    "\n",
    "if platform.system() == \"Darwin\":\n",
    "    rc(\"font\", family=\"Arial Unicode MS\")\n",
    "elif platform.system == \"Windows\":\n",
    "    font_name = font_manager.Fontproperties(fname=path).get_name() \n",
    "    plt.rc(\"font\", family=font_name)\n",
    "else:\n",
    "    print(\"Unkown system. sorry~~\")"
   ]
  },
  {
   "cell_type": "code",
   "execution_count": 35,
   "id": "d9a0c832",
   "metadata": {
    "id": "d9a0c832",
    "outputId": "92465b6e-e54f-4647-ac31-6581831ab010"
   },
   "outputs": [
    {
     "data": {
      "image/png": "[encoded data removed]",
      "text/plain": [
       "<Figure size 864x576 with 1 Axes>"
      ]
     },
     "metadata": {
      "needs_background": "light"
     },
     "output_type": "display_data"
    }
   ],
   "source": [
    "# boxplot(feat. pandas)\n",
    "\n",
    "stations.boxplot(column=\"가격\", by=\"셀프\", figsize=(12, 8));"
   ]
  },
  {
   "cell_type": "code",
   "execution_count": 36,
   "id": "696335a1",
   "metadata": {
    "id": "696335a1",
    "outputId": "5ca69065-f021-407f-afdf-220e6244d152"
   },
   "outputs": [
    {
     "data": {
      "image/png": "[encoded data removed]",
      "text/plain": [
       "<Figure size 864x576 with 1 Axes>"
      ]
     },
     "metadata": {
      "needs_background": "light"
     },
     "output_type": "display_data"
    }
   ],
   "source": [
    "# boxplot(feat. seaborn)\n",
    "\n",
    "plt.figure(figsize=(12, 8))\n",
    "sns.boxplot(x=\"셀프\", y=\"가격\", data=stations, palette=\"Set1\")\n",
    "plt.grid(True)\n",
    "plt.show()"
   ]
  },
  {
   "cell_type": "code",
   "execution_count": 37,
   "id": "a7ce1a8b",
   "metadata": {
    "id": "a7ce1a8b",
    "outputId": "93f387c7-17de-4789-cdfc-2c76ef92ea5a"
   },
   "outputs": [
    {
     "data": {
      "image/png": "[encoded data removed]",
      "text/plain": [
       "<Figure size 864x576 with 1 Axes>"
      ]
     },
     "metadata": {
      "needs_background": "light"
     },
     "output_type": "display_data"
    }
   ],
   "source": [
    "# boxplot(feat. seaborn)\n",
    "\n",
    "plt.figure(figsize=(12, 8))\n",
    "sns.boxplot(x=\"상표\", y=\"가격\", hue=\"셀프\", data=stations, palette=\"Set3\")\n",
    "plt.grid(True)\n",
    "plt.show()"
   ]
  },
  {
   "cell_type": "code",
   "execution_count": 38,
   "id": "c7109756",
   "metadata": {
    "id": "c7109756"
   },
   "outputs": [],
   "source": [
    "# 지도 시각화 "
   ]
  },
  {
   "cell_type": "code",
   "execution_count": 39,
   "id": "757c5b1f",
   "metadata": {
    "id": "757c5b1f"
   },
   "outputs": [],
   "source": [
    "import json \n",
    "import folium\n",
    "import warnings\n",
    "warnings.simplefilter(action=\"ignore\", category=FutureWarning)"
   ]
  },
  {
   "cell_type": "code",
   "execution_count": 40,
   "id": "d64d70e0",
   "metadata": {
    "id": "d64d70e0",
    "outputId": "21e2c08e-b932-40e9-8e1e-08484f23ad51"
   },
   "outputs": [
    {
     "data": {
      "text/html": [
       "<div>\n",
       "<style scoped>\n",
       "    .dataframe tbody tr th:only-of-type {\n",
       "        vertical-align: middle;\n",
       "    }\n",
       "\n",
       "    .dataframe tbody tr th {\n",
       "        vertical-align: top;\n",
       "    }\n",
       "\n",
       "    .dataframe thead th {\n",
       "        text-align: right;\n",
       "    }\n",
       "</style>\n",
       "<table border=\"1\" class=\"dataframe\">\n",
       "  <thead>\n",
       "    <tr style=\"text-align: right;\">\n",
       "      <th></th>\n",
       "      <th>상호</th>\n",
       "      <th>주소</th>\n",
       "      <th>가격</th>\n",
       "      <th>셀프</th>\n",
       "      <th>상표</th>\n",
       "      <th>구</th>\n",
       "    </tr>\n",
       "  </thead>\n",
       "  <tbody>\n",
       "    <tr>\n",
       "      <th>334</th>\n",
       "      <td>서남주유소</td>\n",
       "      <td>서울 중구 통일로 30</td>\n",
       "      <td>2814.0</td>\n",
       "      <td>N</td>\n",
       "      <td>SK에너지</td>\n",
       "      <td>중구</td>\n",
       "    </tr>\n",
       "    <tr>\n",
       "      <th>300</th>\n",
       "      <td>서계주유소</td>\n",
       "      <td>서울특별시 용산구  청파로 367 (청파동)</td>\n",
       "      <td>2810.0</td>\n",
       "      <td>N</td>\n",
       "      <td>GS칼텍스</td>\n",
       "      <td>용산구</td>\n",
       "    </tr>\n",
       "    <tr>\n",
       "      <th>381</th>\n",
       "      <td>(주)만정에너지</td>\n",
       "      <td>서울 강남구 봉은사로 433 (삼성동)</td>\n",
       "      <td>2548.0</td>\n",
       "      <td>N</td>\n",
       "      <td>GS칼텍스</td>\n",
       "      <td>강남구</td>\n",
       "    </tr>\n",
       "    <tr>\n",
       "      <th>333</th>\n",
       "      <td>필동주유소</td>\n",
       "      <td>서울 중구 퇴계로 196 (필동2가)</td>\n",
       "      <td>2519.0</td>\n",
       "      <td>N</td>\n",
       "      <td>GS칼텍스</td>\n",
       "      <td>중구</td>\n",
       "    </tr>\n",
       "    <tr>\n",
       "      <th>332</th>\n",
       "      <td>약수주유소</td>\n",
       "      <td>서울 중구 다산로 173</td>\n",
       "      <td>2498.0</td>\n",
       "      <td>N</td>\n",
       "      <td>GS칼텍스</td>\n",
       "      <td>중구</td>\n",
       "    </tr>\n",
       "    <tr>\n",
       "      <th>146</th>\n",
       "      <td>선우상사Q엔느</td>\n",
       "      <td>서울 서초구 방배로 66 (방배동)</td>\n",
       "      <td>2497.0</td>\n",
       "      <td>N</td>\n",
       "      <td>SK에너지</td>\n",
       "      <td>서초구</td>\n",
       "    </tr>\n",
       "    <tr>\n",
       "      <th>299</th>\n",
       "      <td>동자동주유소</td>\n",
       "      <td>서울 용산구 한강대로104길 6 (동자동)</td>\n",
       "      <td>2490.0</td>\n",
       "      <td>N</td>\n",
       "      <td>SK에너지</td>\n",
       "      <td>용산구</td>\n",
       "    </tr>\n",
       "    <tr>\n",
       "      <th>380</th>\n",
       "      <td>(주)소모에너지 쎈트럴주유소</td>\n",
       "      <td>서울 강남구 삼성로 335</td>\n",
       "      <td>2455.0</td>\n",
       "      <td>N</td>\n",
       "      <td>GS칼텍스</td>\n",
       "      <td>강남구</td>\n",
       "    </tr>\n",
       "    <tr>\n",
       "      <th>331</th>\n",
       "      <td>SK에너지(주) 퇴계로주유소</td>\n",
       "      <td>서울 중구 퇴계로 228 (필동2가)</td>\n",
       "      <td>2449.0</td>\n",
       "      <td>N</td>\n",
       "      <td>SK에너지</td>\n",
       "      <td>중구</td>\n",
       "    </tr>\n",
       "    <tr>\n",
       "      <th>489</th>\n",
       "      <td>구로주유소</td>\n",
       "      <td>서울 구로구 구로동로 137 (구로동)</td>\n",
       "      <td>2448.0</td>\n",
       "      <td>N</td>\n",
       "      <td>GS칼텍스</td>\n",
       "      <td>구로구</td>\n",
       "    </tr>\n",
       "  </tbody>\n",
       "</table>\n",
       "</div>"
      ],
      "text/plain": [
       "                  상호                        주소      가격 셀프     상표    구\n",
       "334            서남주유소              서울 중구 통일로 30  2814.0  N  SK에너지   중구\n",
       "300            서계주유소  서울특별시 용산구  청파로 367 (청파동)  2810.0  N  GS칼텍스  용산구\n",
       "381         (주)만정에너지     서울 강남구 봉은사로 433 (삼성동)  2548.0  N  GS칼텍스  강남구\n",
       "333            필동주유소      서울 중구 퇴계로 196 (필동2가)  2519.0  N  GS칼텍스   중구\n",
       "332            약수주유소             서울 중구 다산로 173  2498.0  N  GS칼텍스   중구\n",
       "146          선우상사Q엔느       서울 서초구 방배로 66 (방배동)  2497.0  N  SK에너지  서초구\n",
       "299           동자동주유소   서울 용산구 한강대로104길 6 (동자동)  2490.0  N  SK에너지  용산구\n",
       "380  (주)소모에너지 쎈트럴주유소            서울 강남구 삼성로 335  2455.0  N  GS칼텍스  강남구\n",
       "331  SK에너지(주) 퇴계로주유소      서울 중구 퇴계로 228 (필동2가)  2449.0  N  SK에너지   중구\n",
       "489            구로주유소     서울 구로구 구로동로 137 (구로동)  2448.0  N  GS칼텍스  구로구"
      ]
     },
     "execution_count": 40,
     "metadata": {},
     "output_type": "execute_result"
    }
   ],
   "source": [
    "# 가장 비싼 주유소 10개 \n",
    "stations.sort_values(by=\"가격\", ascending=False).head(10)"
   ]
  },
  {
   "cell_type": "code",
   "execution_count": 41,
   "id": "0619320c",
   "metadata": {
    "id": "0619320c",
    "outputId": "2119fae3-b184-48f8-9e73-a400c40ef7b7"
   },
   "outputs": [
    {
     "data": {
      "text/html": [
       "<div>\n",
       "<style scoped>\n",
       "    .dataframe tbody tr th:only-of-type {\n",
       "        vertical-align: middle;\n",
       "    }\n",
       "\n",
       "    .dataframe tbody tr th {\n",
       "        vertical-align: top;\n",
       "    }\n",
       "\n",
       "    .dataframe thead th {\n",
       "        text-align: right;\n",
       "    }\n",
       "</style>\n",
       "<table border=\"1\" class=\"dataframe\">\n",
       "  <thead>\n",
       "    <tr style=\"text-align: right;\">\n",
       "      <th></th>\n",
       "      <th>상호</th>\n",
       "      <th>주소</th>\n",
       "      <th>가격</th>\n",
       "      <th>셀프</th>\n",
       "      <th>상표</th>\n",
       "      <th>구</th>\n",
       "    </tr>\n",
       "  </thead>\n",
       "  <tbody>\n",
       "    <tr>\n",
       "      <th>115</th>\n",
       "      <td>에쓰오일(주)직영 오토테크주유소</td>\n",
       "      <td>서울특별시 서초구  효령로 356 (서초동)</td>\n",
       "      <td>1924.0</td>\n",
       "      <td>Y</td>\n",
       "      <td>S-OIL</td>\n",
       "      <td>서초구</td>\n",
       "    </tr>\n",
       "    <tr>\n",
       "      <th>237</th>\n",
       "      <td>양천구주유소</td>\n",
       "      <td>서울 양천구 국회대로 275 (목동)</td>\n",
       "      <td>1925.0</td>\n",
       "      <td>Y</td>\n",
       "      <td>알뜰주유소</td>\n",
       "      <td>양천구</td>\n",
       "    </tr>\n",
       "    <tr>\n",
       "      <th>238</th>\n",
       "      <td>가로공원주유소</td>\n",
       "      <td>서울 양천구 가로공원로 165 (신월동)</td>\n",
       "      <td>1929.0</td>\n",
       "      <td>N</td>\n",
       "      <td>SK에너지</td>\n",
       "      <td>양천구</td>\n",
       "    </tr>\n",
       "    <tr>\n",
       "      <th>116</th>\n",
       "      <td>만남의광장주유소</td>\n",
       "      <td>서울 서초구 양재대로12길 73-71</td>\n",
       "      <td>1929.0</td>\n",
       "      <td>Y</td>\n",
       "      <td>알뜰(ex)</td>\n",
       "      <td>서초구</td>\n",
       "    </tr>\n",
       "    <tr>\n",
       "      <th>409</th>\n",
       "      <td>화곡역주유소</td>\n",
       "      <td>서울 강서구 강서로 154 (화곡동)</td>\n",
       "      <td>1929.0</td>\n",
       "      <td>Y</td>\n",
       "      <td>알뜰주유소</td>\n",
       "      <td>강서구</td>\n",
       "    </tr>\n",
       "    <tr>\n",
       "      <th>410</th>\n",
       "      <td>뉴신정주유소</td>\n",
       "      <td>서울 강서구 곰달래로 207 (화곡동)</td>\n",
       "      <td>1929.0</td>\n",
       "      <td>N</td>\n",
       "      <td>알뜰주유소</td>\n",
       "      <td>강서구</td>\n",
       "    </tr>\n",
       "    <tr>\n",
       "      <th>241</th>\n",
       "      <td>지에스칼텍스㈜ 건지주유소</td>\n",
       "      <td>서울 양천구 안양천로 1171 (목동)</td>\n",
       "      <td>1936.0</td>\n",
       "      <td>Y</td>\n",
       "      <td>GS칼텍스</td>\n",
       "      <td>양천구</td>\n",
       "    </tr>\n",
       "    <tr>\n",
       "      <th>240</th>\n",
       "      <td>현대오일뱅크(주)직영 양천현대셀프주유소</td>\n",
       "      <td>서울 양천구 안양천로 1179 (목동)</td>\n",
       "      <td>1936.0</td>\n",
       "      <td>Y</td>\n",
       "      <td>현대오일뱅크</td>\n",
       "      <td>양천구</td>\n",
       "    </tr>\n",
       "    <tr>\n",
       "      <th>239</th>\n",
       "      <td>목동주유소</td>\n",
       "      <td>서울 양천구 목동중앙로 125 (목동)</td>\n",
       "      <td>1936.0</td>\n",
       "      <td>Y</td>\n",
       "      <td>SK에너지</td>\n",
       "      <td>양천구</td>\n",
       "    </tr>\n",
       "    <tr>\n",
       "      <th>411</th>\n",
       "      <td>유턴주유소</td>\n",
       "      <td>서울 강서구 남부순환로 57</td>\n",
       "      <td>1938.0</td>\n",
       "      <td>Y</td>\n",
       "      <td>알뜰주유소</td>\n",
       "      <td>강서구</td>\n",
       "    </tr>\n",
       "  </tbody>\n",
       "</table>\n",
       "</div>"
      ],
      "text/plain": [
       "                        상호                        주소      가격 셀프      상표    구\n",
       "115      에쓰오일(주)직영 오토테크주유소  서울특별시 서초구  효령로 356 (서초동)  1924.0  Y   S-OIL  서초구\n",
       "237                 양천구주유소      서울 양천구 국회대로 275 (목동)  1925.0  Y   알뜰주유소  양천구\n",
       "238                가로공원주유소    서울 양천구 가로공원로 165 (신월동)  1929.0  N   SK에너지  양천구\n",
       "116               만남의광장주유소      서울 서초구 양재대로12길 73-71  1929.0  Y  알뜰(ex)  서초구\n",
       "409                 화곡역주유소      서울 강서구 강서로 154 (화곡동)  1929.0  Y   알뜰주유소  강서구\n",
       "410                 뉴신정주유소     서울 강서구 곰달래로 207 (화곡동)  1929.0  N   알뜰주유소  강서구\n",
       "241          지에스칼텍스㈜ 건지주유소     서울 양천구 안양천로 1171 (목동)  1936.0  Y   GS칼텍스  양천구\n",
       "240  현대오일뱅크(주)직영 양천현대셀프주유소     서울 양천구 안양천로 1179 (목동)  1936.0  Y  현대오일뱅크  양천구\n",
       "239                  목동주유소     서울 양천구 목동중앙로 125 (목동)  1936.0  Y   SK에너지  양천구\n",
       "411                  유턴주유소           서울 강서구 남부순환로 57  1938.0  Y   알뜰주유소  강서구"
      ]
     },
     "execution_count": 41,
     "metadata": {},
     "output_type": "execute_result"
    }
   ],
   "source": [
    "# 가장 값싼 주유소 10개 \n",
    "stations.sort_values(by=\"가격\", ascending=True).head(10)"
   ]
  },
  {
   "cell_type": "code",
   "execution_count": 42,
   "id": "8f913e68",
   "metadata": {
    "id": "8f913e68",
    "outputId": "2d25d5d7-be7a-49f2-d97c-124ada604c3f"
   },
   "outputs": [
    {
     "data": {
      "text/html": [
       "<div>\n",
       "<style scoped>\n",
       "    .dataframe tbody tr th:only-of-type {\n",
       "        vertical-align: middle;\n",
       "    }\n",
       "\n",
       "    .dataframe tbody tr th {\n",
       "        vertical-align: top;\n",
       "    }\n",
       "\n",
       "    .dataframe thead th {\n",
       "        text-align: right;\n",
       "    }\n",
       "</style>\n",
       "<table border=\"1\" class=\"dataframe\">\n",
       "  <thead>\n",
       "    <tr style=\"text-align: right;\">\n",
       "      <th></th>\n",
       "      <th>가격</th>\n",
       "    </tr>\n",
       "    <tr>\n",
       "      <th>구</th>\n",
       "      <th></th>\n",
       "    </tr>\n",
       "  </thead>\n",
       "  <tbody>\n",
       "    <tr>\n",
       "      <th>강남구</th>\n",
       "      <td>2141.545455</td>\n",
       "    </tr>\n",
       "    <tr>\n",
       "      <th>강동구</th>\n",
       "      <td>2080.785714</td>\n",
       "    </tr>\n",
       "    <tr>\n",
       "      <th>강북구</th>\n",
       "      <td>1986.307692</td>\n",
       "    </tr>\n",
       "    <tr>\n",
       "      <th>강서구</th>\n",
       "      <td>2005.437500</td>\n",
       "    </tr>\n",
       "    <tr>\n",
       "      <th>관악구</th>\n",
       "      <td>2023.857143</td>\n",
       "    </tr>\n",
       "  </tbody>\n",
       "</table>\n",
       "</div>"
      ],
      "text/plain": [
       "              가격\n",
       "구               \n",
       "강남구  2141.545455\n",
       "강동구  2080.785714\n",
       "강북구  1986.307692\n",
       "강서구  2005.437500\n",
       "관악구  2023.857143"
      ]
     },
     "execution_count": 42,
     "metadata": {},
     "output_type": "execute_result"
    }
   ],
   "source": [
    "import numpy as np \n",
    "\n",
    "gu_data = pd.pivot_table(data=stations, index=\"구\", values=\"가격\", aggfunc=np.mean)\n",
    "gu_data.head()"
   ]
  },
  {
   "cell_type": "code",
   "execution_count": 43,
   "id": "7a57503b",
   "metadata": {
    "id": "7a57503b",
    "outputId": "6a33269d-6028-4619-92d2-ae707cf3e17c"
   },
   "outputs": [
    {
     "data": {
      "text/html": [
       "<div style=\"width:100%;\"><div style=\"position:relative;width:100%;height:0;padding-bottom:60%;\"><span style=\"color:#565656\">Make this Notebook Trusted to load map: File -> Trust Notebook</span><iframe src=\"about:blank\" style=\"position:absolute;width:100%;height:100%;left:0;top:0;border:none !important;\" data-html=%3C%21DOCTYPE%20html%3E%0A%3Chead%3E%20%20%20%20%0A%20%20%20%20%3Cmeta%20http-equiv%3D%22content-type%22%20content%3D%22text/html%3B%20charset%3DUTF-8%22%20/%3E%0A%20%20%20%20%0A%20%20%20%20%20%20%20%20%3Cscript%3E%0A%20%20%20%20%20%20%20%20%20%20%20%20L_NO_TOUCH%20%3D%20false%3B%0A%20%20%20%20%20%20%20%20%20%20%20%20L_DISABLE_3D%20%3D%20false%3B%0A%20%20%20%20%20%20%20%20%3C/script%3E%0A%20%20%20%20%0A%20%20%20%20%3Cstyle%3Ehtml%2C%20body%20%7Bwidth%3A%20100%25%3Bheight%3A%20100%25%3Bmargin%3A%200%3Bpadding%3A%200%3B%7D%3C/style%3E%0A%20%20%20%20%3Cstyle%3E%23map%20%7Bposition%3Aabsolute%3Btop%3A0%3Bbottom%3A0%3Bright%3A0%3Bleft%3A0%3B%7D%3C/style%3E%0A%20%20%20%20%3Cscript%20src%3D%22https%3A//cdn.jsdelivr.net/npm/leaflet%401.6.0/dist/leaflet.js%22%3E%3C/script%3E%0A%20%20%20%20%3Cscript%20src%3D%22https%3A//code.jquery.com/jquery-1.12.4.min.js%22%3E%3C/script%3E%0A%20%20%20%20%3Cscript%20src%3D%22https%3A//maxcdn.bootstrapcdn.com/bootstrap/3.2.0/js/bootstrap.min.js%22%3E%3C/script%3E%0A%20%20%20%20%3Cscript%20src%3D%22https%3A//cdnjs.cloudflare.com/ajax/libs/Leaflet.awesome-markers/2.0.2/leaflet.awesome-markers.js%22%3E%3C/script%3E%0A%20%20%20%20%3Clink%20rel%3D%22stylesheet%22%20href%3D%22https%3A//cdn.jsdelivr.net/npm/leaflet%401.6.0/dist/leaflet.css%22/%3E%0A%20%20%20%20%3Clink%20rel%3D%22stylesheet%22%20href%3D%22https%3A//maxcdn.bootstrapcdn.com/bootstrap/3.2.0/css/bootstrap.min.css%22/%3E%0A%20%20%20%20%3Clink%20rel%3D%22stylesheet%22%20href%3D%22https%3A//maxcdn.bootstrapcdn.com/bootstrap/3.2.0/css/bootstrap-theme.min.css%22/%3E%0A%20%20%20%20%3Clink%20rel%3D%22stylesheet%22%20href%3D%22https%3A//maxcdn.bootstrapcdn.com/font-awesome/4.6.3/css/font-awesome.min.css%22/%3E%0A%20%20%20%20%3Clink%20rel%3D%22stylesheet%22%20href%3D%22https%3A//cdnjs.cloudflare.com/ajax/libs/Leaflet.awesome-markers/2.0.2/leaflet.awesome-markers.css%22/%3E%0A%20%20%20%20%3Clink%20rel%3D%22stylesheet%22%20href%3D%22https%3A//cdn.jsdelivr.net/gh/python-visualization/folium/folium/templates/leaflet.awesome.rotate.min.css%22/%3E%0A%20%20%20%20%0A%20%20%20%20%20%20%20%20%20%20%20%20%3Cmeta%20name%3D%22viewport%22%20content%3D%22width%3Ddevice-width%2C%0A%20%20%20%20%20%20%20%20%20%20%20%20%20%20%20%20initial-scale%3D1.0%2C%20maximum-scale%3D1.0%2C%20user-scalable%3Dno%22%20/%3E%0A%20%20%20%20%20%20%20%20%20%20%20%20%3Cstyle%3E%0A%20%20%20%20%20%20%20%20%20%20%20%20%20%20%20%20%23map_a7fed6219f5048a68891aa4cd4d884ae%20%7B%0A%20%20%20%20%20%20%20%20%20%20%20%20%20%20%20%20%20%20%20%20position%3A%20relative%3B%0A%20%20%20%20%20%20%20%20%20%20%20%20%20%20%20%20%20%20%20%20width%3A%20100.0%25%3B%0A%20%20%20%20%20%20%20%20%20%20%20%20%20%20%20%20%20%20%20%20height%3A%20100.0%25%3B%0A%20%20%20%20%20%20%20%20%20%20%20%20%20%20%20%20%20%20%20%20left%3A%200.0%25%3B%0A%20%20%20%20%20%20%20%20%20%20%20%20%20%20%20%20%20%20%20%20top%3A%200.0%25%3B%0A%20%20%20%20%20%20%20%20%20%20%20%20%20%20%20%20%7D%0A%20%20%20%20%20%20%20%20%20%20%20%20%3C/style%3E%0A%20%20%20%20%20%20%20%20%0A%20%20%20%20%3Cscript%20src%3D%22https%3A//cdnjs.cloudflare.com/ajax/libs/d3/3.5.5/d3.min.js%22%3E%3C/script%3E%0A%3C/head%3E%0A%3Cbody%3E%20%20%20%20%0A%20%20%20%20%0A%20%20%20%20%20%20%20%20%20%20%20%20%3Cdiv%20class%3D%22folium-map%22%20id%3D%22map_a7fed6219f5048a68891aa4cd4d884ae%22%20%3E%3C/div%3E%0A%20%20%20%20%20%20%20%20%0A%3C/body%3E%0A%3Cscript%3E%20%20%20%20%0A%20%20%20%20%0A%20%20%20%20%20%20%20%20%20%20%20%20var%20map_a7fed6219f5048a68891aa4cd4d884ae%20%3D%20L.map%28%0A%20%20%20%20%20%20%20%20%20%20%20%20%20%20%20%20%22map_a7fed6219f5048a68891aa4cd4d884ae%22%2C%0A%20%20%20%20%20%20%20%20%20%20%20%20%20%20%20%20%7B%0A%20%20%20%20%20%20%20%20%20%20%20%20%20%20%20%20%20%20%20%20center%3A%20%5B37.5502%2C%20126.982%5D%2C%0A%20%20%20%20%20%20%20%20%20%20%20%20%20%20%20%20%20%20%20%20crs%3A%20L.CRS.EPSG3857%2C%0A%20%20%20%20%20%20%20%20%20%20%20%20%20%20%20%20%20%20%20%20zoom%3A%2010.5%2C%0A%20%20%20%20%20%20%20%20%20%20%20%20%20%20%20%20%20%20%20%20zoomControl%3A%20true%2C%0A%20%20%20%20%20%20%20%20%20%20%20%20%20%20%20%20%20%20%20%20preferCanvas%3A%20false%2C%0A%20%20%20%20%20%20%20%20%20%20%20%20%20%20%20%20%7D%0A%20%20%20%20%20%20%20%20%20%20%20%20%29%3B%0A%0A%20%20%20%20%20%20%20%20%20%20%20%20%0A%0A%20%20%20%20%20%20%20%20%0A%20%20%20%20%0A%20%20%20%20%20%20%20%20%20%20%20%20var%20tile_layer_c7d72d4302044e97a175fda21100a9db%20%3D%20L.tileLayer%28%0A%20%20%20%20%20%20%20%20%20%20%20%20%20%20%20%20%22https%3A//stamen-tiles-%7Bs%7D.a.ssl.fastly.net/toner/%7Bz%7D/%7Bx%7D/%7By%7D.png%22%2C%0A%20%20%20%20%20%20%20%20%20%20%20%20%20%20%20%20%7B%22attribution%22%3A%20%22Map%20tiles%20by%20%5Cu003ca%20href%3D%5C%22http%3A//stamen.com%5C%22%5Cu003eStamen%20Design%5Cu003c/a%5Cu003e%2C%20under%20%5Cu003ca%20href%3D%5C%22http%3A//creativecommons.org/licenses/by/3.0%5C%22%5Cu003eCC%20BY%203.0%5Cu003c/a%5Cu003e.%20Data%20by%20%5Cu0026copy%3B%20%5Cu003ca%20href%3D%5C%22http%3A//openstreetmap.org%5C%22%5Cu003eOpenStreetMap%5Cu003c/a%5Cu003e%2C%20under%20%5Cu003ca%20href%3D%5C%22http%3A//www.openstreetmap.org/copyright%5C%22%5Cu003eODbL%5Cu003c/a%5Cu003e.%22%2C%20%22detectRetina%22%3A%20false%2C%20%22maxNativeZoom%22%3A%2018%2C%20%22maxZoom%22%3A%2018%2C%20%22minZoom%22%3A%200%2C%20%22noWrap%22%3A%20false%2C%20%22opacity%22%3A%201%2C%20%22subdomains%22%3A%20%22abc%22%2C%20%22tms%22%3A%20false%7D%0A%20%20%20%20%20%20%20%20%20%20%20%20%29.addTo%28map_a7fed6219f5048a68891aa4cd4d884ae%29%3B%0A%20%20%20%20%20%20%20%20%0A%20%20%20%20%0A%20%20%20%20%20%20%20%20%20%20%20%20var%20choropleth_3aa2765645014e679d4490b42dd90152%20%3D%20L.featureGroup%28%0A%20%20%20%20%20%20%20%20%20%20%20%20%20%20%20%20%7B%7D%0A%20%20%20%20%20%20%20%20%20%20%20%20%29.addTo%28map_a7fed6219f5048a68891aa4cd4d884ae%29%3B%0A%20%20%20%20%20%20%20%20%0A%20%20%20%20%0A%20%20%20%20%20%20%20%20function%20geo_json_ccb3dda72bea4910983e45d730c67996_styler%28feature%29%20%7B%0A%20%20%20%20%20%20%20%20%20%20%20%20switch%28feature.id%29%20%7B%0A%20%20%20%20%20%20%20%20%20%20%20%20%20%20%20%20case%20%22%5Cuac15%5Cub3d9%5Cuad6c%22%3A%20case%20%22%5Cuc11c%5Cucd08%5Cuad6c%22%3A%20case%20%22%5Cuad6c%5Cub85c%5Cuad6c%22%3A%20case%20%22%5Cuc131%5Cub3d9%5Cuad6c%22%3A%20%0A%20%20%20%20%20%20%20%20%20%20%20%20%20%20%20%20%20%20%20%20return%20%7B%22color%22%3A%20%22black%22%2C%20%22fillColor%22%3A%20%22%23d4b9da%22%2C%20%22fillOpacity%22%3A%200.6%2C%20%22opacity%22%3A%201%2C%20%22weight%22%3A%201%7D%3B%0A%20%20%20%20%20%20%20%20%20%20%20%20%20%20%20%20case%20%22%5Cuac15%5Cub0a8%5Cuad6c%22%3A%20%0A%20%20%20%20%20%20%20%20%20%20%20%20%20%20%20%20%20%20%20%20return%20%7B%22color%22%3A%20%22black%22%2C%20%22fillColor%22%3A%20%22%23c994c7%22%2C%20%22fillOpacity%22%3A%200.6%2C%20%22opacity%22%3A%201%2C%20%22weight%22%3A%201%7D%3B%0A%20%20%20%20%20%20%20%20%20%20%20%20%20%20%20%20case%20%22%5Cuc6a9%5Cuc0b0%5Cuad6c%22%3A%20%0A%20%20%20%20%20%20%20%20%20%20%20%20%20%20%20%20%20%20%20%20return%20%7B%22color%22%3A%20%22black%22%2C%20%22fillColor%22%3A%20%22%23980043%22%2C%20%22fillOpacity%22%3A%200.6%2C%20%22opacity%22%3A%201%2C%20%22weight%22%3A%201%7D%3B%0A%20%20%20%20%20%20%20%20%20%20%20%20%20%20%20%20case%20%22%5Cuc911%5Cuad6c%22%3A%20%0A%20%20%20%20%20%20%20%20%20%20%20%20%20%20%20%20%20%20%20%20return%20%7B%22color%22%3A%20%22black%22%2C%20%22fillColor%22%3A%20%22%23dd1c77%22%2C%20%22fillOpacity%22%3A%200.6%2C%20%22opacity%22%3A%201%2C%20%22weight%22%3A%201%7D%3B%0A%20%20%20%20%20%20%20%20%20%20%20%20%20%20%20%20case%20%22%5Cuc885%5Cub85c%5Cuad6c%22%3A%20%0A%20%20%20%20%20%20%20%20%20%20%20%20%20%20%20%20%20%20%20%20return%20%7B%22color%22%3A%20%22black%22%2C%20%22fillColor%22%3A%20%22%23df65b0%22%2C%20%22fillOpacity%22%3A%200.6%2C%20%22opacity%22%3A%201%2C%20%22weight%22%3A%201%7D%3B%0A%20%20%20%20%20%20%20%20%20%20%20%20%20%20%20%20default%3A%0A%20%20%20%20%20%20%20%20%20%20%20%20%20%20%20%20%20%20%20%20return%20%7B%22color%22%3A%20%22black%22%2C%20%22fillColor%22%3A%20%22%23f1eef6%22%2C%20%22fillOpacity%22%3A%200.6%2C%20%22opacity%22%3A%201%2C%20%22weight%22%3A%201%7D%3B%0A%20%20%20%20%20%20%20%20%20%20%20%20%7D%0A%20%20%20%20%20%20%20%20%7D%0A%0A%20%20%20%20%20%20%20%20function%20geo_json_ccb3dda72bea4910983e45d730c67996_onEachFeature%28feature%2C%20layer%29%20%7B%0A%20%20%20%20%20%20%20%20%20%20%20%20layer.on%28%7B%0A%20%20%20%20%20%20%20%20%20%20%20%20%7D%29%3B%0A%20%20%20%20%20%20%20%20%7D%3B%0A%20%20%20%20%20%20%20%20var%20geo_json_ccb3dda72bea4910983e45d730c67996%20%3D%20L.geoJson%28null%2C%20%7B%0A%20%20%20%20%20%20%20%20%20%20%20%20%20%20%20%20onEachFeature%3A%20geo_json_ccb3dda72bea4910983e45d730c67996_onEachFeature%2C%0A%20%20%20%20%20%20%20%20%20%20%20%20%0A%20%20%20%20%20%20%20%20%20%20%20%20%20%20%20%20style%3A%20geo_json_ccb3dda72bea4910983e45d730c67996_styler%2C%0A%20%20%20%20%20%20%20%20%7D%29%3B%0A%0A%20%20%20%20%20%20%20%20function%20geo_json_ccb3dda72bea4910983e45d730c67996_add%20%28data%29%20%7B%0A%20%20%20%20%20%20%20%20%20%20%20%20geo_json_ccb3dda72bea4910983e45d730c67996%0A%20%20%20%20%20%20%20%20%20%20%20%20%20%20%20%20.addData%28data%29%0A%20%20%20%20%20%20%20%20%20%20%20%20%20%20%20%20.addTo%28choropleth_3aa2765645014e679d4490b42dd90152%29%3B%0A%20%20%20%20%20%20%20%20%7D%0A%20%20%20%20%20%20%20%20%20%20%20%20geo_json_ccb3dda72bea4910983e45d730c67996_add%28%7B%22features%22%3A%20%5B%7B%22geometry%22%3A%20%7B%22coordinates%22%3A%20%5B%5B%5B127.11519584981606%2C%2037.557533180704915%5D%2C%20%5B127.16683184366129%2C%2037.57672487388627%5D%2C%20%5B127.18408792330152%2C%2037.55814280369575%5D%2C%20%5B127.16530984307447%2C%2037.54221851258693%5D%2C%20%5B127.14672806823502%2C%2037.51415680680291%5D%2C%20%5B127.12123165719615%2C%2037.52528270089%5D%2C%20%5B127.1116764203608%2C%2037.540669955324965%5D%2C%20%5B127.11519584981606%2C%2037.557533180704915%5D%5D%5D%2C%20%22type%22%3A%20%22Polygon%22%7D%2C%20%22id%22%3A%20%22%5Cuac15%5Cub3d9%5Cuad6c%22%2C%20%22properties%22%3A%20%7B%22base_year%22%3A%20%222013%22%2C%20%22code%22%3A%20%2211250%22%2C%20%22name%22%3A%20%22%5Cuac15%5Cub3d9%5Cuad6c%22%2C%20%22name_eng%22%3A%20%22Gangdong-gu%22%7D%2C%20%22type%22%3A%20%22Feature%22%7D%2C%20%7B%22geometry%22%3A%20%7B%22coordinates%22%3A%20%5B%5B%5B127.0690698130372%2C%2037.522279423505026%5D%2C%20%5B127.10087519791962%2C%2037.524841220167055%5D%2C%20%5B127.1116764203608%2C%2037.540669955324965%5D%2C%20%5B127.12123165719615%2C%2037.52528270089%5D%2C%20%5B127.14672806823502%2C%2037.51415680680291%5D%2C%20%5B127.1634944215765%2C%2037.497445406097484%5D%2C%20%5B127.14206058413274%2C%2037.47089819098501%5D%2C%20%5B127.12440571080893%2C%2037.46240445587048%5D%2C%20%5B127.11117085201238%2C%2037.485708381512445%5D%2C%20%5B127.0719146000724%2C%2037.50224013587669%5D%2C%20%5B127.0690698130372%2C%2037.522279423505026%5D%5D%5D%2C%20%22type%22%3A%20%22Polygon%22%7D%2C%20%22id%22%3A%20%22%5Cuc1a1%5Cud30c%5Cuad6c%22%2C%20%22properties%22%3A%20%7B%22base_year%22%3A%20%222013%22%2C%20%22code%22%3A%20%2211240%22%2C%20%22name%22%3A%20%22%5Cuc1a1%5Cud30c%5Cuad6c%22%2C%20%22name_eng%22%3A%20%22Songpa-gu%22%7D%2C%20%22type%22%3A%20%22Feature%22%7D%2C%20%7B%22geometry%22%3A%20%7B%22coordinates%22%3A%20%5B%5B%5B127.05867359288398%2C%2037.52629974922568%5D%2C%20%5B127.0690698130372%2C%2037.522279423505026%5D%2C%20%5B127.0719146000724%2C%2037.50224013587669%5D%2C%20%5B127.11117085201238%2C%2037.485708381512445%5D%2C%20%5B127.12440571080893%2C%2037.46240445587048%5D%2C%20%5B127.09842759318751%2C%2037.45862253857461%5D%2C%20%5B127.08640440578156%2C%2037.472697935184655%5D%2C%20%5B127.0559170481904%2C%2037.4659228914077%5D%2C%20%5B127.03621915098798%2C%2037.48175802427603%5D%2C%20%5B127.01397119667513%2C%2037.52503988289669%5D%2C%20%5B127.02302831890559%2C%2037.53231899582663%5D%2C%20%5B127.05867359288398%2C%2037.52629974922568%5D%5D%5D%2C%20%22type%22%3A%20%22Polygon%22%7D%2C%20%22id%22%3A%20%22%5Cuac15%5Cub0a8%5Cuad6c%22%2C%20%22properties%22%3A%20%7B%22base_year%22%3A%20%222013%22%2C%20%22code%22%3A%20%2211230%22%2C%20%22name%22%3A%20%22%5Cuac15%5Cub0a8%5Cuad6c%22%2C%20%22name_eng%22%3A%20%22Gangnam-gu%22%7D%2C%20%22type%22%3A%20%22Feature%22%7D%2C%20%7B%22geometry%22%3A%20%7B%22coordinates%22%3A%20%5B%5B%5B127.01397119667513%2C%2037.52503988289669%5D%2C%20%5B127.03621915098798%2C%2037.48175802427603%5D%2C%20%5B127.0559170481904%2C%2037.4659228914077%5D%2C%20%5B127.08640440578156%2C%2037.472697935184655%5D%2C%20%5B127.09842759318751%2C%2037.45862253857461%5D%2C%20%5B127.09046928565951%2C%2037.44296826114185%5D%2C%20%5B127.06778107605433%2C%2037.426197424057314%5D%2C%20%5B127.04957232987142%2C%2037.42805836845694%5D%2C%20%5B127.03881782597922%2C%2037.45382039851715%5D%2C%20%5B126.99072073195462%2C%2037.455326143310025%5D%2C%20%5B126.98367668291802%2C%2037.473856492692086%5D%2C%20%5B126.98223807916081%2C%2037.509314966770326%5D%2C%20%5B127.01397119667513%2C%2037.52503988289669%5D%5D%5D%2C%20%22type%22%3A%20%22Polygon%22%7D%2C%20%22id%22%3A%20%22%5Cuc11c%5Cucd08%5Cuad6c%22%2C%20%22properties%22%3A%20%7B%22base_year%22%3A%20%222013%22%2C%20%22code%22%3A%20%2211220%22%2C%20%22name%22%3A%20%22%5Cuc11c%5Cucd08%5Cuad6c%22%2C%20%22name_eng%22%3A%20%22Seocho-gu%22%7D%2C%20%22type%22%3A%20%22Feature%22%7D%2C%20%7B%22geometry%22%3A%20%7B%22coordinates%22%3A%20%5B%5B%5B126.98367668291802%2C%2037.473856492692086%5D%2C%20%5B126.99072073195462%2C%2037.455326143310025%5D%2C%20%5B126.96520439085143%2C%2037.438249784006246%5D%2C%20%5B126.95000001010182%2C%2037.43613451165719%5D%2C%20%5B126.93084408056525%2C%2037.447382928333994%5D%2C%20%5B126.9167728146601%2C%2037.45490566423789%5D%2C%20%5B126.90156094129895%2C%2037.47753842789901%5D%2C%20%5B126.90531975801812%2C%2037.48218087575429%5D%2C%20%5B126.94922661389508%2C%2037.49125437495649%5D%2C%20%5B126.9725891850662%2C%2037.472561363278125%5D%2C%20%5B126.98367668291802%2C%2037.473856492692086%5D%5D%5D%2C%20%22type%22%3A%20%22Polygon%22%7D%2C%20%22id%22%3A%20%22%5Cuad00%5Cuc545%5Cuad6c%22%2C%20%22properties%22%3A%20%7B%22base_year%22%3A%20%222013%22%2C%20%22code%22%3A%20%2211210%22%2C%20%22name%22%3A%20%22%5Cuad00%5Cuc545%5Cuad6c%22%2C%20%22name_eng%22%3A%20%22Gwanak-gu%22%7D%2C%20%22type%22%3A%20%22Feature%22%7D%2C%20%7B%22geometry%22%3A%20%7B%22coordinates%22%3A%20%5B%5B%5B126.98223807916081%2C%2037.509314966770326%5D%2C%20%5B126.98367668291802%2C%2037.473856492692086%5D%2C%20%5B126.9725891850662%2C%2037.472561363278125%5D%2C%20%5B126.94922661389508%2C%2037.49125437495649%5D%2C%20%5B126.90531975801812%2C%2037.48218087575429%5D%2C%20%5B126.92177893174825%2C%2037.494889877415176%5D%2C%20%5B126.92810628828279%2C%2037.51329595732015%5D%2C%20%5B126.95249990298159%2C%2037.51722500741813%5D%2C%20%5B126.98223807916081%2C%2037.509314966770326%5D%5D%5D%2C%20%22type%22%3A%20%22Polygon%22%7D%2C%20%22id%22%3A%20%22%5Cub3d9%5Cuc791%5Cuad6c%22%2C%20%22properties%22%3A%20%7B%22base_year%22%3A%20%222013%22%2C%20%22code%22%3A%20%2211200%22%2C%20%22name%22%3A%20%22%5Cub3d9%5Cuc791%5Cuad6c%22%2C%20%22name_eng%22%3A%20%22Dongjak-gu%22%7D%2C%20%22type%22%3A%20%22Feature%22%7D%2C%20%7B%22geometry%22%3A%20%7B%22coordinates%22%3A%20%5B%5B%5B126.89184663862764%2C%2037.547373974997114%5D%2C%20%5B126.94566733083212%2C%2037.526617542453366%5D%2C%20%5B126.95249990298159%2C%2037.51722500741813%5D%2C%20%5B126.92810628828279%2C%2037.51329595732015%5D%2C%20%5B126.92177893174825%2C%2037.494889877415176%5D%2C%20%5B126.90531975801812%2C%2037.48218087575429%5D%2C%20%5B126.89594776782485%2C%2037.504675281309176%5D%2C%20%5B126.88156402353862%2C%2037.513970034765684%5D%2C%20%5B126.88825757860099%2C%2037.54079733630232%5D%2C%20%5B126.89184663862764%2C%2037.547373974997114%5D%5D%5D%2C%20%22type%22%3A%20%22Polygon%22%7D%2C%20%22id%22%3A%20%22%5Cuc601%5Cub4f1%5Cud3ec%5Cuad6c%22%2C%20%22properties%22%3A%20%7B%22base_year%22%3A%20%222013%22%2C%20%22code%22%3A%20%2211190%22%2C%20%22name%22%3A%20%22%5Cuc601%5Cub4f1%5Cud3ec%5Cuad6c%22%2C%20%22name_eng%22%3A%20%22Yeongdeungpo-gu%22%7D%2C%20%22type%22%3A%20%22Feature%22%7D%2C%20%7B%22geometry%22%3A%20%7B%22coordinates%22%3A%20%5B%5B%5B126.90156094129895%2C%2037.47753842789901%5D%2C%20%5B126.9167728146601%2C%2037.45490566423789%5D%2C%20%5B126.93084408056525%2C%2037.447382928333994%5D%2C%20%5B126.9025831711697%2C%2037.434549366349124%5D%2C%20%5B126.87683271502428%2C%2037.482576591607305%5D%2C%20%5B126.90156094129895%2C%2037.47753842789901%5D%5D%5D%2C%20%22type%22%3A%20%22Polygon%22%7D%2C%20%22id%22%3A%20%22%5Cuae08%5Cucc9c%5Cuad6c%22%2C%20%22properties%22%3A%20%7B%22base_year%22%3A%20%222013%22%2C%20%22code%22%3A%20%2211180%22%2C%20%22name%22%3A%20%22%5Cuae08%5Cucc9c%5Cuad6c%22%2C%20%22name_eng%22%3A%20%22Geumcheon-gu%22%7D%2C%20%22type%22%3A%20%22Feature%22%7D%2C%20%7B%22geometry%22%3A%20%7B%22coordinates%22%3A%20%5B%5B%5B126.82688081517314%2C%2037.50548972232896%5D%2C%20%5B126.88156402353862%2C%2037.513970034765684%5D%2C%20%5B126.89594776782485%2C%2037.504675281309176%5D%2C%20%5B126.90531975801812%2C%2037.48218087575429%5D%2C%20%5B126.90156094129895%2C%2037.47753842789901%5D%2C%20%5B126.87683271502428%2C%2037.482576591607305%5D%2C%20%5B126.84762676054953%2C%2037.47146723936323%5D%2C%20%5B126.83549485076196%2C%2037.474098236975095%5D%2C%20%5B126.82264796791348%2C%2037.4878476492147%5D%2C%20%5B126.82504736331406%2C%2037.50302612640443%5D%2C%20%5B126.82688081517314%2C%2037.50548972232896%5D%5D%5D%2C%20%22type%22%3A%20%22Polygon%22%7D%2C%20%22id%22%3A%20%22%5Cuad6c%5Cub85c%5Cuad6c%22%2C%20%22properties%22%3A%20%7B%22base_year%22%3A%20%222013%22%2C%20%22code%22%3A%20%2211170%22%2C%20%22name%22%3A%20%22%5Cuad6c%5Cub85c%5Cuad6c%22%2C%20%22name_eng%22%3A%20%22Guro-gu%22%7D%2C%20%22type%22%3A%20%22Feature%22%7D%2C%20%7B%22geometry%22%3A%20%7B%22coordinates%22%3A%20%5B%5B%5B126.79575768552907%2C%2037.57881087633202%5D%2C%20%5B126.80702115023597%2C%2037.60123001013228%5D%2C%20%5B126.82251438477105%2C%2037.5880430810082%5D%2C%20%5B126.85984199399667%2C%2037.571847855292745%5D%2C%20%5B126.89184663862764%2C%2037.547373974997114%5D%2C%20%5B126.88825757860099%2C%2037.54079733630232%5D%2C%20%5B126.86637464321238%2C%2037.54859191094823%5D%2C%20%5B126.86610073476395%2C%2037.52699964144669%5D%2C%20%5B126.84257291943153%2C%2037.52373707805596%5D%2C%20%5B126.8242331426722%2C%2037.53788078753248%5D%2C%20%5B126.77324417717703%2C%2037.5459123450554%5D%2C%20%5B126.76979180579352%2C%2037.55139183008809%5D%2C%20%5B126.79575768552907%2C%2037.57881087633202%5D%5D%5D%2C%20%22type%22%3A%20%22Polygon%22%7D%2C%20%22id%22%3A%20%22%5Cuac15%5Cuc11c%5Cuad6c%22%2C%20%22properties%22%3A%20%7B%22base_year%22%3A%20%222013%22%2C%20%22code%22%3A%20%2211160%22%2C%20%22name%22%3A%20%22%5Cuac15%5Cuc11c%5Cuad6c%22%2C%20%22name_eng%22%3A%20%22Gangseo-gu%22%7D%2C%20%22type%22%3A%20%22Feature%22%7D%2C%20%7B%22geometry%22%3A%20%7B%22coordinates%22%3A%20%5B%5B%5B126.8242331426722%2C%2037.53788078753248%5D%2C%20%5B126.84257291943153%2C%2037.52373707805596%5D%2C%20%5B126.86610073476395%2C%2037.52699964144669%5D%2C%20%5B126.86637464321238%2C%2037.54859191094823%5D%2C%20%5B126.88825757860099%2C%2037.54079733630232%5D%2C%20%5B126.88156402353862%2C%2037.513970034765684%5D%2C%20%5B126.82688081517314%2C%2037.50548972232896%5D%2C%20%5B126.8242331426722%2C%2037.53788078753248%5D%5D%5D%2C%20%22type%22%3A%20%22Polygon%22%7D%2C%20%22id%22%3A%20%22%5Cuc591%5Cucc9c%5Cuad6c%22%2C%20%22properties%22%3A%20%7B%22base_year%22%3A%20%222013%22%2C%20%22code%22%3A%20%2211150%22%2C%20%22name%22%3A%20%22%5Cuc591%5Cucc9c%5Cuad6c%22%2C%20%22name_eng%22%3A%20%22Yangcheon-gu%22%7D%2C%20%22type%22%3A%20%22Feature%22%7D%2C%20%7B%22geometry%22%3A%20%7B%22coordinates%22%3A%20%5B%5B%5B126.90522065831053%2C%2037.57409700522574%5D%2C%20%5B126.93898161798973%2C%2037.552310003728124%5D%2C%20%5B126.96358226710812%2C%2037.55605635475154%5D%2C%20%5B126.96448570553055%2C%2037.548705692021635%5D%2C%20%5B126.94566733083212%2C%2037.526617542453366%5D%2C%20%5B126.89184663862764%2C%2037.547373974997114%5D%2C%20%5B126.85984199399667%2C%2037.571847855292745%5D%2C%20%5B126.88433284773288%2C%2037.588143322880526%5D%2C%20%5B126.90522065831053%2C%2037.57409700522574%5D%5D%5D%2C%20%22type%22%3A%20%22Polygon%22%7D%2C%20%22id%22%3A%20%22%5Cub9c8%5Cud3ec%5Cuad6c%22%2C%20%22properties%22%3A%20%7B%22base_year%22%3A%20%222013%22%2C%20%22code%22%3A%20%2211140%22%2C%20%22name%22%3A%20%22%5Cub9c8%5Cud3ec%5Cuad6c%22%2C%20%22name_eng%22%3A%20%22Mapo-gu%22%7D%2C%20%22type%22%3A%20%22Feature%22%7D%2C%20%7B%22geometry%22%3A%20%7B%22coordinates%22%3A%20%5B%5B%5B126.9524752030572%2C%2037.60508692737045%5D%2C%20%5B126.95565425846463%2C%2037.576080790881456%5D%2C%20%5B126.96873633279075%2C%2037.56313604690827%5D%2C%20%5B126.96358226710812%2C%2037.55605635475154%5D%2C%20%5B126.93898161798973%2C%2037.552310003728124%5D%2C%20%5B126.90522065831053%2C%2037.57409700522574%5D%2C%20%5B126.9524752030572%2C%2037.60508692737045%5D%5D%5D%2C%20%22type%22%3A%20%22Polygon%22%7D%2C%20%22id%22%3A%20%22%5Cuc11c%5Cub300%5Cubb38%5Cuad6c%22%2C%20%22properties%22%3A%20%7B%22base_year%22%3A%20%222013%22%2C%20%22code%22%3A%20%2211130%22%2C%20%22name%22%3A%20%22%5Cuc11c%5Cub300%5Cubb38%5Cuad6c%22%2C%20%22name_eng%22%3A%20%22Seodaemun-gu%22%7D%2C%20%22type%22%3A%20%22Feature%22%7D%2C%20%7B%22geometry%22%3A%20%7B%22coordinates%22%3A%20%5B%5B%5B126.9738864128702%2C%2037.62949634786888%5D%2C%20%5B126.95427017006129%2C%2037.622033431339425%5D%2C%20%5B126.9524752030572%2C%2037.60508692737045%5D%2C%20%5B126.90522065831053%2C%2037.57409700522574%5D%2C%20%5B126.88433284773288%2C%2037.588143322880526%5D%2C%20%5B126.90396681003595%2C%2037.59227403419942%5D%2C%20%5B126.90303066177668%2C%2037.609977911401344%5D%2C%20%5B126.91455481429648%2C%2037.64150050996935%5D%2C%20%5B126.956473797387%2C%2037.652480737339445%5D%2C%20%5B126.9738864128702%2C%2037.62949634786888%5D%5D%5D%2C%20%22type%22%3A%20%22Polygon%22%7D%2C%20%22id%22%3A%20%22%5Cuc740%5Cud3c9%5Cuad6c%22%2C%20%22properties%22%3A%20%7B%22base_year%22%3A%20%222013%22%2C%20%22code%22%3A%20%2211120%22%2C%20%22name%22%3A%20%22%5Cuc740%5Cud3c9%5Cuad6c%22%2C%20%22name_eng%22%3A%20%22Eunpyeong-gu%22%7D%2C%20%22type%22%3A%20%22Feature%22%7D%2C%20%7B%22geometry%22%3A%20%7B%22coordinates%22%3A%20%5B%5B%5B127.0838752703195%2C%2037.69359534202034%5D%2C%20%5B127.09706391309695%2C%2037.686383719372294%5D%2C%20%5B127.09440766298717%2C%2037.64713490473045%5D%2C%20%5B127.11326795855199%2C%2037.639622905315925%5D%2C%20%5B127.10782277688129%2C%2037.61804244241069%5D%2C%20%5B127.07351243825278%2C%2037.61283660342313%5D%2C%20%5B127.05209373568619%2C%2037.62164065487782%5D%2C%20%5B127.04358800895609%2C%2037.62848931298715%5D%2C%20%5B127.05800075220091%2C%2037.64318263878276%5D%2C%20%5B127.05288479710485%2C%2037.68423857084347%5D%2C%20%5B127.0838752703195%2C%2037.69359534202034%5D%5D%5D%2C%20%22type%22%3A%20%22Polygon%22%7D%2C%20%22id%22%3A%20%22%5Cub178%5Cuc6d0%5Cuad6c%22%2C%20%22properties%22%3A%20%7B%22base_year%22%3A%20%222013%22%2C%20%22code%22%3A%20%2211110%22%2C%20%22name%22%3A%20%22%5Cub178%5Cuc6d0%5Cuad6c%22%2C%20%22name_eng%22%3A%20%22Nowon-gu%22%7D%2C%20%22type%22%3A%20%22Feature%22%7D%2C%20%7B%22geometry%22%3A%20%7B%22coordinates%22%3A%20%5B%5B%5B127.05288479710485%2C%2037.68423857084347%5D%2C%20%5B127.05800075220091%2C%2037.64318263878276%5D%2C%20%5B127.04358800895609%2C%2037.62848931298715%5D%2C%20%5B127.01465935892466%2C%2037.64943687496812%5D%2C%20%5B127.02062116141389%2C%2037.667173575971205%5D%2C%20%5B127.01039666042071%2C%2037.681894589603594%5D%2C%20%5B127.01795099203432%2C%2037.69824412775662%5D%2C%20%5B127.05288479710485%2C%2037.68423857084347%5D%5D%5D%2C%20%22type%22%3A%20%22Polygon%22%7D%2C%20%22id%22%3A%20%22%5Cub3c4%5Cubd09%5Cuad6c%22%2C%20%22properties%22%3A%20%7B%22base_year%22%3A%20%222013%22%2C%20%22code%22%3A%20%2211100%22%2C%20%22name%22%3A%20%22%5Cub3c4%5Cubd09%5Cuad6c%22%2C%20%22name_eng%22%3A%20%22Dobong-gu%22%7D%2C%20%22type%22%3A%20%22Feature%22%7D%2C%20%7B%22geometry%22%3A%20%7B%22coordinates%22%3A%20%5B%5B%5B126.99383903424%2C%2037.676681761199085%5D%2C%20%5B127.01039666042071%2C%2037.681894589603594%5D%2C%20%5B127.02062116141389%2C%2037.667173575971205%5D%2C%20%5B127.01465935892466%2C%2037.64943687496812%5D%2C%20%5B127.04358800895609%2C%2037.62848931298715%5D%2C%20%5B127.05209373568619%2C%2037.62164065487782%5D%2C%20%5B127.03892400992301%2C%2037.609715611023816%5D%2C%20%5B127.0128154749523%2C%2037.613652243470256%5D%2C%20%5B126.98672705513869%2C%2037.63377641288196%5D%2C%20%5B126.9817452676551%2C%2037.65209769387776%5D%2C%20%5B126.99383903424%2C%2037.676681761199085%5D%5D%5D%2C%20%22type%22%3A%20%22Polygon%22%7D%2C%20%22id%22%3A%20%22%5Cuac15%5Cubd81%5Cuad6c%22%2C%20%22properties%22%3A%20%7B%22base_year%22%3A%20%222013%22%2C%20%22code%22%3A%20%2211090%22%2C%20%22name%22%3A%20%22%5Cuac15%5Cubd81%5Cuad6c%22%2C%20%22name_eng%22%3A%20%22Gangbuk-gu%22%7D%2C%20%22type%22%3A%20%22Feature%22%7D%2C%20%7B%22geometry%22%3A%20%7B%22coordinates%22%3A%20%5B%5B%5B126.977175406416%2C%2037.62859715400388%5D%2C%20%5B126.98672705513869%2C%2037.63377641288196%5D%2C%20%5B127.0128154749523%2C%2037.613652243470256%5D%2C%20%5B127.03892400992301%2C%2037.609715611023816%5D%2C%20%5B127.05209373568619%2C%2037.62164065487782%5D%2C%20%5B127.07351243825278%2C%2037.61283660342313%5D%2C%20%5B127.07382707099227%2C%2037.60401928986419%5D%2C%20%5B127.042705222094%2C%2037.59239437593391%5D%2C%20%5B127.02527254528003%2C%2037.57524616245249%5D%2C%20%5B126.99348293358314%2C%2037.588565457216156%5D%2C%20%5B126.98879865992384%2C%2037.6118927319756%5D%2C%20%5B126.977175406416%2C%2037.62859715400388%5D%5D%5D%2C%20%22type%22%3A%20%22Polygon%22%7D%2C%20%22id%22%3A%20%22%5Cuc131%5Cubd81%5Cuad6c%22%2C%20%22properties%22%3A%20%7B%22base_year%22%3A%20%222013%22%2C%20%22code%22%3A%20%2211080%22%2C%20%22name%22%3A%20%22%5Cuc131%5Cubd81%5Cuad6c%22%2C%20%22name_eng%22%3A%20%22Seongbuk-gu%22%7D%2C%20%22type%22%3A%20%22Feature%22%7D%2C%20%7B%22geometry%22%3A%20%7B%22coordinates%22%3A%20%5B%5B%5B127.07351243825278%2C%2037.61283660342313%5D%2C%20%5B127.10782277688129%2C%2037.61804244241069%5D%2C%20%5B127.1201246020114%2C%2037.60178457598188%5D%2C%20%5B127.10304174249214%2C%2037.57076342290955%5D%2C%20%5B127.08068541280403%2C%2037.56906425519017%5D%2C%20%5B127.07382707099227%2C%2037.60401928986419%5D%2C%20%5B127.07351243825278%2C%2037.61283660342313%5D%5D%5D%2C%20%22type%22%3A%20%22Polygon%22%7D%2C%20%22id%22%3A%20%22%5Cuc911%5Cub791%5Cuad6c%22%2C%20%22properties%22%3A%20%7B%22base_year%22%3A%20%222013%22%2C%20%22code%22%3A%20%2211070%22%2C%20%22name%22%3A%20%22%5Cuc911%5Cub791%5Cuad6c%22%2C%20%22name_eng%22%3A%20%22Jungnang-gu%22%7D%2C%20%22type%22%3A%20%22Feature%22%7D%2C%20%7B%22geometry%22%3A%20%7B%22coordinates%22%3A%20%5B%5B%5B127.02527254528003%2C%2037.57524616245249%5D%2C%20%5B127.042705222094%2C%2037.59239437593391%5D%2C%20%5B127.07382707099227%2C%2037.60401928986419%5D%2C%20%5B127.08068541280403%2C%2037.56906425519017%5D%2C%20%5B127.07421053024362%2C%2037.55724769712085%5D%2C%20%5B127.05005601081567%2C%2037.567577612590846%5D%2C%20%5B127.02547266349976%2C%2037.568943552237734%5D%2C%20%5B127.02527254528003%2C%2037.57524616245249%5D%5D%5D%2C%20%22type%22%3A%20%22Polygon%22%7D%2C%20%22id%22%3A%20%22%5Cub3d9%5Cub300%5Cubb38%5Cuad6c%22%2C%20%22properties%22%3A%20%7B%22base_year%22%3A%20%222013%22%2C%20%22code%22%3A%20%2211060%22%2C%20%22name%22%3A%20%22%5Cub3d9%5Cub300%5Cubb38%5Cuad6c%22%2C%20%22name_eng%22%3A%20%22Dongdaemun-gu%22%7D%2C%20%22type%22%3A%20%22Feature%22%7D%2C%20%7B%22geometry%22%3A%20%7B%22coordinates%22%3A%20%5B%5B%5B127.08068541280403%2C%2037.56906425519017%5D%2C%20%5B127.10304174249214%2C%2037.57076342290955%5D%2C%20%5B127.11519584981606%2C%2037.557533180704915%5D%2C%20%5B127.1116764203608%2C%2037.540669955324965%5D%2C%20%5B127.10087519791962%2C%2037.524841220167055%5D%2C%20%5B127.0690698130372%2C%2037.522279423505026%5D%2C%20%5B127.05867359288398%2C%2037.52629974922568%5D%2C%20%5B127.07421053024362%2C%2037.55724769712085%5D%2C%20%5B127.08068541280403%2C%2037.56906425519017%5D%5D%5D%2C%20%22type%22%3A%20%22Polygon%22%7D%2C%20%22id%22%3A%20%22%5Cuad11%5Cuc9c4%5Cuad6c%22%2C%20%22properties%22%3A%20%7B%22base_year%22%3A%20%222013%22%2C%20%22code%22%3A%20%2211050%22%2C%20%22name%22%3A%20%22%5Cuad11%5Cuc9c4%5Cuad6c%22%2C%20%22name_eng%22%3A%20%22Gwangjin-gu%22%7D%2C%20%22type%22%3A%20%22Feature%22%7D%2C%20%7B%22geometry%22%3A%20%7B%22coordinates%22%3A%20%5B%5B%5B127.02547266349976%2C%2037.568943552237734%5D%2C%20%5B127.05005601081567%2C%2037.567577612590846%5D%2C%20%5B127.07421053024362%2C%2037.55724769712085%5D%2C%20%5B127.05867359288398%2C%2037.52629974922568%5D%2C%20%5B127.02302831890559%2C%2037.53231899582663%5D%2C%20%5B127.01070894177482%2C%2037.54118048964762%5D%2C%20%5B127.02547266349976%2C%2037.568943552237734%5D%5D%5D%2C%20%22type%22%3A%20%22Polygon%22%7D%2C%20%22id%22%3A%20%22%5Cuc131%5Cub3d9%5Cuad6c%22%2C%20%22properties%22%3A%20%7B%22base_year%22%3A%20%222013%22%2C%20%22code%22%3A%20%2211040%22%2C%20%22name%22%3A%20%22%5Cuc131%5Cub3d9%5Cuad6c%22%2C%20%22name_eng%22%3A%20%22Seongdong-gu%22%7D%2C%20%22type%22%3A%20%22Feature%22%7D%2C%20%7B%22geometry%22%3A%20%7B%22coordinates%22%3A%20%5B%5B%5B127.01070894177482%2C%2037.54118048964762%5D%2C%20%5B127.02302831890559%2C%2037.53231899582663%5D%2C%20%5B127.01397119667513%2C%2037.52503988289669%5D%2C%20%5B126.98223807916081%2C%2037.509314966770326%5D%2C%20%5B126.95249990298159%2C%2037.51722500741813%5D%2C%20%5B126.94566733083212%2C%2037.526617542453366%5D%2C%20%5B126.96448570553055%2C%2037.548705692021635%5D%2C%20%5B126.98752996903328%2C%2037.55094818807139%5D%2C%20%5B127.01070894177482%2C%2037.54118048964762%5D%5D%5D%2C%20%22type%22%3A%20%22Polygon%22%7D%2C%20%22id%22%3A%20%22%5Cuc6a9%5Cuc0b0%5Cuad6c%22%2C%20%22properties%22%3A%20%7B%22base_year%22%3A%20%222013%22%2C%20%22code%22%3A%20%2211030%22%2C%20%22name%22%3A%20%22%5Cuc6a9%5Cuc0b0%5Cuad6c%22%2C%20%22name_eng%22%3A%20%22Yongsan-gu%22%7D%2C%20%22type%22%3A%20%22Feature%22%7D%2C%20%7B%22geometry%22%3A%20%7B%22coordinates%22%3A%20%5B%5B%5B127.02547266349976%2C%2037.568943552237734%5D%2C%20%5B127.01070894177482%2C%2037.54118048964762%5D%2C%20%5B126.98752996903328%2C%2037.55094818807139%5D%2C%20%5B126.96448570553055%2C%2037.548705692021635%5D%2C%20%5B126.96358226710812%2C%2037.55605635475154%5D%2C%20%5B126.96873633279075%2C%2037.56313604690827%5D%2C%20%5B127.02547266349976%2C%2037.568943552237734%5D%5D%5D%2C%20%22type%22%3A%20%22Polygon%22%7D%2C%20%22id%22%3A%20%22%5Cuc911%5Cuad6c%22%2C%20%22properties%22%3A%20%7B%22base_year%22%3A%20%222013%22%2C%20%22code%22%3A%20%2211020%22%2C%20%22name%22%3A%20%22%5Cuc911%5Cuad6c%22%2C%20%22name_eng%22%3A%20%22Jung-gu%22%7D%2C%20%22type%22%3A%20%22Feature%22%7D%2C%20%7B%22geometry%22%3A%20%7B%22coordinates%22%3A%20%5B%5B%5B126.9738864128702%2C%2037.62949634786888%5D%2C%20%5B126.977175406416%2C%2037.62859715400388%5D%2C%20%5B126.98879865992384%2C%2037.6118927319756%5D%2C%20%5B126.99348293358314%2C%2037.588565457216156%5D%2C%20%5B127.02527254528003%2C%2037.57524616245249%5D%2C%20%5B127.02547266349976%2C%2037.568943552237734%5D%2C%20%5B126.96873633279075%2C%2037.56313604690827%5D%2C%20%5B126.95565425846463%2C%2037.576080790881456%5D%2C%20%5B126.9524752030572%2C%2037.60508692737045%5D%2C%20%5B126.95427017006129%2C%2037.622033431339425%5D%2C%20%5B126.9738864128702%2C%2037.62949634786888%5D%5D%5D%2C%20%22type%22%3A%20%22Polygon%22%7D%2C%20%22id%22%3A%20%22%5Cuc885%5Cub85c%5Cuad6c%22%2C%20%22properties%22%3A%20%7B%22base_year%22%3A%20%222013%22%2C%20%22code%22%3A%20%2211010%22%2C%20%22name%22%3A%20%22%5Cuc885%5Cub85c%5Cuad6c%22%2C%20%22name_eng%22%3A%20%22Jongno-gu%22%7D%2C%20%22type%22%3A%20%22Feature%22%7D%5D%2C%20%22type%22%3A%20%22FeatureCollection%22%7D%29%3B%0A%0A%20%20%20%20%20%20%20%20%0A%20%20%20%20%0A%20%20%20%20var%20color_map_c2c837d7b4984bf59ba47b1d72bb9302%20%3D%20%7B%7D%3B%0A%0A%20%20%20%20%0A%20%20%20%20color_map_c2c837d7b4984bf59ba47b1d72bb9302.color%20%3D%20d3.scale.threshold%28%29%0A%20%20%20%20%20%20%20%20%20%20%20%20%20%20.domain%28%5B1969.84%2C%201970.6769169107445%2C%201971.513833821489%2C%201972.3507507322336%2C%201973.187667642978%2C%201974.0245845537227%2C%201974.8615014644672%2C%201975.698418375212%2C%201976.5353352859565%2C%201977.372252196701%2C%201978.2091691074456%2C%201979.0460860181902%2C%201979.8830029289347%2C%201980.7199198396793%2C%201981.5568367504238%2C%201982.3937536611684%2C%201983.230670571913%2C%201984.0675874826575%2C%201984.904504393402%2C%201985.7414213041466%2C%201986.5783382148913%2C%201987.415255125636%2C%201988.2521720363804%2C%201989.089088947125%2C%201989.9260058578695%2C%201990.762922768614%2C%201991.5998396793586%2C%201992.4367565901032%2C%201993.2736735008477%2C%201994.1105904115923%2C%201994.9475073223368%2C%201995.7844242330814%2C%201996.6213411438262%2C%201997.4582580545707%2C%201998.2951749653153%2C%201999.1320918760598%2C%201999.9690087868044%2C%202000.805925697549%2C%202001.6428426082934%2C%202002.479759519038%2C%202003.3166764297825%2C%202004.153593340527%2C%202004.9905102512716%2C%202005.8274271620162%2C%202006.6643440727607%2C%202007.5012609835053%2C%202008.33817789425%2C%202009.1750948049946%2C%202010.0120117157392%2C%202010.8489286264837%2C%202011.6858455372283%2C%202012.5227624479728%2C%202013.3596793587174%2C%202014.196596269462%2C%202015.0335131802065%2C%202015.870430090951%2C%202016.7073470016956%2C%202017.54426391244%2C%202018.3811808231849%2C%202019.2180977339294%2C%202020.055014644674%2C%202020.8919315554185%2C%202021.728848466163%2C%202022.5657653769076%2C%202023.4026822876522%2C%202024.2395991983967%2C%202025.0765161091413%2C%202025.9134330198858%2C%202026.7503499306304%2C%202027.587266841375%2C%202028.4241837521195%2C%202029.2611006628642%2C%202030.0980175736088%2C%202030.9349344843533%2C%202031.7718513950979%2C%202032.6087683058424%2C%202033.445685216587%2C%202034.2826021273315%2C%202035.119519038076%2C%202035.9564359488206%2C%202036.7933528595652%2C%202037.6302697703097%2C%202038.4671866810543%2C%202039.304103591799%2C%202040.1410205025436%2C%202040.9779374132881%2C%202041.8148543240327%2C%202042.6517712347772%2C%202043.4886881455218%2C%202044.3256050562663%2C%202045.162521967011%2C%202045.9994388777554%2C%202046.8363557885%2C%202047.6732726992445%2C%202048.510189609989%2C%202049.3471065207336%2C%202050.184023431478%2C%202051.0209403422227%2C%202051.8578572529673%2C%202052.694774163712%2C%202053.5316910744564%2C%202054.368607985201%2C%202055.205524895946%2C%202056.0424418066905%2C%202056.879358717435%2C%202057.7162756281796%2C%202058.553192538924%2C%202059.3901094496687%2C%202060.227026360413%2C%202061.0639432711578%2C%202061.9008601819023%2C%202062.737777092647%2C%202063.5746940033914%2C%202064.411610914136%2C%202065.2485278248805%2C%202066.085444735625%2C%202066.9223616463696%2C%202067.759278557114%2C%202068.5961954678587%2C%202069.4331123786033%2C%202070.270029289348%2C%202071.1069462000924%2C%202071.943863110837%2C%202072.7807800215814%2C%202073.617696932326%2C%202074.4546138430705%2C%202075.291530753815%2C%202076.1284476645596%2C%202076.965364575304%2C%202077.802281486049%2C%202078.6391983967937%2C%202079.4761153075383%2C%202080.313032218283%2C%202081.1499491290274%2C%202081.986866039772%2C%202082.8237829505165%2C%202083.660699861261%2C%202084.4976167720056%2C%202085.33453368275%2C%202086.1714505934947%2C%202087.0083675042392%2C%202087.845284414984%2C%202088.6822013257283%2C%202089.519118236473%2C%202090.3560351472174%2C%202091.192952057962%2C%202092.0298689687065%2C%202092.866785879451%2C%202093.7037027901956%2C%202094.54061970094%2C%202095.3775366116847%2C%202096.2144535224293%2C%202097.051370433174%2C%202097.888287343919%2C%202098.7252042546634%2C%202099.562121165408%2C%202100.3990380761525%2C%202101.235954986897%2C%202102.0728718976416%2C%202102.909788808386%2C%202103.7467057191307%2C%202104.583622629875%2C%202105.4205395406198%2C%202106.2574564513643%2C%202107.094373362109%2C%202107.9312902728534%2C%202108.768207183598%2C%202109.6051240943425%2C%202110.442041005087%2C%202111.2789579158316%2C%202112.115874826576%2C%202112.9527917373207%2C%202113.7897086480652%2C%202114.62662555881%2C%202115.4635424695543%2C%202116.300459380299%2C%202117.1373762910434%2C%202117.974293201788%2C%202118.8112101125325%2C%202119.648127023277%2C%202120.4850439340216%2C%202121.3219608447666%2C%202122.158877755511%2C%202122.9957946662557%2C%202123.8327115770003%2C%202124.669628487745%2C%202125.5065453984894%2C%202126.343462309234%2C%202127.1803792199785%2C%202128.017296130723%2C%202128.8542130414676%2C%202129.691129952212%2C%202130.5280468629567%2C%202131.364963773701%2C%202132.2018806844458%2C%202133.0387975951903%2C%202133.875714505935%2C%202134.7126314166794%2C%202135.549548327424%2C%202136.3864652381685%2C%202137.223382148913%2C%202138.0602990596576%2C%202138.897215970402%2C%202139.7341328811467%2C%202140.5710497918917%2C%202141.4079667026363%2C%202142.244883613381%2C%202143.0818005241254%2C%202143.91871743487%2C%202144.7556343456145%2C%202145.592551256359%2C%202146.4294681671036%2C%202147.266385077848%2C%202148.1033019885926%2C%202148.940218899337%2C%202149.7771358100817%2C%202150.6140527208263%2C%202151.450969631571%2C%202152.2878865423154%2C%202153.12480345306%2C%202153.9617203638045%2C%202154.798637274549%2C%202155.6355541852936%2C%202156.472471096038%2C%202157.3093880067827%2C%202158.1463049175272%2C%202158.983221828272%2C%202159.8201387390163%2C%202160.657055649761%2C%202161.4939725605054%2C%202162.33088947125%2C%202163.1678063819945%2C%202164.0047232927395%2C%202164.841640203484%2C%202165.6785571142286%2C%202166.515474024973%2C%202167.3523909357177%2C%202168.1893078464623%2C%202169.026224757207%2C%202169.8631416679514%2C%202170.700058578696%2C%202171.5369754894405%2C%202172.373892400185%2C%202173.2108093109296%2C%202174.047726221674%2C%202174.8846431324187%2C%202175.721560043163%2C%202176.5584769539078%2C%202177.3953938646523%2C%202178.232310775397%2C%202179.0692276861414%2C%202179.906144596886%2C%202180.7430615076305%2C%202181.579978418375%2C%202182.4168953291196%2C%202183.2538122398646%2C%202184.090729150609%2C%202184.9276460613537%2C%202185.7645629720982%2C%202186.601479882843%2C%202187.4383967935873%2C%202188.275313704332%2C%202189.1122306150764%2C%202189.949147525821%2C%202190.7860644365655%2C%202191.62298134731%2C%202192.4598982580546%2C%202193.296815168799%2C%202194.1337320795437%2C%202194.9706489902883%2C%202195.807565901033%2C%202196.6444828117774%2C%202197.481399722522%2C%202198.3183166332665%2C%202199.155233544011%2C%202199.9921504547556%2C%202200.8290673655%2C%202201.6659842762447%2C%202202.502901186989%2C%202203.3398180977338%2C%202204.1767350084783%2C%202205.013651919223%2C%202205.8505688299674%2C%202206.6874857407124%2C%202207.524402651457%2C%202208.3613195622015%2C%202209.198236472946%2C%202210.0351533836906%2C%202210.872070294435%2C%202211.7089872051797%2C%202212.5459041159243%2C%202213.382821026669%2C%202214.2197379374134%2C%202215.056654848158%2C%202215.8935717589025%2C%202216.730488669647%2C%202217.5674055803916%2C%202218.404322491136%2C%202219.2412394018806%2C%202220.078156312625%2C%202220.9150732233697%2C%202221.7519901341143%2C%202222.588907044859%2C%202223.4258239556034%2C%202224.262740866348%2C%202225.0996577770925%2C%202225.9365746878375%2C%202226.773491598582%2C%202227.6104085093266%2C%202228.447325420071%2C%202229.2842423308157%2C%202230.1211592415602%2C%202230.958076152305%2C%202231.7949930630493%2C%202232.631909973794%2C%202233.4688268845384%2C%202234.305743795283%2C%202235.1426607060275%2C%202235.979577616772%2C%202236.8164945275166%2C%202237.653411438261%2C%202238.4903283490057%2C%202239.3272452597503%2C%202240.164162170495%2C%202241.0010790812394%2C%202241.837995991984%2C%202242.6749129027285%2C%202243.511829813473%2C%202244.3487467242176%2C%202245.185663634962%2C%202246.0225805457067%2C%202246.859497456451%2C%202247.6964143671958%2C%202248.5333312779403%2C%202249.370248188685%2C%202250.2071650994294%2C%202251.0440820101744%2C%202251.880998920919%2C%202252.7179158316635%2C%202253.554832742408%2C%202254.3917496531526%2C%202255.228666563897%2C%202256.0655834746417%2C%202256.9025003853862%2C%202257.739417296131%2C%202258.5763342068753%2C%202259.41325111762%2C%202260.2501680283644%2C%202261.087084939109%2C%202261.9240018498535%2C%202262.760918760598%2C%202263.5978356713426%2C%202264.434752582087%2C%202265.2716694928317%2C%202266.1085864035763%2C%202266.945503314321%2C%202267.782420225066%2C%202268.6193371358104%2C%202269.456254046555%2C%202270.2931709572995%2C%202271.130087868044%2C%202271.9670047787886%2C%202272.803921689533%2C%202273.6408386002777%2C%202274.477755511022%2C%202275.3146724217668%2C%202276.1515893325113%2C%202276.988506243256%2C%202277.8254231540004%2C%202278.662340064745%2C%202279.4992569754895%2C%202280.336173886234%2C%202281.1730907969786%2C%202282.010007707723%2C%202282.8469246184677%2C%202283.6838415292123%2C%202284.520758439957%2C%202285.3576753507014%2C%202286.194592261446%2C%202287.0315091721905%2C%202287.868426082935%2C%202288.7053429936796%2C%202289.542259904424%2C%202290.3791768151686%2C%202291.216093725913%2C%202292.0530106366577%2C%202292.8899275474023%2C%202293.7268444581473%2C%202294.563761368892%2C%202295.4006782796364%2C%202296.237595190381%2C%202297.0745121011255%2C%202297.91142901187%2C%202298.7483459226146%2C%202299.585262833359%2C%202300.4221797441037%2C%202301.2590966548482%2C%202302.096013565593%2C%202302.9329304763373%2C%202303.769847387082%2C%202304.6067642978264%2C%202305.443681208571%2C%202306.2805981193155%2C%202307.11751503006%2C%202307.9544319408046%2C%202308.791348851549%2C%202309.6282657622937%2C%202310.4651826730387%2C%202311.3020995837833%2C%202312.139016494528%2C%202312.9759334052724%2C%202313.812850316017%2C%202314.6497672267615%2C%202315.486684137506%2C%202316.3236010482506%2C%202317.160517958995%2C%202317.9974348697397%2C%202318.834351780484%2C%202319.6712686912288%2C%202320.5081856019733%2C%202321.345102512718%2C%202322.1820194234624%2C%202323.018936334207%2C%202323.8558532449515%2C%202324.692770155696%2C%202325.5296870664406%2C%202326.366603977185%2C%202327.2035208879297%2C%202328.0404377986742%2C%202328.877354709419%2C%202329.7142716201633%2C%202330.551188530908%2C%202331.3881054416524%2C%202332.225022352397%2C%202333.0619392631415%2C%202333.898856173886%2C%202334.7357730846306%2C%202335.572689995375%2C%202336.40960690612%2C%202337.2465238168647%2C%202338.0834407276093%2C%202338.920357638354%2C%202339.7572745490984%2C%202340.594191459843%2C%202341.4311083705875%2C%202342.268025281332%2C%202343.1049421920766%2C%202343.941859102821%2C%202344.7787760135657%2C%202345.61569292431%2C%202346.452609835055%2C%202347.2895267457993%2C%202348.126443656544%2C%202348.9633605672884%2C%202349.800277478033%2C%202350.6371943887775%2C%202351.474111299522%2C%202352.3110282102666%2C%202353.1479451210116%2C%202353.984862031756%2C%202354.8217789425007%2C%202355.6586958532453%2C%202356.49561276399%2C%202357.3325296747344%2C%202358.169446585479%2C%202359.0063634962235%2C%202359.843280406968%2C%202360.6801973177126%2C%202361.517114228457%2C%202362.3540311392017%2C%202363.190948049946%2C%202364.0278649606907%2C%202364.8647818714353%2C%202365.70169878218%2C%202366.5386156929244%2C%202367.375532603669%2C%202368.2124495144135%2C%202369.049366425158%2C%202369.8862833359026%2C%202370.723200246647%2C%202371.5601171573917%2C%202372.3970340681362%2C%202373.233950978881%2C%202374.0708678896253%2C%202374.90778480037%2C%202375.7447017111144%2C%202376.581618621859%2C%202377.4185355326035%2C%202378.255452443348%2C%202379.092369354093%2C%202379.9292862648376%2C%202380.766203175582%2C%202381.6031200863267%2C%202382.4400369970713%2C%202383.276953907816%2C%202384.1138708185604%2C%202384.950787729305%2C%202385.7877046400495%2C%202386.624621550794%2C%202387.4615384615386%5D%29%0A%20%20%20%20%20%20%20%20%20%20%20%20%20%20.range%28%5B%27%23f1eef6ff%27%2C%20%27%23f1eef6ff%27%2C%20%27%23f1eef6ff%27%2C%20%27%23f1eef6ff%27%2C%20%27%23f1eef6ff%27%2C%20%27%23f1eef6ff%27%2C%20%27%23f1eef6ff%27%2C%20%27%23f1eef6ff%27%2C%20%27%23f1eef6ff%27%2C%20%27%23f1eef6ff%27%2C%20%27%23f1eef6ff%27%2C%20%27%23f1eef6ff%27%2C%20%27%23f1eef6ff%27%2C%20%27%23f1eef6ff%27%2C%20%27%23f1eef6ff%27%2C%20%27%23f1eef6ff%27%2C%20%27%23f1eef6ff%27%2C%20%27%23f1eef6ff%27%2C%20%27%23f1eef6ff%27%2C%20%27%23f1eef6ff%27%2C%20%27%23f1eef6ff%27%2C%20%27%23f1eef6ff%27%2C%20%27%23f1eef6ff%27%2C%20%27%23f1eef6ff%27%2C%20%27%23f1eef6ff%27%2C%20%27%23f1eef6ff%27%2C%20%27%23f1eef6ff%27%2C%20%27%23f1eef6ff%27%2C%20%27%23f1eef6ff%27%2C%20%27%23f1eef6ff%27%2C%20%27%23f1eef6ff%27%2C%20%27%23f1eef6ff%27%2C%20%27%23f1eef6ff%27%2C%20%27%23f1eef6ff%27%2C%20%27%23f1eef6ff%27%2C%20%27%23f1eef6ff%27%2C%20%27%23f1eef6ff%27%2C%20%27%23f1eef6ff%27%2C%20%27%23f1eef6ff%27%2C%20%27%23f1eef6ff%27%2C%20%27%23f1eef6ff%27%2C%20%27%23f1eef6ff%27%2C%20%27%23f1eef6ff%27%2C%20%27%23f1eef6ff%27%2C%20%27%23f1eef6ff%27%2C%20%27%23f1eef6ff%27%2C%20%27%23f1eef6ff%27%2C%20%27%23f1eef6ff%27%2C%20%27%23f1eef6ff%27%2C%20%27%23f1eef6ff%27%2C%20%27%23f1eef6ff%27%2C%20%27%23f1eef6ff%27%2C%20%27%23f1eef6ff%27%2C%20%27%23f1eef6ff%27%2C%20%27%23f1eef6ff%27%2C%20%27%23f1eef6ff%27%2C%20%27%23f1eef6ff%27%2C%20%27%23f1eef6ff%27%2C%20%27%23f1eef6ff%27%2C%20%27%23f1eef6ff%27%2C%20%27%23f1eef6ff%27%2C%20%27%23f1eef6ff%27%2C%20%27%23f1eef6ff%27%2C%20%27%23f1eef6ff%27%2C%20%27%23f1eef6ff%27%2C%20%27%23f1eef6ff%27%2C%20%27%23f1eef6ff%27%2C%20%27%23f1eef6ff%27%2C%20%27%23f1eef6ff%27%2C%20%27%23f1eef6ff%27%2C%20%27%23f1eef6ff%27%2C%20%27%23f1eef6ff%27%2C%20%27%23f1eef6ff%27%2C%20%27%23f1eef6ff%27%2C%20%27%23f1eef6ff%27%2C%20%27%23f1eef6ff%27%2C%20%27%23f1eef6ff%27%2C%20%27%23f1eef6ff%27%2C%20%27%23f1eef6ff%27%2C%20%27%23f1eef6ff%27%2C%20%27%23f1eef6ff%27%2C%20%27%23f1eef6ff%27%2C%20%27%23f1eef6ff%27%2C%20%27%23f1eef6ff%27%2C%20%27%23d4b9daff%27%2C%20%27%23d4b9daff%27%2C%20%27%23d4b9daff%27%2C%20%27%23d4b9daff%27%2C%20%27%23d4b9daff%27%2C%20%27%23d4b9daff%27%2C%20%27%23d4b9daff%27%2C%20%27%23d4b9daff%27%2C%20%27%23d4b9daff%27%2C%20%27%23d4b9daff%27%2C%20%27%23d4b9daff%27%2C%20%27%23d4b9daff%27%2C%20%27%23d4b9daff%27%2C%20%27%23d4b9daff%27%2C%20%27%23d4b9daff%27%2C%20%27%23d4b9daff%27%2C%20%27%23d4b9daff%27%2C%20%27%23d4b9daff%27%2C%20%27%23d4b9daff%27%2C%20%27%23d4b9daff%27%2C%20%27%23d4b9daff%27%2C%20%27%23d4b9daff%27%2C%20%27%23d4b9daff%27%2C%20%27%23d4b9daff%27%2C%20%27%23d4b9daff%27%2C%20%27%23d4b9daff%27%2C%20%27%23d4b9daff%27%2C%20%27%23d4b9daff%27%2C%20%27%23d4b9daff%27%2C%20%27%23d4b9daff%27%2C%20%27%23d4b9daff%27%2C%20%27%23d4b9daff%27%2C%20%27%23d4b9daff%27%2C%20%27%23d4b9daff%27%2C%20%27%23d4b9daff%27%2C%20%27%23d4b9daff%27%2C%20%27%23d4b9daff%27%2C%20%27%23d4b9daff%27%2C%20%27%23d4b9daff%27%2C%20%27%23d4b9daff%27%2C%20%27%23d4b9daff%27%2C%20%27%23d4b9daff%27%2C%20%27%23d4b9daff%27%2C%20%27%23d4b9daff%27%2C%20%27%23d4b9daff%27%2C%20%27%23d4b9daff%27%2C%20%27%23d4b9daff%27%2C%20%27%23d4b9daff%27%2C%20%27%23d4b9daff%27%2C%20%27%23d4b9daff%27%2C%20%27%23d4b9daff%27%2C%20%27%23d4b9daff%27%2C%20%27%23d4b9daff%27%2C%20%27%23d4b9daff%27%2C%20%27%23d4b9daff%27%2C%20%27%23d4b9daff%27%2C%20%27%23d4b9daff%27%2C%20%27%23d4b9daff%27%2C%20%27%23d4b9daff%27%2C%20%27%23d4b9daff%27%2C%20%27%23d4b9daff%27%2C%20%27%23d4b9daff%27%2C%20%27%23d4b9daff%27%2C%20%27%23d4b9daff%27%2C%20%27%23d4b9daff%27%2C%20%27%23d4b9daff%27%2C%20%27%23d4b9daff%27%2C%20%27%23d4b9daff%27%2C%20%27%23d4b9daff%27%2C%20%27%23d4b9daff%27%2C%20%27%23d4b9daff%27%2C%20%27%23d4b9daff%27%2C%20%27%23d4b9daff%27%2C%20%27%23d4b9daff%27%2C%20%27%23d4b9daff%27%2C%20%27%23d4b9daff%27%2C%20%27%23d4b9daff%27%2C%20%27%23d4b9daff%27%2C%20%27%23d4b9daff%27%2C%20%27%23d4b9daff%27%2C%20%27%23d4b9daff%27%2C%20%27%23d4b9daff%27%2C%20%27%23d4b9daff%27%2C%20%27%23c994c7ff%27%2C%20%27%23c994c7ff%27%2C%20%27%23c994c7ff%27%2C%20%27%23c994c7ff%27%2C%20%27%23c994c7ff%27%2C%20%27%23c994c7ff%27%2C%20%27%23c994c7ff%27%2C%20%27%23c994c7ff%27%2C%20%27%23c994c7ff%27%2C%20%27%23c994c7ff%27%2C%20%27%23c994c7ff%27%2C%20%27%23c994c7ff%27%2C%20%27%23c994c7ff%27%2C%20%27%23c994c7ff%27%2C%20%27%23c994c7ff%27%2C%20%27%23c994c7ff%27%2C%20%27%23c994c7ff%27%2C%20%27%23c994c7ff%27%2C%20%27%23c994c7ff%27%2C%20%27%23c994c7ff%27%2C%20%27%23c994c7ff%27%2C%20%27%23c994c7ff%27%2C%20%27%23c994c7ff%27%2C%20%27%23c994c7ff%27%2C%20%27%23c994c7ff%27%2C%20%27%23c994c7ff%27%2C%20%27%23c994c7ff%27%2C%20%27%23c994c7ff%27%2C%20%27%23c994c7ff%27%2C%20%27%23c994c7ff%27%2C%20%27%23c994c7ff%27%2C%20%27%23c994c7ff%27%2C%20%27%23c994c7ff%27%2C%20%27%23c994c7ff%27%2C%20%27%23c994c7ff%27%2C%20%27%23c994c7ff%27%2C%20%27%23c994c7ff%27%2C%20%27%23c994c7ff%27%2C%20%27%23c994c7ff%27%2C%20%27%23c994c7ff%27%2C%20%27%23c994c7ff%27%2C%20%27%23c994c7ff%27%2C%20%27%23c994c7ff%27%2C%20%27%23c994c7ff%27%2C%20%27%23c994c7ff%27%2C%20%27%23c994c7ff%27%2C%20%27%23c994c7ff%27%2C%20%27%23c994c7ff%27%2C%20%27%23c994c7ff%27%2C%20%27%23c994c7ff%27%2C%20%27%23c994c7ff%27%2C%20%27%23c994c7ff%27%2C%20%27%23c994c7ff%27%2C%20%27%23c994c7ff%27%2C%20%27%23c994c7ff%27%2C%20%27%23c994c7ff%27%2C%20%27%23c994c7ff%27%2C%20%27%23c994c7ff%27%2C%20%27%23c994c7ff%27%2C%20%27%23c994c7ff%27%2C%20%27%23c994c7ff%27%2C%20%27%23c994c7ff%27%2C%20%27%23c994c7ff%27%2C%20%27%23c994c7ff%27%2C%20%27%23c994c7ff%27%2C%20%27%23c994c7ff%27%2C%20%27%23c994c7ff%27%2C%20%27%23c994c7ff%27%2C%20%27%23c994c7ff%27%2C%20%27%23c994c7ff%27%2C%20%27%23c994c7ff%27%2C%20%27%23c994c7ff%27%2C%20%27%23c994c7ff%27%2C%20%27%23c994c7ff%27%2C%20%27%23c994c7ff%27%2C%20%27%23c994c7ff%27%2C%20%27%23c994c7ff%27%2C%20%27%23c994c7ff%27%2C%20%27%23c994c7ff%27%2C%20%27%23c994c7ff%27%2C%20%27%23c994c7ff%27%2C%20%27%23c994c7ff%27%2C%20%27%23c994c7ff%27%2C%20%27%23df65b0ff%27%2C%20%27%23df65b0ff%27%2C%20%27%23df65b0ff%27%2C%20%27%23df65b0ff%27%2C%20%27%23df65b0ff%27%2C%20%27%23df65b0ff%27%2C%20%27%23df65b0ff%27%2C%20%27%23df65b0ff%27%2C%20%27%23df65b0ff%27%2C%20%27%23df65b0ff%27%2C%20%27%23df65b0ff%27%2C%20%27%23df65b0ff%27%2C%20%27%23df65b0ff%27%2C%20%27%23df65b0ff%27%2C%20%27%23df65b0ff%27%2C%20%27%23df65b0ff%27%2C%20%27%23df65b0ff%27%2C%20%27%23df65b0ff%27%2C%20%27%23df65b0ff%27%2C%20%27%23df65b0ff%27%2C%20%27%23df65b0ff%27%2C%20%27%23df65b0ff%27%2C%20%27%23df65b0ff%27%2C%20%27%23df65b0ff%27%2C%20%27%23df65b0ff%27%2C%20%27%23df65b0ff%27%2C%20%27%23df65b0ff%27%2C%20%27%23df65b0ff%27%2C%20%27%23df65b0ff%27%2C%20%27%23df65b0ff%27%2C%20%27%23df65b0ff%27%2C%20%27%23df65b0ff%27%2C%20%27%23df65b0ff%27%2C%20%27%23df65b0ff%27%2C%20%27%23df65b0ff%27%2C%20%27%23df65b0ff%27%2C%20%27%23df65b0ff%27%2C%20%27%23df65b0ff%27%2C%20%27%23df65b0ff%27%2C%20%27%23df65b0ff%27%2C%20%27%23df65b0ff%27%2C%20%27%23df65b0ff%27%2C%20%27%23df65b0ff%27%2C%20%27%23df65b0ff%27%2C%20%27%23df65b0ff%27%2C%20%27%23df65b0ff%27%2C%20%27%23df65b0ff%27%2C%20%27%23df65b0ff%27%2C%20%27%23df65b0ff%27%2C%20%27%23df65b0ff%27%2C%20%27%23df65b0ff%27%2C%20%27%23df65b0ff%27%2C%20%27%23df65b0ff%27%2C%20%27%23df65b0ff%27%2C%20%27%23df65b0ff%27%2C%20%27%23df65b0ff%27%2C%20%27%23df65b0ff%27%2C%20%27%23df65b0ff%27%2C%20%27%23df65b0ff%27%2C%20%27%23df65b0ff%27%2C%20%27%23df65b0ff%27%2C%20%27%23df65b0ff%27%2C%20%27%23df65b0ff%27%2C%20%27%23df65b0ff%27%2C%20%27%23df65b0ff%27%2C%20%27%23df65b0ff%27%2C%20%27%23df65b0ff%27%2C%20%27%23df65b0ff%27%2C%20%27%23df65b0ff%27%2C%20%27%23df65b0ff%27%2C%20%27%23df65b0ff%27%2C%20%27%23df65b0ff%27%2C%20%27%23df65b0ff%27%2C%20%27%23df65b0ff%27%2C%20%27%23df65b0ff%27%2C%20%27%23df65b0ff%27%2C%20%27%23df65b0ff%27%2C%20%27%23df65b0ff%27%2C%20%27%23df65b0ff%27%2C%20%27%23df65b0ff%27%2C%20%27%23df65b0ff%27%2C%20%27%23df65b0ff%27%2C%20%27%23df65b0ff%27%2C%20%27%23dd1c77ff%27%2C%20%27%23dd1c77ff%27%2C%20%27%23dd1c77ff%27%2C%20%27%23dd1c77ff%27%2C%20%27%23dd1c77ff%27%2C%20%27%23dd1c77ff%27%2C%20%27%23dd1c77ff%27%2C%20%27%23dd1c77ff%27%2C%20%27%23dd1c77ff%27%2C%20%27%23dd1c77ff%27%2C%20%27%23dd1c77ff%27%2C%20%27%23dd1c77ff%27%2C%20%27%23dd1c77ff%27%2C%20%27%23dd1c77ff%27%2C%20%27%23dd1c77ff%27%2C%20%27%23dd1c77ff%27%2C%20%27%23dd1c77ff%27%2C%20%27%23dd1c77ff%27%2C%20%27%23dd1c77ff%27%2C%20%27%23dd1c77ff%27%2C%20%27%23dd1c77ff%27%2C%20%27%23dd1c77ff%27%2C%20%27%23dd1c77ff%27%2C%20%27%23dd1c77ff%27%2C%20%27%23dd1c77ff%27%2C%20%27%23dd1c77ff%27%2C%20%27%23dd1c77ff%27%2C%20%27%23dd1c77ff%27%2C%20%27%23dd1c77ff%27%2C%20%27%23dd1c77ff%27%2C%20%27%23dd1c77ff%27%2C%20%27%23dd1c77ff%27%2C%20%27%23dd1c77ff%27%2C%20%27%23dd1c77ff%27%2C%20%27%23dd1c77ff%27%2C%20%27%23dd1c77ff%27%2C%20%27%23dd1c77ff%27%2C%20%27%23dd1c77ff%27%2C%20%27%23dd1c77ff%27%2C%20%27%23dd1c77ff%27%2C%20%27%23dd1c77ff%27%2C%20%27%23dd1c77ff%27%2C%20%27%23dd1c77ff%27%2C%20%27%23dd1c77ff%27%2C%20%27%23dd1c77ff%27%2C%20%27%23dd1c77ff%27%2C%20%27%23dd1c77ff%27%2C%20%27%23dd1c77ff%27%2C%20%27%23dd1c77ff%27%2C%20%27%23dd1c77ff%27%2C%20%27%23dd1c77ff%27%2C%20%27%23dd1c77ff%27%2C%20%27%23dd1c77ff%27%2C%20%27%23dd1c77ff%27%2C%20%27%23dd1c77ff%27%2C%20%27%23dd1c77ff%27%2C%20%27%23dd1c77ff%27%2C%20%27%23dd1c77ff%27%2C%20%27%23dd1c77ff%27%2C%20%27%23dd1c77ff%27%2C%20%27%23dd1c77ff%27%2C%20%27%23dd1c77ff%27%2C%20%27%23dd1c77ff%27%2C%20%27%23dd1c77ff%27%2C%20%27%23dd1c77ff%27%2C%20%27%23dd1c77ff%27%2C%20%27%23dd1c77ff%27%2C%20%27%23dd1c77ff%27%2C%20%27%23dd1c77ff%27%2C%20%27%23dd1c77ff%27%2C%20%27%23dd1c77ff%27%2C%20%27%23dd1c77ff%27%2C%20%27%23dd1c77ff%27%2C%20%27%23dd1c77ff%27%2C%20%27%23dd1c77ff%27%2C%20%27%23dd1c77ff%27%2C%20%27%23dd1c77ff%27%2C%20%27%23dd1c77ff%27%2C%20%27%23dd1c77ff%27%2C%20%27%23dd1c77ff%27%2C%20%27%23dd1c77ff%27%2C%20%27%23dd1c77ff%27%2C%20%27%23dd1c77ff%27%2C%20%27%23980043ff%27%2C%20%27%23980043ff%27%2C%20%27%23980043ff%27%2C%20%27%23980043ff%27%2C%20%27%23980043ff%27%2C%20%27%23980043ff%27%2C%20%27%23980043ff%27%2C%20%27%23980043ff%27%2C%20%27%23980043ff%27%2C%20%27%23980043ff%27%2C%20%27%23980043ff%27%2C%20%27%23980043ff%27%2C%20%27%23980043ff%27%2C%20%27%23980043ff%27%2C%20%27%23980043ff%27%2C%20%27%23980043ff%27%2C%20%27%23980043ff%27%2C%20%27%23980043ff%27%2C%20%27%23980043ff%27%2C%20%27%23980043ff%27%2C%20%27%23980043ff%27%2C%20%27%23980043ff%27%2C%20%27%23980043ff%27%2C%20%27%23980043ff%27%2C%20%27%23980043ff%27%2C%20%27%23980043ff%27%2C%20%27%23980043ff%27%2C%20%27%23980043ff%27%2C%20%27%23980043ff%27%2C%20%27%23980043ff%27%2C%20%27%23980043ff%27%2C%20%27%23980043ff%27%2C%20%27%23980043ff%27%2C%20%27%23980043ff%27%2C%20%27%23980043ff%27%2C%20%27%23980043ff%27%2C%20%27%23980043ff%27%2C%20%27%23980043ff%27%2C%20%27%23980043ff%27%2C%20%27%23980043ff%27%2C%20%27%23980043ff%27%2C%20%27%23980043ff%27%2C%20%27%23980043ff%27%2C%20%27%23980043ff%27%2C%20%27%23980043ff%27%2C%20%27%23980043ff%27%2C%20%27%23980043ff%27%2C%20%27%23980043ff%27%2C%20%27%23980043ff%27%2C%20%27%23980043ff%27%2C%20%27%23980043ff%27%2C%20%27%23980043ff%27%2C%20%27%23980043ff%27%2C%20%27%23980043ff%27%2C%20%27%23980043ff%27%2C%20%27%23980043ff%27%2C%20%27%23980043ff%27%2C%20%27%23980043ff%27%2C%20%27%23980043ff%27%2C%20%27%23980043ff%27%2C%20%27%23980043ff%27%2C%20%27%23980043ff%27%2C%20%27%23980043ff%27%2C%20%27%23980043ff%27%2C%20%27%23980043ff%27%2C%20%27%23980043ff%27%2C%20%27%23980043ff%27%2C%20%27%23980043ff%27%2C%20%27%23980043ff%27%2C%20%27%23980043ff%27%2C%20%27%23980043ff%27%2C%20%27%23980043ff%27%2C%20%27%23980043ff%27%2C%20%27%23980043ff%27%2C%20%27%23980043ff%27%2C%20%27%23980043ff%27%2C%20%27%23980043ff%27%2C%20%27%23980043ff%27%2C%20%27%23980043ff%27%2C%20%27%23980043ff%27%2C%20%27%23980043ff%27%2C%20%27%23980043ff%27%2C%20%27%23980043ff%27%2C%20%27%23980043ff%27%5D%29%3B%0A%20%20%20%20%0A%0A%20%20%20%20color_map_c2c837d7b4984bf59ba47b1d72bb9302.x%20%3D%20d3.scale.linear%28%29%0A%20%20%20%20%20%20%20%20%20%20%20%20%20%20.domain%28%5B1969.84%2C%202387.4615384615386%5D%29%0A%20%20%20%20%20%20%20%20%20%20%20%20%20%20.range%28%5B0%2C%20400%5D%29%3B%0A%0A%20%20%20%20color_map_c2c837d7b4984bf59ba47b1d72bb9302.legend%20%3D%20L.control%28%7Bposition%3A%20%27topright%27%7D%29%3B%0A%20%20%20%20color_map_c2c837d7b4984bf59ba47b1d72bb9302.legend.onAdd%20%3D%20function%20%28map%29%20%7Bvar%20div%20%3D%20L.DomUtil.create%28%27div%27%2C%20%27legend%27%29%3B%20return%20div%7D%3B%0A%20%20%20%20color_map_c2c837d7b4984bf59ba47b1d72bb9302.legend.addTo%28map_a7fed6219f5048a68891aa4cd4d884ae%29%3B%0A%0A%20%20%20%20color_map_c2c837d7b4984bf59ba47b1d72bb9302.xAxis%20%3D%20d3.svg.axis%28%29%0A%20%20%20%20%20%20%20%20.scale%28color_map_c2c837d7b4984bf59ba47b1d72bb9302.x%29%0A%20%20%20%20%20%20%20%20.orient%28%22top%22%29%0A%20%20%20%20%20%20%20%20.tickSize%281%29%0A%20%20%20%20%20%20%20%20.tickValues%28%5B1969.84%2C%202039.4435897435897%2C%202109.0471794871796%2C%202178.650769230769%2C%202248.254358974359%2C%202317.8579487179486%2C%202387.4615384615386%5D%29%3B%0A%0A%20%20%20%20color_map_c2c837d7b4984bf59ba47b1d72bb9302.svg%20%3D%20d3.select%28%22.legend.leaflet-control%22%29.append%28%22svg%22%29%0A%20%20%20%20%20%20%20%20.attr%28%22id%22%2C%20%27legend%27%29%0A%20%20%20%20%20%20%20%20.attr%28%22width%22%2C%20450%29%0A%20%20%20%20%20%20%20%20.attr%28%22height%22%2C%2040%29%3B%0A%0A%20%20%20%20color_map_c2c837d7b4984bf59ba47b1d72bb9302.g%20%3D%20color_map_c2c837d7b4984bf59ba47b1d72bb9302.svg.append%28%22g%22%29%0A%20%20%20%20%20%20%20%20.attr%28%22class%22%2C%20%22key%22%29%0A%20%20%20%20%20%20%20%20.attr%28%22transform%22%2C%20%22translate%2825%2C16%29%22%29%3B%0A%0A%20%20%20%20color_map_c2c837d7b4984bf59ba47b1d72bb9302.g.selectAll%28%22rect%22%29%0A%20%20%20%20%20%20%20%20.data%28color_map_c2c837d7b4984bf59ba47b1d72bb9302.color.range%28%29.map%28function%28d%2C%20i%29%20%7B%0A%20%20%20%20%20%20%20%20%20%20return%20%7B%0A%20%20%20%20%20%20%20%20%20%20%20%20x0%3A%20i%20%3F%20color_map_c2c837d7b4984bf59ba47b1d72bb9302.x%28color_map_c2c837d7b4984bf59ba47b1d72bb9302.color.domain%28%29%5Bi%20-%201%5D%29%20%3A%20color_map_c2c837d7b4984bf59ba47b1d72bb9302.x.range%28%29%5B0%5D%2C%0A%20%20%20%20%20%20%20%20%20%20%20%20x1%3A%20i%20%3C%20color_map_c2c837d7b4984bf59ba47b1d72bb9302.color.domain%28%29.length%20%3F%20color_map_c2c837d7b4984bf59ba47b1d72bb9302.x%28color_map_c2c837d7b4984bf59ba47b1d72bb9302.color.domain%28%29%5Bi%5D%29%20%3A%20color_map_c2c837d7b4984bf59ba47b1d72bb9302.x.range%28%29%5B1%5D%2C%0A%20%20%20%20%20%20%20%20%20%20%20%20z%3A%20d%0A%20%20%20%20%20%20%20%20%20%20%7D%3B%0A%20%20%20%20%20%20%20%20%7D%29%29%0A%20%20%20%20%20%20.enter%28%29.append%28%22rect%22%29%0A%20%20%20%20%20%20%20%20.attr%28%22height%22%2C%2010%29%0A%20%20%20%20%20%20%20%20.attr%28%22x%22%2C%20function%28d%29%20%7B%20return%20d.x0%3B%20%7D%29%0A%20%20%20%20%20%20%20%20.attr%28%22width%22%2C%20function%28d%29%20%7B%20return%20d.x1%20-%20d.x0%3B%20%7D%29%0A%20%20%20%20%20%20%20%20.style%28%22fill%22%2C%20function%28d%29%20%7B%20return%20d.z%3B%20%7D%29%3B%0A%0A%20%20%20%20color_map_c2c837d7b4984bf59ba47b1d72bb9302.g.call%28color_map_c2c837d7b4984bf59ba47b1d72bb9302.xAxis%29.append%28%22text%22%29%0A%20%20%20%20%20%20%20%20.attr%28%22class%22%2C%20%22caption%22%29%0A%20%20%20%20%20%20%20%20.attr%28%22y%22%2C%2021%29%0A%20%20%20%20%20%20%20%20.text%28%27%27%29%3B%0A%3C/script%3E onload=\"this.contentDocument.open();this.contentDocument.write(    decodeURIComponent(this.getAttribute('data-html')));this.contentDocument.close();\" allowfullscreen webkitallowfullscreen mozallowfullscreen></iframe></div></div>"
      ],
      "text/plain": [
       "<folium.folium.Map at 0x1d199a10df0>"
      ]
     },
     "execution_count": 43,
     "metadata": {},
     "output_type": "execute_result"
    }
   ],
   "source": [
    "geo_path = \"../Self_Oil_Station_Price_Analysis/data/02. skorea_municipalities_geo_simple.json\"\n",
    "geo_str = json.load(open(geo_path, encoding=\"utf-8\"))\n",
    "\n",
    "my_map = folium.Map(location=[37.5502, 126.982], zoom_start=10.5, tiles=\"Stamen Toner\")\n",
    "my_map.choropleth(\n",
    "    geo_data=geo_str,\n",
    "    data=gu_data,\n",
    "    columns=[gu_data.index, \"가격\"],\n",
    "    key_on=\"feature.id\",\n",
    "    fill_color=\"PuRd\"\n",
    ")\n",
    "my_map"
   ]
  },
  {
   "cell_type": "code",
   "execution_count": null,
   "id": "a6ef3881",
   "metadata": {
    "id": "a6ef3881"
   },
   "outputs": [],
   "source": []
  }
 ],
 "metadata": {
  "colab": {
   "name": "04. Oil Price Analysis and Green construction.ipynb",
   "provenance": []
  },
  "kernelspec": {
   "display_name": "Python 3 (ipykernel)",
   "language": "python",
   "name": "python3"
  },
  "language_info": {
   "codemirror_mode": {
    "name": "ipython",
    "version": 3
   },
   "file_extension": ".py",
   "mimetype": "text/x-python",
   "name": "python",
   "nbconvert_exporter": "python",
   "pygments_lexer": "ipython3",
   "version": "3.8.12"
  }
 },
 "nbformat": 4,
 "nbformat_minor": 5
}
