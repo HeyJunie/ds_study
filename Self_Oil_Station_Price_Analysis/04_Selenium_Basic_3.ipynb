{
 "cells": [
  {
   "cell_type": "markdown",
   "id": "62c57163",
   "metadata": {},
   "source": [
    "- selenium_basic_1 => iframe\n",
    "- selenium_basic_2 => headless\n",
    "- selenium_basic_3 => wait"
   ]
  },
  {
   "cell_type": "markdown",
   "id": "fba48b2d",
   "metadata": {},
   "source": [
    "## Wait \n",
    "- time.sleep(5): 물리적으로 5초 동안 멈추고 기다리죠\n",
    "- implicityly_wait(10)\n",
    "    - 전체 페이지 로딩을 최대 10초 간 기다리고, 10초 안에 페이지 로딩이 완료되면 다음 코드 실행\n",
    "    - 한 번만 실행하면, 전역(global)로 실행이 가능하다. \n",
    "- explicitly wait \n",
    "    - 지정한 태그만 로딩이 완료되면, 다음 코드 실행"
   ]
  },
  {
   "cell_type": "markdown",
   "id": "03bca5ec",
   "metadata": {},
   "source": [
    "- 무신사 스토어\n",
    "- https://www.musinsa.com/app/\n",
    "- 인기 => 후드집업\n",
    "- 단독상품, 세일상품 조건을 선택\n",
    "- 최소~최대 금액 입력\n",
    "- 옷 이름, 가격, 할인율, 링크, 이미지"
   ]
  },
  {
   "cell_type": "code",
   "execution_count": 7,
   "id": "b86d328c",
   "metadata": {},
   "outputs": [],
   "source": [
    "import pandas as pd\n",
    "import time\n",
    "from selenium import webdriver\n",
    "\n",
    "# explicitly wait\n",
    "from selenium.webdriver.common.by import By\n",
    "from selenium.webdriver.support.ui import WebDriverWait\n",
    "from selenium.webdriver.support import expected_conditions as EC"
   ]
  },
  {
   "cell_type": "code",
   "execution_count": 8,
   "id": "c9f204de",
   "metadata": {},
   "outputs": [
    {
     "name": "stderr",
     "output_type": "stream",
     "text": [
      "C:\\Users\\ThinkBook\\AppData\\Local\\Temp\\ipykernel_26884\\3732031363.py:2: DeprecationWarning: executable_path has been deprecated, please pass in a Service object\n",
      "  driver = webdriver.Chrome(\"../driver/chromedriver.exe\")\n"
     ]
    }
   ],
   "source": [
    "url = \"https://www.musinsa.com/app/\"\n",
    "driver = webdriver.Chrome(\"../driver/chromedriver.exe\")\n",
    "driver.implicitly_wait(10)\n",
    "# 웹 페이지 전체가 로딩 될 때까지 10초간 대기하고,\n",
    "# 10초 안에 로딩이 완료되면 다음 코드를 실행\n",
    "driver.get(url)"
   ]
  },
  {
   "cell_type": "code",
   "execution_count": 9,
   "id": "65850a5d",
   "metadata": {},
   "outputs": [
    {
     "name": "stderr",
     "output_type": "stream",
     "text": [
      "C:\\Users\\ThinkBook\\AppData\\Local\\Temp\\ipykernel_26884\\254969319.py:1: DeprecationWarning: find_element_by_css_selector is deprecated. Please use find_element(by=By.CSS_SELECTOR, value=css_selector) instead\n",
      "  driver.find_element_by_css_selector(\"#default_top > div.header-member > button\").click()\n"
     ]
    }
   ],
   "source": [
    "# 로그인 버튼 클릭 -1\n",
    "driver.find_element_by_css_selector(\"#default_top > div.header-member > button\").click()"
   ]
  },
  {
   "cell_type": "code",
   "execution_count": 10,
   "id": "3cd1cceb",
   "metadata": {},
   "outputs": [
    {
     "name": "stderr",
     "output_type": "stream",
     "text": [
      "C:\\Users\\ThinkBook\\AppData\\Local\\Temp\\ipykernel_26884\\3851041505.py:1: DeprecationWarning: find_element_by_css_selector is deprecated. Please use find_element(by=By.CSS_SELECTOR, value=css_selector) instead\n",
      "  driver.find_element_by_css_selector(\"body > div.container.login > section > div.login-member > form > div.login-member__form > div:nth-child(10) > div > input\").send_keys(\"junie\")\n"
     ]
    }
   ],
   "source": [
    "# 아이디 입력\n",
    "driver.find_element_by_css_selector(\"body > div.container.login > section > div.login-member > form > div.login-member__form > div:nth-child(10) > div > input\").send_keys(\"junie\")"
   ]
  },
  {
   "cell_type": "code",
   "execution_count": 14,
   "id": "1cbf4ee6",
   "metadata": {
    "scrolled": false
   },
   "outputs": [
    {
     "name": "stderr",
     "output_type": "stream",
     "text": [
      "C:\\Users\\ThinkBook\\AppData\\Local\\Temp\\ipykernel_26884\\3146755590.py:1: DeprecationWarning: find_element_by_css_selector is deprecated. Please use find_element(by=By.CSS_SELECTOR, value=css_selector) instead\n",
      "  driver.find_element_by_css_selector(\"body > div.container.login > section > div.login-member > form > div.login-member__form > div:nth-child(11) > div > input\").send_keys(\"junie\")\n"
     ]
    }
   ],
   "source": [
    "# 비밀번호 입력\n",
    "driver.find_element_by_css_selector(\"body > div.container.login > section > div.login-member > form > div.login-member__form > div:nth-child(11) > div > input\").send_keys(\"junie\")"
   ]
  },
  {
   "cell_type": "code",
   "execution_count": 15,
   "id": "312b16a2",
   "metadata": {
    "scrolled": true
   },
   "outputs": [
    {
     "name": "stderr",
     "output_type": "stream",
     "text": [
      "C:\\Users\\ThinkBook\\AppData\\Local\\Temp\\ipykernel_26884\\2700426694.py:1: DeprecationWarning: find_element_by_css_selector is deprecated. Please use find_element(by=By.CSS_SELECTOR, value=css_selector) instead\n",
      "  driver.find_element_by_css_selector(\"body > div.container.login > section > div.login-member > form > div.login-button.login-button--static > button\").click()\n"
     ]
    }
   ],
   "source": [
    "# 로그인 버튼 클릭 -2\n",
    "driver.find_element_by_css_selector(\"body > div.container.login > section > div.login-member > form > div.login-button.login-button--static > button\").click()"
   ]
  },
  {
   "cell_type": "code",
   "execution_count": 16,
   "id": "a61ba91b",
   "metadata": {},
   "outputs": [],
   "source": [
    "# alert\n",
    "alert = driver.switch_to.alert\n",
    "alert.accept()"
   ]
  },
  {
   "cell_type": "code",
   "execution_count": 20,
   "id": "7c6b9d9a",
   "metadata": {},
   "outputs": [],
   "source": [
    "WebDriverWait(driver, 5).\\\n",
    "until(EC.presence_of_element_located((By.CSS_SELECTOR, \"#default_top > div.header-member > button\"))).click()"
   ]
  },
  {
   "cell_type": "code",
   "execution_count": 22,
   "id": "263e864d",
   "metadata": {},
   "outputs": [],
   "source": [
    "# 아이디(wait)\n",
    "WebDriverWait(driver, 5).\\\n",
    "until(EC.presence_of_element_located((By.CSS_SELECTOR, \"body > div.container.login > section > div.login-member > form > div.login-member__form > div:nth-child(10) > div > input\"))).send_keys(\"hyejunie\")\n",
    "\n",
    "# 비밀번호(wait)\n",
    "WebDriverWait(driver, 5).\\\n",
    "until(EC.presence_of_element_located((By.CSS_SELECTOR, \"body > div.container.login > section > div.login-member > form > div.login-member__form > div:nth-child(11) > div > input\"))).send_keys(\"wlswn1783*\")\n",
    "\n",
    "# 로그인 버튼(wait)\n",
    "WebDriverWait(driver, 5).\\\n",
    "until(EC.presence_of_element_located((By.CSS_SELECTOR, \"body > div.container.login > section > div.login-member > form > div.login-button.login-button--static > button\"))).click()"
   ]
  },
  {
   "cell_type": "code",
   "execution_count": 25,
   "id": "c96cb152",
   "metadata": {},
   "outputs": [
    {
     "name": "stderr",
     "output_type": "stream",
     "text": [
      "C:\\Users\\ThinkBook\\AppData\\Local\\Temp\\ipykernel_26884\\160984813.py:2: DeprecationWarning: find_element_by_css_selector is deprecated. Please use find_element(by=By.CSS_SELECTOR, value=css_selector) instead\n",
      "  best_link = driver.find_element_by_css_selector(\"#ui-id-2 > ul:nth-child(1) > li:nth-child(1) > a\").get_attribute(\"href\")\n"
     ]
    },
    {
     "data": {
      "text/plain": [
       "'https://search.musinsa.com/category/003002'"
      ]
     },
     "execution_count": 25,
     "metadata": {},
     "output_type": "execute_result"
    }
   ],
   "source": [
    "# 인기 => 후드집업 or other stuff\n",
    "best_link = driver.find_element_by_css_selector(\"#ui-id-2 > ul:nth-child(1) > li:nth-child(1) > a\").get_attribute(\"href\")\n",
    "best_link"
   ]
  },
  {
   "cell_type": "code",
   "execution_count": 33,
   "id": "5bf08b68",
   "metadata": {},
   "outputs": [],
   "source": [
    "# 인기 => 후드 집업 링크 => 새 탭으로 열기\n",
    "driver.execute_script(\"window.open('{}')\".format(best_link))"
   ]
  },
  {
   "cell_type": "code",
   "execution_count": 30,
   "id": "c0a4b6c4",
   "metadata": {},
   "outputs": [],
   "source": [
    "# driver.execute_script(\"window.open('https://www.daum.net')\")"
   ]
  },
  {
   "cell_type": "code",
   "execution_count": 34,
   "id": "8643cca7",
   "metadata": {},
   "outputs": [],
   "source": [
    "# 후드 집업 탭으로 이동\n",
    "driver.switch_to.window(driver.window_handles[1])"
   ]
  },
  {
   "cell_type": "code",
   "execution_count": 37,
   "id": "b410a46b",
   "metadata": {},
   "outputs": [],
   "source": [
    "# # 단독 상품\n",
    "# driver.find_element_by_css_selector(\"#btn_exclusive\").click()\n",
    "\n",
    "WebDriverWait(driver, 5).\\\n",
    "until(EC.presence_of_element_located((By.CSS_SELECTOR, \"#btn_exclusive\"))).click()\n",
    "\n",
    "# 세일 상품\n",
    "WebDriverWait(driver, 5).\\\n",
    "until(EC.presence_of_element_located((By.CSS_SELECTOR, \"#btn_sale\"))).click()\n"
   ]
  },
  {
   "cell_type": "code",
   "execution_count": 38,
   "id": "dbd02480",
   "metadata": {},
   "outputs": [],
   "source": [
    "# 최소 최대 금액 설정\n",
    "WebDriverWait(driver, 5).\\\n",
    "until(EC.presence_of_element_located((By.CSS_SELECTOR, \"#minPrice\"))).send_keys(\"10000\")\n",
    "WebDriverWait(driver, 5).\\\n",
    "until(EC.presence_of_element_located((By.CSS_SELECTOR, \"#maxPrice\"))).send_keys(\"100000\")\n",
    "WebDriverWait(driver, 5).\\\n",
    "until(EC.presence_of_element_located((By.CSS_SELECTOR, \"#btn_price_search\"))).click()"
   ]
  },
  {
   "cell_type": "code",
   "execution_count": 39,
   "id": "1f790b6a",
   "metadata": {},
   "outputs": [
    {
     "name": "stderr",
     "output_type": "stream",
     "text": [
      "C:\\Users\\ThinkBook\\AppData\\Local\\Temp\\ipykernel_26884\\4052197786.py:3: DeprecationWarning: find_elements_by_css_selector is deprecated. Please use find_elements(by=By.CSS_SELECTOR, value=css_selector) instead\n",
      "  outers = driver.find_elements_by_css_selector(\"#searchList > li\")\n"
     ]
    },
    {
     "data": {
      "text/plain": [
       "90"
      ]
     },
     "execution_count": 39,
     "metadata": {},
     "output_type": "execute_result"
    }
   ],
   "source": [
    "# 부모 태그\n",
    "\n",
    "outers = driver.find_elements_by_css_selector(\"#searchList > li\")\n",
    "len(outers)"
   ]
  },
  {
   "cell_type": "code",
   "execution_count": 41,
   "id": "e9d9f5ad",
   "metadata": {},
   "outputs": [
    {
     "name": "stderr",
     "output_type": "stream",
     "text": [
      "C:\\Anaconda3\\envs\\ds_study\\lib\\site-packages\\selenium\\webdriver\\remote\\webelement.py:484: UserWarning: find_element_by_css_selector is deprecated. Please use find_element(by=By.CSS_SELECTOR, value=css_selector) instead\n",
      "  warnings.warn(\"find_element_by_css_selector is deprecated. Please use find_element(by=By.CSS_SELECTOR, value=css_selector) instead\")\n"
     ]
    },
    {
     "data": {
      "text/plain": [
       "'와이드 데님 팬츠 (LIGHT BLUE)'"
      ]
     },
     "execution_count": 41,
     "metadata": {},
     "output_type": "execute_result"
    }
   ],
   "source": [
    "# 자식 태그\n",
    "outers[0].find_element_by_css_selector(\"p.list_info > a\").get_attribute(\"title\")"
   ]
  },
  {
   "cell_type": "code",
   "execution_count": 43,
   "id": "394fb16e",
   "metadata": {},
   "outputs": [
    {
     "data": {
      "text/plain": [
       "'39,200'"
      ]
     },
     "execution_count": 43,
     "metadata": {},
     "output_type": "execute_result"
    }
   ],
   "source": [
    "# 옷의 가격\n",
    "outers[0].find_element_by_css_selector(\"p.price\").text.split(\" \")[1][:-1]"
   ]
  },
  {
   "cell_type": "code",
   "execution_count": 44,
   "id": "eed12be5",
   "metadata": {},
   "outputs": [
    {
     "data": {
      "text/plain": [
       "'20'"
      ]
     },
     "execution_count": 44,
     "metadata": {},
     "output_type": "execute_result"
    }
   ],
   "source": [
    "# 할인율\n",
    "outers[0].find_element_by_css_selector(\".icon_new\").text.split(\" \")[1][:-1]"
   ]
  },
  {
   "cell_type": "code",
   "execution_count": 45,
   "id": "597c09d1",
   "metadata": {},
   "outputs": [
    {
     "data": {
      "text/plain": [
       "'https://store.musinsa.com/app/goods/858911'"
      ]
     },
     "execution_count": 45,
     "metadata": {},
     "output_type": "execute_result"
    }
   ],
   "source": [
    "# 세부 링크\n",
    "outers[0].find_element_by_css_selector(\"p.list_info > a\").get_attribute(\"href\")"
   ]
  },
  {
   "cell_type": "code",
   "execution_count": 47,
   "id": "dc70f909",
   "metadata": {},
   "outputs": [
    {
     "data": {
      "text/plain": [
       "'https://image.msscdn.net/images/goods_img/20180914/858911/858911_6_125.jpg'"
      ]
     },
     "execution_count": 47,
     "metadata": {},
     "output_type": "execute_result"
    }
   ],
   "source": [
    "# 이미지\n",
    "outers[0].find_element_by_css_selector(\"img\").get_attribute(\"src\")"
   ]
  },
  {
   "cell_type": "code",
   "execution_count": 48,
   "id": "42afab09",
   "metadata": {},
   "outputs": [],
   "source": [
    "!mkdir musinsa"
   ]
  },
  {
   "cell_type": "code",
   "execution_count": 49,
   "id": "85c7288a",
   "metadata": {},
   "outputs": [],
   "source": [
    "import requests"
   ]
  },
  {
   "cell_type": "code",
   "execution_count": 50,
   "id": "e6e18a86",
   "metadata": {},
   "outputs": [
    {
     "name": "stderr",
     "output_type": "stream",
     "text": [
      "C:\\Anaconda3\\envs\\ds_study\\lib\\site-packages\\selenium\\webdriver\\remote\\webelement.py:484: UserWarning: find_element_by_css_selector is deprecated. Please use find_element(by=By.CSS_SELECTOR, value=css_selector) instead\n",
      "  warnings.warn(\"find_element_by_css_selector is deprecated. Please use find_element(by=By.CSS_SELECTOR, value=css_selector) instead\")\n"
     ]
    },
    {
     "data": {
      "text/plain": [
       "b'\\xff\\xd8\\xff\\xe0\\x00'"
      ]
     },
     "execution_count": 50,
     "metadata": {},
     "output_type": "execute_result"
    }
   ],
   "source": [
    "res = requests.get(outers[0].find_element_by_css_selector(\"img\").get_attribute(\"src\"))\n",
    "res.content[:5]"
   ]
  },
  {
   "cell_type": "code",
   "execution_count": 51,
   "id": "9cd01d37",
   "metadata": {},
   "outputs": [],
   "source": [
    "with open(\"./musinsa/outer.png\", \"wb\") as f:\n",
    "    f.write(res.content)"
   ]
  },
  {
   "cell_type": "code",
   "execution_count": null,
   "id": "796eb43d",
   "metadata": {},
   "outputs": [],
   "source": []
  }
 ],
 "metadata": {
  "kernelspec": {
   "display_name": "Python 3 (ipykernel)",
   "language": "python",
   "name": "python3"
  },
  "language_info": {
   "codemirror_mode": {
    "name": "ipython",
    "version": 3
   },
   "file_extension": ".py",
   "mimetype": "text/x-python",
   "name": "python",
   "nbconvert_exporter": "python",
   "pygments_lexer": "ipython3",
   "version": "3.8.12"
  }
 },
 "nbformat": 4,
 "nbformat_minor": 5
}
