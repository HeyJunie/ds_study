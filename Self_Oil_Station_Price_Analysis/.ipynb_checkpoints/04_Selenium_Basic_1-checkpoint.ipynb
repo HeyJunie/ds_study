{
 "cells": [
  {
   "cell_type": "markdown",
   "id": "db7fc300",
   "metadata": {},
   "source": [
    "# 04. Selenium Basic 1"
   ]
  },
  {
   "cell_type": "code",
   "execution_count": 56,
   "id": "3a7b3d81",
   "metadata": {},
   "outputs": [],
   "source": [
    "from selenium import webdriver\n",
    "\n",
    "driver = webdriver.Chrome(\"../driver/chromedriver.exe\")\n",
    "driver.get(\"https://pinkwink.kr/\")"
   ]
  },
  {
   "cell_type": "code",
   "execution_count": 57,
   "id": "f9be3875",
   "metadata": {},
   "outputs": [
    {
     "data": {
      "text/plain": [
       "{'width': 1052, 'height': 724}"
      ]
     },
     "execution_count": 57,
     "metadata": {},
     "output_type": "execute_result"
    }
   ],
   "source": [
    "# 현재 브라우저 창 크기\n",
    "driver.get_window_size()"
   ]
  },
  {
   "cell_type": "code",
   "execution_count": 58,
   "id": "c704652b",
   "metadata": {},
   "outputs": [
    {
     "data": {
      "text/plain": [
       "{'x': 349, 'y': 7}"
      ]
     },
     "execution_count": 58,
     "metadata": {},
     "output_type": "execute_result"
    }
   ],
   "source": [
    "driver.get_window_position()"
   ]
  },
  {
   "cell_type": "code",
   "execution_count": 59,
   "id": "a28d103b",
   "metadata": {},
   "outputs": [
    {
     "data": {
      "text/plain": [
       "{'height': 724, 'width': 1052, 'x': 349, 'y': 7}"
      ]
     },
     "execution_count": 59,
     "metadata": {},
     "output_type": "execute_result"
    }
   ],
   "source": [
    "driver.get_window_rect()"
   ]
  },
  {
   "cell_type": "code",
   "execution_count": 60,
   "id": "86d8e280",
   "metadata": {},
   "outputs": [
    {
     "data": {
      "text/plain": [
       "5646"
      ]
     },
     "execution_count": 60,
     "metadata": {},
     "output_type": "execute_result"
    }
   ],
   "source": [
    "# 스크롤 가능한 높이(길이)\n",
    "# 자바스크립트 코드 실행\n",
    "driver.execute_script(\"return document.body.scrollHeight\")"
   ]
  },
  {
   "cell_type": "code",
   "execution_count": 61,
   "id": "7add073e",
   "metadata": {},
   "outputs": [],
   "source": [
    "# 화면 하단 스크롤\n",
    "driver.execute_script(\"window.scrollTo(0, document.body.scrollHeight)\")"
   ]
  },
  {
   "cell_type": "code",
   "execution_count": 62,
   "id": "30e54816",
   "metadata": {},
   "outputs": [],
   "source": [
    "# 화면 상단 스크롤\n",
    "driver.execute_script(\"window.scrollTo(0, 0)\")"
   ]
  },
  {
   "cell_type": "code",
   "execution_count": 63,
   "id": "4745cfcd",
   "metadata": {},
   "outputs": [
    {
     "data": {
      "text/plain": [
       "True"
      ]
     },
     "execution_count": 63,
     "metadata": {},
     "output_type": "execute_result"
    }
   ],
   "source": [
    "# 스크린샷\n",
    "driver.save_screenshot(\"./last_height.png\")"
   ]
  },
  {
   "cell_type": "code",
   "execution_count": 64,
   "id": "ef2f0123",
   "metadata": {},
   "outputs": [],
   "source": [
    "# 특정 태그 지점가지 스크롤하는 코드\n",
    "\n",
    "from selenium.webdriver import ActionChains\n",
    "\n",
    "some_tag = driver.find_element_by_xpath('//*[@id=\"content\"]/div[3]')\n",
    "# some_tag = driver.find_element_by_css_selector(\"#pagination > a\") # 이거 안됨\n",
    "action = ActionChains(driver)\n",
    "action.move_to_element(some_tag).perform()"
   ]
  },
  {
   "cell_type": "code",
   "execution_count": 66,
   "id": "464a6775",
   "metadata": {},
   "outputs": [],
   "source": [
    "# 입력창에 글자 넣기\n",
    "# 화면에 보이지 않으면 어떠한 액션도 취할 수 없다.\n",
    "some_tag = driver.find_element_by_name(\"search\")\n",
    "some_tag.send_keys(\"data science\") # id든 name이든 가능함"
   ]
  },
  {
   "cell_type": "code",
   "execution_count": 67,
   "id": "5846b9da",
   "metadata": {},
   "outputs": [],
   "source": [
    "# 브라우저 창 크기 조절\n",
    "# 현재 보이는 화면에서만 액션을 취할 수 있다.\n",
    "driver.set_window_size(500, 300)"
   ]
  },
  {
   "cell_type": "code",
   "execution_count": 68,
   "id": "87517bef",
   "metadata": {},
   "outputs": [],
   "source": [
    "# 화면 최대화\n",
    "driver.maximize_window()"
   ]
  },
  {
   "cell_type": "code",
   "execution_count": 69,
   "id": "52417009",
   "metadata": {},
   "outputs": [],
   "source": [
    "# 화면 최소화\n",
    "driver.minimize_window()"
   ]
  },
  {
   "cell_type": "code",
   "execution_count": 70,
   "id": "ea2f71a5",
   "metadata": {},
   "outputs": [],
   "source": [
    "# 새로 입력하면 뒤에 추가로 붙음\n",
    "some_tag.send_keys(\"python\")"
   ]
  },
  {
   "cell_type": "code",
   "execution_count": 71,
   "id": "490d09ec",
   "metadata": {},
   "outputs": [],
   "source": [
    "# 초기화 후 검색어 입력\n",
    "some_tag.clear()\n",
    "some_tag.send_keys(\"python\")"
   ]
  },
  {
   "cell_type": "markdown",
   "id": "e5a35e73",
   "metadata": {},
   "source": [
    "# xpath\n",
    "\n",
    "    // : 최상위\n",
    "    * : 자손 태그 검색 => div form # 띄어쓰기 = 자손 태그 검색\n",
    "    / : 자식 태그 검색 => div > form # 꺽쇠 = 자식 태그 검색\n",
    "    td[2] : td 태그 중에서 2번째 태그를 선택 => td:nth_child(2)\n"
   ]
  },
  {
   "cell_type": "markdown",
   "id": "a31fed3e",
   "metadata": {},
   "source": [
    "## find_element\n",
    "\n",
    "- find_element_by_css_selector => find, select_one\n",
    "- find_elements_by_css_selector => find_all, select"
   ]
  },
  {
   "cell_type": "code",
   "execution_count": 72,
   "id": "a670860c",
   "metadata": {},
   "outputs": [],
   "source": [
    "# xpath\n",
    "\n",
    "xpath = '//*[@id=\"header\"]/div[2]/button'\n",
    "some_tag = driver.find_element_by_xpath(xpath)\n",
    "some_tag.click()"
   ]
  },
  {
   "cell_type": "code",
   "execution_count": 73,
   "id": "1fd35593",
   "metadata": {},
   "outputs": [],
   "source": [
    "driver.back()"
   ]
  },
  {
   "cell_type": "code",
   "execution_count": 74,
   "id": "476d0765",
   "metadata": {},
   "outputs": [],
   "source": [
    "driver.forward()"
   ]
  },
  {
   "cell_type": "code",
   "execution_count": 75,
   "id": "c6c08fa1",
   "metadata": {},
   "outputs": [
    {
     "data": {
      "text/plain": [
       "'<html lang=\"ko\"><head>\\n<link rel=\"stylesheet\" type=\"text/css\" href=\"https://t1.daumcdn.net/tistory_admin/lib/lightbox/css/lightbox.min.css\"><link rel=\"stylesheet\" type=\"text/css\" href=\"https://t1.daumcdn.net/tistory_admin/assets/blog/tistory-a033c2b33e7ae4af94cec5a75f0387e9fc551690/blogs/style/content/font.css?_version_=tistory-a033c2b33e7ae4af94cec5a75f0387e9fc551690\"><link rel=\"stylesheet\" type=\"text/css\" href=\"https://t1.daumcdn.net/tistory_admin/assets/blog/tistory-a033c2b33e7ae4af94cec5a75f0387e9fc551690/blogs/style/content/content.css?_version_=tistory-a033c2b33e7ae4af94cec5a75f0387e9fc551690\"><!--[if lt IE 9]><script src=\"https://t1.daumcdn.net/tistory_admin/lib/jquery/jquery-1.12.4.min.js\"></script><![endif]--><!--[if gte IE 9]>\\n<!--><script src=\"https://partner.googleadservices.com/gampad/cookie.js?domain=pinkwink.kr&amp;callback=_gfp_s_&amp;client=ca-pub-2982459700139266&amp;cookie=ID%3D169c9ebbe2b42357-2273279096d10036%3AT%3D1649249151%3ART%3D1649249151%3AS%3DALNI_MZYmbJhGkJ2_RmRolR2NpXQi7GMmA\"></script><script async=\"\" src=\"//www.google-analytics.com/analytics.js\"></script><script src=\"https://pagead2.googlesyndication.com/pagead/managed/js/adsense/m202203310101/show_ads_impl_fy2019.js?bust=31066121\" id=\"google_shimpl\"></script><script src=\"https://t1.daumcdn.net/tistory_admin/lib/jquery/jquery-3.2.1.min.js\"></script><!--<![endif]-->\\n<script src=\"https://t1.daumcdn.net/tistory_admin/lib/lightbox/js/lightbox-plus-jquery.min.js\"></script>\\n<script>\\nlightbox.options.fadeDuration = 200;\\nlightbox.options.resizeDuration = 200;\\nlightbox.options.wrapAround = false;\\nlightbox.options.albumLabel = \"%1 / %2\";\\n</script>\\n<script>var tjQuery = jQuery.noConflict(true);</script><style type=\"text/css\">.tt_article_useless_p_margin p {padding-top:0 !important;padding-bottom:0 !important;margin-top:0 !important;margin-bottom:0 !important;}</style><meta name=\"referrer\" content=\"always\"><link rel=\"icon\" href=\"https://tistory1.daumcdn.net/tistory/371175/27991cf11e0a41579337d63e74072ecf\"><link rel=\"apple-touch-icon\" href=\"//img1.daumcdn.net/thumb/C180x180/?fname=https%3A%2F%2Ft1.daumcdn.net%2Fcfile%2Ftistory%2F207EB9594D92CCFF05\">\\n<link rel=\"apple-touch-icon\" sizes=\"76x76\" href=\"//img1.daumcdn.net/thumb/C76x76/?fname=https%3A%2F%2Ft1.daumcdn.net%2Fcfile%2Ftistory%2F207EB9594D92CCFF05\">\\n<link rel=\"apple-touch-icon\" sizes=\"120x120\" href=\"//img1.daumcdn.net/thumb/C120x120/?fname=https%3A%2F%2Ft1.daumcdn.net%2Fcfile%2Ftistory%2F207EB9594D92CCFF05\">\\n<link rel=\"apple-touch-icon\" sizes=\"152x152\" href=\"//img1.daumcdn.net/thumb/C152x152/?fname=https%3A%2F%2Ft1.daumcdn.net%2Fcfile%2Ftistory%2F207EB9594D92CCFF05\">\\n<meta name=\"google-adsense-platform-account\" content=\"ca-host-pub-9691043933427338\">\\n<meta name=\"google-adsense-platform-domain\" content=\"tistory.com\">\\n<meta name=\"description\" content=\"한 변두리 공학도의 블로그입니다. 재미있어 보이는 것들을 모두 기초스럽게 접근하는 블로그이며... 그보다 더욱 소중한 우리 아가 미바뤼의 발자취를 남겨두는 블로그이기도 합니다.\">\\n\\n<!-- BEGIN OPENGRAPH -->\\n<link rel=\"canonical\" href=\"https://pinkwink.kr\"><meta property=\"og:type\" content=\"website\"><meta property=\"og:url\" content=\"https://pinkwink.kr\"><meta property=\"og:site_name\" content=\"\\'python\\'의 검색결과\"><meta property=\"og:title\" content=\"\\'python\\'의 검색결과\"><meta property=\"og:description\" content=\"한 변두리 공학도의 블로그입니다. 재미있어 보이는 것들을 모두 기초스럽게 접근하는 블로그이며... 그보다 더욱 소중한 우리 아가 미바뤼의 발자취를 남겨두는 블로그이기도 합니다.\"><meta property=\"og:image\" content=\"https://t1.daumcdn.net/cfile/tistory/207EB9594D92CCFF05\"><meta property=\"og:article:author\" content=\"PinkWink\">\\n<!-- END OPENGRAPH -->\\n\\n\\n\\n<!-- BEGIN TWITTERCARD -->\\n<meta name=\"twitter:card\" content=\"summary_large_image\"><meta name=\"twitter:site\" content=\"@TISTORY\"><meta name=\"twitter:title\" content=\"\\'python\\'의 검색결과\"><meta name=\"twitter:description\" content=\"한 변두리 공학도의 블로그입니다. 재미있어 보이는 것들을 모두 기초스럽게 접근하는 블로그이며... 그보다 더욱 소중한 우리 아가 미바뤼의 발자취를 남겨두는 블로그이기도 합니다.\"><meta property=\"twitter:image\" content=\"https://t1.daumcdn.net/cfile/tistory/207EB9594D92CCFF05\">\\n<!-- END TWITTERCARD -->\\n\\n\\n\\n<!-- BEGIN STRUCTURED_DATA -->\\n<script type=\"application/ld+json\">{\"@context\":\"http:\\\\/\\\\/schema.org\",\"@type\":\"WebSite\",\"url\":\"\\\\/\",\"potentialAction\":{\"@type\":\"SearchAction\",\"target\":\"\\\\/search\\\\/{search_term_string}\",\"query-input\":\"required name=search_term_string\"}}</script>\\n<!-- END STRUCTURED_DATA -->\\n\\n\\n<meta charset=\"UTF-8\">\\n<meta name=\"google-site-verification\" content=\"k3AvKvWkwX7aD3-ykT5zNH4ba1F3MJShutQ5laJ8S78\">\\n<meta name=\"viewport\" content=\"user-scalable=no, initial-scale=1.0, maximum-scale=1.0, minimum-scale=1.0, width=device-width\">\\n<title>\\'python\\'의 검색결과</title>\\n<link rel=\"stylesheet\" href=\"https://tistory3.daumcdn.net/tistory/371175/skin/style.css?_T_=1648878966\">\\n<script src=\"//t1.daumcdn.net/tistory_admin/lib/jquery/jquery-1.12.4.min.js\"></script>\\n  \\n  <script async=\"\" src=\"https://pagead2.googlesyndication.com/pagead/js/adsbygoogle.js?client=ca-pub-2982459700139266\" crossorigin=\"anonymous\" data-checked-head=\"true\"></script>\\n  \\n<!-- BEGIN GOOGLE_SITE_VERIFICATION -->\\n<meta name=\"google-site-verification\" content=\"k3AvKvWkwX7aD3-ykT5zNH4ba1F3MJShutQ5laJ8S78\">\\n<!-- END GOOGLE_SITE_VERIFICATION --><link rel=\"stylesheet\" type=\"text/css\" href=\"https://t1.daumcdn.net/tistory_admin/assets/blog/tistory-a033c2b33e7ae4af94cec5a75f0387e9fc551690/blogs/plugins/A_ShareEntryWithSNS/css/shareEntryWithSNS.css?_version_=tistory-a033c2b33e7ae4af94cec5a75f0387e9fc551690\">\\n<script type=\"text/javascript\" src=\"https://t1.daumcdn.net/tistory_admin/assets/blog/tistory-a033c2b33e7ae4af94cec5a75f0387e9fc551690/blogs/plugins/A_ShareEntryWithSNS/script/shareEntryWithSNS.js?_version_=tistory-a033c2b33e7ae4af94cec5a75f0387e9fc551690\"></script>\\n\\n<link rel=\"stylesheet\" type=\"text/css\" href=\"https://t1.daumcdn.net/tistory_admin/assets/blog/tistory-a033c2b33e7ae4af94cec5a75f0387e9fc551690/blogs/plugins/TistoryProfileLayer/style.css?_version_=tistory-a033c2b33e7ae4af94cec5a75f0387e9fc551690\">\\n<script type=\"text/javascript\" src=\"https://t1.daumcdn.net/tistory_admin/assets/blog/tistory-a033c2b33e7ae4af94cec5a75f0387e9fc551690/blogs/plugins/TistoryProfileLayer/profile.js?_version_=tistory-a033c2b33e7ae4af94cec5a75f0387e9fc551690\"></script>\\n\\t<style type=\"text/css\">\\n\\t\\t.another_category { border: 1px solid #E5E5E5; padding: 10px 10px 5px; margin:10px 0; clear: both; }\\n\\t\\t.another_category h4 { font-size: 12px !important; margin: 0 !important; border-bottom: 1px solid #E5E5E5 !important; padding: 2px 0 6px !important; }\\n\\t\\t.another_category h4 a { font-weight: bold !important; }\\n\\t\\t.another_category table { table-layout: fixed; border-collapse: collapse; width: 100% !important; margin-top: 10px !important; }\\n\\t\\t* html .another_category table { width: auto !important; }\\n\\t\\t*:first-child+html .another_category table { width: auto !important; }\\n\\t\\t.another_category th, .another_category td { padding: 0 0 4px !important; }\\n\\t\\t.another_category th { text-align: left; font-size: 12px !important; font-weight: normal;  word-break: break-all; overflow: hidden; line-height: 1.5; }\\n\\t\\t.another_category td { text-align: right; width: 80px; font-size: 11px; }\\n\\t\\t.another_category th a { font-weight: normal; text-decoration: none; border: none !important; }\\n\\t\\t.another_category th a.current{ font-weight: bold; text-decoration: none !important; border-bottom: 1px solid !important; }\\n\\t\\t.another_category th span { font-weight: normal; text-decoration: none; font: 10px Tahoma, Sans-serif; border: none !important; }\\n\\n\\t\\t.another_category_color_gray, .another_category_color_gray h4 { border-color: #E5E5E5 !important; }\\n\\t\\t.another_category_color_gray * { color: #909090 !important; }\\n\\t\\t.another_category_color_gray th a.current{border-color:#909090 !important;}\\n\\t\\t.another_category_color_gray h4, .another_category_color_gray h4 a { color: #737373 !important; }\\n\\n\\n\\t\\t.another_category_color_red, .another_category_color_red h4 { border-color: #F6D4D3 !important;  }\\n\\t\\t.another_category_color_red * { color: #E86869 !important; }\\n\\t\\t.another_category_color_red th a.current{border-color:#E86869 !important;}\\n\\t\\t.another_category_color_red h4, .another_category_color_red h4 a { color: #ED0908 !important; }\\n\\n\\n\\t\\t.another_category_color_green, .another_category_color_green h4 { border-color: #CCE7C8 !important; }\\n\\t\\t.another_category_color_green * { color: #64C05B !important; }\\n\\t\\t.another_category_color_green th a.current{border-color:#64C05B !important;}\\n\\t\\t.another_category_color_green h4, .another_category_color_green h4 a { color: #3EA731 !important; }\\n\\n\\n\\t\\t.another_category_color_blue, .another_category_color_blue h4 { border-color: #C8DAF2 !important; }\\n\\t\\t.another_category_color_blue * { color: #477FD6 !important; }\\n\\t\\t.another_category_color_blue th a.current{border-color:#477FD6 !important;}\\n\\t\\t.another_category_color_blue h4, .another_category_color_blue h4 a { color: #1960CA !important; }\\n\\n\\n\\t\\t.another_category_color_violet, .another_category_color_violet h4 { border-color: #E1CEEC !important;  }\\n\\t\\t.another_category_color_violet * { color:#9D64C5 !important; }\\n\\t\\t.another_category_color_violet th a.current{border-color:#9D64C5 !important;}\\n\\t\\t.another_category_color_violet h4, .another_category_color_violet h4 a { color: #7E2CB5 !important; }\\n\\t</style>\\n<script type=\"text/javascript\">\\n        \\n        window.TistoryBlog = {\\n            basePath: \"\",\\n            url: \"https://pinkwink.kr\",\\n            tistoryUrl: \"https://pinkwink.tistory.com\",\\n\\t\\t\\tmanageUrl: \\'https://pinkwink.tistory.com/manage\\',\\n            token: \\'QKyOQNvmIVrNVaKPoxlIEw==\\'\\n        };\\n        var servicePath = \"\";\\n        var blogURL = \"\";\\n    </script>\\n\\n\\t<script> (function() { window.orgjQuery = window.jQuery; window.jQuery = tjQuery })()</script>\\n    <script type=\"text/javascript\" defer=\"\" src=\"https://t1.daumcdn.net/tistory_admin/assets/blog/tistory-a033c2b33e7ae4af94cec5a75f0387e9fc551690/blogs/script/reaction/reaction-button-container.min.js?_version_=tistory-a033c2b33e7ae4af94cec5a75f0387e9fc551690\"></script>\\n    <script> (function() { window.jQuery = window.orgjQuery; delete window.orgjQuery })()</script>\\n        <script type=\"text/javascript\" src=\"https://t1.daumcdn.net/tistory_admin/assets/blog/tistory-a033c2b33e7ae4af94cec5a75f0387e9fc551690/blogs/script/_/base.js?_version_=tistory-a033c2b33e7ae4af94cec5a75f0387e9fc551690\"></script>\\n        <link rel=\"stylesheet\" type=\"text/css\" href=\"https://t1.daumcdn.net/tistory_admin/assets/blog/tistory-a033c2b33e7ae4af94cec5a75f0387e9fc551690/blogs/style/dialog.css?_version_=tistory-a033c2b33e7ae4af94cec5a75f0387e9fc551690\">\\n            <link rel=\"stylesheet\" type=\"text/css\" href=\"//t1.daumcdn.net/tistory_admin/www/style/top/font.css\">\\n    <link rel=\"stylesheet\" type=\"text/css\" href=\"https://t1.daumcdn.net/tistory_admin/assets/blog/tistory-a033c2b33e7ae4af94cec5a75f0387e9fc551690/blogs/style/postBtn.css?_version_=tistory-a033c2b33e7ae4af94cec5a75f0387e9fc551690\">\\n        <link rel=\"stylesheet\" type=\"text/css\" href=\"https://t1.daumcdn.net/tistory_admin/assets/blog/tistory-a033c2b33e7ae4af94cec5a75f0387e9fc551690/blogs/style/component/tistory.css?_version_=tistory-a033c2b33e7ae4af94cec5a75f0387e9fc551690\">\\n        <script type=\"text/javascript\" src=\"//developers.kakao.com/sdk/js/kakao.min.js\"></script>\\n\\n        <link rel=\"stylesheet\" type=\"text/css\" href=\"https://t1.daumcdn.net/tistory_admin/assets/blog/tistory-a033c2b33e7ae4af94cec5a75f0387e9fc551690/blogs/style/revenue.css?_version_=tistory-a033c2b33e7ae4af94cec5a75f0387e9fc551690\"><meta http-equiv=\"origin-trial\" content=\"AxujKG9INjsZ8/gUq8+dTruNvk7RjZQ1oFhhgQbcTJKDnZfbzSTE81wvC2Hzaf3TW4avA76LTZEMdiedF1vIbA4AAABueyJvcmlnaW4iOiJodHRwczovL2ltYXNkay5nb29nbGVhcGlzLmNvbTo0NDMiLCJmZWF0dXJlIjoiVHJ1c3RUb2tlbnMiLCJleHBpcnkiOjE2NTI3NzQ0MDAsImlzVGhpcmRQYXJ0eSI6dHJ1ZX0=\"><meta http-equiv=\"origin-trial\" content=\"Azuce85ORtSnWe1MZDTv68qpaW3iHyfL9YbLRy0cwcCZwVnePnOmkUJlG8HGikmOwhZU22dElCcfrfX2HhrBPAkAAAB7eyJvcmlnaW4iOiJodHRwczovL2RvdWJsZWNsaWNrLm5ldDo0NDMiLCJmZWF0dXJlIjoiVHJ1c3RUb2tlbnMiLCJleHBpcnkiOjE2NTI3NzQ0MDAsImlzU3ViZG9tYWluIjp0cnVlLCJpc1RoaXJkUGFydHkiOnRydWV9\"><meta http-equiv=\"origin-trial\" content=\"A16nvcdeoOAqrJcmjLRpl1I6f3McDD8EfofAYTt/P/H4/AWwB99nxiPp6kA0fXoiZav908Z8etuL16laFPUdfQsAAACBeyJvcmlnaW4iOiJodHRwczovL2dvb2dsZXRhZ3NlcnZpY2VzLmNvbTo0NDMiLCJmZWF0dXJlIjoiVHJ1c3RUb2tlbnMiLCJleHBpcnkiOjE2NTI3NzQ0MDAsImlzU3ViZG9tYWluIjp0cnVlLCJpc1RoaXJkUGFydHkiOnRydWV9\"><meta http-equiv=\"origin-trial\" content=\"AxBHdr0J44vFBQtZUqX9sjiqf5yWZ/OcHRcRMN3H9TH+t90V/j3ENW6C8+igBZFXMJ7G3Pr8Dd13632aLng42wgAAACBeyJvcmlnaW4iOiJodHRwczovL2dvb2dsZXN5bmRpY2F0aW9uLmNvbTo0NDMiLCJmZWF0dXJlIjoiVHJ1c3RUb2tlbnMiLCJleHBpcnkiOjE2NTI3NzQ0MDAsImlzU3ViZG9tYWluIjp0cnVlLCJpc1RoaXJkUGFydHkiOnRydWV9\"><meta http-equiv=\"origin-trial\" content=\"A88BWHFjcawUfKU3lIejLoryXoyjooBXLgWmGh+hNcqMK44cugvsI5YZbNarYvi3roc1fYbHA1AVbhAtuHZflgEAAAB2eyJvcmlnaW4iOiJodHRwczovL2dvb2dsZS5jb206NDQzIiwiZmVhdHVyZSI6IlRydXN0VG9rZW5zIiwiZXhwaXJ5IjoxNjUyNzc0NDAwLCJpc1N1YmRvbWFpbiI6dHJ1ZSwiaXNUaGlyZFBhcnR5Ijp0cnVlfQ==\"><meta http-equiv=\"origin-trial\" content=\"A8FHS1NmdCwGqD9DwOicnHHY+y27kdWfxKa0YHSGDfv0CSpDKRHTQdQmZVPDUdaFWUsxdgVxlwAd6o+dhJykPA0AAACWeyJvcmlnaW4iOiJodHRwczovL2RvdWJsZWNsaWNrLm5ldDo0NDMiLCJmZWF0dXJlIjoiQ29udmVyc2lvbk1lYXN1cmVtZW50IiwiZXhwaXJ5IjoxNjQzMTU1MTk5LCJpc1N1YmRvbWFpbiI6dHJ1ZSwiaXNUaGlyZFBhcnR5Ijp0cnVlLCJ1c2FnZSI6InN1YnNldCJ9\"><meta http-equiv=\"origin-trial\" content=\"A8zdXi6dr1hwXEUjQrYiyYQGlU3557y5QWDnN0Lwgj9ePt66XMEvNkVWOEOWPd7TP9sBQ25X0Q15Lr1Nn4oGFQkAAACceyJvcmlnaW4iOiJodHRwczovL2dvb2dsZXN5bmRpY2F0aW9uLmNvbTo0NDMiLCJmZWF0dXJlIjoiQ29udmVyc2lvbk1lYXN1cmVtZW50IiwiZXhwaXJ5IjoxNjQzMTU1MTk5LCJpc1N1YmRvbWFpbiI6dHJ1ZSwiaXNUaGlyZFBhcnR5Ijp0cnVlLCJ1c2FnZSI6InN1YnNldCJ9\"><meta http-equiv=\"origin-trial\" content=\"A4/Htern2udN9w3yJK9QgWQxQFruxOXsXL7cW60DyCl0EZFGCSme/J33Q/WzF7bBkVvhEWDlcBiUyZaim5CpFQwAAACceyJvcmlnaW4iOiJodHRwczovL2dvb2dsZXRhZ3NlcnZpY2VzLmNvbTo0NDMiLCJmZWF0dXJlIjoiQ29udmVyc2lvbk1lYXN1cmVtZW50IiwiZXhwaXJ5IjoxNjQzMTU1MTk5LCJpc1N1YmRvbWFpbiI6dHJ1ZSwiaXNUaGlyZFBhcnR5Ijp0cnVlLCJ1c2FnZSI6InN1YnNldCJ9\"><meta http-equiv=\"origin-trial\" content=\"AxujKG9INjsZ8/gUq8+dTruNvk7RjZQ1oFhhgQbcTJKDnZfbzSTE81wvC2Hzaf3TW4avA76LTZEMdiedF1vIbA4AAABueyJvcmlnaW4iOiJodHRwczovL2ltYXNkay5nb29nbGVhcGlzLmNvbTo0NDMiLCJmZWF0dXJlIjoiVHJ1c3RUb2tlbnMiLCJleHBpcnkiOjE2NTI3NzQ0MDAsImlzVGhpcmRQYXJ0eSI6dHJ1ZX0=\"><meta http-equiv=\"origin-trial\" content=\"Azuce85ORtSnWe1MZDTv68qpaW3iHyfL9YbLRy0cwcCZwVnePnOmkUJlG8HGikmOwhZU22dElCcfrfX2HhrBPAkAAAB7eyJvcmlnaW4iOiJodHRwczovL2RvdWJsZWNsaWNrLm5ldDo0NDMiLCJmZWF0dXJlIjoiVHJ1c3RUb2tlbnMiLCJleHBpcnkiOjE2NTI3NzQ0MDAsImlzU3ViZG9tYWluIjp0cnVlLCJpc1RoaXJkUGFydHkiOnRydWV9\"><meta http-equiv=\"origin-trial\" content=\"A16nvcdeoOAqrJcmjLRpl1I6f3McDD8EfofAYTt/P/H4/AWwB99nxiPp6kA0fXoiZav908Z8etuL16laFPUdfQsAAACBeyJvcmlnaW4iOiJodHRwczovL2dvb2dsZXRhZ3NlcnZpY2VzLmNvbTo0NDMiLCJmZWF0dXJlIjoiVHJ1c3RUb2tlbnMiLCJleHBpcnkiOjE2NTI3NzQ0MDAsImlzU3ViZG9tYWluIjp0cnVlLCJpc1RoaXJkUGFydHkiOnRydWV9\"><meta http-equiv=\"origin-trial\" content=\"AxBHdr0J44vFBQtZUqX9sjiqf5yWZ/OcHRcRMN3H9TH+t90V/j3ENW6C8+igBZFXMJ7G3Pr8Dd13632aLng42wgAAACBeyJvcmlnaW4iOiJodHRwczovL2dvb2dsZXN5bmRpY2F0aW9uLmNvbTo0NDMiLCJmZWF0dXJlIjoiVHJ1c3RUb2tlbnMiLCJleHBpcnkiOjE2NTI3NzQ0MDAsImlzU3ViZG9tYWluIjp0cnVlLCJpc1RoaXJkUGFydHkiOnRydWV9\"><meta http-equiv=\"origin-trial\" content=\"A88BWHFjcawUfKU3lIejLoryXoyjooBXLgWmGh+hNcqMK44cugvsI5YZbNarYvi3roc1fYbHA1AVbhAtuHZflgEAAAB2eyJvcmlnaW4iOiJodHRwczovL2dvb2dsZS5jb206NDQzIiwiZmVhdHVyZSI6IlRydXN0VG9rZW5zIiwiZXhwaXJ5IjoxNjUyNzc0NDAwLCJpc1N1YmRvbWFpbiI6dHJ1ZSwiaXNUaGlyZFBhcnR5Ijp0cnVlfQ==\"><meta http-equiv=\"origin-trial\" content=\"A8FHS1NmdCwGqD9DwOicnHHY+y27kdWfxKa0YHSGDfv0CSpDKRHTQdQmZVPDUdaFWUsxdgVxlwAd6o+dhJykPA0AAACWeyJvcmlnaW4iOiJodHRwczovL2RvdWJsZWNsaWNrLm5ldDo0NDMiLCJmZWF0dXJlIjoiQ29udmVyc2lvbk1lYXN1cmVtZW50IiwiZXhwaXJ5IjoxNjQzMTU1MTk5LCJpc1N1YmRvbWFpbiI6dHJ1ZSwiaXNUaGlyZFBhcnR5Ijp0cnVlLCJ1c2FnZSI6InN1YnNldCJ9\"><meta http-equiv=\"origin-trial\" content=\"A8zdXi6dr1hwXEUjQrYiyYQGlU3557y5QWDnN0Lwgj9ePt66XMEvNkVWOEOWPd7TP9sBQ25X0Q15Lr1Nn4oGFQkAAACceyJvcmlnaW4iOiJodHRwczovL2dvb2dsZXN5bmRpY2F0aW9uLmNvbTo0NDMiLCJmZWF0dXJlIjoiQ29udmVyc2lvbk1lYXN1cmVtZW50IiwiZXhwaXJ5IjoxNjQzMTU1MTk5LCJpc1N1YmRvbWFpbiI6dHJ1ZSwiaXNUaGlyZFBhcnR5Ijp0cnVlLCJ1c2FnZSI6InN1YnNldCJ9\"><meta http-equiv=\"origin-trial\" content=\"A4/Htern2udN9w3yJK9QgWQxQFruxOXsXL7cW60DyCl0EZFGCSme/J33Q/WzF7bBkVvhEWDlcBiUyZaim5CpFQwAAACceyJvcmlnaW4iOiJodHRwczovL2dvb2dsZXRhZ3NlcnZpY2VzLmNvbTo0NDMiLCJmZWF0dXJlIjoiQ29udmVyc2lvbk1lYXN1cmVtZW50IiwiZXhwaXJ5IjoxNjQzMTU1MTk5LCJpc1N1YmRvbWFpbiI6dHJ1ZSwiaXNUaGlyZFBhcnR5Ijp0cnVlLCJ1c2FnZSI6InN1YnNldCJ9\"><meta http-equiv=\"origin-trial\" content=\"AxujKG9INjsZ8/gUq8+dTruNvk7RjZQ1oFhhgQbcTJKDnZfbzSTE81wvC2Hzaf3TW4avA76LTZEMdiedF1vIbA4AAABueyJvcmlnaW4iOiJodHRwczovL2ltYXNkay5nb29nbGVhcGlzLmNvbTo0NDMiLCJmZWF0dXJlIjoiVHJ1c3RUb2tlbnMiLCJleHBpcnkiOjE2NTI3NzQ0MDAsImlzVGhpcmRQYXJ0eSI6dHJ1ZX0=\"><meta http-equiv=\"origin-trial\" content=\"Azuce85ORtSnWe1MZDTv68qpaW3iHyfL9YbLRy0cwcCZwVnePnOmkUJlG8HGikmOwhZU22dElCcfrfX2HhrBPAkAAAB7eyJvcmlnaW4iOiJodHRwczovL2RvdWJsZWNsaWNrLm5ldDo0NDMiLCJmZWF0dXJlIjoiVHJ1c3RUb2tlbnMiLCJleHBpcnkiOjE2NTI3NzQ0MDAsImlzU3ViZG9tYWluIjp0cnVlLCJpc1RoaXJkUGFydHkiOnRydWV9\"><meta http-equiv=\"origin-trial\" content=\"A16nvcdeoOAqrJcmjLRpl1I6f3McDD8EfofAYTt/P/H4/AWwB99nxiPp6kA0fXoiZav908Z8etuL16laFPUdfQsAAACBeyJvcmlnaW4iOiJodHRwczovL2dvb2dsZXRhZ3NlcnZpY2VzLmNvbTo0NDMiLCJmZWF0dXJlIjoiVHJ1c3RUb2tlbnMiLCJleHBpcnkiOjE2NTI3NzQ0MDAsImlzU3ViZG9tYWluIjp0cnVlLCJpc1RoaXJkUGFydHkiOnRydWV9\"><meta http-equiv=\"origin-trial\" content=\"AxBHdr0J44vFBQtZUqX9sjiqf5yWZ/OcHRcRMN3H9TH+t90V/j3ENW6C8+igBZFXMJ7G3Pr8Dd13632aLng42wgAAACBeyJvcmlnaW4iOiJodHRwczovL2dvb2dsZXN5bmRpY2F0aW9uLmNvbTo0NDMiLCJmZWF0dXJlIjoiVHJ1c3RUb2tlbnMiLCJleHBpcnkiOjE2NTI3NzQ0MDAsImlzU3ViZG9tYWluIjp0cnVlLCJpc1RoaXJkUGFydHkiOnRydWV9\"><meta http-equiv=\"origin-trial\" content=\"A88BWHFjcawUfKU3lIejLoryXoyjooBXLgWmGh+hNcqMK44cugvsI5YZbNarYvi3roc1fYbHA1AVbhAtuHZflgEAAAB2eyJvcmlnaW4iOiJodHRwczovL2dvb2dsZS5jb206NDQzIiwiZmVhdHVyZSI6IlRydXN0VG9rZW5zIiwiZXhwaXJ5IjoxNjUyNzc0NDAwLCJpc1N1YmRvbWFpbiI6dHJ1ZSwiaXNUaGlyZFBhcnR5Ijp0cnVlfQ==\"><meta http-equiv=\"origin-trial\" content=\"A8FHS1NmdCwGqD9DwOicnHHY+y27kdWfxKa0YHSGDfv0CSpDKRHTQdQmZVPDUdaFWUsxdgVxlwAd6o+dhJykPA0AAACWeyJvcmlnaW4iOiJodHRwczovL2RvdWJsZWNsaWNrLm5ldDo0NDMiLCJmZWF0dXJlIjoiQ29udmVyc2lvbk1lYXN1cmVtZW50IiwiZXhwaXJ5IjoxNjQzMTU1MTk5LCJpc1N1YmRvbWFpbiI6dHJ1ZSwiaXNUaGlyZFBhcnR5Ijp0cnVlLCJ1c2FnZSI6InN1YnNldCJ9\"><meta http-equiv=\"origin-trial\" content=\"A8zdXi6dr1hwXEUjQrYiyYQGlU3557y5QWDnN0Lwgj9ePt66XMEvNkVWOEOWPd7TP9sBQ25X0Q15Lr1Nn4oGFQkAAACceyJvcmlnaW4iOiJodHRwczovL2dvb2dsZXN5bmRpY2F0aW9uLmNvbTo0NDMiLCJmZWF0dXJlIjoiQ29udmVyc2lvbk1lYXN1cmVtZW50IiwiZXhwaXJ5IjoxNjQzMTU1MTk5LCJpc1N1YmRvbWFpbiI6dHJ1ZSwiaXNUaGlyZFBhcnR5Ijp0cnVlLCJ1c2FnZSI6InN1YnNldCJ9\"><meta http-equiv=\"origin-trial\" content=\"A4/Htern2udN9w3yJK9QgWQxQFruxOXsXL7cW60DyCl0EZFGCSme/J33Q/WzF7bBkVvhEWDlcBiUyZaim5CpFQwAAACceyJvcmlnaW4iOiJodHRwczovL2dvb2dsZXRhZ3NlcnZpY2VzLmNvbTo0NDMiLCJmZWF0dXJlIjoiQ29udmVyc2lvbk1lYXN1cmVtZW50IiwiZXhwaXJ5IjoxNjQzMTU1MTk5LCJpc1N1YmRvbWFpbiI6dHJ1ZSwiaXNUaGlyZFBhcnR5Ijp0cnVlLCJ1c2FnZSI6InN1YnNldCJ9\"><meta http-equiv=\"origin-trial\" content=\"AxujKG9INjsZ8/gUq8+dTruNvk7RjZQ1oFhhgQbcTJKDnZfbzSTE81wvC2Hzaf3TW4avA76LTZEMdiedF1vIbA4AAABueyJvcmlnaW4iOiJodHRwczovL2ltYXNkay5nb29nbGVhcGlzLmNvbTo0NDMiLCJmZWF0dXJlIjoiVHJ1c3RUb2tlbnMiLCJleHBpcnkiOjE2NTI3NzQ0MDAsImlzVGhpcmRQYXJ0eSI6dHJ1ZX0=\"><meta http-equiv=\"origin-trial\" content=\"Azuce85ORtSnWe1MZDTv68qpaW3iHyfL9YbLRy0cwcCZwVnePnOmkUJlG8HGikmOwhZU22dElCcfrfX2HhrBPAkAAAB7eyJvcmlnaW4iOiJodHRwczovL2RvdWJsZWNsaWNrLm5ldDo0NDMiLCJmZWF0dXJlIjoiVHJ1c3RUb2tlbnMiLCJleHBpcnkiOjE2NTI3NzQ0MDAsImlzU3ViZG9tYWluIjp0cnVlLCJpc1RoaXJkUGFydHkiOnRydWV9\"><meta http-equiv=\"origin-trial\" content=\"A16nvcdeoOAqrJcmjLRpl1I6f3McDD8EfofAYTt/P/H4/AWwB99nxiPp6kA0fXoiZav908Z8etuL16laFPUdfQsAAACBeyJvcmlnaW4iOiJodHRwczovL2dvb2dsZXRhZ3NlcnZpY2VzLmNvbTo0NDMiLCJmZWF0dXJlIjoiVHJ1c3RUb2tlbnMiLCJleHBpcnkiOjE2NTI3NzQ0MDAsImlzU3ViZG9tYWluIjp0cnVlLCJpc1RoaXJkUGFydHkiOnRydWV9\"><meta http-equiv=\"origin-trial\" content=\"AxBHdr0J44vFBQtZUqX9sjiqf5yWZ/OcHRcRMN3H9TH+t90V/j3ENW6C8+igBZFXMJ7G3Pr8Dd13632aLng42wgAAACBeyJvcmlnaW4iOiJodHRwczovL2dvb2dsZXN5bmRpY2F0aW9uLmNvbTo0NDMiLCJmZWF0dXJlIjoiVHJ1c3RUb2tlbnMiLCJleHBpcnkiOjE2NTI3NzQ0MDAsImlzU3ViZG9tYWluIjp0cnVlLCJpc1RoaXJkUGFydHkiOnRydWV9\"><meta http-equiv=\"origin-trial\" content=\"A88BWHFjcawUfKU3lIejLoryXoyjooBXLgWmGh+hNcqMK44cugvsI5YZbNarYvi3roc1fYbHA1AVbhAtuHZflgEAAAB2eyJvcmlnaW4iOiJodHRwczovL2dvb2dsZS5jb206NDQzIiwiZmVhdHVyZSI6IlRydXN0VG9rZW5zIiwiZXhwaXJ5IjoxNjUyNzc0NDAwLCJpc1N1YmRvbWFpbiI6dHJ1ZSwiaXNUaGlyZFBhcnR5Ijp0cnVlfQ==\"><meta http-equiv=\"origin-trial\" content=\"A8FHS1NmdCwGqD9DwOicnHHY+y27kdWfxKa0YHSGDfv0CSpDKRHTQdQmZVPDUdaFWUsxdgVxlwAd6o+dhJykPA0AAACWeyJvcmlnaW4iOiJodHRwczovL2RvdWJsZWNsaWNrLm5ldDo0NDMiLCJmZWF0dXJlIjoiQ29udmVyc2lvbk1lYXN1cmVtZW50IiwiZXhwaXJ5IjoxNjQzMTU1MTk5LCJpc1N1YmRvbWFpbiI6dHJ1ZSwiaXNUaGlyZFBhcnR5Ijp0cnVlLCJ1c2FnZSI6InN1YnNldCJ9\"><meta http-equiv=\"origin-trial\" content=\"A8zdXi6dr1hwXEUjQrYiyYQGlU3557y5QWDnN0Lwgj9ePt66XMEvNkVWOEOWPd7TP9sBQ25X0Q15Lr1Nn4oGFQkAAACceyJvcmlnaW4iOiJodHRwczovL2dvb2dsZXN5bmRpY2F0aW9uLmNvbTo0NDMiLCJmZWF0dXJlIjoiQ29udmVyc2lvbk1lYXN1cmVtZW50IiwiZXhwaXJ5IjoxNjQzMTU1MTk5LCJpc1N1YmRvbWFpbiI6dHJ1ZSwiaXNUaGlyZFBhcnR5Ijp0cnVlLCJ1c2FnZSI6InN1YnNldCJ9\"><meta http-equiv=\"origin-trial\" content=\"A4/Htern2udN9w3yJK9QgWQxQFruxOXsXL7cW60DyCl0EZFGCSme/J33Q/WzF7bBkVvhEWDlcBiUyZaim5CpFQwAAACceyJvcmlnaW4iOiJodHRwczovL2dvb2dsZXRhZ3NlcnZpY2VzLmNvbTo0NDMiLCJmZWF0dXJlIjoiQ29udmVyc2lvbk1lYXN1cmVtZW50IiwiZXhwaXJ5IjoxNjQzMTU1MTk5LCJpc1N1YmRvbWFpbiI6dHJ1ZSwiaXNUaGlyZFBhcnR5Ijp0cnVlLCJ1c2FnZSI6InN1YnNldCJ9\"><link rel=\"preload\" href=\"https://adservice.google.co.kr/adsid/integrator.js?domain=pinkwink.kr\" as=\"script\"><script type=\"text/javascript\" src=\"https://adservice.google.co.kr/adsid/integrator.js?domain=pinkwink.kr\"></script><link rel=\"preload\" href=\"https://adservice.google.com/adsid/integrator.js?domain=pinkwink.kr\" as=\"script\"><script type=\"text/javascript\" src=\"https://adservice.google.com/adsid/integrator.js?domain=pinkwink.kr\"></script></head>\\n<body id=\"tt-body-search\" class=\"color-gray post-type-text paging-view-more\">\\n<script type=\"text/javascript\">\\n\\t(function() {\\n\\t\\tif (!window.T) {\\n\\t\\t\\twindow.T = {}\\n\\t\\t}\\n\\t\\twindow.T.config = {\"TOP_SSL_URL\":\"https:\\\\/\\\\/www.tistory.com\",\"PREVIEW\":false,\"ROLE\":\"guest\",\"PREV_PAGE\":\"\",\"NEXT_PAGE\":\"\\\\/search\\\\/python?page=2\",\"BLOG\":{\"isDormancy\":false,\"title\":\"PinkWink\"},\"NEED_COMMENT_LOGIN\":false,\"COMMENT_LOGIN_CONFIRM_MESSAGE\":\"\",\"LOGIN_URL\":\"https:\\\\/\\\\/www.tistory.com\\\\/auth\\\\/login\\\\/?redirectUrl=http%3A%2F%2Fpinkwink.kr%2Fsearch%2Fpython\",\"DEFAULT_URL\":\"https:\\\\/\\\\/pinkwink.kr\",\"USER\":{\"name\":null,\"homepage\":null},\"ROLE_GROUP\":\"visitor\",\"SUBSCRIPTION\":{\"status\":\"none\",\"isConnected\":false,\"isProcessing\":false,\"isPending\":false,\"isWait\":false,\"isNone\":true},\"IS_LOGIN\":false,\"HAS_BLOG\":false,\"TOP_URL\":\"https:\\\\/\\\\/www.tistory.com\",\"JOIN_URL\":\"https:\\\\/\\\\/www.tistory.com\\\\/member\\\\/join\"};\\n\\t\\twindow.appInfo = {\"domain\":\"tistory.com\",\"topUrl\":\"https:\\\\/\\\\/www.tistory.com\",\"loginUrl\":\"https:\\\\/\\\\/www.tistory.com\\\\/auth\\\\/login\",\"logoutUrl\":\"https:\\\\/\\\\/www.tistory.com\\\\/auth\\\\/logout\"};\\n\\n        window.initData = {};\\n        \\n\\t})();\\n</script>\\n\\n<script type=\"text/javascript\" src=\"https://t1.daumcdn.net/tistory_admin/assets/blog/tistory-a033c2b33e7ae4af94cec5a75f0387e9fc551690/blogs/script/blog/common.js?_version_=tistory-a033c2b33e7ae4af94cec5a75f0387e9fc551690\"></script>\\n<div style=\"margin:0; padding:0; border:none; background:none; float:none; clear:none; z-index:0\"></div>\\n<div id=\"acc-nav\">\\n  <a href=\"#content\">본문 바로가기</a>\\n</div>\\n<div id=\"wrap\">\\n  <header id=\"header\">\\n    <h1><a href=\"/\">PinkWink</a></h1>\\n    <button type=\"button\" class=\"mobile-menu\"><span>메뉴</span></button>\\n    <div class=\"menu\">\\n      <nav id=\"gnb\">\\n        <ul class=\"tt_category\">\\n\\t<li class=\"\">\\n\\t\\t<a class=\"link_tit\" href=\"/category\">\\n\\t\\t\\tPosts by PinkWink\\t\\t\\t\\t\\t\\t\\t<span class=\"c_cnt\">(1256)</span>\\n\\t\\t\\t\\n\\t\\t\\t\\t\\t\\t\\t<img src=\"https://t1.daumcdn.net/tistory_admin/assets/blog/tistory-a033c2b33e7ae4af94cec5a75f0387e9fc551690/blogs/image/category/new_ico_2.gif?_version_=tistory-a033c2b33e7ae4af94cec5a75f0387e9fc551690\" alt=\"N\" style=\"vertical-align:middle;padding-left:2px;\">\\n\\t\\t\\t\\t\\t</a>\\n\\n\\t\\t\\t\\t<ul class=\"category_list\">\\n\\t\\t\\t\\t\\t\\t\\t<li class=\"\">\\n\\t\\t\\t\\t\\t<a class=\"link_item\" href=\"/category/Robot\">\\n\\t\\t\\t\\t\\t\\tRobot\\t\\t\\t\\t\\t\\t\\t\\t\\t\\t\\t\\t\\t<span class=\"c_cnt\">(159)</span>\\n\\t\\t\\t\\t\\t\\t\\n\\t\\t\\t\\t\\t\\t\\t\\t\\t\\t\\t</a>\\n\\n\\t\\t\\t\\t\\t\\t\\t\\t\\t\\t<ul class=\"sub_category_list\">\\n\\t\\t\\t\\t\\t\\t\\t\\t\\t\\t\\t\\t\\t<li class=\"\">\\n\\t\\t\\t\\t\\t\\t\\t\\t<a class=\"link_sub_item\" href=\"/category/Robot/Project\">\\n\\t\\t\\t\\t\\t\\t\\t\\t\\tProject\\n\\t\\t\\t\\t\\t\\t\\t\\t\\t\\t\\t\\t\\t\\t\\t\\t\\t\\t\\t<span class=\"c_cnt\">(42)</span>\\n\\t\\t\\t\\t\\t\\t\\t\\t\\t\\n\\t\\t\\t\\t\\t\\t\\t\\t\\t\\t\\t\\t\\t\\t\\t\\t\\t</a>\\n\\t\\t\\t\\t\\t\\t\\t</li>\\n\\t\\t\\t\\t\\t\\t\\t\\t\\t\\t\\t\\t\\t<li class=\"\">\\n\\t\\t\\t\\t\\t\\t\\t\\t<a class=\"link_sub_item\" href=\"/category/Robot/Robot%20Program%20-%20ROS\">\\n\\t\\t\\t\\t\\t\\t\\t\\t\\tRobot Program - ROS\\n\\t\\t\\t\\t\\t\\t\\t\\t\\t\\t\\t\\t\\t\\t\\t\\t\\t\\t\\t<span class=\"c_cnt\">(65)</span>\\n\\t\\t\\t\\t\\t\\t\\t\\t\\t\\n\\t\\t\\t\\t\\t\\t\\t\\t\\t\\t\\t\\t\\t\\t\\t\\t\\t</a>\\n\\t\\t\\t\\t\\t\\t\\t</li>\\n\\t\\t\\t\\t\\t\\t\\t\\t\\t\\t\\t\\t\\t<li class=\"\">\\n\\t\\t\\t\\t\\t\\t\\t\\t<a class=\"link_sub_item\" href=\"/category/Robot/Robot%20Module\">\\n\\t\\t\\t\\t\\t\\t\\t\\t\\tRobot Module\\n\\t\\t\\t\\t\\t\\t\\t\\t\\t\\t\\t\\t\\t\\t\\t\\t\\t\\t\\t<span class=\"c_cnt\">(16)</span>\\n\\t\\t\\t\\t\\t\\t\\t\\t\\t\\n\\t\\t\\t\\t\\t\\t\\t\\t\\t\\t\\t\\t\\t\\t\\t\\t\\t</a>\\n\\t\\t\\t\\t\\t\\t\\t</li>\\n\\t\\t\\t\\t\\t\\t\\t\\t\\t\\t\\t\\t\\t<li class=\"\">\\n\\t\\t\\t\\t\\t\\t\\t\\t<a class=\"link_sub_item\" href=\"/category/Robot/Block%20Coding\">\\n\\t\\t\\t\\t\\t\\t\\t\\t\\tBlock Coding\\n\\t\\t\\t\\t\\t\\t\\t\\t\\t\\t\\t\\t\\t\\t\\t\\t\\t\\t\\t<span class=\"c_cnt\">(13)</span>\\n\\t\\t\\t\\t\\t\\t\\t\\t\\t\\n\\t\\t\\t\\t\\t\\t\\t\\t\\t\\t\\t\\t\\t\\t\\t\\t\\t</a>\\n\\t\\t\\t\\t\\t\\t\\t</li>\\n\\t\\t\\t\\t\\t\\t\\t\\t\\t\\t\\t\\t\\t<li class=\"\">\\n\\t\\t\\t\\t\\t\\t\\t\\t<a class=\"link_sub_item\" href=\"/category/Robot/Reference\">\\n\\t\\t\\t\\t\\t\\t\\t\\t\\tReference\\n\\t\\t\\t\\t\\t\\t\\t\\t\\t\\t\\t\\t\\t\\t\\t\\t\\t\\t\\t<span class=\"c_cnt\">(23)</span>\\n\\t\\t\\t\\t\\t\\t\\t\\t\\t\\n\\t\\t\\t\\t\\t\\t\\t\\t\\t\\t\\t\\t\\t\\t\\t\\t\\t</a>\\n\\t\\t\\t\\t\\t\\t\\t</li>\\n\\t\\t\\t\\t\\t\\t\\t\\t\\t\\t\\t</ul>\\n\\t\\t\\t\\t\\t\\n\\t\\t\\t\\t</li>\\n\\t\\t\\t\\t\\t\\t\\t<li class=\"\">\\n\\t\\t\\t\\t\\t<a class=\"link_item\" href=\"/category/Theory\">\\n\\t\\t\\t\\t\\t\\tTheory\\t\\t\\t\\t\\t\\t\\t\\t\\t\\t\\t\\t\\t<span class=\"c_cnt\">(231)</span>\\n\\t\\t\\t\\t\\t\\t\\n\\t\\t\\t\\t\\t\\t\\t\\t\\t\\t\\t\\t\\t<img src=\"https://t1.daumcdn.net/tistory_admin/assets/blog/tistory-a033c2b33e7ae4af94cec5a75f0387e9fc551690/blogs/image/category/new_ico_2.gif?_version_=tistory-a033c2b33e7ae4af94cec5a75f0387e9fc551690\" alt=\"N\" style=\"vertical-align:middle;padding-left:2px;\">\\n\\t\\t\\t\\t\\t\\t\\t\\t\\t\\t\\t</a>\\n\\n\\t\\t\\t\\t\\t\\t\\t\\t\\t\\t<ul class=\"sub_category_list\">\\n\\t\\t\\t\\t\\t\\t\\t\\t\\t\\t\\t\\t\\t<li class=\"\">\\n\\t\\t\\t\\t\\t\\t\\t\\t<a class=\"link_sub_item\" href=\"/category/Theory/ControlTheory\">\\n\\t\\t\\t\\t\\t\\t\\t\\t\\tControlTheory\\n\\t\\t\\t\\t\\t\\t\\t\\t\\t\\t\\t\\t\\t\\t\\t\\t\\t\\t\\t<span class=\"c_cnt\">(52)</span>\\n\\t\\t\\t\\t\\t\\t\\t\\t\\t\\n\\t\\t\\t\\t\\t\\t\\t\\t\\t\\t\\t\\t\\t\\t\\t\\t\\t\\t\\t<img src=\"https://t1.daumcdn.net/tistory_admin/assets/blog/tistory-a033c2b33e7ae4af94cec5a75f0387e9fc551690/blogs/image/category/new_ico_2.gif?_version_=tistory-a033c2b33e7ae4af94cec5a75f0387e9fc551690\" alt=\"N\" style=\"vertical-align:middle;padding-left:2px;\">\\n\\t\\t\\t\\t\\t\\t\\t\\t\\t\\t\\t\\t\\t\\t\\t\\t\\t</a>\\n\\t\\t\\t\\t\\t\\t\\t</li>\\n\\t\\t\\t\\t\\t\\t\\t\\t\\t\\t\\t\\t\\t<li class=\"\">\\n\\t\\t\\t\\t\\t\\t\\t\\t<a class=\"link_sub_item\" href=\"/category/Theory/DataScience\">\\n\\t\\t\\t\\t\\t\\t\\t\\t\\tDataScience\\n\\t\\t\\t\\t\\t\\t\\t\\t\\t\\t\\t\\t\\t\\t\\t\\t\\t\\t\\t<span class=\"c_cnt\">(52)</span>\\n\\t\\t\\t\\t\\t\\t\\t\\t\\t\\n\\t\\t\\t\\t\\t\\t\\t\\t\\t\\t\\t\\t\\t\\t\\t\\t\\t</a>\\n\\t\\t\\t\\t\\t\\t\\t</li>\\n\\t\\t\\t\\t\\t\\t\\t\\t\\t\\t\\t\\t\\t<li class=\"\">\\n\\t\\t\\t\\t\\t\\t\\t\\t<a class=\"link_sub_item\" href=\"/category/Theory/MachineLearning\">\\n\\t\\t\\t\\t\\t\\t\\t\\t\\tMachineLearning\\n\\t\\t\\t\\t\\t\\t\\t\\t\\t\\t\\t\\t\\t\\t\\t\\t\\t\\t\\t<span class=\"c_cnt\">(7)</span>\\n\\t\\t\\t\\t\\t\\t\\t\\t\\t\\n\\t\\t\\t\\t\\t\\t\\t\\t\\t\\t\\t\\t\\t\\t\\t\\t\\t</a>\\n\\t\\t\\t\\t\\t\\t\\t</li>\\n\\t\\t\\t\\t\\t\\t\\t\\t\\t\\t\\t\\t\\t<li class=\"\">\\n\\t\\t\\t\\t\\t\\t\\t\\t<a class=\"link_sub_item\" href=\"/category/Theory/DeepLearning\">\\n\\t\\t\\t\\t\\t\\t\\t\\t\\tDeepLearning\\n\\t\\t\\t\\t\\t\\t\\t\\t\\t\\t\\t\\t\\t\\t\\t\\t\\t\\t\\t<span class=\"c_cnt\">(17)</span>\\n\\t\\t\\t\\t\\t\\t\\t\\t\\t\\n\\t\\t\\t\\t\\t\\t\\t\\t\\t\\t\\t\\t\\t\\t\\t\\t\\t</a>\\n\\t\\t\\t\\t\\t\\t\\t</li>\\n\\t\\t\\t\\t\\t\\t\\t\\t\\t\\t\\t\\t\\t<li class=\"\">\\n\\t\\t\\t\\t\\t\\t\\t\\t<a class=\"link_sub_item\" href=\"/category/Theory/Project\">\\n\\t\\t\\t\\t\\t\\t\\t\\t\\tProject\\n\\t\\t\\t\\t\\t\\t\\t\\t\\t\\t\\t\\t\\t\\t\\t\\t\\t\\t\\t<span class=\"c_cnt\">(11)</span>\\n\\t\\t\\t\\t\\t\\t\\t\\t\\t\\n\\t\\t\\t\\t\\t\\t\\t\\t\\t\\t\\t\\t\\t\\t\\t\\t\\t</a>\\n\\t\\t\\t\\t\\t\\t\\t</li>\\n\\t\\t\\t\\t\\t\\t\\t\\t\\t\\t\\t\\t\\t<li class=\"\">\\n\\t\\t\\t\\t\\t\\t\\t\\t<a class=\"link_sub_item\" href=\"/category/Theory/Lecture\">\\n\\t\\t\\t\\t\\t\\t\\t\\t\\tLecture\\n\\t\\t\\t\\t\\t\\t\\t\\t\\t\\t\\t\\t\\t\\t\\t\\t\\t\\t\\t<span class=\"c_cnt\">(77)</span>\\n\\t\\t\\t\\t\\t\\t\\t\\t\\t\\n\\t\\t\\t\\t\\t\\t\\t\\t\\t\\t\\t\\t\\t\\t\\t\\t\\t</a>\\n\\t\\t\\t\\t\\t\\t\\t</li>\\n\\t\\t\\t\\t\\t\\t\\t\\t\\t\\t\\t\\t\\t<li class=\"\">\\n\\t\\t\\t\\t\\t\\t\\t\\t<a class=\"link_sub_item\" href=\"/category/Theory/Review\">\\n\\t\\t\\t\\t\\t\\t\\t\\t\\tReview\\n\\t\\t\\t\\t\\t\\t\\t\\t\\t\\t\\t\\t\\t\\t\\t\\t\\t\\t\\t<span class=\"c_cnt\">(15)</span>\\n\\t\\t\\t\\t\\t\\t\\t\\t\\t\\n\\t\\t\\t\\t\\t\\t\\t\\t\\t\\t\\t\\t\\t\\t\\t\\t\\t</a>\\n\\t\\t\\t\\t\\t\\t\\t</li>\\n\\t\\t\\t\\t\\t\\t\\t\\t\\t\\t\\t</ul>\\n\\t\\t\\t\\t\\t\\n\\t\\t\\t\\t</li>\\n\\t\\t\\t\\t\\t\\t\\t<li class=\"\">\\n\\t\\t\\t\\t\\t<a class=\"link_item\" href=\"/category/Software\">\\n\\t\\t\\t\\t\\t\\tSoftware\\t\\t\\t\\t\\t\\t\\t\\t\\t\\t\\t\\t\\t<span class=\"c_cnt\">(299)</span>\\n\\t\\t\\t\\t\\t\\t\\n\\t\\t\\t\\t\\t\\t\\t\\t\\t\\t\\t</a>\\n\\n\\t\\t\\t\\t\\t\\t\\t\\t\\t\\t<ul class=\"sub_category_list\">\\n\\t\\t\\t\\t\\t\\t\\t\\t\\t\\t\\t\\t\\t<li class=\"\">\\n\\t\\t\\t\\t\\t\\t\\t\\t<a class=\"link_sub_item\" href=\"/category/Software/MATLAB\">\\n\\t\\t\\t\\t\\t\\t\\t\\t\\tMATLAB\\n\\t\\t\\t\\t\\t\\t\\t\\t\\t\\t\\t\\t\\t\\t\\t\\t\\t\\t\\t<span class=\"c_cnt\">(65)</span>\\n\\t\\t\\t\\t\\t\\t\\t\\t\\t\\n\\t\\t\\t\\t\\t\\t\\t\\t\\t\\t\\t\\t\\t\\t\\t\\t\\t</a>\\n\\t\\t\\t\\t\\t\\t\\t</li>\\n\\t\\t\\t\\t\\t\\t\\t\\t\\t\\t\\t\\t\\t<li class=\"\">\\n\\t\\t\\t\\t\\t\\t\\t\\t<a class=\"link_sub_item\" href=\"/category/Software/Python\">\\n\\t\\t\\t\\t\\t\\t\\t\\t\\tPython\\n\\t\\t\\t\\t\\t\\t\\t\\t\\t\\t\\t\\t\\t\\t\\t\\t\\t\\t\\t<span class=\"c_cnt\">(77)</span>\\n\\t\\t\\t\\t\\t\\t\\t\\t\\t\\n\\t\\t\\t\\t\\t\\t\\t\\t\\t\\t\\t\\t\\t\\t\\t\\t\\t</a>\\n\\t\\t\\t\\t\\t\\t\\t</li>\\n\\t\\t\\t\\t\\t\\t\\t\\t\\t\\t\\t\\t\\t<li class=\"\">\\n\\t\\t\\t\\t\\t\\t\\t\\t<a class=\"link_sub_item\" href=\"/category/Software/Processing\">\\n\\t\\t\\t\\t\\t\\t\\t\\t\\tProcessing\\n\\t\\t\\t\\t\\t\\t\\t\\t\\t\\t\\t\\t\\t\\t\\t\\t\\t\\t\\t<span class=\"c_cnt\">(11)</span>\\n\\t\\t\\t\\t\\t\\t\\t\\t\\t\\n\\t\\t\\t\\t\\t\\t\\t\\t\\t\\t\\t\\t\\t\\t\\t\\t\\t</a>\\n\\t\\t\\t\\t\\t\\t\\t</li>\\n\\t\\t\\t\\t\\t\\t\\t\\t\\t\\t\\t\\t\\t<li class=\"\">\\n\\t\\t\\t\\t\\t\\t\\t\\t<a class=\"link_sub_item\" href=\"/category/Software/Ubuntu%20and%20Mint\">\\n\\t\\t\\t\\t\\t\\t\\t\\t\\tUbuntu and Mint\\n\\t\\t\\t\\t\\t\\t\\t\\t\\t\\t\\t\\t\\t\\t\\t\\t\\t\\t\\t<span class=\"c_cnt\">(39)</span>\\n\\t\\t\\t\\t\\t\\t\\t\\t\\t\\n\\t\\t\\t\\t\\t\\t\\t\\t\\t\\t\\t\\t\\t\\t\\t\\t\\t</a>\\n\\t\\t\\t\\t\\t\\t\\t</li>\\n\\t\\t\\t\\t\\t\\t\\t\\t\\t\\t\\t\\t\\t<li class=\"\">\\n\\t\\t\\t\\t\\t\\t\\t\\t<a class=\"link_sub_item\" href=\"/category/Software/Mac%20OS\">\\n\\t\\t\\t\\t\\t\\t\\t\\t\\tMac OS\\n\\t\\t\\t\\t\\t\\t\\t\\t\\t\\t\\t\\t\\t\\t\\t\\t\\t\\t\\t<span class=\"c_cnt\">(24)</span>\\n\\t\\t\\t\\t\\t\\t\\t\\t\\t\\n\\t\\t\\t\\t\\t\\t\\t\\t\\t\\t\\t\\t\\t\\t\\t\\t\\t</a>\\n\\t\\t\\t\\t\\t\\t\\t</li>\\n\\t\\t\\t\\t\\t\\t\\t\\t\\t\\t\\t\\t\\t<li class=\"\">\\n\\t\\t\\t\\t\\t\\t\\t\\t<a class=\"link_sub_item\" href=\"/category/Software/Useful%20SW\">\\n\\t\\t\\t\\t\\t\\t\\t\\t\\tUseful SW\\n\\t\\t\\t\\t\\t\\t\\t\\t\\t\\t\\t\\t\\t\\t\\t\\t\\t\\t\\t<span class=\"c_cnt\">(60)</span>\\n\\t\\t\\t\\t\\t\\t\\t\\t\\t\\n\\t\\t\\t\\t\\t\\t\\t\\t\\t\\t\\t\\t\\t\\t\\t\\t\\t</a>\\n\\t\\t\\t\\t\\t\\t\\t</li>\\n\\t\\t\\t\\t\\t\\t\\t\\t\\t\\t\\t\\t\\t<li class=\"\">\\n\\t\\t\\t\\t\\t\\t\\t\\t<a class=\"link_sub_item\" href=\"/category/Software/Useful%20Site\">\\n\\t\\t\\t\\t\\t\\t\\t\\t\\tUseful Site\\n\\t\\t\\t\\t\\t\\t\\t\\t\\t\\t\\t\\t\\t\\t\\t\\t\\t\\t\\t<span class=\"c_cnt\">(23)</span>\\n\\t\\t\\t\\t\\t\\t\\t\\t\\t\\n\\t\\t\\t\\t\\t\\t\\t\\t\\t\\t\\t\\t\\t\\t\\t\\t\\t</a>\\n\\t\\t\\t\\t\\t\\t\\t</li>\\n\\t\\t\\t\\t\\t\\t\\t\\t\\t\\t\\t</ul>\\n\\t\\t\\t\\t\\t\\n\\t\\t\\t\\t</li>\\n\\t\\t\\t\\t\\t\\t\\t<li class=\"\">\\n\\t\\t\\t\\t\\t<a class=\"link_item\" href=\"/category/Hardware\">\\n\\t\\t\\t\\t\\t\\tHardware\\t\\t\\t\\t\\t\\t\\t\\t\\t\\t\\t\\t\\t<span class=\"c_cnt\">(97)</span>\\n\\t\\t\\t\\t\\t\\t\\n\\t\\t\\t\\t\\t\\t\\t\\t\\t\\t\\t</a>\\n\\n\\t\\t\\t\\t\\t\\t\\t\\t\\t\\t<ul class=\"sub_category_list\">\\n\\t\\t\\t\\t\\t\\t\\t\\t\\t\\t\\t\\t\\t<li class=\"\">\\n\\t\\t\\t\\t\\t\\t\\t\\t<a class=\"link_sub_item\" href=\"/category/Hardware/Jetson%20Nano%20and%20Rasp.%20Pi\">\\n\\t\\t\\t\\t\\t\\t\\t\\t\\tJetson Nano and Rasp. Pi\\n\\t\\t\\t\\t\\t\\t\\t\\t\\t\\t\\t\\t\\t\\t\\t\\t\\t\\t\\t<span class=\"c_cnt\">(19)</span>\\n\\t\\t\\t\\t\\t\\t\\t\\t\\t\\n\\t\\t\\t\\t\\t\\t\\t\\t\\t\\t\\t\\t\\t\\t\\t\\t\\t</a>\\n\\t\\t\\t\\t\\t\\t\\t</li>\\n\\t\\t\\t\\t\\t\\t\\t\\t\\t\\t\\t\\t\\t<li class=\"\">\\n\\t\\t\\t\\t\\t\\t\\t\\t<a class=\"link_sub_item\" href=\"/category/Hardware/Arduino%20and%20Friends\">\\n\\t\\t\\t\\t\\t\\t\\t\\t\\tArduino and Friends\\n\\t\\t\\t\\t\\t\\t\\t\\t\\t\\t\\t\\t\\t\\t\\t\\t\\t\\t\\t<span class=\"c_cnt\">(29)</span>\\n\\t\\t\\t\\t\\t\\t\\t\\t\\t\\n\\t\\t\\t\\t\\t\\t\\t\\t\\t\\t\\t\\t\\t\\t\\t\\t\\t</a>\\n\\t\\t\\t\\t\\t\\t\\t</li>\\n\\t\\t\\t\\t\\t\\t\\t\\t\\t\\t\\t\\t\\t<li class=\"\">\\n\\t\\t\\t\\t\\t\\t\\t\\t<a class=\"link_sub_item\" href=\"/category/Hardware/MCU\">\\n\\t\\t\\t\\t\\t\\t\\t\\t\\tMCU\\n\\t\\t\\t\\t\\t\\t\\t\\t\\t\\t\\t\\t\\t\\t\\t\\t\\t\\t\\t<span class=\"c_cnt\">(16)</span>\\n\\t\\t\\t\\t\\t\\t\\t\\t\\t\\n\\t\\t\\t\\t\\t\\t\\t\\t\\t\\t\\t\\t\\t\\t\\t\\t\\t</a>\\n\\t\\t\\t\\t\\t\\t\\t</li>\\n\\t\\t\\t\\t\\t\\t\\t\\t\\t\\t\\t\\t\\t<li class=\"\">\\n\\t\\t\\t\\t\\t\\t\\t\\t<a class=\"link_sub_item\" href=\"/category/Hardware/Review\">\\n\\t\\t\\t\\t\\t\\t\\t\\t\\tReview\\n\\t\\t\\t\\t\\t\\t\\t\\t\\t\\t\\t\\t\\t\\t\\t\\t\\t\\t\\t<span class=\"c_cnt\">(33)</span>\\n\\t\\t\\t\\t\\t\\t\\t\\t\\t\\n\\t\\t\\t\\t\\t\\t\\t\\t\\t\\t\\t\\t\\t\\t\\t\\t\\t</a>\\n\\t\\t\\t\\t\\t\\t\\t</li>\\n\\t\\t\\t\\t\\t\\t\\t\\t\\t\\t\\t</ul>\\n\\t\\t\\t\\t\\t\\n\\t\\t\\t\\t</li>\\n\\t\\t\\t\\t\\t\\t\\t<li class=\"\">\\n\\t\\t\\t\\t\\t<a class=\"link_item\" href=\"/category/%EB%AC%B8%ED%99%94%EC%83%9D%ED%99%9C\">\\n\\t\\t\\t\\t\\t\\t문화생활\\t\\t\\t\\t\\t\\t\\t\\t\\t\\t\\t\\t\\t<span class=\"c_cnt\">(133)</span>\\n\\t\\t\\t\\t\\t\\t\\n\\t\\t\\t\\t\\t\\t\\t\\t\\t\\t\\t</a>\\n\\n\\t\\t\\t\\t\\t\\t\\t\\t\\t\\t<ul class=\"sub_category_list\">\\n\\t\\t\\t\\t\\t\\t\\t\\t\\t\\t\\t\\t\\t<li class=\"\">\\n\\t\\t\\t\\t\\t\\t\\t\\t<a class=\"link_sub_item\" href=\"/category/%EB%AC%B8%ED%99%94%EC%83%9D%ED%99%9C/%EA%B0%90%EC%83%81%ED%95%98%EA%B8%B0\">\\n\\t\\t\\t\\t\\t\\t\\t\\t\\t감상하기\\n\\t\\t\\t\\t\\t\\t\\t\\t\\t\\t\\t\\t\\t\\t\\t\\t\\t\\t\\t<span class=\"c_cnt\">(28)</span>\\n\\t\\t\\t\\t\\t\\t\\t\\t\\t\\n\\t\\t\\t\\t\\t\\t\\t\\t\\t\\t\\t\\t\\t\\t\\t\\t\\t</a>\\n\\t\\t\\t\\t\\t\\t\\t</li>\\n\\t\\t\\t\\t\\t\\t\\t\\t\\t\\t\\t\\t\\t<li class=\"\">\\n\\t\\t\\t\\t\\t\\t\\t\\t<a class=\"link_sub_item\" href=\"/category/%EB%AC%B8%ED%99%94%EC%83%9D%ED%99%9C/%EA%B0%80%EB%B3%BC%EA%B1%B0%EB%A6%AC.%EC%84%B8%EA%B3%84\">\\n\\t\\t\\t\\t\\t\\t\\t\\t\\t가볼거리.세계\\n\\t\\t\\t\\t\\t\\t\\t\\t\\t\\t\\t\\t\\t\\t\\t\\t\\t\\t\\t<span class=\"c_cnt\">(78)</span>\\n\\t\\t\\t\\t\\t\\t\\t\\t\\t\\n\\t\\t\\t\\t\\t\\t\\t\\t\\t\\t\\t\\t\\t\\t\\t\\t\\t</a>\\n\\t\\t\\t\\t\\t\\t\\t</li>\\n\\t\\t\\t\\t\\t\\t\\t\\t\\t\\t\\t\\t\\t<li class=\"\">\\n\\t\\t\\t\\t\\t\\t\\t\\t<a class=\"link_sub_item\" href=\"/category/%EB%AC%B8%ED%99%94%EC%83%9D%ED%99%9C/%EC%97%AD%EC%82%AC%EC%9D%B4%EC%95%BC%EA%B8%B0\">\\n\\t\\t\\t\\t\\t\\t\\t\\t\\t역사이야기\\n\\t\\t\\t\\t\\t\\t\\t\\t\\t\\t\\t\\t\\t\\t\\t\\t\\t\\t\\t<span class=\"c_cnt\">(27)</span>\\n\\t\\t\\t\\t\\t\\t\\t\\t\\t\\n\\t\\t\\t\\t\\t\\t\\t\\t\\t\\t\\t\\t\\t\\t\\t\\t\\t</a>\\n\\t\\t\\t\\t\\t\\t\\t</li>\\n\\t\\t\\t\\t\\t\\t\\t\\t\\t\\t\\t</ul>\\n\\t\\t\\t\\t\\t\\n\\t\\t\\t\\t</li>\\n\\t\\t\\t\\t\\t\\t\\t<li class=\"\">\\n\\t\\t\\t\\t\\t<a class=\"link_item\" href=\"/category/%EC%9D%BC%EC%83%81%EC%83%9D%ED%99%9C\">\\n\\t\\t\\t\\t\\t\\t일상생활\\t\\t\\t\\t\\t\\t\\t\\t\\t\\t\\t\\t\\t<span class=\"c_cnt\">(337)</span>\\n\\t\\t\\t\\t\\t\\t\\n\\t\\t\\t\\t\\t\\t\\t\\t\\t\\t\\t\\t\\t<img src=\"https://t1.daumcdn.net/tistory_admin/assets/blog/tistory-a033c2b33e7ae4af94cec5a75f0387e9fc551690/blogs/image/category/new_ico_2.gif?_version_=tistory-a033c2b33e7ae4af94cec5a75f0387e9fc551690\" alt=\"N\" style=\"vertical-align:middle;padding-left:2px;\">\\n\\t\\t\\t\\t\\t\\t\\t\\t\\t\\t\\t</a>\\n\\n\\t\\t\\t\\t\\t\\t\\t\\t\\t\\t<ul class=\"sub_category_list\">\\n\\t\\t\\t\\t\\t\\t\\t\\t\\t\\t\\t\\t\\t<li class=\"\">\\n\\t\\t\\t\\t\\t\\t\\t\\t<a class=\"link_sub_item\" href=\"/category/%EC%9D%BC%EC%83%81%EC%83%9D%ED%99%9C/%EC%95%84%EA%B0%80%20%EB%AF%B8%EB%B0%94%EB%A4%BC\">\\n\\t\\t\\t\\t\\t\\t\\t\\t\\t아가 미바뤼\\n\\t\\t\\t\\t\\t\\t\\t\\t\\t\\t\\t\\t\\t\\t\\t\\t\\t\\t\\t<span class=\"c_cnt\">(66)</span>\\n\\t\\t\\t\\t\\t\\t\\t\\t\\t\\n\\t\\t\\t\\t\\t\\t\\t\\t\\t\\t\\t\\t\\t\\t\\t\\t\\t</a>\\n\\t\\t\\t\\t\\t\\t\\t</li>\\n\\t\\t\\t\\t\\t\\t\\t\\t\\t\\t\\t\\t\\t<li class=\"\">\\n\\t\\t\\t\\t\\t\\t\\t\\t<a class=\"link_sub_item\" href=\"/category/%EC%9D%BC%EC%83%81%EC%83%9D%ED%99%9C/%EB%81%84%EC%A0%81%EA%B1%B0%EB%A6%BC\">\\n\\t\\t\\t\\t\\t\\t\\t\\t\\t끄적거림\\n\\t\\t\\t\\t\\t\\t\\t\\t\\t\\t\\t\\t\\t\\t\\t\\t\\t\\t\\t<span class=\"c_cnt\">(118)</span>\\n\\t\\t\\t\\t\\t\\t\\t\\t\\t\\n\\t\\t\\t\\t\\t\\t\\t\\t\\t\\t\\t\\t\\t\\t\\t\\t\\t</a>\\n\\t\\t\\t\\t\\t\\t\\t</li>\\n\\t\\t\\t\\t\\t\\t\\t\\t\\t\\t\\t\\t\\t<li class=\"\">\\n\\t\\t\\t\\t\\t\\t\\t\\t<a class=\"link_sub_item\" href=\"/category/%EC%9D%BC%EC%83%81%EC%83%9D%ED%99%9C/%EB%A8%B9%EC%9D%84%EA%B1%B0%EB%A6%AC\">\\n\\t\\t\\t\\t\\t\\t\\t\\t\\t먹을거리\\n\\t\\t\\t\\t\\t\\t\\t\\t\\t\\t\\t\\t\\t\\t\\t\\t\\t\\t\\t<span class=\"c_cnt\">(50)</span>\\n\\t\\t\\t\\t\\t\\t\\t\\t\\t\\n\\t\\t\\t\\t\\t\\t\\t\\t\\t\\t\\t\\t\\t\\t\\t\\t\\t</a>\\n\\t\\t\\t\\t\\t\\t\\t</li>\\n\\t\\t\\t\\t\\t\\t\\t\\t\\t\\t\\t\\t\\t<li class=\"\">\\n\\t\\t\\t\\t\\t\\t\\t\\t<a class=\"link_sub_item\" href=\"/category/%EC%9D%BC%EC%83%81%EC%83%9D%ED%99%9C/%EA%B0%80%EB%B3%BC%EA%B1%B0%EB%A6%AC.%ED%95%9C%EA%B5%AD\">\\n\\t\\t\\t\\t\\t\\t\\t\\t\\t가볼거리.한국\\n\\t\\t\\t\\t\\t\\t\\t\\t\\t\\t\\t\\t\\t\\t\\t\\t\\t\\t\\t<span class=\"c_cnt\">(89)</span>\\n\\t\\t\\t\\t\\t\\t\\t\\t\\t\\n\\t\\t\\t\\t\\t\\t\\t\\t\\t\\t\\t\\t\\t\\t\\t\\t\\t\\t\\t<img src=\"https://t1.daumcdn.net/tistory_admin/assets/blog/tistory-a033c2b33e7ae4af94cec5a75f0387e9fc551690/blogs/image/category/new_ico_2.gif?_version_=tistory-a033c2b33e7ae4af94cec5a75f0387e9fc551690\" alt=\"N\" style=\"vertical-align:middle;padding-left:2px;\">\\n\\t\\t\\t\\t\\t\\t\\t\\t\\t\\t\\t\\t\\t\\t\\t\\t\\t</a>\\n\\t\\t\\t\\t\\t\\t\\t</li>\\n\\t\\t\\t\\t\\t\\t\\t\\t\\t\\t\\t\\t\\t<li class=\"\">\\n\\t\\t\\t\\t\\t\\t\\t\\t<a class=\"link_sub_item\" href=\"/category/%EC%9D%BC%EC%83%81%EC%83%9D%ED%99%9C/%ED%88%AC%EB%8D%9C%EA%B1%B0%EB%A6%BC\">\\n\\t\\t\\t\\t\\t\\t\\t\\t\\t투덜거림\\n\\t\\t\\t\\t\\t\\t\\t\\t\\t\\t\\t\\t\\t\\t\\t\\t\\t\\t\\t<span class=\"c_cnt\">(14)</span>\\n\\t\\t\\t\\t\\t\\t\\t\\t\\t\\n\\t\\t\\t\\t\\t\\t\\t\\t\\t\\t\\t\\t\\t\\t\\t\\t\\t</a>\\n\\t\\t\\t\\t\\t\\t\\t</li>\\n\\t\\t\\t\\t\\t\\t\\t\\t\\t\\t\\t</ul>\\n\\t\\t\\t\\t\\t\\n\\t\\t\\t\\t</li>\\n\\t\\t\\t\\t\\t</ul>\\n\\t\\t\\t</li>\\n</ul>\\n      </nav>\\n      <div class=\"social-link\">\\n        \\n        \\n        \\n        \\n      </div>\\n      <p>POWERED BY TISTORY</p>\\n    </div>\\n    <div class=\"search\">\\n      \\n          <input type=\"text\" name=\"search\" value=\"python\" placeholder=\"검색내용을 입력하세요.\" onkeypress=\"if (event.keyCode == 13) { try{window.location.href=\\'/search/\\'+looseURIEncode(document.getElementsByName(\\'search\\')[0].value);document.getElementsByName(\\'search\\')[0].value=\\'\\';return false;}catch(e){} }\">\\n          <button type=\"submit\" onclick=\"try{window.location.href=\\'/search/\\'+looseURIEncode(document.getElementsByName(\\'search\\')[0].value);document.getElementsByName(\\'search\\')[0].value=\\'\\';return false;}catch(e){}\">검색</button>\\n        \\n    </div>\\n  </header>\\n  <hr>\\n  <section class=\"container\">\\n    \\n    <article id=\"content\">\\n      \\n\\n      \\n\\n      \\n\\n      \\n        <div class=\"post-header\">\\n          <span><h1>python</h1></span>\\n          <span style=\"padding-left: 5px; font-weight: bold;\">(245)\\n          <div class=\"list-type\">\\n            <button type=\"button\" class=\"thum\">썸네일형</button>\\n            <button type=\"button\" class=\"list current\">리스트형</button>\\n          </div>\\n        </span></div>\\n      \\n\\n      <div class=\"inner\">\\n        \\n\\n        \\n          \\n            <div class=\"post-item\">\\n              <a href=\"/1377\">\\n                <span class=\"thum\">\\n                  \\n                    <img src=\"//i1.daumcdn.net/thumb/C264x200/?fname=https://blog.kakaocdn.net/dn/1qsMK/btrwaFEeZck/HeF4wk26JHXHEWigYKSQ40/img.png\" alt=\"\">\\n                  \\n                </span>\\n                <span class=\"title\">ROS Melodic에서 YOLO로 detection 된 사람 수 세기</span>\\n                <span class=\"date\">2022. 3. 17. 08:00</span>\\n                <span class=\"excerpt\">최근 저는 광운대에서 ROS 기초 수업을 진행했습니다. 해당 수업은 제가 ROS 기초를 진행하고 마치면, 그 다음 다른 분이 이어서 실제 주행로봇을 가지고 프로젝트를 진행하는 방식이었습니다. 그래서 제 뒤에 이어지는 수업에서 ROS melodic 버전을 사용하기 때문에 저도 수업을 melodic으로 진행을 했죠. 근데 melodic 버전에서 제가 블로그에서 YOLO pkg를 소개했던 적이 있습니다. https://pinkwink.kr/1256 ROS melodic에서 영상인식 YOLOv3 패키지 세팅하기 최근 여러글에서 이야기했지만, 제가 지금은 (임시.ㅠㅠ.로) 한양대 에리카에 있습니다. 여러 고마운 분들의 배려로 아주 다양한 재미있는 일들을 경험중이랍니다. 그 중에 또 하나 멋진 일은 아 pinkwi..</span>\\n              </a>\\n            </div>\\n          \\n          \\n        \\n          \\n            <div class=\"post-item\">\\n              <a href=\"/1376\">\\n                <span class=\"thum\">\\n                  \\n                    <img src=\"//i1.daumcdn.net/thumb/C264x200/?fname=https://blog.kakaocdn.net/dn/LKuqJ/btrvl82bFSF/ID27Wm3KdrtA1ABDRypkQ0/img.png\" alt=\"\">\\n                  \\n                </span>\\n                <span class=\"title\">Cost Function 비용함수와  Gradient Descent 경사하강법의 이해 (feat. tensorflow GradientTape)</span>\\n                <span class=\"date\">2022. 3. 8. 08:00</span>\\n                <span class=\"excerpt\">아마 딥러닝이 되었든 혹은 간단한 선형 회귀 알고리즘만 공부하려고 해도 비용함수라고 하는 Cost Function(loss funciton)이라고 하는 단어를 만났을 겁니다. 특히 그 후 꼭 따라 붙는 Gradient Descent 경사하강법이라는 단어도 만났을 겁니다. 제가 글을 쓰는 습관이 작은 주제를 나눠서 쓰는 것이라서 비용함수와 경사하강법을 다루어야겠다고 생각했는데, 그것 때문에 참 많은 시간을 들였습니다. 어떤 사람들보다 더 잘 설명해야지 하는 생각은 없었지만, 그래도 이왕 쓰는 것이라 좋은 설명을 해야할텐데... 하는 걱정 때문이었습니다ㅠㅠ. 잘 하고 있는 것인지는 잘 모르겠지만, 그래도 일단 준비한 내용으로 글을 시작해보려고 합니다. 이번 글은 Cost Function이라는 아이를 설명하고..</span>\\n              </a>\\n            </div>\\n          \\n          \\n        \\n          \\n            <div class=\"post-item\">\\n              <a href=\"/1375\">\\n                <span class=\"thum\">\\n                  \\n                    <img src=\"//i1.daumcdn.net/thumb/C264x200/?fname=https://blog.kakaocdn.net/dn/di3jtn/btrt4hZ40ab/nRHlCk55woWsbXkCk77q5K/img.png\" alt=\"\">\\n                  \\n                </span>\\n                <span class=\"title\">소리나 음원, 음악 데이터에서 주파수 특성 분석 - librosa</span>\\n                <span class=\"date\">2022. 2. 24. 08:00</span>\\n                <span class=\"excerpt\">오늘은 소리나 음원, 음악 데이터에서 STFT나 Chroma 분석을 수행하는데 편한 librosa를 소개하고, 이를 이용해서 소리 데이터에서 특성을 추출하는 기초에 대한 이야기를 해보려고 합니다. 먼저 STFT에 대해서는 얼마전에 이야기를 했었는데요. https://pinkwink.kr/1370 Python으로 수행하는 주파수 분석 - FFT, STFT 아주 예전에 Python으로 수행하는 FFT라는 주제의 글을 작성한 적이 있습니다. 이번에는 이 글에서 조금 더 나가서 STFT라는 개념도 이야기를 해 보려고 합니다. 시간영역에서의 신호를 분석할 때 pinkwink.kr 위 글에서 FFT와 STFT에 대한 이야기를 했었습니다. 저 글에서는 scipy와 numpy를 사용했는데요. 이번에는 소리 데이터 분석..</span>\\n              </a>\\n            </div>\\n          \\n          \\n        \\n          \\n            <div class=\"post-item\">\\n              <a href=\"/1370\">\\n                <span class=\"thum\">\\n                  \\n                    <img src=\"//i1.daumcdn.net/thumb/C264x200/?fname=https://blog.kakaocdn.net/dn/niSNt/btrsOiep7uF/6D4W9nELuR0NrQAE1d97S0/img.png\" alt=\"\">\\n                  \\n                </span>\\n                <span class=\"title\">Python으로 수행하는 주파수 분석 - FFT, STFT</span>\\n                <span class=\"date\">2022. 2. 9. 08:00</span>\\n                <span class=\"excerpt\">아주 예전에 Python으로 수행하는 FFT라는 주제의 글을 작성한 적이 있습니다. 이번에는 이 글에서 조금 더 나가서 STFT라는 개념도 이야기를 해 보려고 합니다. 시간영역에서의 신호를 분석할 때 많이 사용하는 것이 FFT인데요. 여기서 시간 구간에 대한 한계를 만날 수 있기 때문에 STFT Short Time Fourier Transform을 사용합니다. 오늘은 이 이야기를 해 보려고 합니다. https://pinkwink.kr/708 Python에서 수행해 본 간단한 FFT 코드 일요일 아침(이 글은 평일에 예약 발행되겠지만)이네요.. 오늘 아침은 꽤 상쾌하고 약간 몽롱한.. 뭐 아무튼 기분이 좋아지는 아침이네요^^. 요즘은 뭔가를 마무리하는 단계에서 오는 급급하게 pinkwink.kr 시험 데이..</span>\\n              </a>\\n            </div>\\n          \\n          \\n        \\n          \\n            <div class=\"post-item\">\\n              <a href=\"/1358\">\\n                <span class=\"thum\">\\n                  \\n                    <img src=\"//i1.daumcdn.net/thumb/C264x200/?fname=https://blog.kakaocdn.net/dn/USf6r/btq7SM2U8XP/9pnbfoB0xbheKrYaICOn61/img.jpg\" alt=\"\">\\n                  \\n                </span>\\n                <span class=\"title\">DJI 드론을 이용해서 사람인식 및 포즈인식하기 작품소개</span>\\n                <span class=\"date\">2021. 6. 23. 11:15</span>\\n                <span class=\"excerpt\">이 글은 2021년 봄부터 이른 여름까지 수업을 한 패스트캠퍼스 성수 스쿨(지금은 스노우볼)에서 수업한 데이터사이언스 스쿨 16기의 프로젝트 중 하나를 소개하는 글입니다. 부족한 강사를 만나 더 좋은 성과를 낼 수 있었지만 그러지 못한 것이 미안할 따름입니다. 이번에는 제가 진행하는 수업의 수강생 중 한 팀이 시도한 프로젝트를 소개하려고 합니다. 원래 딥러닝 수업이었는데 본인들이 드론에 관심이 많아서 드론을 자비로 구매한 후 프로젝트를 진행했습니다. 흠.. 저렇게 자기멋에 살아야하는것이 현대인이죠^^. 프로젝트를 진행하는데 좋은 습관인 의문을 가지고 해결하려는 노력을 많이 하는 팀이었습니다. 학습은 colab으로 진행하고 드론과 통신은 python으로 수행을 했습니다.~ DJI의 텔로라는 드론인데 성능이..</span>\\n              </a>\\n            </div>\\n          \\n          \\n        \\n          \\n            <div class=\"post-item\">\\n              <a href=\"/1357\">\\n                <span class=\"thum\">\\n                  \\n                    <img src=\"//i1.daumcdn.net/thumb/C264x200/?fname=https://blog.kakaocdn.net/dn/HFCrb/btq6jiPeUV5/6PmDcL487WXRvv50qOKNKk/img.png\" alt=\"\">\\n                  \\n                </span>\\n                <span class=\"title\">Jetson nano에 Inference 추론기 설치하고 간단히 사용해보</span>\\n                <span class=\"date\">2021. 6. 2. 08:00</span>\\n                <span class=\"excerpt\">Jetson nano 보드는 딥러닝을 동작시킬때 동급의 보드(Raspberry Pi 4)보다 좋은 성능을 보여줍니다. 이번에는 그럴때 사용하는 Jetson nano용 코드를 설치하는 것을 다루고 있습니다. 이번에는 젯슨 나노보드에 직접 HDMI 케이블로 모니터를 연결하고, 키보드와 마우스도 직접 연결했습니다. 일단 당연하지만 여러분들이 Jetson nano 보드를 가지고 있다고 보고, MIPI 카메라 (흔히 라즈베리파이 카메라)도 연결했다고 보겠습니다. 그리고 또한 Jetson Download Center에서 SD 카드 이미지로 된 Jetpack을 받아서 (이글은 Jetpack 4.5가 설치되었다고 보고 있습니다.) 여러분의 Jetson nano 보드에 설치했다고 가정합니다. 위 그림에서 보이는 Jets..</span>\\n              </a>\\n            </div>\\n          \\n          \\n        \\n          \\n            <div class=\"post-item\">\\n              <a href=\"/1355\">\\n                <span class=\"thum\">\\n                  \\n                    <img src=\"//i1.daumcdn.net/thumb/C264x200/?fname=https://blog.kakaocdn.net/dn/cssWXg/btq4wv9zYAa/GixV6FH1njaLsvaWSSc4lk/img.png\" alt=\"\">\\n                  \\n                </span>\\n                <span class=\"title\">Mac M1에 Tensorflow 설치하기</span>\\n                <span class=\"date\">2021. 5. 10. 10:25</span>\\n                <span class=\"excerpt\">얼마전에 저는 운좋게도 Mac M1칩이 탑재된 맥북을 만져볼 기회를 얻어서 터미널을 iTerm으로 세팅하는 과정을 이야기했었는데요. pinkwink.kr/1354?category=600041 Mac M1 노트북 (Mac silicon) 터미널 세팅 - iTerm2 요즘 노트북 세계에 한 가지 큰 이슈라면 애플에서 나온 맥 m1 노트북이 아닐까요. 정말 많은 이슈를 만들고 있는 것 같습니다. 저는 예전에 맥북 사용에서 해두면 편한 몇 가지 설정을 이야기한 pinkwink.kr 이번에는 내친김에 텐서플로우를 설정하는 방법을 이야기하려고 합니다. 애플의 공식 github에서와 조금 달리 conda에서 설치하는 법을 공개해준 많은 블로그들의 글을 참조해서 저도 한 번 수행해 보았습니다. 시작전에 이 과정의 문제..</span>\\n              </a>\\n            </div>\\n          \\n          \\n        \\n          \\n            <div class=\"post-item\">\\n              <a href=\"/1354\">\\n                <span class=\"thum\">\\n                  \\n                    <img src=\"//i1.daumcdn.net/thumb/C264x200/?fname=https://blog.kakaocdn.net/dn/l1hay/btq4q3F1Day/x6meNcP6RXrKPrE1bRKWU0/img.png\" alt=\"\">\\n                  \\n                </span>\\n                <span class=\"title\">Mac M1 노트북 (Mac silicon) 터미널 세팅 - iTerm2</span>\\n                <span class=\"date\">2021. 5. 9. 08:00</span>\\n                <span class=\"excerpt\">요즘 노트북 세계에 한 가지 큰 이슈라면 애플에서 나온 맥 m1 노트북이 아닐까요. 정말 많은 이슈를 만들고 있는 것 같습니다. 저는 예전에 맥북 사용에서 해두면 편한 몇 가지 설정을 이야기한 적이 있습니다. pinkwink.kr/1186?category=600041 맥 설정 - 초보를 위한 가이드 맥북을 처음 쓰는 유저라면 맥을 처음 기동하고 약간 머뭇거릴지도 모릅니다. 그리고 나서 어떻게 설정하면 이쁘게(^^) 편하게 사용할 수 있을지 또 고민할지 모릅니다.&amp;^^ 이번에 제 맥북을 초기 pinkwink.kr 일면 맥 초보를 위한 가이드라고~ 별 내용없으면서 거창하게 이야기를 했었죠.ㅎㅎ. 그 글에는 맥 터미널 대산 사용하면 편한 iTerm 이야기도 있습니다. 이제 M1이 나오면서 그것부터 설정을 다시..</span>\\n              </a>\\n            </div>\\n          \\n          \\n        \\n        <script async=\"\" src=\"https://pagead2.googlesyndication.com/pagead/js/adsbygoogle.js?client=ca-pub-2982459700139266\" crossorigin=\"anonymous\" data-checked-head=\"true\"></script>\\n<ins class=\"adsbygoogle\" style=\"display: block; height: 1541px;\" data-ad-format=\"autorelaxed\" data-ad-client=\"ca-pub-2982459700139266\" data-ad-slot=\"4966491850\" data-adsbygoogle-status=\"done\"><ins id=\"aswift_1_expand\" style=\"border: none; height: 1541px; width: 448px; margin: 0px; padding: 0px; position: relative; visibility: visible; background-color: transparent; display: inline-table;\"><ins id=\"aswift_1_anchor\" style=\"border: none; height: 1541px; width: 448px; margin: 0px; padding: 0px; position: relative; visibility: visible; background-color: transparent; display: block;\"></ins></ins></ins>\\n<script>\\n     (adsbygoogle = window.adsbygoogle || []).push({});\\n</script>\\n      </div>\\n\\n      \\n\\n      \\n\\n      \\n        <div class=\"pagination\">\\n          <a class=\"prev no-more-prev\" style=\"display: none;\">이전</a>\\n          \\n            <a style=\"display: none;\"><span class=\"selected\">1</span></a>\\n          \\n            <a href=\"/search/python?page=2\" style=\"display: none;\"><span>2</span></a>\\n          \\n            <a href=\"/search/python?page=3\" style=\"display: none;\"><span>3</span></a>\\n          \\n            <a href=\"/search/python?page=4\" style=\"display: none;\"><span>4</span></a>\\n          \\n            <a style=\"display: none;\"><span>···</span></a>\\n          \\n            <a href=\"/search/python?page=31\" style=\"display: none;\"><span>31</span></a>\\n          \\n          <a href=\"/search/python?page=2\" class=\"next \" style=\"display: none;\">다음</a>\\n        <a href=\"/search/python?page=2\" class=\"btn view-more\">목록 더보기</a></div>\\n      \\n\\n    </article>\\n\\n  \\n  </section>\\n  <hr>\\n              <div class=\"revenue_unit_wrap position_list\">\\n               <div class=\"revenue_unit_item adsense  responsive\">\\n                    <div class=\"revenue_unit_info\">반응형</div>\\n                    <script async=\"\" src=\"//pagead2.googlesyndication.com/pagead/js/adsbygoogle.js\"></script>\\n                    <ins class=\"adsbygoogle\" style=\"display: block; height: 280px;\" data-ad-host=\"ca-host-pub-9691043933427338\" data-ad-client=\"ca-pub-2982459700139266\" data-ad-format=\"auto\" data-adsbygoogle-status=\"done\"><ins id=\"aswift_2_expand\" style=\"border: none; height: 280px; width: 484px; margin: 0px; padding: 0px; position: relative; visibility: visible; background-color: transparent; display: inline-table;\"><ins id=\"aswift_2_anchor\" style=\"border: none; height: 280px; width: 484px; margin: 0px; padding: 0px; position: relative; visibility: visible; background-color: transparent; display: block;\"></ins></ins></ins>\\n                    <script>(adsbygoogle = window.adsbygoogle || []).push({}); </script>\\n               </div>\\n            </div>\\n  <footer id=\"footer\">\\n    <p class=\"copyright\">DESIGN BY <a href=\"#\">TISTORY</a> <a href=\"https://pinkwink.tistory.com/manage\" class=\"admin\">관리자</a></p>\\n  </footer>\\n</div><ins class=\"adsbygoogle adsbygoogle-noablate\" data-adsbygoogle-status=\"done\" style=\"display: none !important;\" data-ad-status=\"unfilled\"><ins id=\"aswift_0_expand\" style=\"border: none; height: 0px; width: 0px; margin: 0px; padding: 0px; position: relative; visibility: visible; background-color: transparent; display: inline-table;\" tabindex=\"0\" title=\"Advertisement\" aria-label=\"Advertisement\"><ins id=\"aswift_0_anchor\" style=\"border: none; height: 0px; width: 0px; margin: 0px; padding: 0px; position: relative; visibility: visible; background-color: transparent; display: block;\"><iframe id=\"aswift_0\" name=\"aswift_0\" style=\"left:0;position:absolute;top:0;border:0;width:undefinedpx;height:undefinedpx\" sandbox=\"allow-forms allow-popups allow-popups-to-escape-sandbox allow-same-origin allow-scripts allow-top-navigation-by-user-activation\" frameborder=\"0\" marginwidth=\"0\" marginheight=\"0\" vspace=\"0\" hspace=\"0\" allowtransparency=\"true\" scrolling=\"no\" src=\"https://googleads.g.doubleclick.net/pagead/ads?client=ca-pub-2982459700139266&amp;output=html&amp;adk=3397874647&amp;adf=2703517995&amp;lmt=1649249215&amp;plat=1%3A8%2C2%3A8%2C9%3A32776%2C16%3A8388608%2C17%3A32%2C24%3A32%2C25%3A32%2C30%3A34603008%2C32%3A32&amp;format=0x0&amp;url=https%3A%2F%2Fpinkwink.kr%2Fsearch%2Fpython&amp;ea=0&amp;host=ca-host-pub-9691043933427338&amp;pra=5&amp;wgl=1&amp;uach=WyJXaW5kb3dzIiwiMTQuMC4wIiwieDg2IiwiIiwiMTAwLjAuNDg5Ni42MCIsW10sbnVsbCxudWxsLCI2NCIsW1siIE5vdCBBO0JyYW5kIiwiOTkuMC4wLjAiXSxbIkNocm9taXVtIiwiMTAwLjAuNDg5Ni42MCJdLFsiR29vZ2xlIENocm9tZSIsIjEwMC4wLjQ4OTYuNjAiXV0sZmFsc2Vd&amp;dt=1649249215624&amp;bpp=1&amp;bdt=185&amp;idt=272&amp;shv=r20220404&amp;mjsv=m202203310101&amp;ptt=9&amp;saldr=aa&amp;abxe=1&amp;cookie=ID%3D169c9ebbe2b42357-2273279096d10036%3AT%3D1649249151%3ART%3D1649249151%3AS%3DALNI_MZYmbJhGkJ2_RmRolR2NpXQi7GMmA&amp;nras=1&amp;correlator=4602228526852&amp;frm=20&amp;pv=2&amp;ga_vid=2102126261.1649249150&amp;ga_sid=1649249216&amp;ga_hid=847193784&amp;ga_fc=1&amp;u_tz=540&amp;u_his=3&amp;u_h=786&amp;u_w=1397&amp;u_ah=742&amp;u_aw=1397&amp;u_cd=24&amp;u_sd=1.375&amp;dmc=8&amp;adx=-12245933&amp;ady=-12245933&amp;biw=484&amp;bih=170&amp;scr_x=0&amp;scr_y=0&amp;eid=44759875%2C44759926%2C44759842%2C44760332%2C44761043%2C31066121&amp;oid=2&amp;pvsid=4230538513459261&amp;pem=137&amp;tmod=979581972&amp;uas=0&amp;nvt=3&amp;ref=https%3A%2F%2Fpinkwink.kr%2F&amp;eae=2&amp;fc=1920&amp;brdim=769%2C8%2C769%2C8%2C1397%2C0%2C514%2C302%2C501%2C170&amp;vis=1&amp;rsz=%7C%7Cs%7C&amp;abl=NS&amp;fu=32768&amp;bc=31&amp;ifi=1&amp;uci=a!1&amp;fsb=1&amp;dtd=289\" data-google-container-id=\"a!1\" data-load-complete=\"true\"></iframe></ins></ins></ins>\\n<script src=\"https://tistory3.daumcdn.net/tistory/371175/skin/images/script.js\"></script>\\n\\n  <script>\\n    (function(i,s,o,g,r,a,m){i[\\'GoogleAnalyticsObject\\']=r;i[r]=i[r]||function(){\\n        (i[r].q=i[r].q||[]).push(arguments)},i[r].l=1*new Date();a=s.createElement(o),\\n        m=s.getElementsByTagName(o)[0];a.async=1;a.src=g;m.parentNode.insertBefore(a,m)\\n    })(window,document,\\'script\\',\\'//www.google-analytics.com/analytics.js\\',\\'ga\\');\\n\\n    ga(\\'create\\', \\'UA-9827445-1\\', \\'auto\\');\\n    ga(\\'send\\', \\'pageview\\');\\n</script>\\n\\n<script async=\"\" src=\"//pagead2.googlesyndication.com/pagead/js/adsbygoogle.js\"></script>\\n<link rel=\"stylesheet\" href=\"https://cdnjs.cloudflare.com/ajax/libs/highlight.js/9.15.6/styles/github.min.css\">\\n<script src=\"https://cdnjs.cloudflare.com/ajax/libs/highlight.js/9.15.6/highlight.min.js\"></script>\\n<script src=\"https://cdnjs.cloudflare.com/ajax/libs/highlight.js/9.15.6/languages/kotlin.min.js\"></script>\\n<script src=\"https://cdnjs.cloudflare.com/ajax/libs/highlight.js/9.15.6/languages/swift.min.js\"></script>\\n<script src=\"https://cdnjs.cloudflare.com/ajax/libs/highlight.js/9.15.6/languages/go.min.js\"></script>\\n<script src=\"https://cdnjs.cloudflare.com/ajax/libs/highlight.js/9.15.6/languages/scala.min.js\"></script>\\n<script src=\"https://cdnjs.cloudflare.com/ajax/libs/highlight.js/9.15.6/languages/r.min.js\"></script>\\n<script>hljs.initHighlightingOnLoad();</script>\\n\\t<script>\\n\\t    lightbox.option({\\n\\t\\t\\t\"fadeDuration\": 200,\\n\\t\\t    \"resizeDuration\": 200,\\n\\t\\t    \"wrapAround\": false,\\n\\t\\t\\t\"albumLabel\": \"%1 / %2\",\\n\\t\\t\\t\"fitImagesInViewport\":true ,\\n\\t\\t\\t\"stopEvent\": false\\n\\t    })\\n\\t</script>            <script type=\"text/javascript\" src=\"//t1.daumcdn.net/tiara/js/v1/tiara.min.js\"></script>\\n            <script type=\"text/javascript\">window.tiara = {\"svcDomain\":\"user.tistory.com\",\"section\":\"\\\\ud648\",\"trackPage\":\"\\\\ud648_\\\\ubcf4\\\\uae30\",\"page\":\"\\\\ud648\",\"key\":\"371175\",\"customProps\":{\"userId\":0,\"blogId\":\"371175\",\"role\":\"guest\",\"filterTarget\":false,\"trackPage\":\"\\\\ud648_\\\\ubcf4\\\\uae30\"},\"entry\":[],\"sentryDsn\":\"https:\\\\/\\\\/a53520229cd744e798d42900d76b0e2a@aem-collector.daumkakao.io\\\\/713\",\"kakaoAppKey\":\"b8aef3eeb03fa312b81795386484f051\",\"appUserId\":null};</script>\\n            <script type=\"text/javascript\" src=\"https://t1.daumcdn.net/tistory_admin/assets/blog/tistory-a033c2b33e7ae4af94cec5a75f0387e9fc551690/blogs/script/tiara/tiara.min.js?_version_=tistory-a033c2b33e7ae4af94cec5a75f0387e9fc551690\" defer=\"\"></script>\\n                        <script type=\"text/javascript\">\\n                window.roosevelt_params_queue = window.roosevelt_params_queue || [{channel_id: \\'dk\\', channel_label: \\'tistory\\'}];\\n            </script>\\n            <script type=\"text/javascript\" src=\"//t1.daumcdn.net/midas/rt/dk_bt/roosevelt_dk_bt.js\" async=\"\"></script><script type=\"text/javascript\">if(window.console!=undefined){setTimeout(console.log.bind(console,\"%cTISTORY\",\"font:8em Arial;color:#EC6521;font-weight:bold\"),0);setTimeout(console.log.bind(console,\"%c  나를 표현하는 블로그\",\"font:2em sans-serif;color:#333;\"),0);}</script><iframe style=\"position:absolute;width:1px;height:1px;left:-100px;top:-100px\" src=\"//pinkwink.tistory.com/api\" id=\"editEntry\"></iframe><div id=\"tistoryEtcLayer\" class=\"layer_post\"></div><div id=\"tistorySnsLayer\" class=\"layer_post\"><div class=\"bundle_post\"><a href=\"#none\" class=\"btn_mark\" data-service=\"facebook\"><span class=\"ico_sns ico_fb\"></span>페이스북으로 공유</a><a href=\"#none\" class=\"btn_mark\" data-service=\"kakaotalk\"><span class=\"ico_sns ico_kt\"></span>카카오톡으로 공유</a><a href=\"#none\" class=\"btn_mark\" data-service=\"kakaostory\"><span class=\"ico_sns ico_ks\"></span>카카오스토리로 공유</a><a href=\"#none\" class=\"btn_mark\" data-service=\"twitter\"><span class=\"ico_sns ico_tw\"></span>트위터로 공유</a><a href=\"#none\" class=\"btn_mark\" data-service=\"url\"><span class=\"ico_sns ico_url\"></span>URL 복사</a><span class=\"ico_postbtn ico_arrbt\"></span></div></div>\\n\\n<div id=\"lightboxOverlay\" class=\"lightboxOverlay\" style=\"display: none;\"></div><div id=\"lightbox\" class=\"lightbox\" style=\"display: none;\"><div class=\"lb-outerContainer\"><div class=\"lb-container\"><img class=\"lb-image\" src=\"data:image/gif;base64,R0lGODlhAQABAIAAAP///wAAACH5BAEAAAAALAAAAAABAAEAAAICRAEAOw==\"><div class=\"lb-nav\"><a class=\"lb-prev\" href=\"\"></a><a class=\"lb-next\" href=\"\"></a></div><div class=\"lb-loader\"><a class=\"lb-cancel\"></a></div></div></div><div class=\"lb-dataContainer\"><div class=\"lb-data\"><div class=\"lb-details\"><span class=\"lb-caption\"></span><span class=\"lb-number\"></span></div><div class=\"lb-closeContainer\"><a class=\"lb-close\"></a></div></div></div></div><iframe src=\"https://www.google.com/recaptcha/api2/aframe\" width=\"0\" height=\"0\" style=\"display: none;\"></iframe></body><iframe id=\"google_esf\" name=\"google_esf\" src=\"https://googleads.g.doubleclick.net/pagead/html/r20220404/r20190131/zrt_lookup.html\" style=\"display: none;\"></iframe></html>'"
      ]
     },
     "execution_count": 75,
     "metadata": {},
     "output_type": "execute_result"
    }
   ],
   "source": [
    "driver.page_source"
   ]
  },
  {
   "cell_type": "code",
   "execution_count": 76,
   "id": "5203ba12",
   "metadata": {},
   "outputs": [],
   "source": [
    "from bs4 import BeautifulSoup\n",
    "\n",
    "req = driver.page_source\n",
    "soup = BeautifulSoup(req, \"html.parser\")"
   ]
  },
  {
   "cell_type": "code",
   "execution_count": 80,
   "id": "f19e3070",
   "metadata": {},
   "outputs": [
    {
     "data": {
      "text/plain": [
       "'ROS Melodic에서 YOLO로 detection 된 사람 수 세기'"
      ]
     },
     "execution_count": 80,
     "metadata": {},
     "output_type": "execute_result"
    }
   ],
   "source": [
    "#content > div.inner > div:nth-child(1) > a > span.title\n",
    "\n",
    "elements = soup.select(\"#content > div.inner > div:nth-child(1) > a > span.title\")\n",
    "elements[0].text"
   ]
  },
  {
   "cell_type": "code",
   "execution_count": null,
   "id": "a75e023f",
   "metadata": {},
   "outputs": [],
   "source": []
  }
 ],
 "metadata": {
  "kernelspec": {
   "display_name": "Python 3 (ipykernel)",
   "language": "python",
   "name": "python3"
  },
  "language_info": {
   "codemirror_mode": {
    "name": "ipython",
    "version": 3
   },
   "file_extension": ".py",
   "mimetype": "text/x-python",
   "name": "python",
   "nbconvert_exporter": "python",
   "pygments_lexer": "ipython3",
   "version": "3.8.12"
  }
 },
 "nbformat": 4,
 "nbformat_minor": 5
}
