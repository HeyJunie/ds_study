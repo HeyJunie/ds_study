{
 "cells": [
  {
   "cell_type": "markdown",
   "id": "ae9507eb",
   "metadata": {},
   "source": [
    "- selenium_basic_1 => iframe\n",
    "- selenium_basic_2 => headless\n",
    "- selenium_basic_3 => wait"
   ]
  },
  {
   "cell_type": "markdown",
   "id": "83f9efd6",
   "metadata": {},
   "source": [
    "## Wait \n",
    "- time.sleep(5): 물리적으로 5초 동안 멈추고 기다리죠\n",
    "- implicityly_wait(10)\n",
    "    - 전체 페이지 로딩을 최대 10초 간 기다리고, 10초 안에 페이지 로딩이 완료되면 다음 코드 실행\n",
    "    - 한 번만 실행하면, 전역(global)로 실행이 가능하다. \n",
    "- explicitly wait \n",
    "    - 지정한 태그만 로딩이 완료되면, 다음 코드 실행"
   ]
  },
  {
   "cell_type": "markdown",
   "id": "cbd565b8",
   "metadata": {},
   "source": [
    "- 무신사 스토어\n",
    "- https://www.musinsa.com/app/\n",
    "- 인기 => 후드집업\n",
    "- 단독상품, 세일상품 조건을 선택\n",
    "- 최소~최대 금액 입력\n",
    "- 옷 이름, 가격, 할인율, 링크, 이미지"
   ]
  },
  {
   "cell_type": "code",
   "execution_count": 7,
   "id": "90256fea",
   "metadata": {},
   "outputs": [],
   "source": [
    "import pandas as pd\n",
    "import time\n",
    "from selenium import webdriver\n",
    "\n",
    "# explicitly wait\n",
    "from selenium.webdriver.common.by import By\n",
    "from selenium.webdriver.support.ui import WebDriverWait\n",
    "from selenium.webdriver.support import expected_conditions as EC"
   ]
  },
  {
   "cell_type": "code",
   "execution_count": 8,
   "id": "7427475b",
   "metadata": {},
   "outputs": [
    {
     "name": "stderr",
     "output_type": "stream",
     "text": [
      "C:\\Users\\ThinkBook\\AppData\\Local\\Temp\\ipykernel_26884\\3732031363.py:2: DeprecationWarning: executable_path has been deprecated, please pass in a Service object\n",
      "  driver = webdriver.Chrome(\"../driver/chromedriver.exe\")\n"
     ]
    }
   ],
   "source": [
    "url = \"https://www.musinsa.com/app/\"\n",
    "driver = webdriver.Chrome(\"../driver/chromedriver.exe\")\n",
    "driver.implicitly_wait(10)\n",
    "# 웹 페이지 전체가 로딩 될 때까지 10초간 대기하고,\n",
    "# 10초 안에 로딩이 완료되면 다음 코드를 실행\n",
    "driver.get(url)"
   ]
  },
  {
   "cell_type": "code",
   "execution_count": 9,
   "id": "06157680",
   "metadata": {},
   "outputs": [
    {
     "name": "stderr",
     "output_type": "stream",
     "text": [
      "C:\\Users\\ThinkBook\\AppData\\Local\\Temp\\ipykernel_26884\\254969319.py:1: DeprecationWarning: find_element_by_css_selector is deprecated. Please use find_element(by=By.CSS_SELECTOR, value=css_selector) instead\n",
      "  driver.find_element_by_css_selector(\"#default_top > div.header-member > button\").click()\n"
     ]
    }
   ],
   "source": [
    "# 로그인 버튼 클릭 -1\n",
    "driver.find_element_by_css_selector(\"#default_top > div.header-member > button\").click()"
   ]
  },
  {
   "cell_type": "code",
   "execution_count": 10,
   "id": "dd84c502",
   "metadata": {},
   "outputs": [
    {
     "name": "stderr",
     "output_type": "stream",
     "text": [
      "C:\\Users\\ThinkBook\\AppData\\Local\\Temp\\ipykernel_26884\\3851041505.py:1: DeprecationWarning: find_element_by_css_selector is deprecated. Please use find_element(by=By.CSS_SELECTOR, value=css_selector) instead\n",
      "  driver.find_element_by_css_selector(\"body > div.container.login > section > div.login-member > form > div.login-member__form > div:nth-child(10) > div > input\").send_keys(\"junie\")\n"
     ]
    }
   ],
   "source": [
    "# 아이디 입력\n",
    "driver.find_element_by_css_selector(\"body > div.container.login > section > div.login-member > form > div.login-member__form > div:nth-child(10) > div > input\").send_keys(\"junie\")"
   ]
  },
  {
   "cell_type": "code",
   "execution_count": 14,
   "id": "dc4ec86a",
   "metadata": {
    "scrolled": false
   },
   "outputs": [
    {
     "name": "stderr",
     "output_type": "stream",
     "text": [
      "C:\\Users\\ThinkBook\\AppData\\Local\\Temp\\ipykernel_26884\\3146755590.py:1: DeprecationWarning: find_element_by_css_selector is deprecated. Please use find_element(by=By.CSS_SELECTOR, value=css_selector) instead\n",
      "  driver.find_element_by_css_selector(\"body > div.container.login > section > div.login-member > form > div.login-member__form > div:nth-child(11) > div > input\").send_keys(\"junie\")\n"
     ]
    }
   ],
   "source": [
    "# 비밀번호 입력\n",
    "driver.find_element_by_css_selector(\"body > div.container.login > section > div.login-member > form > div.login-member__form > div:nth-child(11) > div > input\").send_keys(\"junie\")"
   ]
  },
  {
   "cell_type": "code",
   "execution_count": 15,
   "id": "d3378189",
   "metadata": {
    "scrolled": true
   },
   "outputs": [
    {
     "name": "stderr",
     "output_type": "stream",
     "text": [
      "C:\\Users\\ThinkBook\\AppData\\Local\\Temp\\ipykernel_26884\\2700426694.py:1: DeprecationWarning: find_element_by_css_selector is deprecated. Please use find_element(by=By.CSS_SELECTOR, value=css_selector) instead\n",
      "  driver.find_element_by_css_selector(\"body > div.container.login > section > div.login-member > form > div.login-button.login-button--static > button\").click()\n"
     ]
    }
   ],
   "source": [
    "# 로그인 버튼 클릭 -2\n",
    "driver.find_element_by_css_selector(\"body > div.container.login > section > div.login-member > form > div.login-button.login-button--static > button\").click()"
   ]
  },
  {
   "cell_type": "code",
   "execution_count": 16,
   "id": "6279117d",
   "metadata": {},
   "outputs": [],
   "source": [
    "# alert\n",
    "alert = driver.switch_to.alert\n",
    "alert.accept()"
   ]
  },
  {
   "cell_type": "code",
   "execution_count": 20,
   "id": "b4a2eeba",
   "metadata": {},
   "outputs": [],
   "source": [
    "WebDriverWait(driver, 5).\\\n",
    "until(EC.presence_of_element_located((By.CSS_SELECTOR, \"#default_top > div.header-member > button\"))).click()"
   ]
  },
  {
   "cell_type": "code",
   "execution_count": 22,
   "id": "25fcb39a",
   "metadata": {},
   "outputs": [],
   "source": [
    "# 아이디(wait)\n",
    "WebDriverWait(driver, 5).\\\n",
    "until(EC.presence_of_element_located((By.CSS_SELECTOR, \"body > div.container.login > section > div.login-member > form > div.login-member__form > div:nth-child(10) > div > input\"))).send_keys(\"hyejunie\")\n",
    "\n",
    "# 비밀번호(wait)\n",
    "WebDriverWait(driver, 5).\\\n",
    "until(EC.presence_of_element_located((By.CSS_SELECTOR, \"body > div.container.login > section > div.login-member > form > div.login-member__form > div:nth-child(11) > div > input\"))).send_keys(\"wlswn1783*\")\n",
    "\n",
    "# 로그인 버튼(wait)\n",
    "WebDriverWait(driver, 5).\\\n",
    "until(EC.presence_of_element_located((By.CSS_SELECTOR, \"body > div.container.login > section > div.login-member > form > div.login-button.login-button--static > button\"))).click()"
   ]
  },
  {
   "cell_type": "code",
   "execution_count": null,
   "id": "445ba773",
   "metadata": {},
   "outputs": [],
   "source": []
  }
 ],
 "metadata": {
  "kernelspec": {
   "display_name": "Python 3 (ipykernel)",
   "language": "python",
   "name": "python3"
  },
  "language_info": {
   "codemirror_mode": {
    "name": "ipython",
    "version": 3
   },
   "file_extension": ".py",
   "mimetype": "text/x-python",
   "name": "python",
   "nbconvert_exporter": "python",
   "pygments_lexer": "ipython3",
   "version": "3.8.12"
  }
 },
 "nbformat": 4,
 "nbformat_minor": 5
}
